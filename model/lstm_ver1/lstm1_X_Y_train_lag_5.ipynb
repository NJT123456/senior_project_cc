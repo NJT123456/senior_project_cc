{
 "cells": [
  {
   "cell_type": "code",
   "execution_count": 1,
   "metadata": {},
   "outputs": [],
   "source": [
    "import pandas as pd\n",
    "import numpy as np\n",
    "import matplotlib.pyplot as plt\n",
    "import seaborn as sns\n",
    "import plotly.graph_objects as go\n",
    "from keras.models import Sequential\n",
    "from keras.layers import Dense\n",
    "from keras.layers import LSTM\n",
    "from keras.layers import Dropout\n",
    "from sklearn.preprocessing import MinMaxScaler\n",
    "from keras import optimizers\n",
    "from sklearn.metrics import mean_squared_error"
   ]
  },
  {
   "cell_type": "code",
   "execution_count": 2,
   "metadata": {},
   "outputs": [],
   "source": [
    "def preparedata(file):\n",
    "    cloud_cover = pd.read_csv(file, skipinitialspace = True)\n",
    "    cloud_cover['Date'] = cloud_cover[['Year', 'Month', 'Day']].apply(lambda x: \"{0}-{1}-{2}\".format(str(x[0]).zfill(2), str(x[1]).zfill(2), str(x[2]).zfill(2)), axis=1) \n",
    "    cloud_cover['Time'] = cloud_cover[['Hour', 'Minute']].apply(lambda x: \"{}:{}\".format(str(x[0]).zfill(2), str(x[1]).zfill(2)), axis=1)\n",
    "    cloud_cover.drop([\"Year\", \"Month\", \"Day\", \"Hour\", \"Minute\", \"Second\"], axis=1, inplace=True)  \n",
    "    cloud_cover = cloud_cover.rename(columns={\"CloudCover\":\"cloud_cover\"})\n",
    "    cloud_cover = cloud_cover.groupby(['Date', 'Time']).agg(cloud_cover=('cloud_cover','mean')).reset_index()\n",
    "    cloud_cover['DateTime'] = cloud_cover[['Date', 'Time']].apply(lambda x: \"{} {}\".format(str(x[0]).zfill(2), str(x[1]).zfill(2)), axis=1)\n",
    "    cloud_cover.drop([\"Date\", \"Time\"], axis=1, inplace=True)        \n",
    "    cloud_cover['DateTime'] = pd.to_datetime(cloud_cover['DateTime'], format=\"%Y-%m-%d %H:%M\")\n",
    "    cloud_cover.dropna(inplace=True)\n",
    "    return cloud_cover"
   ]
  },
  {
   "cell_type": "code",
   "execution_count": 3,
   "metadata": {},
   "outputs": [],
   "source": [
    "def lags_train_test(data, lags):\n",
    "\tX, y = [], []\n",
    "\tfor i in range(lags, len(data)):\n",
    "\t\tX.append(data[i-lags:i])\n",
    "\t\ty.append(data[i])\n",
    "\treturn np.array(X), np.array(y)"
   ]
  },
  {
   "cell_type": "code",
   "execution_count": 4,
   "metadata": {},
   "outputs": [],
   "source": [
    "def Xtrain_ytrain(train,test,lags):\n",
    "    #scale train\n",
    "    sc = MinMaxScaler()\n",
    "    sc.fit(train)\n",
    "    train_set_scale = sc.transform(train)\n",
    "    # train\n",
    "    X_train, y_train = lags_train_test(train_set_scale, lags)\n",
    "    X_train = np.reshape(X_train, (X_train.shape[0], X_train.shape[1], 1))\n",
    "    print(\"X_train Shape :\", X_train.shape)\n",
    "    print(\"y_train Shape :\", y_train.shape)\n",
    "\n",
    "    #scale test\n",
    "    dataset_total = pd.concat((train['cloud_cover'], test['cloud_cover']), axis=0)\n",
    "    inputs = dataset_total[len(dataset_total) - len(test) - lags:].values\n",
    "    inputs = inputs.reshape(-1,1)\n",
    "    inputs = sc.transform(inputs)\n",
    "    # test\n",
    "    X_test, y_test = lags_train_test(inputs, lags)\n",
    "    print(\"X_test Shape : \", X_test.shape)\n",
    "    print(\"y_test Shape : \", y_test.shape)\n",
    "    return X_train, y_train, X_test, y_test, sc"
   ]
  },
  {
   "cell_type": "code",
   "execution_count": 5,
   "metadata": {},
   "outputs": [],
   "source": [
    "def plot_curve(history):\n",
    "    print('Last train loss: %s'%history.history['loss'][-1])\n",
    "    print('Last validation loss: %s'%history.history['val_loss'][-1])\n",
    "    \n",
    "    # loss curves\n",
    "    plt.figure(figsize=[8,6])\n",
    "\n",
    "    loss = history.history['loss']\n",
    "    val_loss = history.history['val_loss']\n",
    "    \n",
    "    epochs = range(1, len(loss) + 1)\n",
    "\n",
    "    # Plot loss\n",
    "    plt.plot(epochs, loss, 'c--', label='Training loss')\n",
    "    plt.plot(epochs, val_loss, 'b', label='Validation loss')\n",
    "    plt.title('Training and validation loss')\n",
    "    plt.xlabel('Epochs')\n",
    "    plt.ylabel('Loss')\n",
    "    plt.legend()"
   ]
  },
  {
   "cell_type": "code",
   "execution_count": 6,
   "metadata": {},
   "outputs": [],
   "source": [
    "def compare_mse_model(model,model_1):\n",
    "    mse_error = [model,model_1]\n",
    "    error = pd.DataFrame({\"Model\" : ['model','model_1'], \"MSE error\": mse_error})\n",
    "    if model < model_1:\n",
    "        model = model\n",
    "        print(\"Better MSE value is : \" , model)\n",
    "    else:\n",
    "        model_1 = model_1\n",
    "        print(\"Better MSE value is : \", model_1)\n",
    "    return error"
   ]
  },
  {
   "cell_type": "code",
   "execution_count": 3,
   "metadata": {},
   "outputs": [
    {
     "data": {
      "text/html": [
       "<div>\n",
       "<style scoped>\n",
       "    .dataframe tbody tr th:only-of-type {\n",
       "        vertical-align: middle;\n",
       "    }\n",
       "\n",
       "    .dataframe tbody tr th {\n",
       "        vertical-align: top;\n",
       "    }\n",
       "\n",
       "    .dataframe thead th {\n",
       "        text-align: right;\n",
       "    }\n",
       "</style>\n",
       "<table border=\"1\" class=\"dataframe\">\n",
       "  <thead>\n",
       "    <tr style=\"text-align: right;\">\n",
       "      <th></th>\n",
       "      <th>cloud_cover</th>\n",
       "      <th>DateTime</th>\n",
       "    </tr>\n",
       "  </thead>\n",
       "  <tbody>\n",
       "    <tr>\n",
       "      <th>0</th>\n",
       "      <td>0.990000</td>\n",
       "      <td>2021-11-16 11:15:00</td>\n",
       "    </tr>\n",
       "    <tr>\n",
       "      <th>1</th>\n",
       "      <td>0.989000</td>\n",
       "      <td>2021-11-16 11:16:00</td>\n",
       "    </tr>\n",
       "    <tr>\n",
       "      <th>2</th>\n",
       "      <td>0.987667</td>\n",
       "      <td>2021-11-16 11:17:00</td>\n",
       "    </tr>\n",
       "    <tr>\n",
       "      <th>3</th>\n",
       "      <td>0.987000</td>\n",
       "      <td>2021-11-16 11:18:00</td>\n",
       "    </tr>\n",
       "    <tr>\n",
       "      <th>4</th>\n",
       "      <td>0.987000</td>\n",
       "      <td>2021-11-16 11:19:00</td>\n",
       "    </tr>\n",
       "    <tr>\n",
       "      <th>...</th>\n",
       "      <td>...</td>\n",
       "      <td>...</td>\n",
       "    </tr>\n",
       "    <tr>\n",
       "      <th>15056</th>\n",
       "      <td>0.168000</td>\n",
       "      <td>2021-12-16 13:58:00</td>\n",
       "    </tr>\n",
       "    <tr>\n",
       "      <th>15057</th>\n",
       "      <td>0.169000</td>\n",
       "      <td>2021-12-16 13:59:00</td>\n",
       "    </tr>\n",
       "    <tr>\n",
       "      <th>15058</th>\n",
       "      <td>0.147000</td>\n",
       "      <td>2021-12-16 14:00:00</td>\n",
       "    </tr>\n",
       "    <tr>\n",
       "      <th>15059</th>\n",
       "      <td>0.145000</td>\n",
       "      <td>2021-12-16 14:01:00</td>\n",
       "    </tr>\n",
       "    <tr>\n",
       "      <th>15060</th>\n",
       "      <td>0.144000</td>\n",
       "      <td>2021-12-16 14:02:00</td>\n",
       "    </tr>\n",
       "  </tbody>\n",
       "</table>\n",
       "<p>15061 rows × 2 columns</p>\n",
       "</div>"
      ],
      "text/plain": [
       "       cloud_cover            DateTime\n",
       "0         0.990000 2021-11-16 11:15:00\n",
       "1         0.989000 2021-11-16 11:16:00\n",
       "2         0.987667 2021-11-16 11:17:00\n",
       "3         0.987000 2021-11-16 11:18:00\n",
       "4         0.987000 2021-11-16 11:19:00\n",
       "...            ...                 ...\n",
       "15056     0.168000 2021-12-16 13:58:00\n",
       "15057     0.169000 2021-12-16 13:59:00\n",
       "15058     0.147000 2021-12-16 14:00:00\n",
       "15059     0.145000 2021-12-16 14:01:00\n",
       "15060     0.144000 2021-12-16 14:02:00\n",
       "\n",
       "[15061 rows x 2 columns]"
      ]
     },
     "execution_count": 3,
     "metadata": {},
     "output_type": "execute_result"
    }
   ],
   "source": [
    "cloud_cover = preparedata('../succeed-prophet/Bangkhuntean_CloudCover_2021-16Nov-16Dec.csv')\n",
    "cloud_cover"
   ]
  },
  {
   "cell_type": "code",
   "execution_count": 4,
   "metadata": {},
   "outputs": [
    {
     "name": "stdout",
     "output_type": "stream",
     "text": [
      "<class 'pandas.core.frame.DataFrame'>\n",
      "RangeIndex: 15061 entries, 0 to 15060\n",
      "Data columns (total 2 columns):\n",
      " #   Column       Non-Null Count  Dtype         \n",
      "---  ------       --------------  -----         \n",
      " 0   cloud_cover  15061 non-null  float64       \n",
      " 1   DateTime     15061 non-null  datetime64[ns]\n",
      "dtypes: datetime64[ns](1), float64(1)\n",
      "memory usage: 235.5 KB\n"
     ]
    }
   ],
   "source": [
    "cloud_cover.info()"
   ]
  },
  {
   "attachments": {},
   "cell_type": "markdown",
   "metadata": {},
   "source": [
    "# Train/Test Model ,lags = 5"
   ]
  },
  {
   "cell_type": "code",
   "execution_count": 8,
   "metadata": {},
   "outputs": [
    {
     "name": "stdout",
     "output_type": "stream",
     "text": [
      "X_train Shape : (14763, 5, 1)\n",
      "y_train Shape : (14763, 1)\n",
      "X_test Shape :  (293, 5, 1)\n",
      "y_test Shape :  (293, 1)\n"
     ]
    },
    {
     "name": "stderr",
     "output_type": "stream",
     "text": [
      "c:\\Users\\USER\\AppData\\Local\\Programs\\Python\\Python310\\lib\\site-packages\\sklearn\\base.py:450: UserWarning: X does not have valid feature names, but MinMaxScaler was fitted with feature names\n",
      "  warnings.warn(\n"
     ]
    }
   ],
   "source": [
    "train = cloud_cover[cloud_cover['DateTime'] < '2021-12-16 00:00:00']\n",
    "test = cloud_cover[cloud_cover['DateTime'] >= '2021-12-16 00:00:00']\n",
    "\n",
    "train = train.set_index('DateTime')\n",
    "test = test.set_index('DateTime')\n",
    "\n",
    "X_train, y_train, X_test, y_test, sc = Xtrain_ytrain(train,test,5)"
   ]
  },
  {
   "cell_type": "code",
   "execution_count": 9,
   "metadata": {},
   "outputs": [],
   "source": [
    "train.reset_index(inplace=True)\n",
    "test.reset_index(inplace=True)"
   ]
  },
  {
   "cell_type": "markdown",
   "metadata": {},
   "source": [
    "## Optimizer adam"
   ]
  },
  {
   "cell_type": "markdown",
   "metadata": {},
   "source": [
    "### Add frist layer: units = 50"
   ]
  },
  {
   "cell_type": "code",
   "execution_count": 10,
   "metadata": {},
   "outputs": [],
   "source": [
    "test1 = test.copy()"
   ]
  },
  {
   "cell_type": "code",
   "execution_count": 11,
   "metadata": {},
   "outputs": [
    {
     "name": "stdout",
     "output_type": "stream",
     "text": [
      "Epoch 1/10\n",
      "459/462 [============================>.] - ETA: 0s - loss: 0.0093"
     ]
    }
   ],
   "source": [
    "model_50_adam = Sequential()\n",
    "model_50_adam.add(LSTM(units = 50, return_sequences = False, input_shape = (X_train.shape[1], 1)))\n",
    "model_50_adam.add(Dense(units = 1))\n",
    "model_50_adam.compile(optimizer = 'adam', loss = 'mean_squared_error')\n",
    "hist_adam = model_50_adam.fit(X_train, y_train, validation_data=(X_test, y_test), epochs = 10, batch_size = 32)"
   ]
  },
  {
   "cell_type": "code",
   "execution_count": null,
   "metadata": {},
   "outputs": [],
   "source": [
    "plot_curve(hist_adam)"
   ]
  },
  {
   "cell_type": "code",
   "execution_count": null,
   "metadata": {},
   "outputs": [],
   "source": [
    "predict_scaled_adam = model_50_adam.predict(X_test)\n",
    "predict_adam = sc.inverse_transform(predict_scaled_adam)\n",
    "test1['LSTM_adam'] = predict_adam\n",
    "test1"
   ]
  },
  {
   "cell_type": "code",
   "execution_count": null,
   "metadata": {},
   "outputs": [],
   "source": [
    "fig = go.Figure()\n",
    "fig.add_trace(go.Scatter(mode = 'lines', x = cloud_cover['DateTime'], y = cloud_cover['cloud_cover'], name = 'Actual'))\n",
    "fig.add_trace(go.Scatter(mode = 'lines', x = test1['DateTime'], y = test1['cloud_cover'], name = 'Actual Test'))\n",
    "fig.add_trace(go.Scatter(mode = 'lines', x = test1['DateTime'], y = test1['LSTM_adam'], name = 'predict'))\n",
    "fig.update_layout(\n",
    "    autosize=True,\n",
    "    height=600,\n",
    "    title=\"LSTM Model\",\n",
    "    xaxis_title=\"Date\",\n",
    "    yaxis_title=\"Cloud cover\",\n",
    ")\n",
    "\n",
    "\n",
    "fig.update_layout(\n",
    "    xaxis=dict(\n",
    "        rangeselector=dict(\n",
    "            buttons=list([\n",
    "                dict(count=1,\n",
    "                     label=\"1.zoom\",\n",
    "                     step=\"hour\",\n",
    "                     stepmode=\"backward\"),\n",
    "                 dict(count=2,\n",
    "                     label=\"2.zoom\",\n",
    "                     step=\"hour\",\n",
    "                     stepmode=\"backward\"),\n",
    "                dict(count=3,\n",
    "                     label=\"3.zoom\",\n",
    "                     step=\"day\",\n",
    "                     stepmode=\"backward\"),              \n",
    "\n",
    "                dict(step=\"all\")\n",
    "            ])\n",
    "        ),\n",
    "        rangeslider=dict(\n",
    "            visible=True\n",
    "        ),\n",
    "        type=\"date\"\n",
    "    )\n",
    ")\n",
    "\n",
    "fig.show()"
   ]
  },
  {
   "cell_type": "code",
   "execution_count": null,
   "metadata": {},
   "outputs": [],
   "source": [
    "lstm_mse_error_unit_50_adam = mean_squared_error(test1['cloud_cover'], test1['LSTM_adam'], squared=True)\n",
    "lstm_mse_error_unit_50_adam"
   ]
  },
  {
   "cell_type": "code",
   "execution_count": null,
   "metadata": {},
   "outputs": [],
   "source": [
    "mse_data = pd.DataFrame(columns=['Model' ,'LSTM lag5'])\n",
    "mse_data.loc[len(mse_data)] = ['Lstm mse error unit 50 adam', lstm_mse_error_unit_50_adam]\n",
    "mse_data"
   ]
  },
  {
   "cell_type": "markdown",
   "metadata": {},
   "source": [
    "----------------------------------------------------------------------------------"
   ]
  },
  {
   "attachments": {},
   "cell_type": "markdown",
   "metadata": {},
   "source": [
    "## Optimizer sgd"
   ]
  },
  {
   "attachments": {},
   "cell_type": "markdown",
   "metadata": {},
   "source": [
    "### Add frist layer: units = 50"
   ]
  },
  {
   "cell_type": "code",
   "execution_count": null,
   "metadata": {},
   "outputs": [],
   "source": [
    "model_50_sgd = Sequential()\n",
    "model_50_sgd.add(LSTM(units = 50, return_sequences = False, input_shape = (X_train.shape[1], 1)))\n",
    "model_50_sgd.add(Dense(units = 1))\n",
    "model_50_sgd.compile(optimizer = 'sgd', loss = 'mean_squared_error')\n",
    "hist_50_sgd = model_50_sgd.fit(X_train, y_train, validation_data=(X_test, y_test), epochs = 10, batch_size = 32)"
   ]
  },
  {
   "cell_type": "code",
   "execution_count": null,
   "metadata": {},
   "outputs": [],
   "source": [
    "plot_curve(hist_50_sgd)"
   ]
  },
  {
   "cell_type": "code",
   "execution_count": null,
   "metadata": {},
   "outputs": [],
   "source": [
    "predict_scaled_50_sgd = model_50_sgd.predict(X_test)\n",
    "predict_50_sgd = sc.inverse_transform(predict_scaled_50_sgd)\n",
    "test1['LSTM_50_sgd'] = predict_50_sgd\n",
    "test1"
   ]
  },
  {
   "cell_type": "code",
   "execution_count": null,
   "metadata": {},
   "outputs": [],
   "source": [
    "fig = go.Figure()\n",
    "fig.add_trace(go.Scatter(mode = 'lines', x = cloud_cover['DateTime'], y = cloud_cover['cloud_cover'], name = 'Actual'))\n",
    "fig.add_trace(go.Scatter(mode = 'lines', x = test1['DateTime'], y = test1['cloud_cover'], name = 'Actual Test'))\n",
    "fig.add_trace(go.Scatter(mode = 'lines', x = test1['DateTime'], y = test1['LSTM_50_sgd'], name = 'predict'))\n",
    "fig.update_layout(\n",
    "    autosize=True,\n",
    "    height=600,\n",
    "    title=\"LSTM Model\",\n",
    "    xaxis_title=\"Date\",\n",
    "    yaxis_title=\"Cloud cover\",\n",
    ")\n",
    "\n",
    "\n",
    "fig.update_layout(\n",
    "    xaxis=dict(\n",
    "        rangeselector=dict(\n",
    "            buttons=list([\n",
    "                dict(count=1,\n",
    "                     label=\"1.zoom\",\n",
    "                     step=\"hour\",\n",
    "                     stepmode=\"backward\"),\n",
    "                 dict(count=2,\n",
    "                     label=\"2.zoom\",\n",
    "                     step=\"hour\",\n",
    "                     stepmode=\"backward\"),\n",
    "                dict(count=3,\n",
    "                     label=\"3.zoom\",\n",
    "                     step=\"day\",\n",
    "                     stepmode=\"backward\"),              \n",
    "\n",
    "                dict(step=\"all\")\n",
    "            ])\n",
    "        ),\n",
    "        rangeslider=dict(\n",
    "            visible=True\n",
    "        ),\n",
    "        type=\"date\"\n",
    "    )\n",
    ")\n",
    "\n",
    "fig.show()"
   ]
  },
  {
   "cell_type": "code",
   "execution_count": null,
   "metadata": {},
   "outputs": [],
   "source": [
    "lstm_mse_error_unit_50_sgd = mean_squared_error(test1['cloud_cover'], test1['LSTM_50_sgd'], squared=True)\n",
    "compare_mse_model(lstm_mse_error_unit_50_adam,lstm_mse_error_unit_50_sgd)"
   ]
  },
  {
   "cell_type": "code",
   "execution_count": null,
   "metadata": {},
   "outputs": [],
   "source": [
    "mse_data.loc[len(mse_data)] = ['Lstm mse error unit 50 sgd', lstm_mse_error_unit_50_sgd]\n",
    "mse_data"
   ]
  },
  {
   "cell_type": "markdown",
   "metadata": {},
   "source": [
    "----------------------------------------------------------------------------------"
   ]
  },
  {
   "attachments": {},
   "cell_type": "markdown",
   "metadata": {},
   "source": [
    "## Optimizer adam"
   ]
  },
  {
   "attachments": {},
   "cell_type": "markdown",
   "metadata": {},
   "source": [
    "### Add frist layer: units = 50"
   ]
  },
  {
   "cell_type": "code",
   "execution_count": null,
   "metadata": {},
   "outputs": [],
   "source": [
    "model_50_rms = Sequential()\n",
    "model_50_rms.add(LSTM(units = 50, return_sequences = False, input_shape = (X_train.shape[1], 1)))\n",
    "model_50_rms.add(Dense(units = 1))\n",
    "model_50_rms.compile(optimizer = 'RMSprop', loss = 'mean_squared_error')\n",
    "hist_50_rms = model_50_rms.fit(X_train, y_train, validation_data=(X_test, y_test), epochs = 10, batch_size = 32)"
   ]
  },
  {
   "cell_type": "code",
   "execution_count": null,
   "metadata": {},
   "outputs": [],
   "source": [
    "plot_curve(hist_50_rms)"
   ]
  },
  {
   "cell_type": "code",
   "execution_count": null,
   "metadata": {},
   "outputs": [],
   "source": [
    "predict_scaled_50_rms = model_50_rms.predict(X_test)\n",
    "predict_50_rms = sc.inverse_transform(predict_scaled_50_rms)\n",
    "test1['LSTM_50_rms'] = predict_50_rms\n",
    "test1"
   ]
  },
  {
   "cell_type": "code",
   "execution_count": null,
   "metadata": {},
   "outputs": [],
   "source": [
    "fig = go.Figure()\n",
    "fig.add_trace(go.Scatter(mode = 'lines', x = cloud_cover['DateTime'], y = cloud_cover['cloud_cover'], name = 'Actual'))\n",
    "fig.add_trace(go.Scatter(mode = 'lines', x = test1['DateTime'], y = test1['cloud_cover'], name = 'Actual Test'))\n",
    "fig.add_trace(go.Scatter(mode = 'lines', x = test1['DateTime'], y = test1['LSTM_50_rms'], name = 'predict'))\n",
    "fig.update_layout(\n",
    "    autosize=True,\n",
    "    height=600,\n",
    "    title=\"LSTM Model\",\n",
    "    xaxis_title=\"Date\",\n",
    "    yaxis_title=\"Cloud cover\",\n",
    ")\n",
    "\n",
    "\n",
    "fig.update_layout(\n",
    "    xaxis=dict(\n",
    "        rangeselector=dict(\n",
    "            buttons=list([\n",
    "                dict(count=1,\n",
    "                     label=\"1.zoom\",\n",
    "                     step=\"hour\",\n",
    "                     stepmode=\"backward\"),\n",
    "                 dict(count=2,\n",
    "                     label=\"2.zoom\",\n",
    "                     step=\"hour\",\n",
    "                     stepmode=\"backward\"),\n",
    "                dict(count=3,\n",
    "                     label=\"3.zoom\",\n",
    "                     step=\"day\",\n",
    "                     stepmode=\"backward\"),              \n",
    "\n",
    "                dict(step=\"all\")\n",
    "            ])\n",
    "        ),\n",
    "        rangeslider=dict(\n",
    "            visible=True\n",
    "        ),\n",
    "        type=\"date\"\n",
    "    )\n",
    ")\n",
    "\n",
    "fig.show()"
   ]
  },
  {
   "cell_type": "code",
   "execution_count": null,
   "metadata": {},
   "outputs": [],
   "source": [
    "lstm_mse_error_unit_50_rms = mean_squared_error(test1['cloud_cover'], test1['LSTM_50_rms'], squared=True)\n",
    "compare_mse_model(lstm_mse_error_unit_50_adam,lstm_mse_error_unit_50_rms)"
   ]
  },
  {
   "cell_type": "code",
   "execution_count": null,
   "metadata": {},
   "outputs": [],
   "source": [
    "mse_data.loc[len(mse_data)] = ['Lstm mse error unit 50 RMSprop', lstm_mse_error_unit_50_rms]"
   ]
  },
  {
   "cell_type": "code",
   "execution_count": null,
   "metadata": {},
   "outputs": [],
   "source": [
    "mse_data"
   ]
  },
  {
   "cell_type": "markdown",
   "metadata": {},
   "source": [
    "----------------------------------------------------------------------------------"
   ]
  },
  {
   "attachments": {},
   "cell_type": "markdown",
   "metadata": {},
   "source": [
    "## Optimizer adam"
   ]
  },
  {
   "cell_type": "markdown",
   "metadata": {},
   "source": [
    "### Add frist layer: units = 50 and batch_size 64"
   ]
  },
  {
   "cell_type": "code",
   "execution_count": null,
   "metadata": {},
   "outputs": [],
   "source": [
    "model_batch_size64 = Sequential()\n",
    "model_batch_size64.add(LSTM(units = 50, return_sequences = False, input_shape = (X_train.shape[1], 1)))\n",
    "model_batch_size64.add(Dense(units = 1))\n",
    "model_batch_size64.compile(optimizer = 'adam', loss = 'mean_squared_error')\n",
    "hist_batch_size64 = model_batch_size64.fit(X_train, y_train, validation_data=(X_test, y_test),  epochs = 10, batch_size = 64)"
   ]
  },
  {
   "cell_type": "code",
   "execution_count": null,
   "metadata": {},
   "outputs": [],
   "source": [
    "plot_curve(hist_batch_size64)"
   ]
  },
  {
   "cell_type": "code",
   "execution_count": null,
   "metadata": {},
   "outputs": [],
   "source": [
    "predict_scaled_batch_size64 = model_batch_size64.predict(X_test)\n",
    "predict_batch_size64 = sc.inverse_transform(predict_scaled_batch_size64)\n",
    "test1['LSTM_4_batch_size'] = predict_batch_size64\n",
    "test1"
   ]
  },
  {
   "cell_type": "code",
   "execution_count": null,
   "metadata": {},
   "outputs": [],
   "source": [
    "fig = go.Figure()\n",
    "fig.add_trace(go.Scatter(mode = 'lines', x = cloud_cover['DateTime'], y = cloud_cover['cloud_cover'], name = 'Actual'))\n",
    "fig.add_trace(go.Scatter(mode = 'lines', x = test1['DateTime'], y = test1['cloud_cover'], name = 'Actual Test'))\n",
    "fig.add_trace(go.Scatter(mode = 'lines', x = test1['DateTime'], y = test1['LSTM_4_batch_size'], name = 'predict'))\n",
    "fig.update_layout(\n",
    "    autosize=True,\n",
    "    height=600,\n",
    "    title=\"LSTM Model\",\n",
    "    xaxis_title=\"Date\",\n",
    "    yaxis_title=\"Cloud cover\",\n",
    ")\n",
    "\n",
    "\n",
    "fig.update_layout(\n",
    "    xaxis=dict(\n",
    "        rangeselector=dict(\n",
    "            buttons=list([\n",
    "                dict(count=1,\n",
    "                     label=\"1.zoom\",\n",
    "                     step=\"hour\",\n",
    "                     stepmode=\"backward\"),\n",
    "                 dict(count=2,\n",
    "                     label=\"2.zoom\",\n",
    "                     step=\"hour\",\n",
    "                     stepmode=\"backward\"),\n",
    "                dict(count=3,\n",
    "                     label=\"3.zoom\",\n",
    "                     step=\"day\",\n",
    "                     stepmode=\"backward\"),              \n",
    "\n",
    "                dict(step=\"all\")\n",
    "            ])\n",
    "        ),\n",
    "        rangeslider=dict(\n",
    "            visible=True\n",
    "        ),\n",
    "        type=\"date\"\n",
    "    )\n",
    ")\n",
    "\n",
    "fig.show()"
   ]
  },
  {
   "cell_type": "code",
   "execution_count": null,
   "metadata": {},
   "outputs": [],
   "source": [
    "lstm_mse_error_batch_size64 = mean_squared_error(test1['cloud_cover'], test1['LSTM_4_batch_size'], squared=True)\n",
    "compare_mse_model(lstm_mse_error_unit_50_rms,lstm_mse_error_batch_size64)"
   ]
  },
  {
   "cell_type": "code",
   "execution_count": null,
   "metadata": {},
   "outputs": [],
   "source": [
    "mse_data.loc[len(mse_data)] = ['Lstm mse error RMSprop 50 batch size64', lstm_mse_error_batch_size64]"
   ]
  },
  {
   "cell_type": "markdown",
   "metadata": {},
   "source": [
    "---"
   ]
  },
  {
   "attachments": {},
   "cell_type": "markdown",
   "metadata": {},
   "source": [
    "### learning rate 0.1"
   ]
  },
  {
   "cell_type": "code",
   "execution_count": null,
   "metadata": {},
   "outputs": [],
   "source": [
    "test2 = test.copy()"
   ]
  },
  {
   "cell_type": "markdown",
   "metadata": {},
   "source": [
    "### Add frist layer: units = 50"
   ]
  },
  {
   "cell_type": "code",
   "execution_count": null,
   "metadata": {},
   "outputs": [],
   "source": [
    "model_01 = Sequential()\n",
    "model_01.add(LSTM(units = 50, return_sequences = False, input_shape = (X_train.shape[1], 1)))\n",
    "model_01.add(Dense(units = 1))\n",
    "opt = optimizers.Adam(learning_rate=0.1)\n",
    "model_01.compile(optimizer = opt, loss = 'mean_squared_error')\n",
    "hist_01 = model_01.fit(X_train, y_train, validation_data=(X_test, y_test), epochs = 10, batch_size = 32)"
   ]
  },
  {
   "cell_type": "code",
   "execution_count": null,
   "metadata": {},
   "outputs": [],
   "source": [
    "plot_curve(hist_01)"
   ]
  },
  {
   "cell_type": "code",
   "execution_count": null,
   "metadata": {},
   "outputs": [],
   "source": [
    "predict_scaled_01 = model_01.predict(X_test)\n",
    "predict_01 = sc.inverse_transform(predict_scaled_01)\n",
    "test2['LSTM_01'] = predict_01\n",
    "test2"
   ]
  },
  {
   "cell_type": "code",
   "execution_count": null,
   "metadata": {},
   "outputs": [],
   "source": [
    "fig = go.Figure()\n",
    "fig.add_trace(go.Scatter(mode = 'lines', x = cloud_cover['DateTime'], y = cloud_cover['cloud_cover'], name = 'Actual'))\n",
    "fig.add_trace(go.Scatter(mode = 'lines', x = test2['DateTime'], y = test2['cloud_cover'], name = 'Actual Test'))\n",
    "fig.add_trace(go.Scatter(mode = 'lines', x = test2['DateTime'], y = test2['LSTM_01'], name = 'predict'))\n",
    "fig.update_layout(\n",
    "    autosize=True,\n",
    "    height=600,\n",
    "    title=\"LSTM Model\",\n",
    "    xaxis_title=\"Date\",\n",
    "    yaxis_title=\"Cloud cover\",\n",
    ")\n",
    "\n",
    "\n",
    "fig.update_layout(\n",
    "    xaxis=dict(\n",
    "        rangeselector=dict(\n",
    "            buttons=list([\n",
    "                dict(count=1,\n",
    "                     label=\"1.zoom\",\n",
    "                     step=\"hour\",\n",
    "                     stepmode=\"backward\"),\n",
    "                 dict(count=2,\n",
    "                     label=\"2.zoom\",\n",
    "                     step=\"hour\",\n",
    "                     stepmode=\"backward\"),\n",
    "                dict(count=3,\n",
    "                     label=\"3.zoom\",\n",
    "                     step=\"day\",\n",
    "                     stepmode=\"backward\"),              \n",
    "\n",
    "                dict(step=\"all\")\n",
    "            ])\n",
    "        ),\n",
    "        rangeslider=dict(\n",
    "            visible=True\n",
    "        ),\n",
    "        type=\"date\"\n",
    "    )\n",
    ")\n",
    "\n",
    "fig.show()"
   ]
  },
  {
   "cell_type": "code",
   "execution_count": null,
   "metadata": {},
   "outputs": [],
   "source": [
    "lstm_mse_error_unit_50_01 = mean_squared_error(test2['cloud_cover'], test2['LSTM_01'], squared=True)\n",
    "compare_mse_model(lstm_mse_error_unit_50_rms,lstm_mse_error_unit_50_01)"
   ]
  },
  {
   "cell_type": "code",
   "execution_count": null,
   "metadata": {},
   "outputs": [],
   "source": [
    "mse_data.loc[len(mse_data)] = ['Lstm mse error RMSprop 50 learning rate 0.1', lstm_mse_error_unit_50_01]\n",
    "mse_data"
   ]
  },
  {
   "cell_type": "markdown",
   "metadata": {},
   "source": [
    "----------------------------------------------------------------------------------"
   ]
  },
  {
   "attachments": {},
   "cell_type": "markdown",
   "metadata": {},
   "source": [
    "### lr 0.05"
   ]
  },
  {
   "cell_type": "markdown",
   "metadata": {},
   "source": [
    "### Add frist layer: units = 50"
   ]
  },
  {
   "cell_type": "code",
   "execution_count": null,
   "metadata": {},
   "outputs": [],
   "source": [
    "model_005 = Sequential()\n",
    "model_005.add(LSTM(units = 50, return_sequences = False, input_shape = (X_train.shape[1], 1)))\n",
    "model_005.add(Dense(units = 1))\n",
    "opt = optimizers.Adam(learning_rate=0.05)\n",
    "model_005.compile(optimizer = opt, loss = 'mean_squared_error')\n",
    "hist_005 = model_005.fit(X_train, y_train, validation_data=(X_test, y_test), epochs = 10, batch_size = 32)"
   ]
  },
  {
   "cell_type": "code",
   "execution_count": null,
   "metadata": {},
   "outputs": [],
   "source": [
    "plot_curve(hist_005)"
   ]
  },
  {
   "cell_type": "code",
   "execution_count": null,
   "metadata": {},
   "outputs": [],
   "source": [
    "predict_scaled_005 = model_005.predict(X_test)\n",
    "predict_005 = sc.inverse_transform(predict_scaled_005)\n",
    "test2['LSTM_005'] = predict_005\n",
    "test2"
   ]
  },
  {
   "cell_type": "code",
   "execution_count": null,
   "metadata": {},
   "outputs": [],
   "source": [
    "fig = go.Figure()\n",
    "fig.add_trace(go.Scatter(mode = 'lines', x = cloud_cover['DateTime'], y = cloud_cover['cloud_cover'], name = 'Actual'))\n",
    "fig.add_trace(go.Scatter(mode = 'lines', x = test2['DateTime'], y = test2['cloud_cover'], name = 'Actual Test'))\n",
    "fig.add_trace(go.Scatter(mode = 'lines', x = test2['DateTime'], y = test2['LSTM_005'], name = 'predict'))\n",
    "fig.update_layout(\n",
    "    autosize=True,\n",
    "    height=600,\n",
    "    title=\"LSTM Model\",\n",
    "    xaxis_title=\"Date\",\n",
    "    yaxis_title=\"Cloud cover\",\n",
    ")\n",
    "\n",
    "\n",
    "fig.update_layout(\n",
    "    xaxis=dict(\n",
    "        rangeselector=dict(\n",
    "            buttons=list([\n",
    "                dict(count=1,\n",
    "                     label=\"1.zoom\",\n",
    "                     step=\"hour\",\n",
    "                     stepmode=\"backward\"),\n",
    "                 dict(count=2,\n",
    "                     label=\"2.zoom\",\n",
    "                     step=\"hour\",\n",
    "                     stepmode=\"backward\"),\n",
    "                dict(count=3,\n",
    "                     label=\"3.zoom\",\n",
    "                     step=\"day\",\n",
    "                     stepmode=\"backward\"),              \n",
    "\n",
    "                dict(step=\"all\")\n",
    "            ])\n",
    "        ),\n",
    "        rangeslider=dict(\n",
    "            visible=True\n",
    "        ),\n",
    "        type=\"date\"\n",
    "    )\n",
    ")\n",
    "\n",
    "fig.show()"
   ]
  },
  {
   "cell_type": "code",
   "execution_count": null,
   "metadata": {},
   "outputs": [],
   "source": [
    "lstm_mse_error_unit_50_005 = mean_squared_error(test2['cloud_cover'], test2['LSTM_005'], squared=True)\n",
    "compare_mse_model(lstm_mse_error_unit_50_adam,lstm_mse_error_unit_50_005)"
   ]
  },
  {
   "cell_type": "code",
   "execution_count": null,
   "metadata": {},
   "outputs": [],
   "source": [
    "mse_data.loc[len(mse_data)] = ['Lstm mse error adam learning rate 0.05', lstm_mse_error_unit_50_005]"
   ]
  },
  {
   "cell_type": "markdown",
   "metadata": {},
   "source": [
    "----------------------------------------------------------------------------------"
   ]
  },
  {
   "attachments": {},
   "cell_type": "markdown",
   "metadata": {},
   "source": [
    "### lr 0.01"
   ]
  },
  {
   "cell_type": "markdown",
   "metadata": {},
   "source": [
    "### Add frist layer: units = 50"
   ]
  },
  {
   "cell_type": "code",
   "execution_count": null,
   "metadata": {},
   "outputs": [],
   "source": [
    "model_001 = Sequential()\n",
    "model_001.add(LSTM(units = 50, return_sequences = False, input_shape = (X_train.shape[1], 1)))\n",
    "model_001.add(Dense(units = 1))\n",
    "opt = optimizers.Adam(learning_rate=0.01)\n",
    "model_001.compile(optimizer = opt, loss = 'mean_squared_error')\n",
    "hist_001 = model_001.fit(X_train, y_train, validation_data=(X_test, y_test), epochs = 10, batch_size = 32)"
   ]
  },
  {
   "cell_type": "code",
   "execution_count": null,
   "metadata": {},
   "outputs": [],
   "source": [
    "plot_curve(hist_001)"
   ]
  },
  {
   "cell_type": "code",
   "execution_count": null,
   "metadata": {},
   "outputs": [],
   "source": [
    "predict_scaled_001 = model_001.predict(X_test)\n",
    "predict_001 = sc.inverse_transform(predict_scaled_001)\n",
    "test2['LSTM_001'] = predict_001\n",
    "test2"
   ]
  },
  {
   "cell_type": "code",
   "execution_count": null,
   "metadata": {},
   "outputs": [],
   "source": [
    "fig = go.Figure()\n",
    "fig.add_trace(go.Scatter(mode = 'lines', x = cloud_cover['DateTime'], y = cloud_cover['cloud_cover'], name = 'Actual'))\n",
    "fig.add_trace(go.Scatter(mode = 'lines', x = test2['DateTime'], y = test2['cloud_cover'], name = 'Actual Test'))\n",
    "fig.add_trace(go.Scatter(mode = 'lines', x = test2['DateTime'], y = test2['LSTM_001'], name = 'predict'))\n",
    "fig.update_layout(\n",
    "    autosize=True,\n",
    "    height=600,\n",
    "    title=\"LSTM Model\",\n",
    "    xaxis_title=\"Date\",\n",
    "    yaxis_title=\"Cloud cover\",\n",
    ")\n",
    "\n",
    "\n",
    "fig.update_layout(\n",
    "    xaxis=dict(\n",
    "        rangeselector=dict(\n",
    "            buttons=list([\n",
    "                dict(count=1,\n",
    "                     label=\"1.zoom\",\n",
    "                     step=\"hour\",\n",
    "                     stepmode=\"backward\"),\n",
    "                 dict(count=2,\n",
    "                     label=\"2.zoom\",\n",
    "                     step=\"hour\",\n",
    "                     stepmode=\"backward\"),\n",
    "                dict(count=3,\n",
    "                     label=\"3.zoom\",\n",
    "                     step=\"day\",\n",
    "                     stepmode=\"backward\"),              \n",
    "\n",
    "                dict(step=\"all\")\n",
    "            ])\n",
    "        ),\n",
    "        rangeslider=dict(\n",
    "            visible=True\n",
    "        ),\n",
    "        type=\"date\"\n",
    "    )\n",
    ")\n",
    "\n",
    "fig.show()"
   ]
  },
  {
   "cell_type": "code",
   "execution_count": null,
   "metadata": {},
   "outputs": [],
   "source": [
    "lstm_mse_error_001 = mean_squared_error(test2['cloud_cover'], test2['LSTM_001'], squared=True)\n",
    "compare_mse_model(lstm_mse_error_unit_50_adam,lstm_mse_error_001)"
   ]
  },
  {
   "cell_type": "code",
   "execution_count": null,
   "metadata": {},
   "outputs": [],
   "source": [
    "mse_data.loc[len(mse_data)] = ['Lstm mse error adam learning rate 0.01', lstm_mse_error_001]"
   ]
  },
  {
   "cell_type": "markdown",
   "metadata": {},
   "source": [
    "----------------------------------------------------------------------------------"
   ]
  },
  {
   "attachments": {},
   "cell_type": "markdown",
   "metadata": {},
   "source": [
    "### lr 0.005"
   ]
  },
  {
   "cell_type": "markdown",
   "metadata": {},
   "source": [
    "### Add frist layer: units = 50"
   ]
  },
  {
   "cell_type": "code",
   "execution_count": null,
   "metadata": {},
   "outputs": [],
   "source": [
    "model_0005 = Sequential()\n",
    "model_0005.add(LSTM(units = 50, return_sequences = False, input_shape = (X_train.shape[1], 1)))\n",
    "model_0005.add(Dense(units = 1))\n",
    "opt = optimizers.Adam(learning_rate=0.005)\n",
    "model_0005.compile(optimizer = opt, loss = 'mean_squared_error')\n",
    "hist_0005 = model_0005.fit(X_train, y_train, validation_data=(X_test, y_test), epochs = 10, batch_size = 32)"
   ]
  },
  {
   "cell_type": "code",
   "execution_count": null,
   "metadata": {},
   "outputs": [],
   "source": [
    "plot_curve(hist_0005)"
   ]
  },
  {
   "cell_type": "code",
   "execution_count": null,
   "metadata": {},
   "outputs": [],
   "source": [
    "predict_scaled_0005 = model_0005.predict(X_test)\n",
    "predict_0005 = sc.inverse_transform(predict_scaled_0005)\n",
    "test2['LSTM_0005'] = predict_0005\n",
    "test2"
   ]
  },
  {
   "cell_type": "code",
   "execution_count": null,
   "metadata": {},
   "outputs": [],
   "source": [
    "fig = go.Figure()\n",
    "fig.add_trace(go.Scatter(mode = 'lines', x = cloud_cover['DateTime'], y = cloud_cover['cloud_cover'], name = 'Actual'))\n",
    "fig.add_trace(go.Scatter(mode = 'lines', x = test2['DateTime'], y = test2['cloud_cover'], name = 'Actual Test'))\n",
    "fig.add_trace(go.Scatter(mode = 'lines', x = test2['DateTime'], y = test2['LSTM_0005'], name = 'predict'))\n",
    "fig.update_layout(\n",
    "    autosize=True,\n",
    "    height=600,\n",
    "    title=\"LSTM Model\",\n",
    "    xaxis_title=\"Date\",\n",
    "    yaxis_title=\"Cloud cover\",\n",
    ")\n",
    "\n",
    "\n",
    "fig.update_layout(\n",
    "    xaxis=dict(\n",
    "        rangeselector=dict(\n",
    "            buttons=list([\n",
    "                dict(count=1,\n",
    "                     label=\"1.zoom\",\n",
    "                     step=\"hour\",\n",
    "                     stepmode=\"backward\"),\n",
    "                 dict(count=2,\n",
    "                     label=\"2.zoom\",\n",
    "                     step=\"hour\",\n",
    "                     stepmode=\"backward\"),\n",
    "                dict(count=3,\n",
    "                     label=\"3.zoom\",\n",
    "                     step=\"day\",\n",
    "                     stepmode=\"backward\"),              \n",
    "\n",
    "                dict(step=\"all\")\n",
    "            ])\n",
    "        ),\n",
    "        rangeslider=dict(\n",
    "            visible=True\n",
    "        ),\n",
    "        type=\"date\"\n",
    "    )\n",
    ")\n",
    "\n",
    "fig.show()"
   ]
  },
  {
   "cell_type": "code",
   "execution_count": null,
   "metadata": {},
   "outputs": [],
   "source": [
    "lstm_mse_error_unit_50_0005 = mean_squared_error(test2['cloud_cover'], test2['LSTM_0005'], squared=True)\n",
    "compare_mse_model(lstm_mse_error_unit_50_adam,lstm_mse_error_unit_50_0005)"
   ]
  },
  {
   "cell_type": "code",
   "execution_count": null,
   "metadata": {},
   "outputs": [],
   "source": [
    "mse_data.loc[len(mse_data)] = ['Lstm mse error adam 50 learning rate 0.005', lstm_mse_error_unit_50_0005]"
   ]
  },
  {
   "cell_type": "markdown",
   "metadata": {},
   "source": [
    "----------------------------------------------------------------------------------"
   ]
  },
  {
   "attachments": {},
   "cell_type": "markdown",
   "metadata": {},
   "source": [
    "lr 0.001"
   ]
  },
  {
   "cell_type": "markdown",
   "metadata": {},
   "source": [
    "### Add frist layer: units = 50"
   ]
  },
  {
   "cell_type": "code",
   "execution_count": null,
   "metadata": {},
   "outputs": [],
   "source": [
    "model_0001 = Sequential()\n",
    "model_0001.add(LSTM(units = 50, return_sequences = False, input_shape = (X_train.shape[1], 1)))\n",
    "model_0001.add(Dense(units = 1))\n",
    "opt = optimizers.Adam(learning_rate=0.001)\n",
    "model_0001.compile(optimizer = opt, loss = 'mean_squared_error')\n",
    "hist_0001 = model_0001.fit(X_train, y_train, validation_data=(X_test, y_test), epochs = 10, batch_size = 32)"
   ]
  },
  {
   "cell_type": "code",
   "execution_count": null,
   "metadata": {},
   "outputs": [],
   "source": [
    "plot_curve(hist_0001)"
   ]
  },
  {
   "cell_type": "code",
   "execution_count": null,
   "metadata": {},
   "outputs": [],
   "source": [
    "predict_scaled_0001 = model_001.predict(X_test)\n",
    "predict_0001 = sc.inverse_transform(predict_scaled_0001)\n",
    "test2['LSTM_0001'] = predict_0001\n",
    "test2"
   ]
  },
  {
   "cell_type": "code",
   "execution_count": null,
   "metadata": {},
   "outputs": [],
   "source": [
    "fig = go.Figure()\n",
    "fig.add_trace(go.Scatter(mode = 'lines', x = cloud_cover['DateTime'], y = cloud_cover['cloud_cover'], name = 'Actual'))\n",
    "fig.add_trace(go.Scatter(mode = 'lines', x = test2['DateTime'], y = test2['cloud_cover'], name = 'Actual Test'))\n",
    "fig.add_trace(go.Scatter(mode = 'lines', x = test2['DateTime'], y = test2['LSTM_0001'], name = 'predict'))\n",
    "fig.update_layout(\n",
    "    autosize=True,\n",
    "    height=600,\n",
    "    title=\"LSTM Model\",\n",
    "    xaxis_title=\"Date\",\n",
    "    yaxis_title=\"Cloud cover\",\n",
    ")\n",
    "\n",
    "\n",
    "fig.update_layout(\n",
    "    xaxis=dict(\n",
    "        rangeselector=dict(\n",
    "            buttons=list([\n",
    "                dict(count=1,\n",
    "                     label=\"1.zoom\",\n",
    "                     step=\"hour\",\n",
    "                     stepmode=\"backward\"),\n",
    "                 dict(count=2,\n",
    "                     label=\"2.zoom\",\n",
    "                     step=\"hour\",\n",
    "                     stepmode=\"backward\"),\n",
    "                dict(count=3,\n",
    "                     label=\"3.zoom\",\n",
    "                     step=\"day\",\n",
    "                     stepmode=\"backward\"),              \n",
    "\n",
    "                dict(step=\"all\")\n",
    "            ])\n",
    "        ),\n",
    "        rangeslider=dict(\n",
    "            visible=True\n",
    "        ),\n",
    "        type=\"date\"\n",
    "    )\n",
    ")\n",
    "\n",
    "fig.show()"
   ]
  },
  {
   "cell_type": "code",
   "execution_count": null,
   "metadata": {},
   "outputs": [],
   "source": [
    "lstm_mse_error_0001 = mean_squared_error(test2['cloud_cover'], test2['LSTM_0001'], squared=True)\n",
    "compare_mse_model(lstm_mse_error_unit_50_adam,lstm_mse_error_0001)"
   ]
  },
  {
   "cell_type": "code",
   "execution_count": null,
   "metadata": {},
   "outputs": [],
   "source": [
    "mse_data.loc[len(mse_data)] = ['Lstm mse error adam learning rate 0.001', lstm_mse_error_0001]"
   ]
  },
  {
   "cell_type": "markdown",
   "metadata": {},
   "source": [
    "----------------------------------------------------------------------------------"
   ]
  },
  {
   "attachments": {},
   "cell_type": "markdown",
   "metadata": {},
   "source": [
    "## Optimizer adam"
   ]
  },
  {
   "attachments": {},
   "cell_type": "markdown",
   "metadata": {},
   "source": [
    "### Add frist layer: units = 100"
   ]
  },
  {
   "cell_type": "code",
   "execution_count": null,
   "metadata": {},
   "outputs": [],
   "source": [
    "test3 = test.copy()"
   ]
  },
  {
   "cell_type": "code",
   "execution_count": null,
   "metadata": {},
   "outputs": [],
   "source": [
    "test3['LSTM_50'] = predict_adam"
   ]
  },
  {
   "cell_type": "code",
   "execution_count": null,
   "metadata": {},
   "outputs": [],
   "source": [
    "model_1 = Sequential()\n",
    "model_1.add(LSTM(units = 100, return_sequences = False, input_shape = (X_train.shape[1], 1)))\n",
    "model_1.add(Dense(units = 1))\n",
    "model_1.compile(optimizer = 'adam', loss = 'mean_squared_error')\n",
    "hist_1 = model_1.fit(X_train, y_train, validation_data=(X_test, y_test), epochs = 10, batch_size = 32)"
   ]
  },
  {
   "cell_type": "code",
   "execution_count": null,
   "metadata": {},
   "outputs": [],
   "source": [
    "plot_curve(hist_1)"
   ]
  },
  {
   "cell_type": "code",
   "execution_count": null,
   "metadata": {},
   "outputs": [],
   "source": [
    "predict_scaled_1 = model_1.predict(X_test)\n",
    "predict_1 = sc.inverse_transform(predict_scaled_1)\n",
    "test3['LSTM_100'] = predict_1\n",
    "test3"
   ]
  },
  {
   "cell_type": "code",
   "execution_count": null,
   "metadata": {},
   "outputs": [],
   "source": [
    "fig = go.Figure()\n",
    "fig.add_trace(go.Scatter(mode = 'lines', x = cloud_cover['DateTime'], y = cloud_cover['cloud_cover'], name = 'Actual'))\n",
    "fig.add_trace(go.Scatter(mode = 'lines', x = test3['DateTime'], y = test3['cloud_cover'], name = 'Actual Test'))\n",
    "fig.add_trace(go.Scatter(mode = 'lines', x = test3['DateTime'], y = test3['LSTM_100'], name = 'predict'))\n",
    "fig.update_layout(\n",
    "    autosize=True,\n",
    "    height=600,\n",
    "    title=\"LSTM Model\",\n",
    "    xaxis_title=\"Date\",\n",
    "    yaxis_title=\"Cloud cover\",\n",
    ")\n",
    "\n",
    "\n",
    "fig.update_layout(\n",
    "    xaxis=dict(\n",
    "        rangeselector=dict(\n",
    "            buttons=list([\n",
    "                dict(count=1,\n",
    "                     label=\"1.zoom\",\n",
    "                     step=\"hour\",\n",
    "                     stepmode=\"backward\"),\n",
    "                 dict(count=2,\n",
    "                     label=\"2.zoom\",\n",
    "                     step=\"hour\",\n",
    "                     stepmode=\"backward\"),\n",
    "                dict(count=3,\n",
    "                     label=\"3.zoom\",\n",
    "                     step=\"day\",\n",
    "                     stepmode=\"backward\"),              \n",
    "\n",
    "                dict(step=\"all\")\n",
    "            ])\n",
    "        ),\n",
    "        rangeslider=dict(\n",
    "            visible=True\n",
    "        ),\n",
    "        type=\"date\"\n",
    "    )\n",
    ")\n",
    "\n",
    "fig.show()"
   ]
  },
  {
   "cell_type": "code",
   "execution_count": null,
   "metadata": {},
   "outputs": [],
   "source": [
    "lstm_mse_error_unit_100 = mean_squared_error(test3['cloud_cover'], test3['LSTM_100'], squared=True)\n",
    "compare_mse_model(lstm_mse_error_unit_50_adam,lstm_mse_error_unit_100)"
   ]
  },
  {
   "cell_type": "code",
   "execution_count": null,
   "metadata": {},
   "outputs": [],
   "source": [
    "mse_data.loc[len(mse_data)] = ['Lstm mse error 50 adam frist layer unit 100', lstm_mse_error_unit_100]"
   ]
  },
  {
   "attachments": {},
   "cell_type": "markdown",
   "metadata": {},
   "source": [
    "------------"
   ]
  },
  {
   "attachments": {},
   "cell_type": "markdown",
   "metadata": {},
   "source": [
    "### Add frist layer: units = 200"
   ]
  },
  {
   "cell_type": "code",
   "execution_count": null,
   "metadata": {},
   "outputs": [],
   "source": [
    "model_6 = Sequential()\n",
    "model_6.add(LSTM(units = 200, return_sequences = False, input_shape = (X_train.shape[1], 1)))\n",
    "model_6.add(Dense(units = 1))\n",
    "model_6.compile(optimizer = 'adam', loss = 'mean_squared_error')\n",
    "hist_6= model_6.fit(X_train, y_train, validation_data=(X_test, y_test), epochs = 10, batch_size = 32)"
   ]
  },
  {
   "cell_type": "code",
   "execution_count": null,
   "metadata": {},
   "outputs": [],
   "source": [
    "plot_curve(hist_6)"
   ]
  },
  {
   "cell_type": "code",
   "execution_count": null,
   "metadata": {},
   "outputs": [],
   "source": [
    "predict_scaled_6 = model_6.predict(X_test)\n",
    "predict_6 = sc.inverse_transform(predict_scaled_6)\n",
    "test3['LSTM_200'] = predict_6\n",
    "test3"
   ]
  },
  {
   "cell_type": "code",
   "execution_count": null,
   "metadata": {},
   "outputs": [],
   "source": [
    "fig = go.Figure()\n",
    "fig.add_trace(go.Scatter(mode = 'lines', x = cloud_cover['DateTime'], y = cloud_cover['cloud_cover'], name = 'Actual'))\n",
    "fig.add_trace(go.Scatter(mode = 'lines', x = test3['DateTime'], y = test3['cloud_cover'], name = 'Actual Test'))\n",
    "fig.add_trace(go.Scatter(mode = 'lines', x = test3['DateTime'], y = test3['LSTM_200'], name = 'predict'))\n",
    "fig.update_layout(\n",
    "    autosize=True,\n",
    "    height=600,\n",
    "    title=\"LSTM Model\",\n",
    "    xaxis_title=\"Date\",\n",
    "    yaxis_title=\"Cloud cover\",\n",
    ")\n",
    "\n",
    "\n",
    "fig.update_layout(\n",
    "    xaxis=dict(\n",
    "        rangeselector=dict(\n",
    "            buttons=list([\n",
    "                dict(count=1,\n",
    "                     label=\"1.zoom\",\n",
    "                     step=\"hour\",\n",
    "                     stepmode=\"backward\"),\n",
    "                 dict(count=2,\n",
    "                     label=\"2.zoom\",\n",
    "                     step=\"hour\",\n",
    "                     stepmode=\"backward\"),\n",
    "                dict(count=3,\n",
    "                     label=\"3.zoom\",\n",
    "                     step=\"day\",\n",
    "                     stepmode=\"backward\"),              \n",
    "\n",
    "                dict(step=\"all\")\n",
    "            ])\n",
    "        ),\n",
    "        rangeslider=dict(\n",
    "            visible=True\n",
    "        ),\n",
    "        type=\"date\"\n",
    "    )\n",
    ")\n",
    "\n",
    "fig.show()"
   ]
  },
  {
   "cell_type": "code",
   "execution_count": null,
   "metadata": {},
   "outputs": [],
   "source": [
    "lstm_mse_error_unit_200 = mean_squared_error(test3['cloud_cover'], test3['LSTM_200'], squared=True)\n",
    "compare_mse_model(lstm_mse_error_unit_100,lstm_mse_error_unit_200)"
   ]
  },
  {
   "cell_type": "code",
   "execution_count": null,
   "metadata": {},
   "outputs": [],
   "source": [
    "mse_data.loc[len(mse_data)] = ['Lstm mse error adam frist layer unit 200', lstm_mse_error_unit_200]"
   ]
  },
  {
   "cell_type": "markdown",
   "metadata": {},
   "source": [
    "------------"
   ]
  },
  {
   "attachments": {},
   "cell_type": "markdown",
   "metadata": {},
   "source": [
    "### Add frist layer: units = 100 and Add Dropout = 0.1"
   ]
  },
  {
   "cell_type": "code",
   "execution_count": null,
   "metadata": {},
   "outputs": [],
   "source": [
    "model_2 = Sequential()\n",
    "model_2.add(LSTM(units = 100, return_sequences = False, input_shape = (X_train.shape[1], 1)))\n",
    "model_2.add(Dropout(0.1))\n",
    "model_2.add(Dense(units = 1))\n",
    "model_2.compile(optimizer = 'adam', loss = 'mean_squared_error')\n",
    "hist_2 = model_2.fit(X_train, y_train, validation_data=(X_test, y_test), epochs = 10, batch_size = 32)"
   ]
  },
  {
   "cell_type": "code",
   "execution_count": null,
   "metadata": {},
   "outputs": [],
   "source": [
    "plot_curve(hist_2)"
   ]
  },
  {
   "cell_type": "code",
   "execution_count": null,
   "metadata": {},
   "outputs": [],
   "source": [
    "predict_scaled_2 = model_2.predict(X_test)\n",
    "predict_2 = sc.inverse_transform(predict_scaled_2)\n",
    "test3['LSTM_Drop_out'] = predict_2\n",
    "test3"
   ]
  },
  {
   "cell_type": "code",
   "execution_count": null,
   "metadata": {},
   "outputs": [],
   "source": [
    "fig = go.Figure()\n",
    "fig.add_trace(go.Scatter(mode = 'lines', x = cloud_cover['DateTime'], y = cloud_cover['cloud_cover'], name = 'Actual'))\n",
    "fig.add_trace(go.Scatter(mode = 'lines', x = test3['DateTime'], y = test3['cloud_cover'], name = 'Actual Test'))\n",
    "fig.add_trace(go.Scatter(mode = 'lines', x = test3['DateTime'], y = test3['LSTM_Drop_out'], name = 'predict'))\n",
    "fig.update_layout(\n",
    "    autosize=True,\n",
    "    height=600,\n",
    "    title=\"LSTM Model\",\n",
    "    xaxis_title=\"Date\",\n",
    "    yaxis_title=\"Cloud cover\",\n",
    ")\n",
    "\n",
    "\n",
    "fig.update_layout(\n",
    "    xaxis=dict(\n",
    "        rangeselector=dict(\n",
    "            buttons=list([\n",
    "                dict(count=1,\n",
    "                     label=\"1.zoom\",\n",
    "                     step=\"hour\",\n",
    "                     stepmode=\"backward\"),\n",
    "                 dict(count=2,\n",
    "                     label=\"2.zoom\",\n",
    "                     step=\"hour\",\n",
    "                     stepmode=\"backward\"),\n",
    "                dict(count=3,\n",
    "                     label=\"3.zoom\",\n",
    "                     step=\"day\",\n",
    "                     stepmode=\"backward\"),              \n",
    "\n",
    "                dict(step=\"all\")\n",
    "            ])\n",
    "        ),\n",
    "        rangeslider=dict(\n",
    "            visible=True\n",
    "        ),\n",
    "        type=\"date\"\n",
    "    )\n",
    ")\n",
    "\n",
    "fig.show()"
   ]
  },
  {
   "cell_type": "code",
   "execution_count": null,
   "metadata": {},
   "outputs": [],
   "source": [
    "lstm_mse_error_100_drop_out = mean_squared_error(test3['cloud_cover'], test3['LSTM_Drop_out'], squared=True)\n",
    "compare_mse_model(lstm_mse_error_unit_100,lstm_mse_error_100_drop_out)"
   ]
  },
  {
   "cell_type": "code",
   "execution_count": null,
   "metadata": {},
   "outputs": [],
   "source": [
    "mse_data.loc[len(mse_data)] = ['Lstm mse error adam frist layer unit 100 drop out 0.1', lstm_mse_error_100_drop_out]"
   ]
  },
  {
   "attachments": {},
   "cell_type": "markdown",
   "metadata": {},
   "source": [
    "------------------------------------"
   ]
  },
  {
   "attachments": {},
   "cell_type": "markdown",
   "metadata": {},
   "source": [
    "### Add frist layer: units = 100 and Add second layer: unit = 50"
   ]
  },
  {
   "cell_type": "code",
   "execution_count": null,
   "metadata": {},
   "outputs": [],
   "source": [
    "model_3 = Sequential()\n",
    "model_3.add(LSTM(units = 100, return_sequences = True, input_shape = (X_train.shape[1], 1)))\n",
    "model_3.add(LSTM(units = 50))\n",
    "model_3.add(Dense(units = 1))\n",
    "model_3.compile(optimizer = 'adam', loss = 'mean_squared_error')\n",
    "hist_3 = model_3.fit(X_train, y_train, validation_data=(X_test, y_test),  epochs = 10, batch_size = 32)"
   ]
  },
  {
   "cell_type": "code",
   "execution_count": null,
   "metadata": {},
   "outputs": [],
   "source": [
    "plot_curve(hist_3)"
   ]
  },
  {
   "cell_type": "code",
   "execution_count": null,
   "metadata": {},
   "outputs": [],
   "source": [
    "predict_scaled_3 = model_3.predict(X_test)\n",
    "predict_3 = sc.inverse_transform(predict_scaled_3)\n",
    "test3['LSTM_second_layer_50'] = predict_3\n",
    "test3"
   ]
  },
  {
   "cell_type": "code",
   "execution_count": null,
   "metadata": {},
   "outputs": [],
   "source": [
    "fig = go.Figure()\n",
    "fig.add_trace(go.Scatter(mode = 'lines', x = cloud_cover['DateTime'], y = cloud_cover['cloud_cover'], name = 'Actual'))\n",
    "fig.add_trace(go.Scatter(mode = 'lines', x = test3['DateTime'], y = test3['cloud_cover'], name = 'Actual Test'))\n",
    "fig.add_trace(go.Scatter(mode = 'lines', x = test3['DateTime'], y = test3['LSTM_second_layer_50'], name = 'predict'))\n",
    "fig.update_layout(\n",
    "    autosize=True,\n",
    "    height=600,\n",
    "    title=\"LSTM Model\",\n",
    "    xaxis_title=\"Date\",\n",
    "    yaxis_title=\"Cloud cover\",\n",
    ")\n",
    "\n",
    "\n",
    "fig.update_layout(\n",
    "    xaxis=dict(\n",
    "        rangeselector=dict(\n",
    "            buttons=list([\n",
    "                dict(count=1,\n",
    "                     label=\"1.zoom\",\n",
    "                     step=\"hour\",\n",
    "                     stepmode=\"backward\"),\n",
    "                 dict(count=2,\n",
    "                     label=\"2.zoom\",\n",
    "                     step=\"hour\",\n",
    "                     stepmode=\"backward\"),\n",
    "                dict(count=3,\n",
    "                     label=\"3.zoom\",\n",
    "                     step=\"day\",\n",
    "                     stepmode=\"backward\"),              \n",
    "\n",
    "                dict(step=\"all\")\n",
    "            ])\n",
    "        ),\n",
    "        rangeslider=dict(\n",
    "            visible=True\n",
    "        ),\n",
    "        type=\"date\"\n",
    "    )\n",
    ")\n",
    "\n",
    "fig.show()"
   ]
  },
  {
   "cell_type": "code",
   "execution_count": null,
   "metadata": {},
   "outputs": [],
   "source": [
    "lstm_mse_error_second_layer = mean_squared_error(test3['cloud_cover'], test3['LSTM_second_layer_50'], squared=True)\n",
    "compare_mse_model(lstm_mse_error_unit_100,lstm_mse_error_second_layer)"
   ]
  },
  {
   "cell_type": "code",
   "execution_count": null,
   "metadata": {},
   "outputs": [],
   "source": [
    "mse_data.loc[len(mse_data)] = ['Lstm mse error adam second layer unit 50', lstm_mse_error_second_layer]"
   ]
  },
  {
   "cell_type": "markdown",
   "metadata": {},
   "source": [
    "---"
   ]
  },
  {
   "attachments": {},
   "cell_type": "markdown",
   "metadata": {},
   "source": [
    "### Add frist layer: units = 100 and Add second layer: unit = 100"
   ]
  },
  {
   "cell_type": "code",
   "execution_count": null,
   "metadata": {},
   "outputs": [],
   "source": [
    "model_4 = Sequential()\n",
    "model_4.add(LSTM(units = 100, return_sequences = True, input_shape = (X_train.shape[1], 1)))\n",
    "model_4.add(LSTM(units = 100))\n",
    "model_4.add(Dense(units = 1))\n",
    "model_4.compile(optimizer = 'adam', loss = 'mean_squared_error')\n",
    "hist_4 = model_4.fit(X_train, y_train, validation_data=(X_test, y_test),  epochs = 10, batch_size = 32)"
   ]
  },
  {
   "cell_type": "code",
   "execution_count": null,
   "metadata": {},
   "outputs": [],
   "source": [
    "plot_curve(hist_4)"
   ]
  },
  {
   "cell_type": "code",
   "execution_count": null,
   "metadata": {},
   "outputs": [],
   "source": [
    "predict_scaled_4 = model_4.predict(X_test)\n",
    "predict_4 = sc.inverse_transform(predict_scaled_4)\n",
    "test3['LSTM_second_layer_100'] = predict_4\n",
    "test3"
   ]
  },
  {
   "cell_type": "code",
   "execution_count": null,
   "metadata": {},
   "outputs": [],
   "source": [
    "fig = go.Figure()\n",
    "fig.add_trace(go.Scatter(mode = 'lines', x = cloud_cover['DateTime'], y = cloud_cover['cloud_cover'], name = 'Actual'))\n",
    "fig.add_trace(go.Scatter(mode = 'lines', x = test3['DateTime'], y = test3['cloud_cover'], name = 'Actual Test'))\n",
    "fig.add_trace(go.Scatter(mode = 'lines', x = test3['DateTime'], y = test3['LSTM_second_layer_100'], name = 'predict'))\n",
    "fig.update_layout(\n",
    "    autosize=True,\n",
    "    height=600,\n",
    "    title=\"LSTM Model\",\n",
    "    xaxis_title=\"Date\",\n",
    "    yaxis_title=\"Cloud cover\",\n",
    ")\n",
    "\n",
    "\n",
    "fig.update_layout(\n",
    "    xaxis=dict(\n",
    "        rangeselector=dict(\n",
    "            buttons=list([\n",
    "                dict(count=1,\n",
    "                     label=\"1.zoom\",\n",
    "                     step=\"hour\",\n",
    "                     stepmode=\"backward\"),\n",
    "                 dict(count=2,\n",
    "                     label=\"2.zoom\",\n",
    "                     step=\"hour\",\n",
    "                     stepmode=\"backward\"),\n",
    "                dict(count=3,\n",
    "                     label=\"3.zoom\",\n",
    "                     step=\"day\",\n",
    "                     stepmode=\"backward\"),              \n",
    "\n",
    "                dict(step=\"all\")\n",
    "            ])\n",
    "        ),\n",
    "        rangeslider=dict(\n",
    "            visible=True\n",
    "        ),\n",
    "        type=\"date\"\n",
    "    )\n",
    ")\n",
    "\n",
    "fig.show()"
   ]
  },
  {
   "cell_type": "code",
   "execution_count": null,
   "metadata": {},
   "outputs": [],
   "source": [
    "lstm_mse_error_second_layer_unit100 = mean_squared_error(test3['cloud_cover'], test3['LSTM_second_layer_100'], squared=True)\n",
    "compare_mse_model(lstm_mse_error_unit_100,lstm_mse_error_second_layer_unit100)"
   ]
  },
  {
   "cell_type": "code",
   "execution_count": null,
   "metadata": {},
   "outputs": [],
   "source": [
    "mse_data.loc[len(mse_data)] = ['Lstm mse error adam second layer unit 100', lstm_mse_error_second_layer_unit100]\n",
    "mse_data"
   ]
  },
  {
   "cell_type": "markdown",
   "metadata": {},
   "source": [
    "---"
   ]
  },
  {
   "attachments": {},
   "cell_type": "markdown",
   "metadata": {},
   "source": [
    "### Add frist layer: units = 100 and Add second layer: unit = 200"
   ]
  },
  {
   "cell_type": "code",
   "execution_count": null,
   "metadata": {},
   "outputs": [],
   "source": [
    "model_7 = Sequential()\n",
    "model_7.add(LSTM(units = 100, return_sequences = True, input_shape = (X_train.shape[1], 1)))\n",
    "model_7.add(LSTM(units = 200))\n",
    "model_7.add(Dense(units = 1))\n",
    "model_7.compile(optimizer = 'adam', loss = 'mean_squared_error')\n",
    "hist_7 = model_7.fit(X_train, y_train, validation_data=(X_test, y_test),  epochs = 10, batch_size = 32)"
   ]
  },
  {
   "cell_type": "code",
   "execution_count": null,
   "metadata": {},
   "outputs": [],
   "source": [
    "plot_curve(hist_7)"
   ]
  },
  {
   "cell_type": "code",
   "execution_count": null,
   "metadata": {},
   "outputs": [],
   "source": [
    "predict_scaled_7 = model_7.predict(X_test)\n",
    "predict_7 = sc.inverse_transform(predict_scaled_7)\n",
    "test3['LSTM_second_layer_200'] = predict_7\n",
    "test3"
   ]
  },
  {
   "cell_type": "code",
   "execution_count": null,
   "metadata": {},
   "outputs": [],
   "source": [
    "fig = go.Figure()\n",
    "fig.add_trace(go.Scatter(mode = 'lines', x = cloud_cover['DateTime'], y = cloud_cover['cloud_cover'], name = 'Actual'))\n",
    "fig.add_trace(go.Scatter(mode = 'lines', x = test3['DateTime'], y = test3['cloud_cover'], name = 'Actual Test'))\n",
    "fig.add_trace(go.Scatter(mode = 'lines', x = test3['DateTime'], y = test3['LSTM_second_layer_200'], name = 'predict'))\n",
    "fig.update_layout(\n",
    "    autosize=True,\n",
    "    height=600,\n",
    "    title=\"LSTM Model\",\n",
    "    xaxis_title=\"Date\",\n",
    "    yaxis_title=\"Cloud cover\",\n",
    ")\n",
    "\n",
    "\n",
    "fig.update_layout(\n",
    "    xaxis=dict(\n",
    "        rangeselector=dict(\n",
    "            buttons=list([\n",
    "                dict(count=1,\n",
    "                     label=\"1.zoom\",\n",
    "                     step=\"hour\",\n",
    "                     stepmode=\"backward\"),\n",
    "                 dict(count=2,\n",
    "                     label=\"2.zoom\",\n",
    "                     step=\"hour\",\n",
    "                     stepmode=\"backward\"),\n",
    "                dict(count=3,\n",
    "                     label=\"3.zoom\",\n",
    "                     step=\"day\",\n",
    "                     stepmode=\"backward\"),              \n",
    "\n",
    "                dict(step=\"all\")\n",
    "            ])\n",
    "        ),\n",
    "        rangeslider=dict(\n",
    "            visible=True\n",
    "        ),\n",
    "        type=\"date\"\n",
    "    )\n",
    ")\n",
    "\n",
    "fig.show()"
   ]
  },
  {
   "cell_type": "code",
   "execution_count": null,
   "metadata": {},
   "outputs": [],
   "source": [
    "lstm_mse_error_second_layer_unit200 = mean_squared_error(test3['cloud_cover'], test3['LSTM_second_layer_200'], squared=True)\n",
    "compare_mse_model(lstm_mse_error_second_layer_unit100,lstm_mse_error_second_layer_unit200)"
   ]
  },
  {
   "cell_type": "code",
   "execution_count": null,
   "metadata": {},
   "outputs": [],
   "source": [
    "mse_data.loc[len(mse_data)] = ['Lstm mse error adam second layer unit 200', lstm_mse_error_second_layer_unit200]\n",
    "mse_data"
   ]
  },
  {
   "cell_type": "markdown",
   "metadata": {},
   "source": [
    "---"
   ]
  },
  {
   "attachments": {},
   "cell_type": "markdown",
   "metadata": {},
   "source": [
    "### Add frist layer: units = 100 and ,second layer: unit = 100 and drop out 0.1"
   ]
  },
  {
   "cell_type": "code",
   "execution_count": null,
   "metadata": {},
   "outputs": [],
   "source": [
    "model_8 = Sequential()\n",
    "model_8.add(LSTM(units = 100, return_sequences = True, input_shape = (X_train.shape[1], 1)))\n",
    "model_8.add(LSTM(units = 100))\n",
    "model_8.add(Dropout(0.1))\n",
    "model_8.add(Dense(units = 1))\n",
    "model_8.compile(optimizer = 'adam', loss = 'mean_squared_error')\n",
    "hist_8 = model_8.fit(X_train, y_train, validation_data=(X_test, y_test),  epochs = 10, batch_size = 32)"
   ]
  },
  {
   "cell_type": "code",
   "execution_count": null,
   "metadata": {},
   "outputs": [],
   "source": [
    "plot_curve(hist_8)"
   ]
  },
  {
   "cell_type": "code",
   "execution_count": null,
   "metadata": {},
   "outputs": [],
   "source": [
    "predict_scaled_8 = model_8.predict(X_test)\n",
    "predict_8 = sc.inverse_transform(predict_scaled_8)\n",
    "test3['LSTM_second_layer_100_drop_out'] = predict_8\n",
    "test3"
   ]
  },
  {
   "cell_type": "code",
   "execution_count": null,
   "metadata": {},
   "outputs": [],
   "source": [
    "fig = go.Figure()\n",
    "fig.add_trace(go.Scatter(mode = 'lines', x = cloud_cover['DateTime'], y = cloud_cover['cloud_cover'], name = 'Actual'))\n",
    "fig.add_trace(go.Scatter(mode = 'lines', x = test3['DateTime'], y = test3['cloud_cover'], name = 'Actual Test'))\n",
    "fig.add_trace(go.Scatter(mode = 'lines', x = test3['DateTime'], y = test3['LSTM_second_layer_100_drop_out'], name = 'predict'))\n",
    "fig.update_layout(\n",
    "    autosize=True,\n",
    "    height=600,\n",
    "    title=\"LSTM Model\",\n",
    "    xaxis_title=\"Date\",\n",
    "    yaxis_title=\"Cloud cover\",\n",
    ")\n",
    "\n",
    "\n",
    "fig.update_layout(\n",
    "    xaxis=dict(\n",
    "        rangeselector=dict(\n",
    "            buttons=list([\n",
    "                dict(count=1,\n",
    "                     label=\"1.zoom\",\n",
    "                     step=\"hour\",\n",
    "                     stepmode=\"backward\"),\n",
    "                 dict(count=2,\n",
    "                     label=\"2.zoom\",\n",
    "                     step=\"hour\",\n",
    "                     stepmode=\"backward\"),\n",
    "                dict(count=3,\n",
    "                     label=\"3.zoom\",\n",
    "                     step=\"day\",\n",
    "                     stepmode=\"backward\"),              \n",
    "\n",
    "                dict(step=\"all\")\n",
    "            ])\n",
    "        ),\n",
    "        rangeslider=dict(\n",
    "            visible=True\n",
    "        ),\n",
    "        type=\"date\"\n",
    "    )\n",
    ")\n",
    "\n",
    "fig.show()"
   ]
  },
  {
   "cell_type": "code",
   "execution_count": null,
   "metadata": {},
   "outputs": [],
   "source": [
    "lstm_mse_error_second_layer_100_drop_out = mean_squared_error(test3['cloud_cover'], test3['LSTM_second_layer_100_drop_out'], squared=True)\n",
    "compare_mse_model(lstm_mse_error_second_layer_unit100,lstm_mse_error_second_layer_100_drop_out)"
   ]
  },
  {
   "cell_type": "code",
   "execution_count": null,
   "metadata": {},
   "outputs": [],
   "source": [
    "mse_data.loc[len(mse_data)] = ['Lstm mse error adam second layer unit 100 drop out 0.1', lstm_mse_error_second_layer_100_drop_out]\n",
    "mse_data"
   ]
  },
  {
   "cell_type": "markdown",
   "metadata": {},
   "source": [
    "---"
   ]
  },
  {
   "attachments": {},
   "cell_type": "markdown",
   "metadata": {},
   "source": [
    "### Add frist layer: units = 100 ,second layer: unit = 100 and third layer: unit = 50"
   ]
  },
  {
   "cell_type": "code",
   "execution_count": null,
   "metadata": {},
   "outputs": [],
   "source": [
    "model_9 = Sequential()\n",
    "model_9.add(LSTM(units = 100, return_sequences = True, input_shape = (X_train.shape[1], 1)))\n",
    "model_9.add(LSTM(units = 100, return_sequences = True))\n",
    "model_9.add(LSTM(units = 50))\n",
    "model_9.add(Dense(units = 1))\n",
    "model_9.compile(optimizer = 'adam', loss = 'mean_squared_error', metrics=['accuracy'])\n",
    "hist_9= model_9.fit(X_train, y_train, validation_data=(X_test, y_test),  epochs = 10, batch_size = 32)"
   ]
  },
  {
   "cell_type": "code",
   "execution_count": null,
   "metadata": {},
   "outputs": [],
   "source": [
    "plot_curve(hist_9)"
   ]
  },
  {
   "cell_type": "code",
   "execution_count": null,
   "metadata": {},
   "outputs": [],
   "source": [
    "predict_scaled_9 = model_9.predict(X_test)\n",
    "predict_9 = sc.inverse_transform(predict_scaled_9)\n",
    "test3['LSTM_third_layer_50'] = predict_9\n",
    "test3"
   ]
  },
  {
   "cell_type": "code",
   "execution_count": null,
   "metadata": {},
   "outputs": [],
   "source": [
    "fig = go.Figure()\n",
    "fig.add_trace(go.Scatter(mode = 'lines', x = cloud_cover['DateTime'], y = cloud_cover['cloud_cover'], name = 'Actual'))\n",
    "fig.add_trace(go.Scatter(mode = 'lines', x = test3['DateTime'], y = test3['cloud_cover'], name = 'Actual Test'))\n",
    "fig.add_trace(go.Scatter(mode = 'lines', x = test3['DateTime'], y = test3['LSTM_third_layer_50'], name = 'predict'))\n",
    "fig.update_layout(\n",
    "    autosize=True,\n",
    "    height=600,\n",
    "    title=\"LSTM Model\",\n",
    "    xaxis_title=\"Date\",\n",
    "    yaxis_title=\"Cloud cover\",\n",
    ")\n",
    "\n",
    "\n",
    "fig.update_layout(\n",
    "    xaxis=dict(\n",
    "        rangeselector=dict(\n",
    "            buttons=list([\n",
    "                dict(count=1,\n",
    "                     label=\"1.zoom\",\n",
    "                     step=\"hour\",\n",
    "                     stepmode=\"backward\"),\n",
    "                 dict(count=2,\n",
    "                     label=\"2.zoom\",\n",
    "                     step=\"hour\",\n",
    "                     stepmode=\"backward\"),\n",
    "                dict(count=3,\n",
    "                     label=\"3.zoom\",\n",
    "                     step=\"day\",\n",
    "                     stepmode=\"backward\"),              \n",
    "\n",
    "                dict(step=\"all\")\n",
    "            ])\n",
    "        ),\n",
    "        rangeslider=dict(\n",
    "            visible=True\n",
    "        ),\n",
    "        type=\"date\"\n",
    "    )\n",
    ")\n",
    "\n",
    "fig.show()"
   ]
  },
  {
   "cell_type": "code",
   "execution_count": null,
   "metadata": {},
   "outputs": [],
   "source": [
    "lstm_mse_error_third_layer_50 = mean_squared_error(test3['cloud_cover'], test3['LSTM_third_layer_50'], squared=True)\n",
    "compare_mse_model(lstm_mse_error_second_layer_unit100,lstm_mse_error_third_layer_50)"
   ]
  },
  {
   "cell_type": "code",
   "execution_count": null,
   "metadata": {},
   "outputs": [],
   "source": [
    "mse_data.loc[len(mse_data)] = ['Lstm mse error adam third layer unit 50', lstm_mse_error_third_layer_50]"
   ]
  },
  {
   "cell_type": "markdown",
   "metadata": {},
   "source": [
    "---"
   ]
  },
  {
   "attachments": {},
   "cell_type": "markdown",
   "metadata": {},
   "source": [
    "### Add frist layer: units = 100 ,second layer: unit = 100 and third layer: unit = 100"
   ]
  },
  {
   "cell_type": "code",
   "execution_count": null,
   "metadata": {},
   "outputs": [],
   "source": [
    "model_10 = Sequential()\n",
    "model_10.add(LSTM(units = 100, return_sequences = True, input_shape = (X_train.shape[1], 1)))\n",
    "model_10.add(LSTM(units = 100, return_sequences = True))\n",
    "model_10.add(LSTM(units = 100))\n",
    "model_10.add(Dense(units = 1))\n",
    "model_10.compile(optimizer = 'adam', loss = 'mean_squared_error')\n",
    "hist_10= model_10.fit(X_train, y_train, validation_data=(X_test, y_test),  epochs = 10, batch_size = 32)"
   ]
  },
  {
   "cell_type": "code",
   "execution_count": null,
   "metadata": {},
   "outputs": [],
   "source": [
    "plot_curve(hist_10)"
   ]
  },
  {
   "cell_type": "code",
   "execution_count": null,
   "metadata": {},
   "outputs": [],
   "source": [
    "predict_scaled_10 = model_10.predict(X_test)\n",
    "predict_10 = sc.inverse_transform(predict_scaled_10)\n",
    "test3['LSTM_third_layer_100'] = predict_10\n",
    "test3"
   ]
  },
  {
   "cell_type": "code",
   "execution_count": null,
   "metadata": {},
   "outputs": [],
   "source": [
    "fig = go.Figure()\n",
    "fig.add_trace(go.Scatter(mode = 'lines', x = cloud_cover['DateTime'], y = cloud_cover['cloud_cover'], name = 'Actual'))\n",
    "fig.add_trace(go.Scatter(mode = 'lines', x = test3['DateTime'], y = test3['cloud_cover'], name = 'Actual Test'))\n",
    "fig.add_trace(go.Scatter(mode = 'lines', x = test3['DateTime'], y = test3['LSTM_third_layer_100'], name = 'predict'))\n",
    "fig.update_layout(\n",
    "    autosize=True,\n",
    "    height=600,\n",
    "    title=\"LSTM Model\",\n",
    "    xaxis_title=\"Date\",\n",
    "    yaxis_title=\"Cloud cover\",\n",
    ")\n",
    "\n",
    "\n",
    "fig.update_layout(\n",
    "    xaxis=dict(\n",
    "        rangeselector=dict(\n",
    "            buttons=list([\n",
    "                dict(count=1,\n",
    "                     label=\"1.zoom\",\n",
    "                     step=\"hour\",\n",
    "                     stepmode=\"backward\"),\n",
    "                 dict(count=2,\n",
    "                     label=\"2.zoom\",\n",
    "                     step=\"hour\",\n",
    "                     stepmode=\"backward\"),\n",
    "                dict(count=3,\n",
    "                     label=\"3.zoom\",\n",
    "                     step=\"day\",\n",
    "                     stepmode=\"backward\"),              \n",
    "\n",
    "                dict(step=\"all\")\n",
    "            ])\n",
    "        ),\n",
    "        rangeslider=dict(\n",
    "            visible=True\n",
    "        ),\n",
    "        type=\"date\"\n",
    "    )\n",
    ")\n",
    "\n",
    "fig.show()"
   ]
  },
  {
   "cell_type": "code",
   "execution_count": null,
   "metadata": {},
   "outputs": [],
   "source": [
    "lstm_mse_error_third_layer_100 = mean_squared_error(test3['cloud_cover'], test3['LSTM_third_layer_100'], squared=True)\n",
    "compare_mse_model(lstm_mse_error_second_layer_unit100,lstm_mse_error_third_layer_100)"
   ]
  },
  {
   "cell_type": "code",
   "execution_count": null,
   "metadata": {},
   "outputs": [],
   "source": [
    "mse_data.loc[len(mse_data)] = ['Lstm mse error adam third layer unit 100', lstm_mse_error_third_layer_100]"
   ]
  },
  {
   "cell_type": "markdown",
   "metadata": {},
   "source": [
    "---"
   ]
  },
  {
   "attachments": {},
   "cell_type": "markdown",
   "metadata": {},
   "source": [
    "### Add frist layer: units = 50 and change epochs from 10 to 30"
   ]
  },
  {
   "cell_type": "code",
   "execution_count": null,
   "metadata": {},
   "outputs": [],
   "source": [
    "model_5 = Sequential()\n",
    "model_5.add(LSTM(units = 100, return_sequences = True, input_shape = (X_train.shape[1], 1)))\n",
    "model_5.add(LSTM(units = 100))\n",
    "model_5.add(Dense(units = 1))\n",
    "model_5.compile(optimizer = 'adam', loss = 'mean_squared_error')\n",
    "hist_5 = model_5.fit(X_train, y_train, validation_data=(X_test, y_test), epochs = 30, batch_size = 32)"
   ]
  },
  {
   "cell_type": "code",
   "execution_count": null,
   "metadata": {},
   "outputs": [],
   "source": [
    "plot_curve(hist_5)"
   ]
  },
  {
   "cell_type": "code",
   "execution_count": null,
   "metadata": {},
   "outputs": [],
   "source": [
    "predict_scaled_5 = model_5.predict(X_test)\n",
    "predict_5 = sc.inverse_transform(predict_scaled_5)\n",
    "test3['LSTM_epoch30'] = predict_5\n",
    "test3"
   ]
  },
  {
   "cell_type": "code",
   "execution_count": null,
   "metadata": {},
   "outputs": [],
   "source": [
    "fig = go.Figure()\n",
    "fig.add_trace(go.Scatter(mode = 'lines', x = cloud_cover['DateTime'], y = cloud_cover['cloud_cover'], name = 'Actual'))\n",
    "fig.add_trace(go.Scatter(mode = 'lines', x = test3['DateTime'], y = test3['cloud_cover'], name = 'Actual Test'))\n",
    "fig.add_trace(go.Scatter(mode = 'lines', x = test3['DateTime'], y = test3['LSTM_epoch30'], name = 'predict'))\n",
    "fig.update_layout(\n",
    "    autosize=True,\n",
    "    height=600,\n",
    "    title=\"LSTM Model\",\n",
    "    xaxis_title=\"Date\",\n",
    "    yaxis_title=\"Cloud cover\",\n",
    ")\n",
    "\n",
    "\n",
    "fig.update_layout(\n",
    "    xaxis=dict(\n",
    "        rangeselector=dict(\n",
    "            buttons=list([\n",
    "                dict(count=1,\n",
    "                     label=\"1.zoom\",\n",
    "                     step=\"hour\",\n",
    "                     stepmode=\"backward\"),\n",
    "                 dict(count=2,\n",
    "                     label=\"2.zoom\",\n",
    "                     step=\"hour\",\n",
    "                     stepmode=\"backward\"),\n",
    "                dict(count=3,\n",
    "                     label=\"3.zoom\",\n",
    "                     step=\"day\",\n",
    "                     stepmode=\"backward\"),              \n",
    "\n",
    "                dict(step=\"all\")\n",
    "            ])\n",
    "        ),\n",
    "        rangeslider=dict(\n",
    "            visible=True\n",
    "        ),\n",
    "        type=\"date\"\n",
    "    )\n",
    ")\n",
    "\n",
    "fig.show()"
   ]
  },
  {
   "cell_type": "code",
   "execution_count": null,
   "metadata": {},
   "outputs": [],
   "source": [
    "lstm_mse_error_unit_50_epoch30 = mean_squared_error(test3['cloud_cover'], test3['LSTM_epoch30'], squared=True)\n",
    "compare_mse_model(lstm_mse_error_second_layer_unit100,lstm_mse_error_unit_50_epoch30)"
   ]
  },
  {
   "cell_type": "code",
   "execution_count": null,
   "metadata": {},
   "outputs": [],
   "source": [
    "mse_data.loc[len(mse_data)] = ['Lstm mse error epoch 30', lstm_mse_error_unit_50_epoch30]"
   ]
  },
  {
   "cell_type": "code",
   "execution_count": null,
   "metadata": {},
   "outputs": [],
   "source": [
    "mse_data"
   ]
  },
  {
   "cell_type": "code",
   "execution_count": null,
   "metadata": {},
   "outputs": [],
   "source": [
    "minimum_mse= mse_data.loc[mse_data['LSTM lag5'].idxmin()]\n",
    "minimum_mse"
   ]
  },
  {
   "cell_type": "code",
   "execution_count": null,
   "metadata": {},
   "outputs": [],
   "source": [
    "data_mse = pd.read_csv('data_lstm_mse.csv')\n",
    "data_mse"
   ]
  },
  {
   "cell_type": "code",
   "execution_count": null,
   "metadata": {},
   "outputs": [],
   "source": [
    "mse = pd.merge(data_mse,mse_data, on = 'Model', how='outer')\n",
    "mse"
   ]
  },
  {
   "cell_type": "code",
   "execution_count": null,
   "metadata": {},
   "outputs": [],
   "source": [
    "mse.dtypes"
   ]
  },
  {
   "cell_type": "code",
   "execution_count": null,
   "metadata": {},
   "outputs": [],
   "source": [
    "# mse[\"LSTM lag1\", \"LSTM lag5\"] = pd.to_numeric(mse[\"LSTM lag1\", \"LSTM lag5\"])\n",
    "minimum_mse1= mse[['LSTM lag1','LSTM lag5']].idxmin()\n",
    "minimum_mse1"
   ]
  },
  {
   "cell_type": "code",
   "execution_count": null,
   "metadata": {},
   "outputs": [],
   "source": [
    "minimum_mse1= mse.loc[mse[['LSTM lag1','LSTM lag5']].idxmin()]\n",
    "minimum_mse1"
   ]
  },
  {
   "cell_type": "code",
   "execution_count": null,
   "metadata": {},
   "outputs": [],
   "source": [
    "mse.to_csv('data_lstm_mse.csv')"
   ]
  },
  {
   "cell_type": "code",
   "execution_count": null,
   "metadata": {},
   "outputs": [],
   "source": [
    "model_8.save('model_lag5.h5')"
   ]
  }
 ],
 "metadata": {
  "kernelspec": {
   "display_name": "Python 3",
   "language": "python",
   "name": "python3"
  },
  "language_info": {
   "codemirror_mode": {
    "name": "ipython",
    "version": 3
   },
   "file_extension": ".py",
   "mimetype": "text/x-python",
   "name": "python",
   "nbconvert_exporter": "python",
   "pygments_lexer": "ipython3",
   "version": "3.10.7"
  },
  "orig_nbformat": 4,
  "vscode": {
   "interpreter": {
    "hash": "df95319d8ce4e1d89f5365ae10992bc1f65da593082b1d264e8f529830ec2f02"
   }
  }
 },
 "nbformat": 4,
 "nbformat_minor": 2
}
