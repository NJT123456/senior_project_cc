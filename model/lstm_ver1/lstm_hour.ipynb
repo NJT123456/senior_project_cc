{
 "cells": [
  {
   "cell_type": "code",
   "execution_count": 1,
   "metadata": {},
   "outputs": [],
   "source": [
    "import pandas as pd\n",
    "import numpy as np\n",
    "import matplotlib.pyplot as plt\n",
    "import seaborn as sns\n",
    "import plotly.graph_objects as go\n",
    "from keras.models import Sequential\n",
    "from keras.layers import Dense\n",
    "from keras.layers import LSTM\n",
    "from keras.layers import Dropout\n",
    "from sklearn.preprocessing import MinMaxScaler\n",
    "from sklearn.metrics import mean_squared_error, r2_score, mean_absolute_error"
   ]
  },
  {
   "cell_type": "code",
   "execution_count": 2,
   "metadata": {},
   "outputs": [],
   "source": [
    "def preparedata(file):\n",
    "    cloud_cover = pd.read_csv(file, skipinitialspace = True)\n",
    "    cloud_cover['Date'] = cloud_cover[['Year', 'Month', 'Day']].apply(lambda x: \"{0}-{1}-{2}\".format(str(x[0]).zfill(2), str(x[1]).zfill(2), str(x[2]).zfill(2)), axis=1) \n",
    "    cloud_cover['Time'] = cloud_cover[['Hour']].apply(lambda x: \"{}\".format(str(x[0]).zfill(2)), axis=1)\n",
    "    cloud_cover.drop([\"Year\", \"Month\", \"Day\", \"Hour\", \"Minute\", \"Second\"], axis=1, inplace=True)  \n",
    "    cloud_cover = cloud_cover.rename(columns={\"CloudCover\":\"cloud_cover\"})\n",
    "    cloud_cover = cloud_cover.groupby(['Date', 'Time']).agg(cloud_cover=('cloud_cover','mean')).reset_index()\n",
    "    cloud_cover['DateTime'] = cloud_cover[['Date', 'Time']].apply(lambda x: \"{} {}\".format(str(x[0]).zfill(2), str(x[1]).zfill(2)), axis=1)\n",
    "    cloud_cover.drop([\"Date\", \"Time\"], axis=1, inplace=True)        \n",
    "    cloud_cover['DateTime'] = pd.to_datetime(cloud_cover['DateTime'], format=\"%Y-%m-%d %H:%M\")\n",
    "    cloud_cover.dropna(inplace=True)\n",
    "    return cloud_cover"
   ]
  },
  {
   "cell_type": "code",
   "execution_count": 11,
   "metadata": {},
   "outputs": [],
   "source": [
    "def split_train_test(data, n_steps):\n",
    "\tX, y = [], []\n",
    "\tfor i in range(n_steps, len(data)):\n",
    "\t\tX.append(data[i-n_steps:i])\n",
    "\t\ty.append(data[i])\n",
    "\treturn np.array(X), np.array(y)"
   ]
  },
  {
   "cell_type": "code",
   "execution_count": 4,
   "metadata": {},
   "outputs": [],
   "source": [
    "def plot_curve(history):\n",
    "    print('Last train loss: %s'%history.history['loss'][-1])\n",
    "    print('Last validation loss: %s'%history.history['val_loss'][-1])\n",
    "    print('Last train accuracy: %s'%history.history['accuracy'][-1])\n",
    "    print('Last validation accuracy: %s'%history.history['val_accuracy'][-1])\n",
    "    # loss curves\n",
    "    fig1 = plt.figure(figsize=[8,6])\n",
    "    loss = history.history['loss']\n",
    "    val_loss = history.history['val_loss']\n",
    "\n",
    "    epochs = range(1, len(loss) + 1)\n",
    "\n",
    "    plt.plot(epochs, loss, 'orange', label='Training loss')\n",
    "    plt.plot(epochs, val_loss, 'b', label='Validation loss')\n",
    "    plt.title('Training and validation loss')\n",
    "    plt.xlabel('Epochs')\n",
    "    plt.ylabel('Loss')\n",
    "    plt.legend()\n",
    "\n",
    "    # Accuracy\n",
    "    fig = plt.figure(figsize=[8,6])\n",
    "    acc = history.history['accuracy']\n",
    "    val_acc = history.history['val_accuracy']\n",
    "\n",
    "    epochs = range(1, len(acc) + 1)\n",
    "\n",
    "    plt.plot(epochs, acc, 'orange', label='Training acc')\n",
    "    plt.plot(epochs, val_acc, 'b', label='Validation acc')\n",
    "    plt.title('Training and validation acc')\n",
    "    plt.xlabel('Epochs')\n",
    "    plt.ylabel('accuracy')\n",
    "    plt.legend()  "
   ]
  },
  {
   "cell_type": "code",
   "execution_count": 5,
   "metadata": {},
   "outputs": [],
   "source": [
    "def compare_mse_model(model,model_1):\n",
    "    mse_error = [model,model_1]\n",
    "    error = pd.DataFrame({\"Model\" : ['model','model_1'], \"MSE error\": mse_error})\n",
    "    return error"
   ]
  },
  {
   "cell_type": "code",
   "execution_count": 6,
   "metadata": {},
   "outputs": [],
   "source": [
    "def Xtrain_ytrain(train,test,spilt):\n",
    "    #scale train\n",
    "    sc = MinMaxScaler()\n",
    "    sc.fit(train)\n",
    "    train_set_scale = sc.transform(train)\n",
    "    # train\n",
    "    X_train, y_train = split_train_test(train_set_scale, spilt)\n",
    "    X_train = np.reshape(X_train, (X_train.shape[0], X_train.shape[1], 1))\n",
    "    print(\"X_train Shape :\", X_train.shape)\n",
    "    print(\"y_train Shape :\", y_train.shape)\n",
    "\n",
    "    #scale test\n",
    "    dataset_total = pd.concat((train['cloud_cover'], test['cloud_cover']), axis=0)\n",
    "    inputs = dataset_total[len(dataset_total) - len(test) - spilt:].values\n",
    "    inputs = inputs.reshape(-1,1)\n",
    "    inputs = sc.transform(inputs)\n",
    "    # test\n",
    "    X_test, y_test = split_train_test(inputs, spilt)\n",
    "    print(\"X_test Shape : \", X_test.shape)\n",
    "    print(\"y_test Shape : \", y_test.shape)\n",
    "    return X_train, y_train, X_test, y_test, sc"
   ]
  },
  {
   "cell_type": "code",
   "execution_count": 10,
   "metadata": {},
   "outputs": [
    {
     "data": {
      "text/plain": [
       "cloud_cover           float64\n",
       "DateTime       datetime64[ns]\n",
       "dtype: object"
      ]
     },
     "execution_count": 10,
     "metadata": {},
     "output_type": "execute_result"
    }
   ],
   "source": [
    "cloud_cover = preparedata('../succeed-prophet/Bangkhuntean_CloudCover_2021-16Nov-16Dec.csv')\n",
    "cloud_cover.dtypes"
   ]
  },
  {
   "cell_type": "code",
   "execution_count": null,
   "metadata": {},
   "outputs": [],
   "source": []
  },
  {
   "attachments": {},
   "cell_type": "markdown",
   "metadata": {},
   "source": [
    "# Train/test"
   ]
  },
  {
   "cell_type": "code",
   "execution_count": 8,
   "metadata": {},
   "outputs": [
    {
     "name": "stdout",
     "output_type": "stream",
     "text": [
      "X_train Shape : (255, 1, 1)\n",
      "y_train Shape : (255, 1)\n",
      "X_test Shape :  (256, 1, 1)\n",
      "y_test Shape :  (256, 1)\n"
     ]
    },
    {
     "name": "stderr",
     "output_type": "stream",
     "text": [
      "c:\\Users\\USER\\AppData\\Local\\Programs\\Python\\Python310\\lib\\site-packages\\sklearn\\base.py:450: UserWarning: X does not have valid feature names, but MinMaxScaler was fitted with feature names\n",
      "  warnings.warn(\n"
     ]
    }
   ],
   "source": [
    "train, test = cloud_cover,cloud_cover\n",
    "\n",
    "train = train.set_index('DateTime')\n",
    "test = test.set_index('DateTime')\n",
    "\n",
    "X_train, y_train, X_test, y_test , sc= Xtrain_ytrain(train,test,1)"
   ]
  },
  {
   "cell_type": "code",
   "execution_count": 9,
   "metadata": {},
   "outputs": [
    {
     "data": {
      "text/plain": [
       "cloud_cover    float64\n",
       "dtype: object"
      ]
     },
     "execution_count": 9,
     "metadata": {},
     "output_type": "execute_result"
    }
   ],
   "source": [
    "train.dtypes"
   ]
  },
  {
   "attachments": {},
   "cell_type": "markdown",
   "metadata": {},
   "source": [
    "## Add frist layer: units = 50 and change epochs from 30 to 50"
   ]
  },
  {
   "cell_type": "code",
   "execution_count": 55,
   "metadata": {},
   "outputs": [],
   "source": [
    "regressor_3 = Sequential()\n",
    "regressor_3.add(LSTM(units = 50, return_sequences = False, input_shape = (X_train.shape[1], 1)))\n",
    "regressor_3.add(Dense(units = 1))\n",
    "regressor_3.compile(optimizer = 'adam', loss = 'mean_squared_error', metrics=['accuracy'])"
   ]
  },
  {
   "cell_type": "code",
   "execution_count": 56,
   "metadata": {},
   "outputs": [
    {
     "name": "stdout",
     "output_type": "stream",
     "text": [
      "Epoch 1/50\n",
      "8/8 [==============================] - 4s 110ms/step - loss: 0.3129 - accuracy: 0.0039 - val_loss: 0.2924 - val_accuracy: 0.0039\n",
      "Epoch 2/50\n",
      "8/8 [==============================] - 0s 11ms/step - loss: 0.2727 - accuracy: 0.0039 - val_loss: 0.2541 - val_accuracy: 0.0039\n",
      "Epoch 3/50\n",
      "8/8 [==============================] - 0s 10ms/step - loss: 0.2366 - accuracy: 0.0039 - val_loss: 0.2187 - val_accuracy: 0.0039\n",
      "Epoch 4/50\n",
      "8/8 [==============================] - 0s 10ms/step - loss: 0.2023 - accuracy: 0.0039 - val_loss: 0.1869 - val_accuracy: 0.0039\n",
      "Epoch 5/50\n",
      "8/8 [==============================] - 0s 11ms/step - loss: 0.1719 - accuracy: 0.0039 - val_loss: 0.1582 - val_accuracy: 0.0039\n",
      "Epoch 6/50\n",
      "8/8 [==============================] - 0s 10ms/step - loss: 0.1454 - accuracy: 0.0039 - val_loss: 0.1326 - val_accuracy: 0.0039\n",
      "Epoch 7/50\n",
      "8/8 [==============================] - 0s 10ms/step - loss: 0.1206 - accuracy: 0.0039 - val_loss: 0.1116 - val_accuracy: 0.0039\n",
      "Epoch 8/50\n",
      "8/8 [==============================] - 0s 9ms/step - loss: 0.1013 - accuracy: 0.0039 - val_loss: 0.0941 - val_accuracy: 0.0039\n",
      "Epoch 9/50\n",
      "8/8 [==============================] - 0s 10ms/step - loss: 0.0859 - accuracy: 0.0078 - val_loss: 0.0804 - val_accuracy: 0.0078\n",
      "Epoch 10/50\n",
      "8/8 [==============================] - 0s 11ms/step - loss: 0.0744 - accuracy: 0.0078 - val_loss: 0.0705 - val_accuracy: 0.0078\n",
      "Epoch 11/50\n",
      "8/8 [==============================] - 0s 11ms/step - loss: 0.0662 - accuracy: 0.0078 - val_loss: 0.0640 - val_accuracy: 0.0078\n",
      "Epoch 12/50\n",
      "8/8 [==============================] - 0s 12ms/step - loss: 0.0606 - accuracy: 0.0078 - val_loss: 0.0602 - val_accuracy: 0.0078\n",
      "Epoch 13/50\n",
      "8/8 [==============================] - 0s 12ms/step - loss: 0.0576 - accuracy: 0.0078 - val_loss: 0.0579 - val_accuracy: 0.0078\n",
      "Epoch 14/50\n",
      "8/8 [==============================] - 0s 12ms/step - loss: 0.0556 - accuracy: 0.0078 - val_loss: 0.0564 - val_accuracy: 0.0078\n",
      "Epoch 15/50\n",
      "8/8 [==============================] - 0s 11ms/step - loss: 0.0545 - accuracy: 0.0078 - val_loss: 0.0553 - val_accuracy: 0.0078\n",
      "Epoch 16/50\n",
      "8/8 [==============================] - 0s 10ms/step - loss: 0.0534 - accuracy: 0.0078 - val_loss: 0.0543 - val_accuracy: 0.0078\n",
      "Epoch 17/50\n",
      "8/8 [==============================] - 0s 10ms/step - loss: 0.0524 - accuracy: 0.0078 - val_loss: 0.0533 - val_accuracy: 0.0078\n",
      "Epoch 18/50\n",
      "8/8 [==============================] - 0s 10ms/step - loss: 0.0515 - accuracy: 0.0078 - val_loss: 0.0523 - val_accuracy: 0.0078\n",
      "Epoch 19/50\n",
      "8/8 [==============================] - 0s 9ms/step - loss: 0.0504 - accuracy: 0.0078 - val_loss: 0.0514 - val_accuracy: 0.0078\n",
      "Epoch 20/50\n",
      "8/8 [==============================] - 0s 9ms/step - loss: 0.0496 - accuracy: 0.0078 - val_loss: 0.0505 - val_accuracy: 0.0078\n",
      "Epoch 21/50\n",
      "8/8 [==============================] - 0s 9ms/step - loss: 0.0486 - accuracy: 0.0078 - val_loss: 0.0497 - val_accuracy: 0.0078\n",
      "Epoch 22/50\n",
      "8/8 [==============================] - 0s 8ms/step - loss: 0.0477 - accuracy: 0.0078 - val_loss: 0.0489 - val_accuracy: 0.0078\n",
      "Epoch 23/50\n",
      "8/8 [==============================] - 0s 11ms/step - loss: 0.0469 - accuracy: 0.0078 - val_loss: 0.0480 - val_accuracy: 0.0078\n",
      "Epoch 24/50\n",
      "8/8 [==============================] - 0s 10ms/step - loss: 0.0461 - accuracy: 0.0078 - val_loss: 0.0473 - val_accuracy: 0.0078\n",
      "Epoch 25/50\n",
      "8/8 [==============================] - 0s 11ms/step - loss: 0.0453 - accuracy: 0.0078 - val_loss: 0.0465 - val_accuracy: 0.0078\n",
      "Epoch 26/50\n",
      "8/8 [==============================] - 0s 9ms/step - loss: 0.0445 - accuracy: 0.0078 - val_loss: 0.0458 - val_accuracy: 0.0078\n",
      "Epoch 27/50\n",
      "8/8 [==============================] - 0s 11ms/step - loss: 0.0438 - accuracy: 0.0078 - val_loss: 0.0452 - val_accuracy: 0.0078\n",
      "Epoch 28/50\n",
      "8/8 [==============================] - 0s 11ms/step - loss: 0.0432 - accuracy: 0.0078 - val_loss: 0.0445 - val_accuracy: 0.0078\n",
      "Epoch 29/50\n",
      "8/8 [==============================] - 0s 9ms/step - loss: 0.0425 - accuracy: 0.0078 - val_loss: 0.0439 - val_accuracy: 0.0078\n",
      "Epoch 30/50\n",
      "8/8 [==============================] - 0s 9ms/step - loss: 0.0419 - accuracy: 0.0078 - val_loss: 0.0434 - val_accuracy: 0.0078\n",
      "Epoch 31/50\n",
      "8/8 [==============================] - 0s 11ms/step - loss: 0.0413 - accuracy: 0.0078 - val_loss: 0.0429 - val_accuracy: 0.0078\n",
      "Epoch 32/50\n",
      "8/8 [==============================] - 0s 10ms/step - loss: 0.0408 - accuracy: 0.0078 - val_loss: 0.0424 - val_accuracy: 0.0078\n",
      "Epoch 33/50\n",
      "8/8 [==============================] - 0s 10ms/step - loss: 0.0404 - accuracy: 0.0078 - val_loss: 0.0420 - val_accuracy: 0.0078\n",
      "Epoch 34/50\n",
      "8/8 [==============================] - 0s 11ms/step - loss: 0.0399 - accuracy: 0.0078 - val_loss: 0.0416 - val_accuracy: 0.0078\n",
      "Epoch 35/50\n",
      "8/8 [==============================] - 0s 11ms/step - loss: 0.0395 - accuracy: 0.0078 - val_loss: 0.0412 - val_accuracy: 0.0078\n",
      "Epoch 36/50\n",
      "8/8 [==============================] - 0s 9ms/step - loss: 0.0391 - accuracy: 0.0078 - val_loss: 0.0408 - val_accuracy: 0.0078\n",
      "Epoch 37/50\n",
      "8/8 [==============================] - 0s 9ms/step - loss: 0.0387 - accuracy: 0.0078 - val_loss: 0.0405 - val_accuracy: 0.0078\n",
      "Epoch 38/50\n",
      "8/8 [==============================] - 0s 11ms/step - loss: 0.0384 - accuracy: 0.0078 - val_loss: 0.0402 - val_accuracy: 0.0078\n",
      "Epoch 39/50\n",
      "8/8 [==============================] - 0s 10ms/step - loss: 0.0381 - accuracy: 0.0078 - val_loss: 0.0400 - val_accuracy: 0.0078\n",
      "Epoch 40/50\n",
      "8/8 [==============================] - 0s 9ms/step - loss: 0.0378 - accuracy: 0.0078 - val_loss: 0.0398 - val_accuracy: 0.0078\n",
      "Epoch 41/50\n",
      "8/8 [==============================] - 0s 9ms/step - loss: 0.0376 - accuracy: 0.0078 - val_loss: 0.0396 - val_accuracy: 0.0078\n",
      "Epoch 42/50\n",
      "8/8 [==============================] - 0s 11ms/step - loss: 0.0375 - accuracy: 0.0078 - val_loss: 0.0394 - val_accuracy: 0.0078\n",
      "Epoch 43/50\n",
      "8/8 [==============================] - 0s 10ms/step - loss: 0.0373 - accuracy: 0.0078 - val_loss: 0.0393 - val_accuracy: 0.0078\n",
      "Epoch 44/50\n",
      "8/8 [==============================] - 0s 9ms/step - loss: 0.0371 - accuracy: 0.0078 - val_loss: 0.0391 - val_accuracy: 0.0078\n",
      "Epoch 45/50\n",
      "8/8 [==============================] - 0s 8ms/step - loss: 0.0369 - accuracy: 0.0078 - val_loss: 0.0390 - val_accuracy: 0.0078\n",
      "Epoch 46/50\n",
      "8/8 [==============================] - 0s 8ms/step - loss: 0.0368 - accuracy: 0.0078 - val_loss: 0.0389 - val_accuracy: 0.0078\n",
      "Epoch 47/50\n",
      "8/8 [==============================] - 0s 8ms/step - loss: 0.0367 - accuracy: 0.0078 - val_loss: 0.0389 - val_accuracy: 0.0078\n",
      "Epoch 48/50\n",
      "8/8 [==============================] - 0s 9ms/step - loss: 0.0366 - accuracy: 0.0078 - val_loss: 0.0388 - val_accuracy: 0.0078\n",
      "Epoch 49/50\n",
      "8/8 [==============================] - 0s 8ms/step - loss: 0.0365 - accuracy: 0.0078 - val_loss: 0.0387 - val_accuracy: 0.0078\n",
      "Epoch 50/50\n",
      "8/8 [==============================] - 0s 9ms/step - loss: 0.0365 - accuracy: 0.0078 - val_loss: 0.0387 - val_accuracy: 0.0078\n"
     ]
    }
   ],
   "source": [
    "hist_3 = regressor_3.fit(X_train, y_train, validation_data=(X_test, y_test), epochs = 50, batch_size = 32)"
   ]
  },
  {
   "cell_type": "code",
   "execution_count": 57,
   "metadata": {},
   "outputs": [
    {
     "name": "stdout",
     "output_type": "stream",
     "text": [
      "Last train loss: 0.036459505558013916\n",
      "Last validation loss: 0.03867320343852043\n",
      "Last train accuracy: 0.007843137718737125\n",
      "Last validation accuracy: 0.0078125\n"
     ]
    },
    {
     "data": {
      "image/png": "[encoded data removed]",
      "text/plain": [
       "<Figure size 800x600 with 1 Axes>"
      ]
     },
     "metadata": {},
     "output_type": "display_data"
    },
    {
     "data": {
      "image/png": "[encoded data removed]",
      "text/plain": [
       "<Figure size 800x600 with 1 Axes>"
      ]
     },
     "metadata": {},
     "output_type": "display_data"
    }
   ],
   "source": [
    "plot_curve(hist_3)"
   ]
  },
  {
   "cell_type": "code",
   "execution_count": 58,
   "metadata": {},
   "outputs": [
    {
     "name": "stdout",
     "output_type": "stream",
     "text": [
      "8/8 [==============================] - 1s 2ms/step\n"
     ]
    },
    {
     "data": {
      "text/plain": [
       "array([[0.2238768 ],\n",
       "       [0.89407563],\n",
       "       [0.8785231 ],\n",
       "       [0.8676104 ],\n",
       "       [0.8228069 ],\n",
       "       [0.5904908 ],\n",
       "       [0.26735717],\n",
       "       [0.23682523],\n",
       "       [0.21695517],\n",
       "       [0.40034074],\n",
       "       [0.57873476],\n",
       "       [0.53951085],\n",
       "       [0.5594867 ],\n",
       "       [0.43346906],\n",
       "       [0.29555592],\n",
       "       [0.21738583],\n",
       "       [0.8567811 ],\n",
       "       [0.8323643 ],\n",
       "       [0.7843579 ],\n",
       "       [0.7556255 ],\n",
       "       [0.83928   ],\n",
       "       [0.85721076],\n",
       "       [0.7755851 ],\n",
       "       [0.6139267 ],\n",
       "       [0.85846525],\n",
       "       [0.7694195 ],\n",
       "       [0.51531243],\n",
       "       [0.45010915],\n",
       "       [0.64214563],\n",
       "       [0.6962167 ],\n",
       "       [0.6397055 ],\n",
       "       [0.4635236 ],\n",
       "       [0.30042797],\n",
       "       [0.16054423],\n",
       "       [0.15824507],\n",
       "       [0.27429923],\n",
       "       [0.48051575],\n",
       "       [0.674446  ],\n",
       "       [0.6902211 ],\n",
       "       [0.69562006],\n",
       "       [0.45665094],\n",
       "       [0.40004602],\n",
       "       [0.2553909 ],\n",
       "       [0.67117107],\n",
       "       [0.5537451 ],\n",
       "       [0.37094668],\n",
       "       [0.38720667],\n",
       "       [0.4894943 ],\n",
       "       [0.5442341 ],\n",
       "       [0.36924976],\n",
       "       [0.3470686 ],\n",
       "       [0.27359885],\n",
       "       [0.25925052],\n",
       "       [0.31137612],\n",
       "       [0.6236097 ],\n",
       "       [0.6854093 ],\n",
       "       [0.3959533 ],\n",
       "       [0.44875774],\n",
       "       [0.47499096],\n",
       "       [0.48662254],\n",
       "       [0.69972384],\n",
       "       [0.8559527 ],\n",
       "       [0.8671314 ],\n",
       "       [0.8845098 ],\n",
       "       [0.89603287],\n",
       "       [0.8372657 ],\n",
       "       [0.8475031 ],\n",
       "       [0.8579951 ],\n",
       "       [0.8587339 ],\n",
       "       [0.85728514],\n",
       "       [0.8512629 ],\n",
       "       [0.85825586],\n",
       "       [0.87954444],\n",
       "       [0.87660545],\n",
       "       [0.88008296],\n",
       "       [0.6004038 ],\n",
       "       [0.30236235],\n",
       "       [0.2287975 ],\n",
       "       [0.21219032],\n",
       "       [0.17565322],\n",
       "       [0.25643113],\n",
       "       [0.69068336],\n",
       "       [0.75302476],\n",
       "       [0.41331035],\n",
       "       [0.3843107 ],\n",
       "       [0.3034103 ],\n",
       "       [0.27417552],\n",
       "       [0.2818615 ],\n",
       "       [0.21691799],\n",
       "       [0.27053344],\n",
       "       [0.66544455],\n",
       "       [0.7949075 ],\n",
       "       [0.84945494],\n",
       "       [0.85469294],\n",
       "       [0.85062647],\n",
       "       [0.5774634 ],\n",
       "       [0.2878667 ],\n",
       "       [0.20020334],\n",
       "       [0.19737594],\n",
       "       [0.33680987],\n",
       "       [0.32509026],\n",
       "       [0.3587212 ],\n",
       "       [0.3899443 ],\n",
       "       [0.43737707],\n",
       "       [0.3876391 ],\n",
       "       [0.30946165],\n",
       "       [0.15406305],\n",
       "       [0.14926302],\n",
       "       [0.20044297],\n",
       "       [0.25074655],\n",
       "       [0.2426693 ],\n",
       "       [0.25159138],\n",
       "       [0.18988511],\n",
       "       [0.15254281],\n",
       "       [0.14302115],\n",
       "       [0.82036525],\n",
       "       [0.88722044],\n",
       "       [0.59825104],\n",
       "       [0.4742245 ],\n",
       "       [0.59031624],\n",
       "       [0.6132282 ],\n",
       "       [0.5303214 ],\n",
       "       [0.7327733 ],\n",
       "       [0.85712576],\n",
       "       [0.89639795],\n",
       "       [0.8973473 ],\n",
       "       [0.901205  ],\n",
       "       [0.9011758 ],\n",
       "       [0.89972883],\n",
       "       [0.9012489 ],\n",
       "       [0.8847575 ],\n",
       "       [0.8893783 ],\n",
       "       [0.8638664 ],\n",
       "       [0.88910127],\n",
       "       [0.8958576 ],\n",
       "       [0.90126354],\n",
       "       [0.9011758 ],\n",
       "       [0.9009565 ],\n",
       "       [0.9016875 ],\n",
       "       [0.89984566],\n",
       "       [0.8975956 ],\n",
       "       [0.8892325 ],\n",
       "       [0.890866  ],\n",
       "       [0.883432  ],\n",
       "       [0.9014096 ],\n",
       "       [0.901629  ],\n",
       "       [0.8342956 ],\n",
       "       [0.75114465],\n",
       "       [0.5111454 ],\n",
       "       [0.42799976],\n",
       "       [0.78143066],\n",
       "       [0.60078293],\n",
       "       [0.55716246],\n",
       "       [0.4485093 ],\n",
       "       [0.55510646],\n",
       "       [0.56133205],\n",
       "       [0.47707862],\n",
       "       [0.37693265],\n",
       "       [0.4078483 ],\n",
       "       [0.38504857],\n",
       "       [0.17212509],\n",
       "       [0.18005688],\n",
       "       [0.26175871],\n",
       "       [0.2923555 ],\n",
       "       [0.31361666],\n",
       "       [0.32364205],\n",
       "       [0.2891704 ],\n",
       "       [0.243604  ],\n",
       "       [0.1859199 ],\n",
       "       [0.85428965],\n",
       "       [0.14171788],\n",
       "       [0.14026703],\n",
       "       [0.16351593],\n",
       "       [0.20366398],\n",
       "       [0.2303169 ],\n",
       "       [0.268934  ],\n",
       "       [0.24976134],\n",
       "       [0.21044505],\n",
       "       [0.16758545],\n",
       "       [0.17162007],\n",
       "       [0.14890887],\n",
       "       [0.14730501],\n",
       "       [0.1469402 ],\n",
       "       [0.16866474],\n",
       "       [0.17740719],\n",
       "       [0.17838673],\n",
       "       [0.17730747],\n",
       "       [0.17825349],\n",
       "       [0.2578086 ],\n",
       "       [0.18102701],\n",
       "       [0.19596149],\n",
       "       [0.18879835],\n",
       "       [0.20184441],\n",
       "       [0.22623394],\n",
       "       [0.23054822],\n",
       "       [0.24483153],\n",
       "       [0.37773052],\n",
       "       [0.17736378],\n",
       "       [0.14742662],\n",
       "       [0.1523099 ],\n",
       "       [0.21505988],\n",
       "       [0.59606117],\n",
       "       [0.656691  ],\n",
       "       [0.49795994],\n",
       "       [0.5560873 ],\n",
       "       [0.33051482],\n",
       "       [0.7834387 ],\n",
       "       [0.6221471 ],\n",
       "       [0.8036295 ],\n",
       "       [0.4898181 ],\n",
       "       [0.46096647],\n",
       "       [0.41420943],\n",
       "       [0.29578653],\n",
       "       [0.27949065],\n",
       "       [0.5366406 ],\n",
       "       [0.77019787],\n",
       "       [0.6131738 ],\n",
       "       [0.78251296],\n",
       "       [0.6074636 ],\n",
       "       [0.57712495],\n",
       "       [0.5256281 ],\n",
       "       [0.5113425 ],\n",
       "       [0.5439572 ],\n",
       "       [0.6821119 ],\n",
       "       [0.8678137 ],\n",
       "       [0.8292681 ],\n",
       "       [0.71755266],\n",
       "       [0.4516036 ],\n",
       "       [0.4247883 ],\n",
       "       [0.38264304],\n",
       "       [0.2648953 ],\n",
       "       [0.20724891],\n",
       "       [0.2085983 ],\n",
       "       [0.22161195],\n",
       "       [0.16673493],\n",
       "       [0.18814172],\n",
       "       [0.16552708],\n",
       "       [0.17758897],\n",
       "       [0.5127862 ],\n",
       "       [0.48142472],\n",
       "       [0.5409852 ],\n",
       "       [0.39899892],\n",
       "       [0.18416677],\n",
       "       [0.14675233],\n",
       "       [0.16210799],\n",
       "       [0.16850357],\n",
       "       [0.17453107],\n",
       "       [0.16308434],\n",
       "       [0.18405537],\n",
       "       [0.1729087 ],\n",
       "       [0.28999594],\n",
       "       [0.23537828],\n",
       "       [0.470441  ],\n",
       "       [0.23067662],\n",
       "       [0.23499902],\n",
       "       [0.24432875]], dtype=float32)"
      ]
     },
     "execution_count": 58,
     "metadata": {},
     "output_type": "execute_result"
    }
   ],
   "source": [
    "predict_scaled_3 = regressor_3.predict(X_test)\n",
    "predict_3 = sc.inverse_transform(predict_scaled_3)\n",
    "predict_3"
   ]
  },
  {
   "cell_type": "code",
   "execution_count": 59,
   "metadata": {},
   "outputs": [
    {
     "data": {
      "text/html": [
       "<div>\n",
       "<style scoped>\n",
       "    .dataframe tbody tr th:only-of-type {\n",
       "        vertical-align: middle;\n",
       "    }\n",
       "\n",
       "    .dataframe tbody tr th {\n",
       "        vertical-align: top;\n",
       "    }\n",
       "\n",
       "    .dataframe thead th {\n",
       "        text-align: right;\n",
       "    }\n",
       "</style>\n",
       "<table border=\"1\" class=\"dataframe\">\n",
       "  <thead>\n",
       "    <tr style=\"text-align: right;\">\n",
       "      <th></th>\n",
       "      <th>cloud_cover</th>\n",
       "      <th>LSTM</th>\n",
       "    </tr>\n",
       "    <tr>\n",
       "      <th>DateTime</th>\n",
       "      <th></th>\n",
       "      <th></th>\n",
       "    </tr>\n",
       "  </thead>\n",
       "  <tbody>\n",
       "    <tr>\n",
       "      <th>2021-11-16 11:00:00</th>\n",
       "      <td>0.990899</td>\n",
       "      <td>0.223877</td>\n",
       "    </tr>\n",
       "    <tr>\n",
       "      <th>2021-11-16 12:00:00</th>\n",
       "      <td>0.973114</td>\n",
       "      <td>0.894076</td>\n",
       "    </tr>\n",
       "    <tr>\n",
       "      <th>2021-11-16 13:00:00</th>\n",
       "      <td>0.960600</td>\n",
       "      <td>0.878523</td>\n",
       "    </tr>\n",
       "    <tr>\n",
       "      <th>2021-11-16 14:00:00</th>\n",
       "      <td>0.908915</td>\n",
       "      <td>0.867610</td>\n",
       "    </tr>\n",
       "    <tr>\n",
       "      <th>2021-11-16 15:00:00</th>\n",
       "      <td>0.631449</td>\n",
       "      <td>0.822807</td>\n",
       "    </tr>\n",
       "    <tr>\n",
       "      <th>...</th>\n",
       "      <td>...</td>\n",
       "      <td>...</td>\n",
       "    </tr>\n",
       "    <tr>\n",
       "      <th>2021-12-16 10:00:00</th>\n",
       "      <td>0.480200</td>\n",
       "      <td>0.235378</td>\n",
       "    </tr>\n",
       "    <tr>\n",
       "      <th>2021-12-16 11:00:00</th>\n",
       "      <td>0.155117</td>\n",
       "      <td>0.470441</td>\n",
       "    </tr>\n",
       "    <tr>\n",
       "      <th>2021-12-16 12:00:00</th>\n",
       "      <td>0.161317</td>\n",
       "      <td>0.230677</td>\n",
       "    </tr>\n",
       "    <tr>\n",
       "      <th>2021-12-16 13:00:00</th>\n",
       "      <td>0.174650</td>\n",
       "      <td>0.234999</td>\n",
       "    </tr>\n",
       "    <tr>\n",
       "      <th>2021-12-16 14:00:00</th>\n",
       "      <td>0.145333</td>\n",
       "      <td>0.244329</td>\n",
       "    </tr>\n",
       "  </tbody>\n",
       "</table>\n",
       "<p>256 rows × 2 columns</p>\n",
       "</div>"
      ],
      "text/plain": [
       "                     cloud_cover      LSTM\n",
       "DateTime                                  \n",
       "2021-11-16 11:00:00     0.990899  0.223877\n",
       "2021-11-16 12:00:00     0.973114  0.894076\n",
       "2021-11-16 13:00:00     0.960600  0.878523\n",
       "2021-11-16 14:00:00     0.908915  0.867610\n",
       "2021-11-16 15:00:00     0.631449  0.822807\n",
       "...                          ...       ...\n",
       "2021-12-16 10:00:00     0.480200  0.235378\n",
       "2021-12-16 11:00:00     0.155117  0.470441\n",
       "2021-12-16 12:00:00     0.161317  0.230677\n",
       "2021-12-16 13:00:00     0.174650  0.234999\n",
       "2021-12-16 14:00:00     0.145333  0.244329\n",
       "\n",
       "[256 rows x 2 columns]"
      ]
     },
     "execution_count": 59,
     "metadata": {},
     "output_type": "execute_result"
    }
   ],
   "source": [
    "test['LSTM'] = predict_3\n",
    "test"
   ]
  },
  {
   "cell_type": "code",
   "execution_count": 60,
   "metadata": {},
   "outputs": [],
   "source": [
    "train1 = train.copy()\n",
    "test1 = test.copy()\n",
    "train1.reset_index(inplace=True)\n",
    "test1.reset_index(inplace=True)"
   ]
  },
  {
   "cell_type": "code",
   "execution_count": 61,
   "metadata": {},
   "outputs": [
    {
     "data": {
      "text/html": [
       "<div>\n",
       "<style scoped>\n",
       "    .dataframe tbody tr th:only-of-type {\n",
       "        vertical-align: middle;\n",
       "    }\n",
       "\n",
       "    .dataframe tbody tr th {\n",
       "        vertical-align: top;\n",
       "    }\n",
       "\n",
       "    .dataframe thead th {\n",
       "        text-align: right;\n",
       "    }\n",
       "</style>\n",
       "<table border=\"1\" class=\"dataframe\">\n",
       "  <thead>\n",
       "    <tr style=\"text-align: right;\">\n",
       "      <th></th>\n",
       "      <th>cloud_cover</th>\n",
       "    </tr>\n",
       "    <tr>\n",
       "      <th>DateTime</th>\n",
       "      <th></th>\n",
       "    </tr>\n",
       "  </thead>\n",
       "  <tbody>\n",
       "    <tr>\n",
       "      <th>2021-11-16 11:00:00</th>\n",
       "      <td>0.990899</td>\n",
       "    </tr>\n",
       "    <tr>\n",
       "      <th>2021-11-16 12:00:00</th>\n",
       "      <td>0.973114</td>\n",
       "    </tr>\n",
       "    <tr>\n",
       "      <th>2021-11-16 13:00:00</th>\n",
       "      <td>0.960600</td>\n",
       "    </tr>\n",
       "    <tr>\n",
       "      <th>2021-11-16 14:00:00</th>\n",
       "      <td>0.908915</td>\n",
       "    </tr>\n",
       "    <tr>\n",
       "      <th>2021-11-16 15:00:00</th>\n",
       "      <td>0.631449</td>\n",
       "    </tr>\n",
       "    <tr>\n",
       "      <th>...</th>\n",
       "      <td>...</td>\n",
       "    </tr>\n",
       "    <tr>\n",
       "      <th>2021-12-16 10:00:00</th>\n",
       "      <td>0.480200</td>\n",
       "    </tr>\n",
       "    <tr>\n",
       "      <th>2021-12-16 11:00:00</th>\n",
       "      <td>0.155117</td>\n",
       "    </tr>\n",
       "    <tr>\n",
       "      <th>2021-12-16 12:00:00</th>\n",
       "      <td>0.161317</td>\n",
       "    </tr>\n",
       "    <tr>\n",
       "      <th>2021-12-16 13:00:00</th>\n",
       "      <td>0.174650</td>\n",
       "    </tr>\n",
       "    <tr>\n",
       "      <th>2021-12-16 14:00:00</th>\n",
       "      <td>0.145333</td>\n",
       "    </tr>\n",
       "  </tbody>\n",
       "</table>\n",
       "<p>256 rows × 1 columns</p>\n",
       "</div>"
      ],
      "text/plain": [
       "                     cloud_cover\n",
       "DateTime                        \n",
       "2021-11-16 11:00:00     0.990899\n",
       "2021-11-16 12:00:00     0.973114\n",
       "2021-11-16 13:00:00     0.960600\n",
       "2021-11-16 14:00:00     0.908915\n",
       "2021-11-16 15:00:00     0.631449\n",
       "...                          ...\n",
       "2021-12-16 10:00:00     0.480200\n",
       "2021-12-16 11:00:00     0.155117\n",
       "2021-12-16 12:00:00     0.161317\n",
       "2021-12-16 13:00:00     0.174650\n",
       "2021-12-16 14:00:00     0.145333\n",
       "\n",
       "[256 rows x 1 columns]"
      ]
     },
     "execution_count": 61,
     "metadata": {},
     "output_type": "execute_result"
    }
   ],
   "source": [
    "train"
   ]
  },
  {
   "cell_type": "code",
   "execution_count": 62,
   "metadata": {},
   "outputs": [
    {
     "data": {
      "application/vnd.plotly.v1+json": {
       "config": {
        "plotlyServerURL": "https://plot.ly"
       },
       "data": [
        {
         "mode": "lines",
         "name": "Train",
         "type": "scatter",
         "x": [
          "2021-11-16T11:00:00",
          "2021-11-16T12:00:00",
          "2021-11-16T13:00:00",
          "2021-11-16T14:00:00",
          "2021-11-16T15:00:00",
          "2021-11-16T16:00:00",
          "2021-11-17T08:00:00",
          "2021-11-17T09:00:00",
          "2021-11-17T10:00:00",
          "2021-11-17T11:00:00",
          "2021-11-17T12:00:00",
          "2021-11-17T13:00:00",
          "2021-11-17T14:00:00",
          "2021-11-17T15:00:00",
          "2021-11-17T16:00:00",
          "2021-11-18T08:00:00",
          "2021-11-18T09:00:00",
          "2021-11-18T10:00:00",
          "2021-11-18T11:00:00",
          "2021-11-18T12:00:00",
          "2021-11-18T13:00:00",
          "2021-11-18T14:00:00",
          "2021-11-18T15:00:00",
          "2021-11-18T16:00:00",
          "2021-11-19T08:00:00",
          "2021-11-19T09:00:00",
          "2021-11-19T10:00:00",
          "2021-11-19T11:00:00",
          "2021-11-19T12:00:00",
          "2021-11-19T13:00:00",
          "2021-11-19T14:00:00",
          "2021-11-19T15:00:00",
          "2021-11-19T16:00:00",
          "2021-11-20T08:00:00",
          "2021-11-20T09:00:00",
          "2021-11-20T10:00:00",
          "2021-11-20T11:00:00",
          "2021-11-20T12:00:00",
          "2021-11-20T13:00:00",
          "2021-11-20T14:00:00",
          "2021-11-20T15:00:00",
          "2021-11-20T16:00:00",
          "2021-11-21T08:00:00",
          "2021-11-21T09:00:00",
          "2021-11-21T10:00:00",
          "2021-11-21T11:00:00",
          "2021-11-21T12:00:00",
          "2021-11-21T13:00:00",
          "2021-11-21T14:00:00",
          "2021-11-21T15:00:00",
          "2021-11-21T16:00:00",
          "2021-11-22T08:00:00",
          "2021-11-22T09:00:00",
          "2021-11-22T10:00:00",
          "2021-11-22T11:00:00",
          "2021-11-22T12:00:00",
          "2021-11-22T13:00:00",
          "2021-11-22T14:00:00",
          "2021-11-22T15:00:00",
          "2021-11-22T16:00:00",
          "2021-11-23T08:00:00",
          "2021-11-23T09:00:00",
          "2021-11-23T10:00:00",
          "2021-11-23T11:00:00",
          "2021-11-23T12:00:00",
          "2021-11-23T13:00:00",
          "2021-11-23T14:00:00",
          "2021-11-23T15:00:00",
          "2021-11-23T16:00:00",
          "2021-11-24T08:00:00",
          "2021-11-24T09:00:00",
          "2021-11-24T10:00:00",
          "2021-11-24T11:00:00",
          "2021-11-24T12:00:00",
          "2021-11-24T13:00:00",
          "2021-11-24T14:00:00",
          "2021-11-24T15:00:00",
          "2021-11-24T16:00:00",
          "2021-11-25T08:00:00",
          "2021-11-25T09:00:00",
          "2021-11-25T10:00:00",
          "2021-11-25T11:00:00",
          "2021-11-25T12:00:00",
          "2021-11-25T13:00:00",
          "2021-11-25T14:00:00",
          "2021-11-25T15:00:00",
          "2021-11-25T16:00:00",
          "2021-11-26T08:00:00",
          "2021-11-26T09:00:00",
          "2021-11-26T10:00:00",
          "2021-11-26T11:00:00",
          "2021-11-26T12:00:00",
          "2021-11-26T13:00:00",
          "2021-11-26T14:00:00",
          "2021-11-26T15:00:00",
          "2021-11-26T16:00:00",
          "2021-11-27T08:00:00",
          "2021-11-27T09:00:00",
          "2021-11-27T10:00:00",
          "2021-11-27T11:00:00",
          "2021-11-27T12:00:00",
          "2021-11-27T13:00:00",
          "2021-11-27T14:00:00",
          "2021-11-27T15:00:00",
          "2021-11-27T16:00:00",
          "2021-11-28T08:00:00",
          "2021-11-28T09:00:00",
          "2021-11-28T10:00:00",
          "2021-11-28T11:00:00",
          "2021-11-28T12:00:00",
          "2021-11-28T13:00:00",
          "2021-11-28T14:00:00",
          "2021-11-28T15:00:00",
          "2021-11-28T16:00:00",
          "2021-11-29T08:00:00",
          "2021-11-29T09:00:00",
          "2021-11-29T10:00:00",
          "2021-11-29T11:00:00",
          "2021-11-29T12:00:00",
          "2021-11-29T13:00:00",
          "2021-11-29T14:00:00",
          "2021-11-29T15:00:00",
          "2021-11-29T16:00:00",
          "2021-11-30T08:00:00",
          "2021-11-30T09:00:00",
          "2021-11-30T10:00:00",
          "2021-11-30T11:00:00",
          "2021-11-30T12:00:00",
          "2021-11-30T13:00:00",
          "2021-11-30T14:00:00",
          "2021-11-30T15:00:00",
          "2021-11-30T16:00:00",
          "2021-12-01T08:00:00",
          "2021-12-01T09:00:00",
          "2021-12-01T10:00:00",
          "2021-12-01T11:00:00",
          "2021-12-01T12:00:00",
          "2021-12-01T13:00:00",
          "2021-12-01T14:00:00",
          "2021-12-01T15:00:00",
          "2021-12-01T16:00:00",
          "2021-12-02T08:00:00",
          "2021-12-02T09:00:00",
          "2021-12-02T10:00:00",
          "2021-12-02T11:00:00",
          "2021-12-02T12:00:00",
          "2021-12-02T13:00:00",
          "2021-12-02T14:00:00",
          "2021-12-02T15:00:00",
          "2021-12-02T16:00:00",
          "2021-12-03T08:00:00",
          "2021-12-03T09:00:00",
          "2021-12-03T10:00:00",
          "2021-12-03T11:00:00",
          "2021-12-03T12:00:00",
          "2021-12-03T13:00:00",
          "2021-12-03T14:00:00",
          "2021-12-03T15:00:00",
          "2021-12-03T16:00:00",
          "2021-12-04T08:00:00",
          "2021-12-04T09:00:00",
          "2021-12-04T10:00:00",
          "2021-12-04T11:00:00",
          "2021-12-04T12:00:00",
          "2021-12-04T13:00:00",
          "2021-12-04T14:00:00",
          "2021-12-04T15:00:00",
          "2021-12-04T16:00:00",
          "2021-12-05T08:00:00",
          "2021-12-07T08:00:00",
          "2021-12-07T09:00:00",
          "2021-12-07T10:00:00",
          "2021-12-07T11:00:00",
          "2021-12-07T12:00:00",
          "2021-12-07T13:00:00",
          "2021-12-07T14:00:00",
          "2021-12-07T15:00:00",
          "2021-12-07T16:00:00",
          "2021-12-08T08:00:00",
          "2021-12-08T09:00:00",
          "2021-12-08T10:00:00",
          "2021-12-08T11:00:00",
          "2021-12-08T12:00:00",
          "2021-12-08T13:00:00",
          "2021-12-08T14:00:00",
          "2021-12-08T15:00:00",
          "2021-12-08T16:00:00",
          "2021-12-09T08:00:00",
          "2021-12-09T09:00:00",
          "2021-12-09T10:00:00",
          "2021-12-09T11:00:00",
          "2021-12-09T12:00:00",
          "2021-12-09T13:00:00",
          "2021-12-09T14:00:00",
          "2021-12-09T15:00:00",
          "2021-12-09T16:00:00",
          "2021-12-10T08:00:00",
          "2021-12-10T09:00:00",
          "2021-12-10T10:00:00",
          "2021-12-10T11:00:00",
          "2021-12-10T12:00:00",
          "2021-12-10T13:00:00",
          "2021-12-10T14:00:00",
          "2021-12-10T15:00:00",
          "2021-12-10T16:00:00",
          "2021-12-11T08:00:00",
          "2021-12-11T09:00:00",
          "2021-12-11T10:00:00",
          "2021-12-11T11:00:00",
          "2021-12-11T12:00:00",
          "2021-12-11T13:00:00",
          "2021-12-11T14:00:00",
          "2021-12-11T15:00:00",
          "2021-12-11T16:00:00",
          "2021-12-12T08:00:00",
          "2021-12-12T09:00:00",
          "2021-12-12T10:00:00",
          "2021-12-12T11:00:00",
          "2021-12-12T12:00:00",
          "2021-12-12T13:00:00",
          "2021-12-12T14:00:00",
          "2021-12-12T15:00:00",
          "2021-12-12T16:00:00",
          "2021-12-13T08:00:00",
          "2021-12-13T09:00:00",
          "2021-12-13T10:00:00",
          "2021-12-13T11:00:00",
          "2021-12-13T12:00:00",
          "2021-12-13T13:00:00",
          "2021-12-13T14:00:00",
          "2021-12-13T15:00:00",
          "2021-12-13T16:00:00",
          "2021-12-14T08:00:00",
          "2021-12-14T09:00:00",
          "2021-12-14T10:00:00",
          "2021-12-14T11:00:00",
          "2021-12-14T12:00:00",
          "2021-12-14T13:00:00",
          "2021-12-14T14:00:00",
          "2021-12-14T15:00:00",
          "2021-12-14T16:00:00",
          "2021-12-15T08:00:00",
          "2021-12-15T09:00:00",
          "2021-12-15T10:00:00",
          "2021-12-15T11:00:00",
          "2021-12-15T12:00:00",
          "2021-12-15T13:00:00",
          "2021-12-15T14:00:00",
          "2021-12-15T15:00:00",
          "2021-12-15T16:00:00",
          "2021-12-16T09:00:00",
          "2021-12-16T10:00:00",
          "2021-12-16T11:00:00",
          "2021-12-16T12:00:00",
          "2021-12-16T13:00:00",
          "2021-12-16T14:00:00"
         ],
         "y": [
          0.9908992248062015,
          0.9731136363636363,
          0.9605999999999999,
          0.9089147727272727,
          0.6314488636363637,
          0.20728,
          0.16393181818181818,
          0.13533714285714285,
          0.38871022727272725,
          0.6169090909090909,
          0.5679886363636364,
          0.5929828571428571,
          0.4322670454545454,
          0.2467142857142857,
          0.13596022727272727,
          0.9481534090909091,
          0.9199829545454545,
          0.8641420454545454,
          0.8304147727272727,
          0.9279772727272728,
          0.9486477272727272,
          0.8538693181818182,
          0.6602727272727272,
          0.9500909090909091,
          0.8466363636363637,
          0.53748,
          0.4539261363636364,
          0.6947045454545454,
          0.7598920454545456,
          0.6917386363636363,
          0.4712840909090909,
          0.2534715909090909,
          0.05237714285714286,
          0.04893678160919541,
          0.21704022988505747,
          0.49314367816091953,
          0.7337657142857142,
          0.7527126436781609,
          0.7591781609195403,
          0.4624022988505747,
          0.38832,
          0.1903735632183908,
          0.7298218390804598,
          0.585816091954023,
          0.34955172413793106,
          0.3712742857142857,
          0.5046379310344827,
          0.5739137931034483,
          0.34727586206896555,
          0.317367816091954,
          0.21605714285714286,
          0.19583815028901735,
          0.26859770114942527,
          0.6721206896551724,
          0.746942196531792,
          0.3828965517241379,
          0.4521724137931034,
          0.486051724137931,
          0.5009657142857142,
          0.7640862068965517,
          0.9472,
          0.9600500000000001,
          0.9799666666666667,
          0.9931333333333333,
          0.92565,
          0.9374666666666667,
          0.94955,
          0.9504,
          0.9487333333333333,
          0.9418000000000001,
          0.94985,
          0.9742833333333334,
          0.9709166666666668,
          0.9749,
          0.6436666666666666,
          0.25615,
          0.15241666666666667,
          0.12843333333333334,
          0.07486666666666666,
          0.19184745762711863,
          0.7532666666666666,
          0.8273499999999999,
          0.4058333333333334,
          0.3674166666666666,
          0.2576,
          0.21686666666666668,
          0.22763333333333333,
          0.13528333333333334,
          0.21175,
          0.7229166666666667,
          0.8764666666666667,
          0.9397166666666668,
          0.94575,
          0.9410666666666666,
          0.6153333333333334,
          0.23601666666666665,
          0.11098333333333334,
          0.10684999999999999,
          0.30343333333333333,
          0.2874333333333333,
          0.33311666666666667,
          0.3749166666666667,
          0.4373666666666667,
          0.37185,
          0.26595833333333335,
          0.042666666666666665,
          0.035449999999999995,
          0.11133333333333333,
          0.18378333333333333,
          0.17228333333333332,
          0.18498333333333333,
          0.09586666666666667,
          0.040383333333333334,
          0.026033333333333335,
          0.9060833333333334,
          0.9830666666666666,
          0.6410166666666667,
          0.48506666666666665,
          0.6312333333333334,
          0.6594166666666667,
          0.5564333333333333,
          0.8034166666666667,
          0.9485499999999999,
          0.99355,
          0.9946333333333333,
          0.9990333333333333,
          0.999,
          0.9973500000000001,
          0.9990833333333333,
          0.98025,
          0.9855333333333333,
          0.9563,
          0.9852166666666666,
          0.9929333333333333,
          0.9991,
          0.999,
          0.9987499999999999,
          0.9995833333333334,
          0.9974833333333333,
          0.9949166666666667,
          0.9853666666666666,
          0.9872333333333334,
          0.9787333333333332,
          0.9992666666666667,
          0.9995166666666666,
          0.9222166666666667,
          0.8251333333333334,
          0.5322,
          0.4251166666666667,
          0.8607166666666667,
          0.6441333333333333,
          0.5900833333333334,
          0.45185000000000003,
          0.5875166666666666,
          0.5952833333333333,
          0.48873333333333335,
          0.3575666666666667,
          0.39863333333333334,
          0.3684,
          0.06963333333333334,
          0.08138333333333334,
          0.19938333333333336,
          0.24226666666666666,
          0.2716833333333334,
          0.28545,
          0.2378333333333333,
          0.17361666666666667,
          0.09003333333333334,
          0.9452857142857143,
          0.0240625,
          0.021866666666666666,
          0.05681666666666666,
          0.11603333333333334,
          0.1546,
          0.2095,
          0.18238333333333331,
          0.1259,
          0.06288333333333333,
          0.06888333333333334,
          0.03491666666666667,
          0.0325,
          0.03195,
          0.06448979591836734,
          0.07746428571428572,
          0.07891379310344827,
          0.07731666666666667,
          0.07871666666666667,
          0.19379787234042553,
          0.08281666666666668,
          0.10477966101694916,
          0.09426923076923077,
          0.11337931034482758,
          0.14872881355932205,
          0.15493220338983052,
          0.17536666666666667,
          0.35863333333333336,
          0.0774,
          0.032683333333333335,
          0.04003333333333334,
          0.13259322033898305,
          0.6383191489361703,
          0.7123396226415094,
          0.5154406779661017,
          0.5887413793103448,
          0.29485,
          0.8630666666666666,
          0.6703333333333333,
          0.8866333333333334,
          0.505051724137931,
          0.46798214285714285,
          0.4070169491525424,
          0.24703448275862067,
          0.22431666666666666,
          0.5643833333333333,
          0.84755,
          0.65935,
          0.8619833333333333,
          0.6523448275862068,
          0.6149137931034483,
          0.5505172413793104,
          0.53245,
          0.5735666666666667,
          0.7429833333333333,
          0.9608333333333333,
          0.9164,
          0.7853461538461539,
          0.45586440677966106,
          0.4209107142857143,
          0.36519298245614035,
          0.2038103448275862,
          0.12125423728813559,
          0.12321666666666667,
          0.14206666666666665,
          0.06161666666666667,
          0.09330357142857142,
          0.059816666666666664,
          0.07773333333333333,
          0.53428,
          0.4943090909090909,
          0.5698392857142858,
          0.38693333333333335,
          0.08745,
          0.03166666666666666,
          0.054714285714285715,
          0.06425,
          0.07320338983050848,
          0.05617241379310345,
          0.08728571428571429,
          0.07079661016949151,
          0.23898305084745763,
          0.16186,
          0.4802,
          0.15511666666666668,
          0.16131666666666666,
          0.17465,
          0.14533333333333331
         ]
        },
        {
         "mode": "lines",
         "name": "Actual",
         "type": "scatter",
         "x": [
          "2021-11-16T11:00:00",
          "2021-11-16T12:00:00",
          "2021-11-16T13:00:00",
          "2021-11-16T14:00:00",
          "2021-11-16T15:00:00",
          "2021-11-16T16:00:00",
          "2021-11-17T08:00:00",
          "2021-11-17T09:00:00",
          "2021-11-17T10:00:00",
          "2021-11-17T11:00:00",
          "2021-11-17T12:00:00",
          "2021-11-17T13:00:00",
          "2021-11-17T14:00:00",
          "2021-11-17T15:00:00",
          "2021-11-17T16:00:00",
          "2021-11-18T08:00:00",
          "2021-11-18T09:00:00",
          "2021-11-18T10:00:00",
          "2021-11-18T11:00:00",
          "2021-11-18T12:00:00",
          "2021-11-18T13:00:00",
          "2021-11-18T14:00:00",
          "2021-11-18T15:00:00",
          "2021-11-18T16:00:00",
          "2021-11-19T08:00:00",
          "2021-11-19T09:00:00",
          "2021-11-19T10:00:00",
          "2021-11-19T11:00:00",
          "2021-11-19T12:00:00",
          "2021-11-19T13:00:00",
          "2021-11-19T14:00:00",
          "2021-11-19T15:00:00",
          "2021-11-19T16:00:00",
          "2021-11-20T08:00:00",
          "2021-11-20T09:00:00",
          "2021-11-20T10:00:00",
          "2021-11-20T11:00:00",
          "2021-11-20T12:00:00",
          "2021-11-20T13:00:00",
          "2021-11-20T14:00:00",
          "2021-11-20T15:00:00",
          "2021-11-20T16:00:00",
          "2021-11-21T08:00:00",
          "2021-11-21T09:00:00",
          "2021-11-21T10:00:00",
          "2021-11-21T11:00:00",
          "2021-11-21T12:00:00",
          "2021-11-21T13:00:00",
          "2021-11-21T14:00:00",
          "2021-11-21T15:00:00",
          "2021-11-21T16:00:00",
          "2021-11-22T08:00:00",
          "2021-11-22T09:00:00",
          "2021-11-22T10:00:00",
          "2021-11-22T11:00:00",
          "2021-11-22T12:00:00",
          "2021-11-22T13:00:00",
          "2021-11-22T14:00:00",
          "2021-11-22T15:00:00",
          "2021-11-22T16:00:00",
          "2021-11-23T08:00:00",
          "2021-11-23T09:00:00",
          "2021-11-23T10:00:00",
          "2021-11-23T11:00:00",
          "2021-11-23T12:00:00",
          "2021-11-23T13:00:00",
          "2021-11-23T14:00:00",
          "2021-11-23T15:00:00",
          "2021-11-23T16:00:00",
          "2021-11-24T08:00:00",
          "2021-11-24T09:00:00",
          "2021-11-24T10:00:00",
          "2021-11-24T11:00:00",
          "2021-11-24T12:00:00",
          "2021-11-24T13:00:00",
          "2021-11-24T14:00:00",
          "2021-11-24T15:00:00",
          "2021-11-24T16:00:00",
          "2021-11-25T08:00:00",
          "2021-11-25T09:00:00",
          "2021-11-25T10:00:00",
          "2021-11-25T11:00:00",
          "2021-11-25T12:00:00",
          "2021-11-25T13:00:00",
          "2021-11-25T14:00:00",
          "2021-11-25T15:00:00",
          "2021-11-25T16:00:00",
          "2021-11-26T08:00:00",
          "2021-11-26T09:00:00",
          "2021-11-26T10:00:00",
          "2021-11-26T11:00:00",
          "2021-11-26T12:00:00",
          "2021-11-26T13:00:00",
          "2021-11-26T14:00:00",
          "2021-11-26T15:00:00",
          "2021-11-26T16:00:00",
          "2021-11-27T08:00:00",
          "2021-11-27T09:00:00",
          "2021-11-27T10:00:00",
          "2021-11-27T11:00:00",
          "2021-11-27T12:00:00",
          "2021-11-27T13:00:00",
          "2021-11-27T14:00:00",
          "2021-11-27T15:00:00",
          "2021-11-27T16:00:00",
          "2021-11-28T08:00:00",
          "2021-11-28T09:00:00",
          "2021-11-28T10:00:00",
          "2021-11-28T11:00:00",
          "2021-11-28T12:00:00",
          "2021-11-28T13:00:00",
          "2021-11-28T14:00:00",
          "2021-11-28T15:00:00",
          "2021-11-28T16:00:00",
          "2021-11-29T08:00:00",
          "2021-11-29T09:00:00",
          "2021-11-29T10:00:00",
          "2021-11-29T11:00:00",
          "2021-11-29T12:00:00",
          "2021-11-29T13:00:00",
          "2021-11-29T14:00:00",
          "2021-11-29T15:00:00",
          "2021-11-29T16:00:00",
          "2021-11-30T08:00:00",
          "2021-11-30T09:00:00",
          "2021-11-30T10:00:00",
          "2021-11-30T11:00:00",
          "2021-11-30T12:00:00",
          "2021-11-30T13:00:00",
          "2021-11-30T14:00:00",
          "2021-11-30T15:00:00",
          "2021-11-30T16:00:00",
          "2021-12-01T08:00:00",
          "2021-12-01T09:00:00",
          "2021-12-01T10:00:00",
          "2021-12-01T11:00:00",
          "2021-12-01T12:00:00",
          "2021-12-01T13:00:00",
          "2021-12-01T14:00:00",
          "2021-12-01T15:00:00",
          "2021-12-01T16:00:00",
          "2021-12-02T08:00:00",
          "2021-12-02T09:00:00",
          "2021-12-02T10:00:00",
          "2021-12-02T11:00:00",
          "2021-12-02T12:00:00",
          "2021-12-02T13:00:00",
          "2021-12-02T14:00:00",
          "2021-12-02T15:00:00",
          "2021-12-02T16:00:00",
          "2021-12-03T08:00:00",
          "2021-12-03T09:00:00",
          "2021-12-03T10:00:00",
          "2021-12-03T11:00:00",
          "2021-12-03T12:00:00",
          "2021-12-03T13:00:00",
          "2021-12-03T14:00:00",
          "2021-12-03T15:00:00",
          "2021-12-03T16:00:00",
          "2021-12-04T08:00:00",
          "2021-12-04T09:00:00",
          "2021-12-04T10:00:00",
          "2021-12-04T11:00:00",
          "2021-12-04T12:00:00",
          "2021-12-04T13:00:00",
          "2021-12-04T14:00:00",
          "2021-12-04T15:00:00",
          "2021-12-04T16:00:00",
          "2021-12-05T08:00:00",
          "2021-12-07T08:00:00",
          "2021-12-07T09:00:00",
          "2021-12-07T10:00:00",
          "2021-12-07T11:00:00",
          "2021-12-07T12:00:00",
          "2021-12-07T13:00:00",
          "2021-12-07T14:00:00",
          "2021-12-07T15:00:00",
          "2021-12-07T16:00:00",
          "2021-12-08T08:00:00",
          "2021-12-08T09:00:00",
          "2021-12-08T10:00:00",
          "2021-12-08T11:00:00",
          "2021-12-08T12:00:00",
          "2021-12-08T13:00:00",
          "2021-12-08T14:00:00",
          "2021-12-08T15:00:00",
          "2021-12-08T16:00:00",
          "2021-12-09T08:00:00",
          "2021-12-09T09:00:00",
          "2021-12-09T10:00:00",
          "2021-12-09T11:00:00",
          "2021-12-09T12:00:00",
          "2021-12-09T13:00:00",
          "2021-12-09T14:00:00",
          "2021-12-09T15:00:00",
          "2021-12-09T16:00:00",
          "2021-12-10T08:00:00",
          "2021-12-10T09:00:00",
          "2021-12-10T10:00:00",
          "2021-12-10T11:00:00",
          "2021-12-10T12:00:00",
          "2021-12-10T13:00:00",
          "2021-12-10T14:00:00",
          "2021-12-10T15:00:00",
          "2021-12-10T16:00:00",
          "2021-12-11T08:00:00",
          "2021-12-11T09:00:00",
          "2021-12-11T10:00:00",
          "2021-12-11T11:00:00",
          "2021-12-11T12:00:00",
          "2021-12-11T13:00:00",
          "2021-12-11T14:00:00",
          "2021-12-11T15:00:00",
          "2021-12-11T16:00:00",
          "2021-12-12T08:00:00",
          "2021-12-12T09:00:00",
          "2021-12-12T10:00:00",
          "2021-12-12T11:00:00",
          "2021-12-12T12:00:00",
          "2021-12-12T13:00:00",
          "2021-12-12T14:00:00",
          "2021-12-12T15:00:00",
          "2021-12-12T16:00:00",
          "2021-12-13T08:00:00",
          "2021-12-13T09:00:00",
          "2021-12-13T10:00:00",
          "2021-12-13T11:00:00",
          "2021-12-13T12:00:00",
          "2021-12-13T13:00:00",
          "2021-12-13T14:00:00",
          "2021-12-13T15:00:00",
          "2021-12-13T16:00:00",
          "2021-12-14T08:00:00",
          "2021-12-14T09:00:00",
          "2021-12-14T10:00:00",
          "2021-12-14T11:00:00",
          "2021-12-14T12:00:00",
          "2021-12-14T13:00:00",
          "2021-12-14T14:00:00",
          "2021-12-14T15:00:00",
          "2021-12-14T16:00:00",
          "2021-12-15T08:00:00",
          "2021-12-15T09:00:00",
          "2021-12-15T10:00:00",
          "2021-12-15T11:00:00",
          "2021-12-15T12:00:00",
          "2021-12-15T13:00:00",
          "2021-12-15T14:00:00",
          "2021-12-15T15:00:00",
          "2021-12-15T16:00:00",
          "2021-12-16T09:00:00",
          "2021-12-16T10:00:00",
          "2021-12-16T11:00:00",
          "2021-12-16T12:00:00",
          "2021-12-16T13:00:00",
          "2021-12-16T14:00:00"
         ],
         "y": [
          0.9908992248062015,
          0.9731136363636363,
          0.9605999999999999,
          0.9089147727272727,
          0.6314488636363637,
          0.20728,
          0.16393181818181818,
          0.13533714285714285,
          0.38871022727272725,
          0.6169090909090909,
          0.5679886363636364,
          0.5929828571428571,
          0.4322670454545454,
          0.2467142857142857,
          0.13596022727272727,
          0.9481534090909091,
          0.9199829545454545,
          0.8641420454545454,
          0.8304147727272727,
          0.9279772727272728,
          0.9486477272727272,
          0.8538693181818182,
          0.6602727272727272,
          0.9500909090909091,
          0.8466363636363637,
          0.53748,
          0.4539261363636364,
          0.6947045454545454,
          0.7598920454545456,
          0.6917386363636363,
          0.4712840909090909,
          0.2534715909090909,
          0.05237714285714286,
          0.04893678160919541,
          0.21704022988505747,
          0.49314367816091953,
          0.7337657142857142,
          0.7527126436781609,
          0.7591781609195403,
          0.4624022988505747,
          0.38832,
          0.1903735632183908,
          0.7298218390804598,
          0.585816091954023,
          0.34955172413793106,
          0.3712742857142857,
          0.5046379310344827,
          0.5739137931034483,
          0.34727586206896555,
          0.317367816091954,
          0.21605714285714286,
          0.19583815028901735,
          0.26859770114942527,
          0.6721206896551724,
          0.746942196531792,
          0.3828965517241379,
          0.4521724137931034,
          0.486051724137931,
          0.5009657142857142,
          0.7640862068965517,
          0.9472,
          0.9600500000000001,
          0.9799666666666667,
          0.9931333333333333,
          0.92565,
          0.9374666666666667,
          0.94955,
          0.9504,
          0.9487333333333333,
          0.9418000000000001,
          0.94985,
          0.9742833333333334,
          0.9709166666666668,
          0.9749,
          0.6436666666666666,
          0.25615,
          0.15241666666666667,
          0.12843333333333334,
          0.07486666666666666,
          0.19184745762711863,
          0.7532666666666666,
          0.8273499999999999,
          0.4058333333333334,
          0.3674166666666666,
          0.2576,
          0.21686666666666668,
          0.22763333333333333,
          0.13528333333333334,
          0.21175,
          0.7229166666666667,
          0.8764666666666667,
          0.9397166666666668,
          0.94575,
          0.9410666666666666,
          0.6153333333333334,
          0.23601666666666665,
          0.11098333333333334,
          0.10684999999999999,
          0.30343333333333333,
          0.2874333333333333,
          0.33311666666666667,
          0.3749166666666667,
          0.4373666666666667,
          0.37185,
          0.26595833333333335,
          0.042666666666666665,
          0.035449999999999995,
          0.11133333333333333,
          0.18378333333333333,
          0.17228333333333332,
          0.18498333333333333,
          0.09586666666666667,
          0.040383333333333334,
          0.026033333333333335,
          0.9060833333333334,
          0.9830666666666666,
          0.6410166666666667,
          0.48506666666666665,
          0.6312333333333334,
          0.6594166666666667,
          0.5564333333333333,
          0.8034166666666667,
          0.9485499999999999,
          0.99355,
          0.9946333333333333,
          0.9990333333333333,
          0.999,
          0.9973500000000001,
          0.9990833333333333,
          0.98025,
          0.9855333333333333,
          0.9563,
          0.9852166666666666,
          0.9929333333333333,
          0.9991,
          0.999,
          0.9987499999999999,
          0.9995833333333334,
          0.9974833333333333,
          0.9949166666666667,
          0.9853666666666666,
          0.9872333333333334,
          0.9787333333333332,
          0.9992666666666667,
          0.9995166666666666,
          0.9222166666666667,
          0.8251333333333334,
          0.5322,
          0.4251166666666667,
          0.8607166666666667,
          0.6441333333333333,
          0.5900833333333334,
          0.45185000000000003,
          0.5875166666666666,
          0.5952833333333333,
          0.48873333333333335,
          0.3575666666666667,
          0.39863333333333334,
          0.3684,
          0.06963333333333334,
          0.08138333333333334,
          0.19938333333333336,
          0.24226666666666666,
          0.2716833333333334,
          0.28545,
          0.2378333333333333,
          0.17361666666666667,
          0.09003333333333334,
          0.9452857142857143,
          0.0240625,
          0.021866666666666666,
          0.05681666666666666,
          0.11603333333333334,
          0.1546,
          0.2095,
          0.18238333333333331,
          0.1259,
          0.06288333333333333,
          0.06888333333333334,
          0.03491666666666667,
          0.0325,
          0.03195,
          0.06448979591836734,
          0.07746428571428572,
          0.07891379310344827,
          0.07731666666666667,
          0.07871666666666667,
          0.19379787234042553,
          0.08281666666666668,
          0.10477966101694916,
          0.09426923076923077,
          0.11337931034482758,
          0.14872881355932205,
          0.15493220338983052,
          0.17536666666666667,
          0.35863333333333336,
          0.0774,
          0.032683333333333335,
          0.04003333333333334,
          0.13259322033898305,
          0.6383191489361703,
          0.7123396226415094,
          0.5154406779661017,
          0.5887413793103448,
          0.29485,
          0.8630666666666666,
          0.6703333333333333,
          0.8866333333333334,
          0.505051724137931,
          0.46798214285714285,
          0.4070169491525424,
          0.24703448275862067,
          0.22431666666666666,
          0.5643833333333333,
          0.84755,
          0.65935,
          0.8619833333333333,
          0.6523448275862068,
          0.6149137931034483,
          0.5505172413793104,
          0.53245,
          0.5735666666666667,
          0.7429833333333333,
          0.9608333333333333,
          0.9164,
          0.7853461538461539,
          0.45586440677966106,
          0.4209107142857143,
          0.36519298245614035,
          0.2038103448275862,
          0.12125423728813559,
          0.12321666666666667,
          0.14206666666666665,
          0.06161666666666667,
          0.09330357142857142,
          0.059816666666666664,
          0.07773333333333333,
          0.53428,
          0.4943090909090909,
          0.5698392857142858,
          0.38693333333333335,
          0.08745,
          0.03166666666666666,
          0.054714285714285715,
          0.06425,
          0.07320338983050848,
          0.05617241379310345,
          0.08728571428571429,
          0.07079661016949151,
          0.23898305084745763,
          0.16186,
          0.4802,
          0.15511666666666668,
          0.16131666666666666,
          0.17465,
          0.14533333333333331
         ]
        },
        {
         "mode": "lines",
         "name": "predict",
         "type": "scatter",
         "x": [
          "2021-11-16T11:00:00",
          "2021-11-16T12:00:00",
          "2021-11-16T13:00:00",
          "2021-11-16T14:00:00",
          "2021-11-16T15:00:00",
          "2021-11-16T16:00:00",
          "2021-11-17T08:00:00",
          "2021-11-17T09:00:00",
          "2021-11-17T10:00:00",
          "2021-11-17T11:00:00",
          "2021-11-17T12:00:00",
          "2021-11-17T13:00:00",
          "2021-11-17T14:00:00",
          "2021-11-17T15:00:00",
          "2021-11-17T16:00:00",
          "2021-11-18T08:00:00",
          "2021-11-18T09:00:00",
          "2021-11-18T10:00:00",
          "2021-11-18T11:00:00",
          "2021-11-18T12:00:00",
          "2021-11-18T13:00:00",
          "2021-11-18T14:00:00",
          "2021-11-18T15:00:00",
          "2021-11-18T16:00:00",
          "2021-11-19T08:00:00",
          "2021-11-19T09:00:00",
          "2021-11-19T10:00:00",
          "2021-11-19T11:00:00",
          "2021-11-19T12:00:00",
          "2021-11-19T13:00:00",
          "2021-11-19T14:00:00",
          "2021-11-19T15:00:00",
          "2021-11-19T16:00:00",
          "2021-11-20T08:00:00",
          "2021-11-20T09:00:00",
          "2021-11-20T10:00:00",
          "2021-11-20T11:00:00",
          "2021-11-20T12:00:00",
          "2021-11-20T13:00:00",
          "2021-11-20T14:00:00",
          "2021-11-20T15:00:00",
          "2021-11-20T16:00:00",
          "2021-11-21T08:00:00",
          "2021-11-21T09:00:00",
          "2021-11-21T10:00:00",
          "2021-11-21T11:00:00",
          "2021-11-21T12:00:00",
          "2021-11-21T13:00:00",
          "2021-11-21T14:00:00",
          "2021-11-21T15:00:00",
          "2021-11-21T16:00:00",
          "2021-11-22T08:00:00",
          "2021-11-22T09:00:00",
          "2021-11-22T10:00:00",
          "2021-11-22T11:00:00",
          "2021-11-22T12:00:00",
          "2021-11-22T13:00:00",
          "2021-11-22T14:00:00",
          "2021-11-22T15:00:00",
          "2021-11-22T16:00:00",
          "2021-11-23T08:00:00",
          "2021-11-23T09:00:00",
          "2021-11-23T10:00:00",
          "2021-11-23T11:00:00",
          "2021-11-23T12:00:00",
          "2021-11-23T13:00:00",
          "2021-11-23T14:00:00",
          "2021-11-23T15:00:00",
          "2021-11-23T16:00:00",
          "2021-11-24T08:00:00",
          "2021-11-24T09:00:00",
          "2021-11-24T10:00:00",
          "2021-11-24T11:00:00",
          "2021-11-24T12:00:00",
          "2021-11-24T13:00:00",
          "2021-11-24T14:00:00",
          "2021-11-24T15:00:00",
          "2021-11-24T16:00:00",
          "2021-11-25T08:00:00",
          "2021-11-25T09:00:00",
          "2021-11-25T10:00:00",
          "2021-11-25T11:00:00",
          "2021-11-25T12:00:00",
          "2021-11-25T13:00:00",
          "2021-11-25T14:00:00",
          "2021-11-25T15:00:00",
          "2021-11-25T16:00:00",
          "2021-11-26T08:00:00",
          "2021-11-26T09:00:00",
          "2021-11-26T10:00:00",
          "2021-11-26T11:00:00",
          "2021-11-26T12:00:00",
          "2021-11-26T13:00:00",
          "2021-11-26T14:00:00",
          "2021-11-26T15:00:00",
          "2021-11-26T16:00:00",
          "2021-11-27T08:00:00",
          "2021-11-27T09:00:00",
          "2021-11-27T10:00:00",
          "2021-11-27T11:00:00",
          "2021-11-27T12:00:00",
          "2021-11-27T13:00:00",
          "2021-11-27T14:00:00",
          "2021-11-27T15:00:00",
          "2021-11-27T16:00:00",
          "2021-11-28T08:00:00",
          "2021-11-28T09:00:00",
          "2021-11-28T10:00:00",
          "2021-11-28T11:00:00",
          "2021-11-28T12:00:00",
          "2021-11-28T13:00:00",
          "2021-11-28T14:00:00",
          "2021-11-28T15:00:00",
          "2021-11-28T16:00:00",
          "2021-11-29T08:00:00",
          "2021-11-29T09:00:00",
          "2021-11-29T10:00:00",
          "2021-11-29T11:00:00",
          "2021-11-29T12:00:00",
          "2021-11-29T13:00:00",
          "2021-11-29T14:00:00",
          "2021-11-29T15:00:00",
          "2021-11-29T16:00:00",
          "2021-11-30T08:00:00",
          "2021-11-30T09:00:00",
          "2021-11-30T10:00:00",
          "2021-11-30T11:00:00",
          "2021-11-30T12:00:00",
          "2021-11-30T13:00:00",
          "2021-11-30T14:00:00",
          "2021-11-30T15:00:00",
          "2021-11-30T16:00:00",
          "2021-12-01T08:00:00",
          "2021-12-01T09:00:00",
          "2021-12-01T10:00:00",
          "2021-12-01T11:00:00",
          "2021-12-01T12:00:00",
          "2021-12-01T13:00:00",
          "2021-12-01T14:00:00",
          "2021-12-01T15:00:00",
          "2021-12-01T16:00:00",
          "2021-12-02T08:00:00",
          "2021-12-02T09:00:00",
          "2021-12-02T10:00:00",
          "2021-12-02T11:00:00",
          "2021-12-02T12:00:00",
          "2021-12-02T13:00:00",
          "2021-12-02T14:00:00",
          "2021-12-02T15:00:00",
          "2021-12-02T16:00:00",
          "2021-12-03T08:00:00",
          "2021-12-03T09:00:00",
          "2021-12-03T10:00:00",
          "2021-12-03T11:00:00",
          "2021-12-03T12:00:00",
          "2021-12-03T13:00:00",
          "2021-12-03T14:00:00",
          "2021-12-03T15:00:00",
          "2021-12-03T16:00:00",
          "2021-12-04T08:00:00",
          "2021-12-04T09:00:00",
          "2021-12-04T10:00:00",
          "2021-12-04T11:00:00",
          "2021-12-04T12:00:00",
          "2021-12-04T13:00:00",
          "2021-12-04T14:00:00",
          "2021-12-04T15:00:00",
          "2021-12-04T16:00:00",
          "2021-12-05T08:00:00",
          "2021-12-07T08:00:00",
          "2021-12-07T09:00:00",
          "2021-12-07T10:00:00",
          "2021-12-07T11:00:00",
          "2021-12-07T12:00:00",
          "2021-12-07T13:00:00",
          "2021-12-07T14:00:00",
          "2021-12-07T15:00:00",
          "2021-12-07T16:00:00",
          "2021-12-08T08:00:00",
          "2021-12-08T09:00:00",
          "2021-12-08T10:00:00",
          "2021-12-08T11:00:00",
          "2021-12-08T12:00:00",
          "2021-12-08T13:00:00",
          "2021-12-08T14:00:00",
          "2021-12-08T15:00:00",
          "2021-12-08T16:00:00",
          "2021-12-09T08:00:00",
          "2021-12-09T09:00:00",
          "2021-12-09T10:00:00",
          "2021-12-09T11:00:00",
          "2021-12-09T12:00:00",
          "2021-12-09T13:00:00",
          "2021-12-09T14:00:00",
          "2021-12-09T15:00:00",
          "2021-12-09T16:00:00",
          "2021-12-10T08:00:00",
          "2021-12-10T09:00:00",
          "2021-12-10T10:00:00",
          "2021-12-10T11:00:00",
          "2021-12-10T12:00:00",
          "2021-12-10T13:00:00",
          "2021-12-10T14:00:00",
          "2021-12-10T15:00:00",
          "2021-12-10T16:00:00",
          "2021-12-11T08:00:00",
          "2021-12-11T09:00:00",
          "2021-12-11T10:00:00",
          "2021-12-11T11:00:00",
          "2021-12-11T12:00:00",
          "2021-12-11T13:00:00",
          "2021-12-11T14:00:00",
          "2021-12-11T15:00:00",
          "2021-12-11T16:00:00",
          "2021-12-12T08:00:00",
          "2021-12-12T09:00:00",
          "2021-12-12T10:00:00",
          "2021-12-12T11:00:00",
          "2021-12-12T12:00:00",
          "2021-12-12T13:00:00",
          "2021-12-12T14:00:00",
          "2021-12-12T15:00:00",
          "2021-12-12T16:00:00",
          "2021-12-13T08:00:00",
          "2021-12-13T09:00:00",
          "2021-12-13T10:00:00",
          "2021-12-13T11:00:00",
          "2021-12-13T12:00:00",
          "2021-12-13T13:00:00",
          "2021-12-13T14:00:00",
          "2021-12-13T15:00:00",
          "2021-12-13T16:00:00",
          "2021-12-14T08:00:00",
          "2021-12-14T09:00:00",
          "2021-12-14T10:00:00",
          "2021-12-14T11:00:00",
          "2021-12-14T12:00:00",
          "2021-12-14T13:00:00",
          "2021-12-14T14:00:00",
          "2021-12-14T15:00:00",
          "2021-12-14T16:00:00",
          "2021-12-15T08:00:00",
          "2021-12-15T09:00:00",
          "2021-12-15T10:00:00",
          "2021-12-15T11:00:00",
          "2021-12-15T12:00:00",
          "2021-12-15T13:00:00",
          "2021-12-15T14:00:00",
          "2021-12-15T15:00:00",
          "2021-12-15T16:00:00",
          "2021-12-16T09:00:00",
          "2021-12-16T10:00:00",
          "2021-12-16T11:00:00",
          "2021-12-16T12:00:00",
          "2021-12-16T13:00:00",
          "2021-12-16T14:00:00"
         ],
         "y": [
          0.22387680411338806,
          0.8940756320953369,
          0.8785231113433838,
          0.8676103949546814,
          0.8228068947792053,
          0.5904908180236816,
          0.2673571705818176,
          0.23682522773742676,
          0.21695517003536224,
          0.400340735912323,
          0.5787347555160522,
          0.5395108461380005,
          0.5594866871833801,
          0.4334690570831299,
          0.2955559194087982,
          0.21738582849502563,
          0.8567811250686646,
          0.8323643207550049,
          0.7843579053878784,
          0.7556254863739014,
          0.8392800092697144,
          0.8572107553482056,
          0.7755851149559021,
          0.6139267086982727,
          0.8584652543067932,
          0.7694194912910461,
          0.5153124332427979,
          0.4501091539859772,
          0.6421456336975098,
          0.6962167024612427,
          0.63970547914505,
          0.46352359652519226,
          0.30042797327041626,
          0.1605442315340042,
          0.15824507176876068,
          0.2742992341518402,
          0.4805157482624054,
          0.6744459867477417,
          0.6902210712432861,
          0.695620059967041,
          0.4566509425640106,
          0.4000460207462311,
          0.2553909122943878,
          0.6711710691452026,
          0.5537450909614563,
          0.3709466755390167,
          0.38720667362213135,
          0.48949429392814636,
          0.5442340970039368,
          0.36924976110458374,
          0.3470686078071594,
          0.273598849773407,
          0.2592505216598511,
          0.3113761246204376,
          0.623609721660614,
          0.6854093074798584,
          0.39595329761505127,
          0.44875773787498474,
          0.47499096393585205,
          0.48662254214286804,
          0.6997238397598267,
          0.8559526801109314,
          0.8671314120292664,
          0.884509801864624,
          0.8960328698158264,
          0.83726567029953,
          0.847503125667572,
          0.8579950928688049,
          0.8587338924407959,
          0.8572851419448853,
          0.8512629270553589,
          0.8582558631896973,
          0.8795444369316101,
          0.8766054511070251,
          0.8800829648971558,
          0.6004037857055664,
          0.3023623526096344,
          0.22879749536514282,
          0.21219031512737274,
          0.17565321922302246,
          0.25643113255500793,
          0.6906833648681641,
          0.7530247569084167,
          0.41331034898757935,
          0.38431069254875183,
          0.30341029167175293,
          0.2741755247116089,
          0.2818615138530731,
          0.2169179916381836,
          0.2705334424972534,
          0.665444552898407,
          0.7949075102806091,
          0.849454939365387,
          0.8546929359436035,
          0.8506264686584473,
          0.5774633884429932,
          0.2878667116165161,
          0.20020334422588348,
          0.19737593829631805,
          0.3368098735809326,
          0.3250902593135834,
          0.35872119665145874,
          0.38994428515434265,
          0.43737706542015076,
          0.3876391053199768,
          0.30946165323257446,
          0.15406304597854614,
          0.14926302433013916,
          0.20044296979904175,
          0.25074654817581177,
          0.24266929924488068,
          0.25159138441085815,
          0.18988510966300964,
          0.1525428146123886,
          0.14302115142345428,
          0.8203652501106262,
          0.8872204422950745,
          0.5982510447502136,
          0.4742245078086853,
          0.5903162360191345,
          0.6132282018661499,
          0.5303214192390442,
          0.7327733039855957,
          0.8571257591247559,
          0.8963979482650757,
          0.8973472714424133,
          0.9012050032615662,
          0.9011757969856262,
          0.8997288346290588,
          0.9012488722801208,
          0.8847575187683105,
          0.8893783092498779,
          0.86386638879776,
          0.8891012668609619,
          0.895857572555542,
          0.9012635350227356,
          0.9011757969856262,
          0.9009565114974976,
          0.901687502861023,
          0.8998456597328186,
          0.8975955843925476,
          0.8892325162887573,
          0.8908659815788269,
          0.8834319710731506,
          0.9014096260070801,
          0.9016289710998535,
          0.8342955708503723,
          0.7511446475982666,
          0.5111454129219055,
          0.4279997646808624,
          0.7814306616783142,
          0.6007829308509827,
          0.5571624636650085,
          0.4485093057155609,
          0.5551064610481262,
          0.5613320469856262,
          0.4770786166191101,
          0.37693265080451965,
          0.4078482985496521,
          0.3850485682487488,
          0.17212508618831635,
          0.1800568848848343,
          0.2617587149143219,
          0.2923555076122284,
          0.31361666321754456,
          0.3236420452594757,
          0.28917041420936584,
          0.24360400438308716,
          0.1859198957681656,
          0.8542896509170532,
          0.14171788096427917,
          0.1402670294046402,
          0.16351592540740967,
          0.20366397500038147,
          0.2303169071674347,
          0.2689340114593506,
          0.24976134300231934,
          0.21044504642486572,
          0.16758544743061066,
          0.17162007093429565,
          0.14890886843204498,
          0.14730501174926758,
          0.1469402015209198,
          0.16866473853588104,
          0.1774071902036667,
          0.17838673293590546,
          0.17730747163295746,
          0.17825348675251007,
          0.2578085958957672,
          0.18102701008319855,
          0.19596149027347565,
          0.18879835307598114,
          0.20184440910816193,
          0.22623394429683685,
          0.2305482178926468,
          0.24483153223991394,
          0.37773051857948303,
          0.177363783121109,
          0.14742662012577057,
          0.15230989456176758,
          0.21505987644195557,
          0.5960611701011658,
          0.6566910147666931,
          0.4979599416255951,
          0.55608731508255,
          0.3305148184299469,
          0.7834386825561523,
          0.6221470832824707,
          0.8036295175552368,
          0.48981809616088867,
          0.46096646785736084,
          0.41420942544937134,
          0.2957865297794342,
          0.2794906497001648,
          0.5366405844688416,
          0.770197868347168,
          0.61317378282547,
          0.7825129628181458,
          0.6074635982513428,
          0.5771249532699585,
          0.5256280899047852,
          0.5113425254821777,
          0.5439571738243103,
          0.682111918926239,
          0.8678137063980103,
          0.8292680978775024,
          0.717552661895752,
          0.45160359144210815,
          0.42478829622268677,
          0.38264304399490356,
          0.2648952901363373,
          0.20724891126155853,
          0.2085983008146286,
          0.22161194682121277,
          0.16673493385314941,
          0.18814171850681305,
          0.1655270755290985,
          0.17758896946907043,
          0.5127862095832825,
          0.4814247190952301,
          0.5409852266311646,
          0.3989989161491394,
          0.1841667741537094,
          0.14675232768058777,
          0.16210798919200897,
          0.1685035675764084,
          0.17453107237815857,
          0.16308434307575226,
          0.1840553730726242,
          0.1729086935520172,
          0.289995938539505,
          0.23537828028202057,
          0.4704410135746002,
          0.23067662119865417,
          0.23499901592731476,
          0.24432875216007233
         ]
        }
       ],
       "layout": {
        "autosize": true,
        "height": 600,
        "template": {
         "data": {
          "bar": [
           {
            "error_x": {
             "color": "#2a3f5f"
            },
            "error_y": {
             "color": "#2a3f5f"
            },
            "marker": {
             "line": {
              "color": "#E5ECF6",
              "width": 0.5
             },
             "pattern": {
              "fillmode": "overlay",
              "size": 10,
              "solidity": 0.2
             }
            },
            "type": "bar"
           }
          ],
          "barpolar": [
           {
            "marker": {
             "line": {
              "color": "#E5ECF6",
              "width": 0.5
             },
             "pattern": {
              "fillmode": "overlay",
              "size": 10,
              "solidity": 0.2
             }
            },
            "type": "barpolar"
           }
          ],
          "carpet": [
           {
            "aaxis": {
             "endlinecolor": "#2a3f5f",
             "gridcolor": "white",
             "linecolor": "white",
             "minorgridcolor": "white",
             "startlinecolor": "#2a3f5f"
            },
            "baxis": {
             "endlinecolor": "#2a3f5f",
             "gridcolor": "white",
             "linecolor": "white",
             "minorgridcolor": "white",
             "startlinecolor": "#2a3f5f"
            },
            "type": "carpet"
           }
          ],
          "choropleth": [
           {
            "colorbar": {
             "outlinewidth": 0,
             "ticks": ""
            },
            "type": "choropleth"
           }
          ],
          "contour": [
           {
            "colorbar": {
             "outlinewidth": 0,
             "ticks": ""
            },
            "colorscale": [
             [
              0,
              "#0d0887"
             ],
             [
              0.1111111111111111,
              "#46039f"
             ],
             [
              0.2222222222222222,
              "#7201a8"
             ],
             [
              0.3333333333333333,
              "#9c179e"
             ],
             [
              0.4444444444444444,
              "#bd3786"
             ],
             [
              0.5555555555555556,
              "#d8576b"
             ],
             [
              0.6666666666666666,
              "#ed7953"
             ],
             [
              0.7777777777777778,
              "#fb9f3a"
             ],
             [
              0.8888888888888888,
              "#fdca26"
             ],
             [
              1,
              "#f0f921"
             ]
            ],
            "type": "contour"
           }
          ],
          "contourcarpet": [
           {
            "colorbar": {
             "outlinewidth": 0,
             "ticks": ""
            },
            "type": "contourcarpet"
           }
          ],
          "heatmap": [
           {
            "colorbar": {
             "outlinewidth": 0,
             "ticks": ""
            },
            "colorscale": [
             [
              0,
              "#0d0887"
             ],
             [
              0.1111111111111111,
              "#46039f"
             ],
             [
              0.2222222222222222,
              "#7201a8"
             ],
             [
              0.3333333333333333,
              "#9c179e"
             ],
             [
              0.4444444444444444,
              "#bd3786"
             ],
             [
              0.5555555555555556,
              "#d8576b"
             ],
             [
              0.6666666666666666,
              "#ed7953"
             ],
             [
              0.7777777777777778,
              "#fb9f3a"
             ],
             [
              0.8888888888888888,
              "#fdca26"
             ],
             [
              1,
              "#f0f921"
             ]
            ],
            "type": "heatmap"
           }
          ],
          "heatmapgl": [
           {
            "colorbar": {
             "outlinewidth": 0,
             "ticks": ""
            },
            "colorscale": [
             [
              0,
              "#0d0887"
             ],
             [
              0.1111111111111111,
              "#46039f"
             ],
             [
              0.2222222222222222,
              "#7201a8"
             ],
             [
              0.3333333333333333,
              "#9c179e"
             ],
             [
              0.4444444444444444,
              "#bd3786"
             ],
             [
              0.5555555555555556,
              "#d8576b"
             ],
             [
              0.6666666666666666,
              "#ed7953"
             ],
             [
              0.7777777777777778,
              "#fb9f3a"
             ],
             [
              0.8888888888888888,
              "#fdca26"
             ],
             [
              1,
              "#f0f921"
             ]
            ],
            "type": "heatmapgl"
           }
          ],
          "histogram": [
           {
            "marker": {
             "pattern": {
              "fillmode": "overlay",
              "size": 10,
              "solidity": 0.2
             }
            },
            "type": "histogram"
           }
          ],
          "histogram2d": [
           {
            "colorbar": {
             "outlinewidth": 0,
             "ticks": ""
            },
            "colorscale": [
             [
              0,
              "#0d0887"
             ],
             [
              0.1111111111111111,
              "#46039f"
             ],
             [
              0.2222222222222222,
              "#7201a8"
             ],
             [
              0.3333333333333333,
              "#9c179e"
             ],
             [
              0.4444444444444444,
              "#bd3786"
             ],
             [
              0.5555555555555556,
              "#d8576b"
             ],
             [
              0.6666666666666666,
              "#ed7953"
             ],
             [
              0.7777777777777778,
              "#fb9f3a"
             ],
             [
              0.8888888888888888,
              "#fdca26"
             ],
             [
              1,
              "#f0f921"
             ]
            ],
            "type": "histogram2d"
           }
          ],
          "histogram2dcontour": [
           {
            "colorbar": {
             "outlinewidth": 0,
             "ticks": ""
            },
            "colorscale": [
             [
              0,
              "#0d0887"
             ],
             [
              0.1111111111111111,
              "#46039f"
             ],
             [
              0.2222222222222222,
              "#7201a8"
             ],
             [
              0.3333333333333333,
              "#9c179e"
             ],
             [
              0.4444444444444444,
              "#bd3786"
             ],
             [
              0.5555555555555556,
              "#d8576b"
             ],
             [
              0.6666666666666666,
              "#ed7953"
             ],
             [
              0.7777777777777778,
              "#fb9f3a"
             ],
             [
              0.8888888888888888,
              "#fdca26"
             ],
             [
              1,
              "#f0f921"
             ]
            ],
            "type": "histogram2dcontour"
           }
          ],
          "mesh3d": [
           {
            "colorbar": {
             "outlinewidth": 0,
             "ticks": ""
            },
            "type": "mesh3d"
           }
          ],
          "parcoords": [
           {
            "line": {
             "colorbar": {
              "outlinewidth": 0,
              "ticks": ""
             }
            },
            "type": "parcoords"
           }
          ],
          "pie": [
           {
            "automargin": true,
            "type": "pie"
           }
          ],
          "scatter": [
           {
            "fillpattern": {
             "fillmode": "overlay",
             "size": 10,
             "solidity": 0.2
            },
            "type": "scatter"
           }
          ],
          "scatter3d": [
           {
            "line": {
             "colorbar": {
              "outlinewidth": 0,
              "ticks": ""
             }
            },
            "marker": {
             "colorbar": {
              "outlinewidth": 0,
              "ticks": ""
             }
            },
            "type": "scatter3d"
           }
          ],
          "scattercarpet": [
           {
            "marker": {
             "colorbar": {
              "outlinewidth": 0,
              "ticks": ""
             }
            },
            "type": "scattercarpet"
           }
          ],
          "scattergeo": [
           {
            "marker": {
             "colorbar": {
              "outlinewidth": 0,
              "ticks": ""
             }
            },
            "type": "scattergeo"
           }
          ],
          "scattergl": [
           {
            "marker": {
             "colorbar": {
              "outlinewidth": 0,
              "ticks": ""
             }
            },
            "type": "scattergl"
           }
          ],
          "scattermapbox": [
           {
            "marker": {
             "colorbar": {
              "outlinewidth": 0,
              "ticks": ""
             }
            },
            "type": "scattermapbox"
           }
          ],
          "scatterpolar": [
           {
            "marker": {
             "colorbar": {
              "outlinewidth": 0,
              "ticks": ""
             }
            },
            "type": "scatterpolar"
           }
          ],
          "scatterpolargl": [
           {
            "marker": {
             "colorbar": {
              "outlinewidth": 0,
              "ticks": ""
             }
            },
            "type": "scatterpolargl"
           }
          ],
          "scatterternary": [
           {
            "marker": {
             "colorbar": {
              "outlinewidth": 0,
              "ticks": ""
             }
            },
            "type": "scatterternary"
           }
          ],
          "surface": [
           {
            "colorbar": {
             "outlinewidth": 0,
             "ticks": ""
            },
            "colorscale": [
             [
              0,
              "#0d0887"
             ],
             [
              0.1111111111111111,
              "#46039f"
             ],
             [
              0.2222222222222222,
              "#7201a8"
             ],
             [
              0.3333333333333333,
              "#9c179e"
             ],
             [
              0.4444444444444444,
              "#bd3786"
             ],
             [
              0.5555555555555556,
              "#d8576b"
             ],
             [
              0.6666666666666666,
              "#ed7953"
             ],
             [
              0.7777777777777778,
              "#fb9f3a"
             ],
             [
              0.8888888888888888,
              "#fdca26"
             ],
             [
              1,
              "#f0f921"
             ]
            ],
            "type": "surface"
           }
          ],
          "table": [
           {
            "cells": {
             "fill": {
              "color": "#EBF0F8"
             },
             "line": {
              "color": "white"
             }
            },
            "header": {
             "fill": {
              "color": "#C8D4E3"
             },
             "line": {
              "color": "white"
             }
            },
            "type": "table"
           }
          ]
         },
         "layout": {
          "annotationdefaults": {
           "arrowcolor": "#2a3f5f",
           "arrowhead": 0,
           "arrowwidth": 1
          },
          "autotypenumbers": "strict",
          "coloraxis": {
           "colorbar": {
            "outlinewidth": 0,
            "ticks": ""
           }
          },
          "colorscale": {
           "diverging": [
            [
             0,
             "#8e0152"
            ],
            [
             0.1,
             "#c51b7d"
            ],
            [
             0.2,
             "#de77ae"
            ],
            [
             0.3,
             "#f1b6da"
            ],
            [
             0.4,
             "#fde0ef"
            ],
            [
             0.5,
             "#f7f7f7"
            ],
            [
             0.6,
             "#e6f5d0"
            ],
            [
             0.7,
             "#b8e186"
            ],
            [
             0.8,
             "#7fbc41"
            ],
            [
             0.9,
             "#4d9221"
            ],
            [
             1,
             "#276419"
            ]
           ],
           "sequential": [
            [
             0,
             "#0d0887"
            ],
            [
             0.1111111111111111,
             "#46039f"
            ],
            [
             0.2222222222222222,
             "#7201a8"
            ],
            [
             0.3333333333333333,
             "#9c179e"
            ],
            [
             0.4444444444444444,
             "#bd3786"
            ],
            [
             0.5555555555555556,
             "#d8576b"
            ],
            [
             0.6666666666666666,
             "#ed7953"
            ],
            [
             0.7777777777777778,
             "#fb9f3a"
            ],
            [
             0.8888888888888888,
             "#fdca26"
            ],
            [
             1,
             "#f0f921"
            ]
           ],
           "sequentialminus": [
            [
             0,
             "#0d0887"
            ],
            [
             0.1111111111111111,
             "#46039f"
            ],
            [
             0.2222222222222222,
             "#7201a8"
            ],
            [
             0.3333333333333333,
             "#9c179e"
            ],
            [
             0.4444444444444444,
             "#bd3786"
            ],
            [
             0.5555555555555556,
             "#d8576b"
            ],
            [
             0.6666666666666666,
             "#ed7953"
            ],
            [
             0.7777777777777778,
             "#fb9f3a"
            ],
            [
             0.8888888888888888,
             "#fdca26"
            ],
            [
             1,
             "#f0f921"
            ]
           ]
          },
          "colorway": [
           "#636efa",
           "#EF553B",
           "#00cc96",
           "#ab63fa",
           "#FFA15A",
           "#19d3f3",
           "#FF6692",
           "#B6E880",
           "#FF97FF",
           "#FECB52"
          ],
          "font": {
           "color": "#2a3f5f"
          },
          "geo": {
           "bgcolor": "white",
           "lakecolor": "white",
           "landcolor": "#E5ECF6",
           "showlakes": true,
           "showland": true,
           "subunitcolor": "white"
          },
          "hoverlabel": {
           "align": "left"
          },
          "hovermode": "closest",
          "mapbox": {
           "style": "light"
          },
          "paper_bgcolor": "white",
          "plot_bgcolor": "#E5ECF6",
          "polar": {
           "angularaxis": {
            "gridcolor": "white",
            "linecolor": "white",
            "ticks": ""
           },
           "bgcolor": "#E5ECF6",
           "radialaxis": {
            "gridcolor": "white",
            "linecolor": "white",
            "ticks": ""
           }
          },
          "scene": {
           "xaxis": {
            "backgroundcolor": "#E5ECF6",
            "gridcolor": "white",
            "gridwidth": 2,
            "linecolor": "white",
            "showbackground": true,
            "ticks": "",
            "zerolinecolor": "white"
           },
           "yaxis": {
            "backgroundcolor": "#E5ECF6",
            "gridcolor": "white",
            "gridwidth": 2,
            "linecolor": "white",
            "showbackground": true,
            "ticks": "",
            "zerolinecolor": "white"
           },
           "zaxis": {
            "backgroundcolor": "#E5ECF6",
            "gridcolor": "white",
            "gridwidth": 2,
            "linecolor": "white",
            "showbackground": true,
            "ticks": "",
            "zerolinecolor": "white"
           }
          },
          "shapedefaults": {
           "line": {
            "color": "#2a3f5f"
           }
          },
          "ternary": {
           "aaxis": {
            "gridcolor": "white",
            "linecolor": "white",
            "ticks": ""
           },
           "baxis": {
            "gridcolor": "white",
            "linecolor": "white",
            "ticks": ""
           },
           "bgcolor": "#E5ECF6",
           "caxis": {
            "gridcolor": "white",
            "linecolor": "white",
            "ticks": ""
           }
          },
          "title": {
           "x": 0.05
          },
          "xaxis": {
           "automargin": true,
           "gridcolor": "white",
           "linecolor": "white",
           "ticks": "",
           "title": {
            "standoff": 15
           },
           "zerolinecolor": "white",
           "zerolinewidth": 2
          },
          "yaxis": {
           "automargin": true,
           "gridcolor": "white",
           "linecolor": "white",
           "ticks": "",
           "title": {
            "standoff": 15
           },
           "zerolinecolor": "white",
           "zerolinewidth": 2
          }
         }
        },
        "title": {
         "text": "LSTM Model"
        },
        "xaxis": {
         "rangeselector": {
          "buttons": [
           {
            "count": 1,
            "label": "1.zoom",
            "step": "hour",
            "stepmode": "backward"
           },
           {
            "count": 2,
            "label": "2.zoom",
            "step": "hour",
            "stepmode": "backward"
           },
           {
            "count": 3,
            "label": "3.zoom",
            "step": "day",
            "stepmode": "backward"
           },
           {
            "step": "all"
           }
          ]
         },
         "rangeslider": {
          "visible": true
         },
         "title": {
          "text": "Date"
         },
         "type": "date"
        },
        "yaxis": {
         "title": {
          "text": "Cloud cover"
         }
        }
       }
      }
     },
     "metadata": {},
     "output_type": "display_data"
    }
   ],
   "source": [
    "fig = go.Figure()\n",
    "fig.add_trace(go.Scatter(mode = 'lines', x = train1['DateTime'], y = train1['cloud_cover'], name = 'Train'))\n",
    "fig.add_trace(go.Scatter(mode = 'lines', x = test1['DateTime'], y = test1['cloud_cover'], name = 'Actual'))\n",
    "fig.add_trace(go.Scatter(mode = 'lines', x = test1['DateTime'], y = test1['LSTM'], name = 'predict'))\n",
    "fig.update_layout(\n",
    "    autosize=True,\n",
    "    height=600,\n",
    "    title=\"LSTM Model\",\n",
    "    xaxis_title=\"Date\",\n",
    "    yaxis_title=\"Cloud cover\",\n",
    ")\n",
    "\n",
    "\n",
    "fig.update_layout(\n",
    "    xaxis=dict(\n",
    "        rangeselector=dict(\n",
    "            buttons=list([\n",
    "                dict(count=1,\n",
    "                     label=\"1.zoom\",\n",
    "                     step=\"hour\",\n",
    "                     stepmode=\"backward\"),\n",
    "                 dict(count=2,\n",
    "                     label=\"2.zoom\",\n",
    "                     step=\"hour\",\n",
    "                     stepmode=\"backward\"),\n",
    "                dict(count=3,\n",
    "                     label=\"3.zoom\",\n",
    "                     step=\"day\",\n",
    "                     stepmode=\"backward\"),              \n",
    "\n",
    "                dict(step=\"all\")\n",
    "            ])\n",
    "        ),\n",
    "        rangeslider=dict(\n",
    "            visible=True\n",
    "        ),\n",
    "        type=\"date\"\n",
    "    )\n",
    ")\n",
    "\n",
    "fig.show()"
   ]
  },
  {
   "cell_type": "code",
   "execution_count": 63,
   "metadata": {},
   "outputs": [
    {
     "data": {
      "text/plain": [
       "0.03696887166333343"
      ]
     },
     "execution_count": 63,
     "metadata": {},
     "output_type": "execute_result"
    }
   ],
   "source": [
    "lstm_mse_error = mean_squared_error(test['cloud_cover'], test['LSTM'], squared=True)\n",
    "lstm_mse_error"
   ]
  },
  {
   "cell_type": "code",
   "execution_count": null,
   "metadata": {},
   "outputs": [],
   "source": []
  }
 ],
 "metadata": {
  "kernelspec": {
   "display_name": "Python 3",
   "language": "python",
   "name": "python3"
  },
  "language_info": {
   "codemirror_mode": {
    "name": "ipython",
    "version": 3
   },
   "file_extension": ".py",
   "mimetype": "text/x-python",
   "name": "python",
   "nbconvert_exporter": "python",
   "pygments_lexer": "ipython3",
   "version": "3.10.7"
  },
  "orig_nbformat": 4,
  "vscode": {
   "interpreter": {
    "hash": "df95319d8ce4e1d89f5365ae10992bc1f65da593082b1d264e8f529830ec2f02"
   }
  }
 },
 "nbformat": 4,
 "nbformat_minor": 2
}
