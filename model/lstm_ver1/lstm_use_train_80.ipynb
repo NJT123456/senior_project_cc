{
 "cells": [
  {
   "cell_type": "code",
   "execution_count": 2,
   "id": "9d3f1a2f",
   "metadata": {},
   "outputs": [],
   "source": [
    "import pandas as pd\n",
    "import numpy as np\n",
    "import matplotlib.pyplot as plt\n",
    "import seaborn as sns\n",
    "import plotly.graph_objects as go\n",
    "from sklearn.model_selection import train_test_split\n",
    "from sklearn.preprocessing import MinMaxScaler\n",
    "from keras.models import Sequential\n",
    "from keras.layers import Dense\n",
    "from keras.layers import LSTM\n",
    "from keras.layers import Dropout"
   ]
  },
  {
   "cell_type": "markdown",
   "id": "73f82523",
   "metadata": {},
   "source": [
    "# Prepare Data"
   ]
  },
  {
   "cell_type": "code",
   "execution_count": 3,
   "id": "fa552e57",
   "metadata": {},
   "outputs": [
    {
     "data": {
      "text/html": [
       "<div>\n",
       "<style scoped>\n",
       "    .dataframe tbody tr th:only-of-type {\n",
       "        vertical-align: middle;\n",
       "    }\n",
       "\n",
       "    .dataframe tbody tr th {\n",
       "        vertical-align: top;\n",
       "    }\n",
       "\n",
       "    .dataframe thead th {\n",
       "        text-align: right;\n",
       "    }\n",
       "</style>\n",
       "<table border=\"1\" class=\"dataframe\">\n",
       "  <thead>\n",
       "    <tr style=\"text-align: right;\">\n",
       "      <th></th>\n",
       "      <th>cloud_cover</th>\n",
       "      <th>DateTime</th>\n",
       "    </tr>\n",
       "  </thead>\n",
       "  <tbody>\n",
       "    <tr>\n",
       "      <th>0</th>\n",
       "      <td>0.990000</td>\n",
       "      <td>2021-11-16 11:15:00</td>\n",
       "    </tr>\n",
       "    <tr>\n",
       "      <th>1</th>\n",
       "      <td>0.989000</td>\n",
       "      <td>2021-11-16 11:16:00</td>\n",
       "    </tr>\n",
       "    <tr>\n",
       "      <th>2</th>\n",
       "      <td>0.987667</td>\n",
       "      <td>2021-11-16 11:17:00</td>\n",
       "    </tr>\n",
       "    <tr>\n",
       "      <th>3</th>\n",
       "      <td>0.987000</td>\n",
       "      <td>2021-11-16 11:18:00</td>\n",
       "    </tr>\n",
       "    <tr>\n",
       "      <th>4</th>\n",
       "      <td>0.987000</td>\n",
       "      <td>2021-11-16 11:19:00</td>\n",
       "    </tr>\n",
       "    <tr>\n",
       "      <th>...</th>\n",
       "      <td>...</td>\n",
       "      <td>...</td>\n",
       "    </tr>\n",
       "    <tr>\n",
       "      <th>15056</th>\n",
       "      <td>0.168000</td>\n",
       "      <td>2021-12-16 13:58:00</td>\n",
       "    </tr>\n",
       "    <tr>\n",
       "      <th>15057</th>\n",
       "      <td>0.169000</td>\n",
       "      <td>2021-12-16 13:59:00</td>\n",
       "    </tr>\n",
       "    <tr>\n",
       "      <th>15058</th>\n",
       "      <td>0.147000</td>\n",
       "      <td>2021-12-16 14:00:00</td>\n",
       "    </tr>\n",
       "    <tr>\n",
       "      <th>15059</th>\n",
       "      <td>0.145000</td>\n",
       "      <td>2021-12-16 14:01:00</td>\n",
       "    </tr>\n",
       "    <tr>\n",
       "      <th>15060</th>\n",
       "      <td>0.144000</td>\n",
       "      <td>2021-12-16 14:02:00</td>\n",
       "    </tr>\n",
       "  </tbody>\n",
       "</table>\n",
       "<p>15061 rows × 2 columns</p>\n",
       "</div>"
      ],
      "text/plain": [
       "       cloud_cover            DateTime\n",
       "0         0.990000 2021-11-16 11:15:00\n",
       "1         0.989000 2021-11-16 11:16:00\n",
       "2         0.987667 2021-11-16 11:17:00\n",
       "3         0.987000 2021-11-16 11:18:00\n",
       "4         0.987000 2021-11-16 11:19:00\n",
       "...            ...                 ...\n",
       "15056     0.168000 2021-12-16 13:58:00\n",
       "15057     0.169000 2021-12-16 13:59:00\n",
       "15058     0.147000 2021-12-16 14:00:00\n",
       "15059     0.145000 2021-12-16 14:01:00\n",
       "15060     0.144000 2021-12-16 14:02:00\n",
       "\n",
       "[15061 rows x 2 columns]"
      ]
     },
     "execution_count": 3,
     "metadata": {},
     "output_type": "execute_result"
    }
   ],
   "source": [
    "cloud_cover = pd.read_csv('../succeed-prophet/Bangkhuntean_CloudCover_2021-16Nov-16Dec.csv',skipinitialspace = True)\n",
    "cloud_cover['Date'] = cloud_cover[['Year', 'Month', 'Day']].apply(lambda x: \"{0}-{1}-{2}\".format(str(x[0]).zfill(2), str(x[1]).zfill(2), str(x[2]).zfill(2)), axis=1) \n",
    "cloud_cover['Time'] = cloud_cover[['Hour', 'Minute']].apply(lambda x: \"{}:{}\".format(str(x[0]).zfill(2), str(x[1]).zfill(2)), axis=1)\n",
    "cloud_cover.drop([\"Year\", \"Month\", \"Day\", \"Hour\", \"Minute\", \"Second\"], axis=1, inplace=True)  \n",
    "cloud_cover = cloud_cover.rename(columns={\"CloudCover\":\"cloud_cover\"})\n",
    "cloud_cover = cloud_cover.groupby(['Date', 'Time']).agg(cloud_cover=('cloud_cover','mean')).reset_index()\n",
    "cloud_cover['DateTime'] = cloud_cover[['Date', 'Time']].apply(lambda x: \"{} {}\".format(str(x[0]).zfill(2), str(x[1]).zfill(2)), axis=1)\n",
    "cloud_cover.drop([\"Date\", \"Time\"], axis=1, inplace=True)        \n",
    "cloud_cover['DateTime'] = pd.to_datetime(cloud_cover['DateTime'], format=\"%Y-%m-%d %H:%M\")\n",
    "cloud_cover.dropna(inplace=True)\n",
    "cloud_cover\n"
   ]
  },
  {
   "cell_type": "markdown",
   "id": "ab1e8998",
   "metadata": {},
   "source": [
    "# Train/Test Model"
   ]
  },
  {
   "cell_type": "code",
   "execution_count": 4,
   "id": "7663fdb6",
   "metadata": {},
   "outputs": [
    {
     "name": "stdout",
     "output_type": "stream",
     "text": [
      "Train Shape (12048, 2)\n",
      "Test Shape (3013, 2)\n"
     ]
    }
   ],
   "source": [
    "train,test = train_test_split(cloud_cover, train_size=0.8, shuffle=False)\n",
    "print('Train Shape', train.shape)\n",
    "print('Test Shape', test.shape)"
   ]
  },
  {
   "cell_type": "code",
   "execution_count": 5,
   "id": "bd72374d",
   "metadata": {},
   "outputs": [],
   "source": [
    "train = train.set_index('DateTime')\n",
    "test = test.set_index('DateTime')\n",
    "\n",
    "sc = MinMaxScaler(feature_range = (0, 1))\n",
    "training_set_scaled = sc.fit_transform(train)\n",
    "\n",
    "X_train = []\n",
    "y_train = []\n",
    "for i in range(30, 12048):\n",
    "    X_train.append(training_set_scaled[i-30:i, 0])\n",
    "    y_train.append(training_set_scaled[i, 0])\n",
    "X_train, y_train = np.array(X_train), np.array(y_train)"
   ]
  },
  {
   "cell_type": "code",
   "execution_count": 6,
   "id": "8780c345",
   "metadata": {},
   "outputs": [],
   "source": [
    "X_train = np.reshape(X_train, (X_train.shape[0], X_train.shape[1], 1))"
   ]
  },
  {
   "cell_type": "code",
   "execution_count": 7,
   "id": "bb002fad",
   "metadata": {},
   "outputs": [
    {
     "name": "stderr",
     "output_type": "stream",
     "text": [
      "c:\\Users\\USER\\AppData\\Local\\Programs\\Python\\Python310\\lib\\site-packages\\sklearn\\base.py:450: UserWarning: X does not have valid feature names, but MinMaxScaler was fitted with feature names\n",
      "  warnings.warn(\n"
     ]
    }
   ],
   "source": [
    "dataset_total = pd.concat((train['cloud_cover'],test['cloud_cover']), axis = 0)\n",
    "inputs = dataset_total[len(dataset_total) - len(test) - 30:].values\n",
    "inputs = inputs.reshape(-1,1)\n",
    "inputs = sc.transform(inputs)\n",
    "X_test = []\n",
    "for i in range(30, 3043):\n",
    "    X_test.append(inputs[i-30:i, 0])\n",
    "X_test = np.array(X_test)\n",
    "X_test = np.reshape(X_test, (X_test.shape[0], X_test.shape[1], 1))"
   ]
  },
  {
   "cell_type": "code",
   "execution_count": 8,
   "id": "4324f314",
   "metadata": {},
   "outputs": [
    {
     "name": "stdout",
     "output_type": "stream",
     "text": [
      "(3013, 30, 1)\n"
     ]
    }
   ],
   "source": [
    "print(X_test.shape)"
   ]
  },
  {
   "attachments": {},
   "cell_type": "markdown",
   "id": "96926328",
   "metadata": {},
   "source": [
    "## Add first layer: units = 50"
   ]
  },
  {
   "cell_type": "code",
   "execution_count": 57,
   "id": "17d3de99",
   "metadata": {},
   "outputs": [],
   "source": [
    "regressor = Sequential()\n",
    "regressor.add(LSTM(units = 50, return_sequences = False, input_shape = (X_train.shape[1], 1)))\n",
    "regressor.add(Dense(units = 1))\n",
    "regressor.compile(optimizer = 'adam', loss = 'mean_squared_error')"
   ]
  },
  {
   "cell_type": "code",
   "execution_count": 58,
   "id": "b9786e56",
   "metadata": {},
   "outputs": [
    {
     "name": "stdout",
     "output_type": "stream",
     "text": [
      "Epoch 1/30\n",
      "376/376 [==============================] - 6s 10ms/step - loss: 0.0097\n",
      "Epoch 2/30\n",
      "376/376 [==============================] - 4s 10ms/step - loss: 0.0024\n",
      "Epoch 3/30\n",
      "376/376 [==============================] - 4s 10ms/step - loss: 0.0019\n",
      "Epoch 4/30\n",
      "376/376 [==============================] - 4s 10ms/step - loss: 0.0016\n",
      "Epoch 5/30\n",
      "376/376 [==============================] - 4s 10ms/step - loss: 0.0013\n",
      "Epoch 6/30\n",
      "376/376 [==============================] - 4s 10ms/step - loss: 0.0012\n",
      "Epoch 7/30\n",
      "376/376 [==============================] - 4s 10ms/step - loss: 0.0011\n",
      "Epoch 8/30\n",
      "376/376 [==============================] - 4s 10ms/step - loss: 0.0011\n",
      "Epoch 9/30\n",
      "376/376 [==============================] - 4s 10ms/step - loss: 0.0010\n",
      "Epoch 10/30\n",
      "376/376 [==============================] - 4s 10ms/step - loss: 9.8217e-04\n",
      "Epoch 11/30\n",
      "376/376 [==============================] - 4s 11ms/step - loss: 9.6920e-04\n",
      "Epoch 12/30\n",
      "376/376 [==============================] - 4s 10ms/step - loss: 9.6396e-04\n",
      "Epoch 13/30\n",
      "376/376 [==============================] - 4s 10ms/step - loss: 9.6006e-04\n",
      "Epoch 14/30\n",
      "376/376 [==============================] - 4s 10ms/step - loss: 9.5586e-04\n",
      "Epoch 15/30\n",
      "376/376 [==============================] - 4s 10ms/step - loss: 9.5480e-04\n",
      "Epoch 16/30\n",
      "376/376 [==============================] - 4s 10ms/step - loss: 9.4431e-04\n",
      "Epoch 17/30\n",
      "376/376 [==============================] - 4s 10ms/step - loss: 9.5417e-04\n",
      "Epoch 18/30\n",
      "376/376 [==============================] - 4s 10ms/step - loss: 9.5165e-04\n",
      "Epoch 19/30\n",
      "376/376 [==============================] - 4s 10ms/step - loss: 9.4256e-04\n",
      "Epoch 20/30\n",
      "376/376 [==============================] - 4s 10ms/step - loss: 9.5037e-04\n",
      "Epoch 21/30\n",
      "376/376 [==============================] - 4s 10ms/step - loss: 9.4360e-04\n",
      "Epoch 22/30\n",
      "376/376 [==============================] - 4s 10ms/step - loss: 9.5422e-04\n",
      "Epoch 23/30\n",
      "376/376 [==============================] - 4s 11ms/step - loss: 9.5999e-04\n",
      "Epoch 24/30\n",
      "376/376 [==============================] - 4s 11ms/step - loss: 9.3762e-04\n",
      "Epoch 25/30\n",
      "376/376 [==============================] - 4s 10ms/step - loss: 9.4102e-04\n",
      "Epoch 26/30\n",
      "376/376 [==============================] - 4s 10ms/step - loss: 9.3206e-04\n",
      "Epoch 27/30\n",
      "376/376 [==============================] - 4s 10ms/step - loss: 9.4408e-04\n",
      "Epoch 28/30\n",
      "376/376 [==============================] - 4s 10ms/step - loss: 9.4116e-04\n",
      "Epoch 29/30\n",
      "376/376 [==============================] - 4s 10ms/step - loss: 9.4629e-04\n",
      "Epoch 30/30\n",
      "376/376 [==============================] - 4s 10ms/step - loss: 9.4038e-04\n"
     ]
    },
    {
     "data": {
      "text/plain": [
       "<keras.callbacks.History at 0x1e300f56170>"
      ]
     },
     "execution_count": 58,
     "metadata": {},
     "output_type": "execute_result"
    }
   ],
   "source": [
    "regressor.fit(X_train, y_train, epochs = 30, batch_size = 32)"
   ]
  },
  {
   "cell_type": "code",
   "execution_count": 59,
   "id": "672faeb6",
   "metadata": {},
   "outputs": [
    {
     "name": "stdout",
     "output_type": "stream",
     "text": [
      "95/95 [==============================] - 1s 4ms/step\n"
     ]
    },
    {
     "data": {
      "text/plain": [
       "array([[0.5489953 ],\n",
       "       [0.5316355 ],\n",
       "       [0.58522004],\n",
       "       ...,\n",
       "       [0.16314533],\n",
       "       [0.14125761],\n",
       "       [0.14019029]], dtype=float32)"
      ]
     },
     "execution_count": 59,
     "metadata": {},
     "output_type": "execute_result"
    }
   ],
   "source": [
    "predict_scaled = regressor.predict(X_test)\n",
    "predict_scaled"
   ]
  },
  {
   "cell_type": "code",
   "execution_count": 60,
   "id": "c7ed5c85",
   "metadata": {},
   "outputs": [
    {
     "data": {
      "text/plain": [
       "array([[0.5501228 ],\n",
       "       [0.5328064 ],\n",
       "       [0.586257  ],\n",
       "       ...,\n",
       "       [0.16523747],\n",
       "       [0.14340447],\n",
       "       [0.14233981]], dtype=float32)"
      ]
     },
     "execution_count": 60,
     "metadata": {},
     "output_type": "execute_result"
    }
   ],
   "source": [
    "predict = sc.inverse_transform(predict_scaled)\n",
    "predict"
   ]
  },
  {
   "cell_type": "code",
   "execution_count": 61,
   "id": "d18cce62",
   "metadata": {},
   "outputs": [
    {
     "data": {
      "text/html": [
       "<div>\n",
       "<style scoped>\n",
       "    .dataframe tbody tr th:only-of-type {\n",
       "        vertical-align: middle;\n",
       "    }\n",
       "\n",
       "    .dataframe tbody tr th {\n",
       "        vertical-align: top;\n",
       "    }\n",
       "\n",
       "    .dataframe thead th {\n",
       "        text-align: right;\n",
       "    }\n",
       "</style>\n",
       "<table border=\"1\" class=\"dataframe\">\n",
       "  <thead>\n",
       "    <tr style=\"text-align: right;\">\n",
       "      <th></th>\n",
       "      <th>cloud_cover</th>\n",
       "      <th>LSTM</th>\n",
       "    </tr>\n",
       "    <tr>\n",
       "      <th>DateTime</th>\n",
       "      <th></th>\n",
       "      <th></th>\n",
       "    </tr>\n",
       "  </thead>\n",
       "  <tbody>\n",
       "    <tr>\n",
       "      <th>2021-12-10 15:24:00</th>\n",
       "      <td>0.538</td>\n",
       "      <td>0.550123</td>\n",
       "    </tr>\n",
       "    <tr>\n",
       "      <th>2021-12-10 15:25:00</th>\n",
       "      <td>0.588</td>\n",
       "      <td>0.532806</td>\n",
       "    </tr>\n",
       "    <tr>\n",
       "      <th>2021-12-10 15:26:00</th>\n",
       "      <td>0.566</td>\n",
       "      <td>0.586257</td>\n",
       "    </tr>\n",
       "    <tr>\n",
       "      <th>2021-12-10 15:27:00</th>\n",
       "      <td>0.562</td>\n",
       "      <td>0.555921</td>\n",
       "    </tr>\n",
       "    <tr>\n",
       "      <th>2021-12-10 15:28:00</th>\n",
       "      <td>0.612</td>\n",
       "      <td>0.555104</td>\n",
       "    </tr>\n",
       "    <tr>\n",
       "      <th>...</th>\n",
       "      <td>...</td>\n",
       "      <td>...</td>\n",
       "    </tr>\n",
       "    <tr>\n",
       "      <th>2021-12-16 13:58:00</th>\n",
       "      <td>0.168</td>\n",
       "      <td>0.164177</td>\n",
       "    </tr>\n",
       "    <tr>\n",
       "      <th>2021-12-16 13:59:00</th>\n",
       "      <td>0.169</td>\n",
       "      <td>0.164265</td>\n",
       "    </tr>\n",
       "    <tr>\n",
       "      <th>2021-12-16 14:00:00</th>\n",
       "      <td>0.147</td>\n",
       "      <td>0.165237</td>\n",
       "    </tr>\n",
       "    <tr>\n",
       "      <th>2021-12-16 14:01:00</th>\n",
       "      <td>0.145</td>\n",
       "      <td>0.143404</td>\n",
       "    </tr>\n",
       "    <tr>\n",
       "      <th>2021-12-16 14:02:00</th>\n",
       "      <td>0.144</td>\n",
       "      <td>0.142340</td>\n",
       "    </tr>\n",
       "  </tbody>\n",
       "</table>\n",
       "<p>3013 rows × 2 columns</p>\n",
       "</div>"
      ],
      "text/plain": [
       "                     cloud_cover      LSTM\n",
       "DateTime                                  \n",
       "2021-12-10 15:24:00        0.538  0.550123\n",
       "2021-12-10 15:25:00        0.588  0.532806\n",
       "2021-12-10 15:26:00        0.566  0.586257\n",
       "2021-12-10 15:27:00        0.562  0.555921\n",
       "2021-12-10 15:28:00        0.612  0.555104\n",
       "...                          ...       ...\n",
       "2021-12-16 13:58:00        0.168  0.164177\n",
       "2021-12-16 13:59:00        0.169  0.164265\n",
       "2021-12-16 14:00:00        0.147  0.165237\n",
       "2021-12-16 14:01:00        0.145  0.143404\n",
       "2021-12-16 14:02:00        0.144  0.142340\n",
       "\n",
       "[3013 rows x 2 columns]"
      ]
     },
     "execution_count": 61,
     "metadata": {},
     "output_type": "execute_result"
    }
   ],
   "source": [
    "test['LSTM'] = predict\n",
    "test"
   ]
  },
  {
   "cell_type": "code",
   "execution_count": 62,
   "id": "2058fb3d",
   "metadata": {},
   "outputs": [
    {
     "data": {
      "image/png": "[encoded data removed]",
      "text/plain": [
       "<Figure size 640x480 with 1 Axes>"
      ]
     },
     "metadata": {},
     "output_type": "display_data"
    }
   ],
   "source": [
    "plt.plot(test['cloud_cover'], color = 'red', label = 'test')\n",
    "plt.xlabel('Time')\n",
    "plt.ylabel('cloud_cover')\n",
    "plt.legend()\n",
    "plt.show()"
   ]
  },
  {
   "cell_type": "code",
   "execution_count": 63,
   "id": "63297041",
   "metadata": {},
   "outputs": [
    {
     "data": {
      "image/png": "[encoded data removed]",
      "text/plain": [
       "<Figure size 640x480 with 1 Axes>"
      ]
     },
     "metadata": {},
     "output_type": "display_data"
    }
   ],
   "source": [
    "plt.plot(test['cloud_cover'], color = 'red', label = 'test')\n",
    "plt.plot(test['LSTM'], color = 'blue', label = 'predict')\n",
    "plt.xlabel('Time')\n",
    "plt.ylabel('cloud_cover')\n",
    "plt.legend()\n",
    "plt.show()"
   ]
  },
  {
   "cell_type": "code",
   "execution_count": 64,
   "id": "cb170186",
   "metadata": {},
   "outputs": [],
   "source": [
    "from sklearn.metrics import mean_squared_error, r2_score, mean_absolute_error"
   ]
  },
  {
   "cell_type": "code",
   "execution_count": 65,
   "id": "3bf15080",
   "metadata": {},
   "outputs": [
    {
     "name": "stdout",
     "output_type": "stream",
     "text": [
      "MSE Error: 0.002039072472871765\n",
      "RMSE Error: 0.04515609009725892\n",
      "MAE: 0.021456673273296794\n",
      "r2_score: 0.9753330770015536\n"
     ]
    }
   ],
   "source": [
    "lstm_mse_error = mean_squared_error(test['cloud_cover'], test['LSTM'], squared=True)\n",
    "lstm_rmse_error = mean_squared_error(test['cloud_cover'], test['LSTM'], squared=False)\n",
    "lstm_mae_error = mean_absolute_error(test['cloud_cover'], test['LSTM'])\n",
    "lstm_r2 = r2_score(test['cloud_cover'], test['LSTM'])\n",
    "print(f'MSE Error: {lstm_mse_error}\\nRMSE Error: {lstm_rmse_error}\\nMAE: {lstm_mae_error}\\nr2_score: {lstm_r2}' )"
   ]
  },
  {
   "cell_type": "markdown",
   "id": "fdf900ca",
   "metadata": {},
   "source": [
    "---"
   ]
  },
  {
   "attachments": {},
   "cell_type": "markdown",
   "id": "0a6618c4",
   "metadata": {},
   "source": [
    "## Add frist layer: units = 100"
   ]
  },
  {
   "cell_type": "code",
   "execution_count": 66,
   "id": "499230b9",
   "metadata": {},
   "outputs": [],
   "source": [
    "regressor_1 = Sequential()\n",
    "regressor_1.add(LSTM(units = 100, return_sequences = False, input_shape = (X_train.shape[1], 1)))\n",
    "regressor_1.add(Dense(units = 1))\n",
    "regressor_1.compile(optimizer = 'adam', loss = 'mean_squared_error')"
   ]
  },
  {
   "cell_type": "code",
   "execution_count": 67,
   "id": "a6b136cd",
   "metadata": {},
   "outputs": [
    {
     "name": "stdout",
     "output_type": "stream",
     "text": [
      "Epoch 1/30\n",
      "376/376 [==============================] - 9s 18ms/step - loss: 0.0098\n",
      "Epoch 2/30\n",
      "376/376 [==============================] - 6s 17ms/step - loss: 0.0026\n",
      "Epoch 3/30\n",
      "376/376 [==============================] - 6s 17ms/step - loss: 0.0020\n",
      "Epoch 4/30\n",
      "376/376 [==============================] - 6s 17ms/step - loss: 0.0017\n",
      "Epoch 5/30\n",
      "376/376 [==============================] - 7s 17ms/step - loss: 0.0015\n",
      "Epoch 6/30\n",
      "376/376 [==============================] - 6s 17ms/step - loss: 0.0013\n",
      "Epoch 7/30\n",
      "376/376 [==============================] - 7s 18ms/step - loss: 0.0012\n",
      "Epoch 8/30\n",
      "376/376 [==============================] - 7s 18ms/step - loss: 0.0011\n",
      "Epoch 9/30\n",
      "376/376 [==============================] - 7s 18ms/step - loss: 0.0010\n",
      "Epoch 10/30\n",
      "376/376 [==============================] - 6s 17ms/step - loss: 0.0010\n",
      "Epoch 11/30\n",
      "376/376 [==============================] - 7s 18ms/step - loss: 0.0010\n",
      "Epoch 12/30\n",
      "376/376 [==============================] - 7s 18ms/step - loss: 9.7669e-04\n",
      "Epoch 13/30\n",
      "376/376 [==============================] - 7s 19ms/step - loss: 9.8204e-04\n",
      "Epoch 14/30\n",
      "376/376 [==============================] - 7s 19ms/step - loss: 9.6744e-04\n",
      "Epoch 15/30\n",
      "376/376 [==============================] - 7s 19ms/step - loss: 9.5182e-04\n",
      "Epoch 16/30\n",
      "376/376 [==============================] - 7s 19ms/step - loss: 9.5294e-04\n",
      "Epoch 17/30\n",
      "376/376 [==============================] - 7s 19ms/step - loss: 9.5180e-04\n",
      "Epoch 18/30\n",
      "376/376 [==============================] - 7s 19ms/step - loss: 9.5493e-04\n",
      "Epoch 19/30\n",
      "376/376 [==============================] - 7s 19ms/step - loss: 9.5089e-04\n",
      "Epoch 20/30\n",
      "376/376 [==============================] - 7s 19ms/step - loss: 9.5032e-04\n",
      "Epoch 21/30\n",
      "376/376 [==============================] - 7s 19ms/step - loss: 9.4421e-04\n",
      "Epoch 22/30\n",
      "376/376 [==============================] - 7s 19ms/step - loss: 9.4161e-04\n",
      "Epoch 23/30\n",
      "376/376 [==============================] - 7s 19ms/step - loss: 9.5550e-04\n",
      "Epoch 24/30\n",
      "376/376 [==============================] - 7s 19ms/step - loss: 9.4227e-04\n",
      "Epoch 25/30\n",
      "376/376 [==============================] - 7s 19ms/step - loss: 9.5172e-04\n",
      "Epoch 26/30\n",
      "376/376 [==============================] - 7s 20ms/step - loss: 9.4739e-04\n",
      "Epoch 27/30\n",
      "376/376 [==============================] - 7s 18ms/step - loss: 9.4443e-04\n",
      "Epoch 28/30\n",
      "376/376 [==============================] - 6s 17ms/step - loss: 9.4508e-04\n",
      "Epoch 29/30\n",
      "376/376 [==============================] - 6s 17ms/step - loss: 9.4344e-04\n",
      "Epoch 30/30\n",
      "376/376 [==============================] - 6s 17ms/step - loss: 9.3956e-04\n"
     ]
    },
    {
     "data": {
      "text/plain": [
       "<keras.callbacks.History at 0x1e30d1aa8c0>"
      ]
     },
     "execution_count": 67,
     "metadata": {},
     "output_type": "execute_result"
    }
   ],
   "source": [
    "regressor_1.fit(X_train, y_train, epochs = 30, batch_size = 32)"
   ]
  },
  {
   "cell_type": "code",
   "execution_count": 68,
   "id": "4de8042f",
   "metadata": {},
   "outputs": [
    {
     "name": "stdout",
     "output_type": "stream",
     "text": [
      "95/95 [==============================] - 1s 6ms/step\n"
     ]
    },
    {
     "data": {
      "text/plain": [
       "array([[0.5545891 ],\n",
       "       [0.53663784],\n",
       "       [0.5899076 ],\n",
       "       ...,\n",
       "       [0.16604768],\n",
       "       [0.14441785],\n",
       "       [0.1427689 ]], dtype=float32)"
      ]
     },
     "execution_count": 68,
     "metadata": {},
     "output_type": "execute_result"
    }
   ],
   "source": [
    "predict_scaled_1 = regressor_1.predict(X_test)\n",
    "predict_scaled_1"
   ]
  },
  {
   "cell_type": "code",
   "execution_count": 69,
   "id": "aa0604e6",
   "metadata": {},
   "outputs": [
    {
     "data": {
      "text/plain": [
       "array([[0.5557026 ],\n",
       "       [0.53779626],\n",
       "       [0.5909328 ],\n",
       "       ...,\n",
       "       [0.16813256],\n",
       "       [0.14655681],\n",
       "       [0.14491199]], dtype=float32)"
      ]
     },
     "execution_count": 69,
     "metadata": {},
     "output_type": "execute_result"
    }
   ],
   "source": [
    "predict_1 = sc.inverse_transform(predict_scaled_1)\n",
    "predict_1"
   ]
  },
  {
   "cell_type": "code",
   "execution_count": 70,
   "id": "da16c0a2",
   "metadata": {},
   "outputs": [
    {
     "data": {
      "text/html": [
       "<div>\n",
       "<style scoped>\n",
       "    .dataframe tbody tr th:only-of-type {\n",
       "        vertical-align: middle;\n",
       "    }\n",
       "\n",
       "    .dataframe tbody tr th {\n",
       "        vertical-align: top;\n",
       "    }\n",
       "\n",
       "    .dataframe thead th {\n",
       "        text-align: right;\n",
       "    }\n",
       "</style>\n",
       "<table border=\"1\" class=\"dataframe\">\n",
       "  <thead>\n",
       "    <tr style=\"text-align: right;\">\n",
       "      <th></th>\n",
       "      <th>cloud_cover</th>\n",
       "      <th>LSTM</th>\n",
       "      <th>LSTM_1</th>\n",
       "    </tr>\n",
       "    <tr>\n",
       "      <th>DateTime</th>\n",
       "      <th></th>\n",
       "      <th></th>\n",
       "      <th></th>\n",
       "    </tr>\n",
       "  </thead>\n",
       "  <tbody>\n",
       "    <tr>\n",
       "      <th>2021-12-10 15:24:00</th>\n",
       "      <td>0.538</td>\n",
       "      <td>0.550123</td>\n",
       "      <td>0.555703</td>\n",
       "    </tr>\n",
       "    <tr>\n",
       "      <th>2021-12-10 15:25:00</th>\n",
       "      <td>0.588</td>\n",
       "      <td>0.532806</td>\n",
       "      <td>0.537796</td>\n",
       "    </tr>\n",
       "    <tr>\n",
       "      <th>2021-12-10 15:26:00</th>\n",
       "      <td>0.566</td>\n",
       "      <td>0.586257</td>\n",
       "      <td>0.590933</td>\n",
       "    </tr>\n",
       "    <tr>\n",
       "      <th>2021-12-10 15:27:00</th>\n",
       "      <td>0.562</td>\n",
       "      <td>0.555921</td>\n",
       "      <td>0.563057</td>\n",
       "    </tr>\n",
       "    <tr>\n",
       "      <th>2021-12-10 15:28:00</th>\n",
       "      <td>0.612</td>\n",
       "      <td>0.555104</td>\n",
       "      <td>0.561802</td>\n",
       "    </tr>\n",
       "    <tr>\n",
       "      <th>...</th>\n",
       "      <td>...</td>\n",
       "      <td>...</td>\n",
       "      <td>...</td>\n",
       "    </tr>\n",
       "    <tr>\n",
       "      <th>2021-12-16 13:58:00</th>\n",
       "      <td>0.168</td>\n",
       "      <td>0.164177</td>\n",
       "      <td>0.167105</td>\n",
       "    </tr>\n",
       "    <tr>\n",
       "      <th>2021-12-16 13:59:00</th>\n",
       "      <td>0.169</td>\n",
       "      <td>0.164265</td>\n",
       "      <td>0.167161</td>\n",
       "    </tr>\n",
       "    <tr>\n",
       "      <th>2021-12-16 14:00:00</th>\n",
       "      <td>0.147</td>\n",
       "      <td>0.165237</td>\n",
       "      <td>0.168133</td>\n",
       "    </tr>\n",
       "    <tr>\n",
       "      <th>2021-12-16 14:01:00</th>\n",
       "      <td>0.145</td>\n",
       "      <td>0.143404</td>\n",
       "      <td>0.146557</td>\n",
       "    </tr>\n",
       "    <tr>\n",
       "      <th>2021-12-16 14:02:00</th>\n",
       "      <td>0.144</td>\n",
       "      <td>0.142340</td>\n",
       "      <td>0.144912</td>\n",
       "    </tr>\n",
       "  </tbody>\n",
       "</table>\n",
       "<p>3013 rows × 3 columns</p>\n",
       "</div>"
      ],
      "text/plain": [
       "                     cloud_cover      LSTM    LSTM_1\n",
       "DateTime                                            \n",
       "2021-12-10 15:24:00        0.538  0.550123  0.555703\n",
       "2021-12-10 15:25:00        0.588  0.532806  0.537796\n",
       "2021-12-10 15:26:00        0.566  0.586257  0.590933\n",
       "2021-12-10 15:27:00        0.562  0.555921  0.563057\n",
       "2021-12-10 15:28:00        0.612  0.555104  0.561802\n",
       "...                          ...       ...       ...\n",
       "2021-12-16 13:58:00        0.168  0.164177  0.167105\n",
       "2021-12-16 13:59:00        0.169  0.164265  0.167161\n",
       "2021-12-16 14:00:00        0.147  0.165237  0.168133\n",
       "2021-12-16 14:01:00        0.145  0.143404  0.146557\n",
       "2021-12-16 14:02:00        0.144  0.142340  0.144912\n",
       "\n",
       "[3013 rows x 3 columns]"
      ]
     },
     "execution_count": 70,
     "metadata": {},
     "output_type": "execute_result"
    }
   ],
   "source": [
    "test['LSTM_1'] = predict_1\n",
    "test"
   ]
  },
  {
   "cell_type": "code",
   "execution_count": 71,
   "id": "3a2dac16",
   "metadata": {},
   "outputs": [
    {
     "data": {
      "image/png": "[encoded data removed]",
      "text/plain": [
       "<Figure size 640x480 with 1 Axes>"
      ]
     },
     "metadata": {},
     "output_type": "display_data"
    }
   ],
   "source": [
    "plt.plot(test['cloud_cover'], color = 'red', label = 'test')\n",
    "plt.plot(test['LSTM_1'], color = 'blue', label = 'predict')\n",
    "plt.xlabel('Time')\n",
    "plt.ylabel('cloud_cover')\n",
    "plt.legend()\n",
    "plt.show()"
   ]
  },
  {
   "cell_type": "code",
   "execution_count": 72,
   "id": "e74dcd9e",
   "metadata": {},
   "outputs": [
    {
     "name": "stdout",
     "output_type": "stream",
     "text": [
      "MSE Error: 0.002020609551262122\n",
      "RMSE Error: 0.044951190765786415\n",
      "MAE: 0.020055451975791033\n",
      "r2_score: 0.9755564253482801\n"
     ]
    }
   ],
   "source": [
    "lstm_mse_error = mean_squared_error(test['cloud_cover'], test['LSTM_1'], squared=True)\n",
    "lstm_rmse_error = mean_squared_error(test['cloud_cover'], test['LSTM_1'], squared=False)\n",
    "lstm_mae_error = mean_absolute_error(test['cloud_cover'], test['LSTM_1'])\n",
    "lstm_r2 = r2_score(test['cloud_cover'], test['LSTM_1'])\n",
    "print(f'MSE Error: {lstm_mse_error}\\nRMSE Error: {lstm_rmse_error}\\nMAE: {lstm_mae_error}\\nr2_score: {lstm_r2}' )"
   ]
  },
  {
   "attachments": {},
   "cell_type": "markdown",
   "id": "6e2ac934",
   "metadata": {},
   "source": [
    "------------"
   ]
  },
  {
   "attachments": {},
   "cell_type": "markdown",
   "id": "530a02e4",
   "metadata": {},
   "source": [
    "## Add frist layer: unit = 100 and Add Dropout = 0.1"
   ]
  },
  {
   "cell_type": "code",
   "execution_count": 75,
   "id": "ac1d7f60",
   "metadata": {},
   "outputs": [],
   "source": [
    "regressor_2 = Sequential()\n",
    "regressor_2.add(LSTM(units = 50, return_sequences = False, input_shape = (X_train.shape[1], 1)))\n",
    "regressor_2.add(Dropout(0.1))\n",
    "regressor_2.add(Dense(units = 1))\n",
    "regressor_2.compile(optimizer = 'adam', loss = 'mean_squared_error')"
   ]
  },
  {
   "cell_type": "code",
   "execution_count": 76,
   "id": "e8850706",
   "metadata": {},
   "outputs": [
    {
     "name": "stdout",
     "output_type": "stream",
     "text": [
      "Epoch 1/30\n",
      "376/376 [==============================] - 8s 12ms/step - loss: 0.0116\n",
      "Epoch 2/30\n",
      "376/376 [==============================] - 5s 14ms/step - loss: 0.0035\n",
      "Epoch 3/30\n",
      "376/376 [==============================] - 5s 13ms/step - loss: 0.0029\n",
      "Epoch 4/30\n",
      "376/376 [==============================] - 5s 14ms/step - loss: 0.0026\n",
      "Epoch 5/30\n",
      "376/376 [==============================] - 4s 11ms/step - loss: 0.0023\n",
      "Epoch 6/30\n",
      "376/376 [==============================] - 4s 11ms/step - loss: 0.0021\n",
      "Epoch 7/30\n",
      "376/376 [==============================] - 4s 11ms/step - loss: 0.0019\n",
      "Epoch 8/30\n",
      "376/376 [==============================] - 4s 11ms/step - loss: 0.0018\n",
      "Epoch 9/30\n",
      "376/376 [==============================] - 4s 11ms/step - loss: 0.0017\n",
      "Epoch 10/30\n",
      "376/376 [==============================] - 4s 11ms/step - loss: 0.0017\n",
      "Epoch 11/30\n",
      "376/376 [==============================] - 4s 11ms/step - loss: 0.0016\n",
      "Epoch 12/30\n",
      "376/376 [==============================] - 4s 11ms/step - loss: 0.0015\n",
      "Epoch 13/30\n",
      "376/376 [==============================] - 4s 11ms/step - loss: 0.0015\n",
      "Epoch 14/30\n",
      "376/376 [==============================] - 4s 11ms/step - loss: 0.0015\n",
      "Epoch 15/30\n",
      "376/376 [==============================] - 4s 11ms/step - loss: 0.0015\n",
      "Epoch 16/30\n",
      "376/376 [==============================] - 4s 11ms/step - loss: 0.0015\n",
      "Epoch 17/30\n",
      "376/376 [==============================] - 4s 11ms/step - loss: 0.0014\n",
      "Epoch 18/30\n",
      "376/376 [==============================] - 4s 11ms/step - loss: 0.0014\n",
      "Epoch 19/30\n",
      "376/376 [==============================] - 4s 11ms/step - loss: 0.0014\n",
      "Epoch 20/30\n",
      "376/376 [==============================] - 4s 11ms/step - loss: 0.0013\n",
      "Epoch 21/30\n",
      "376/376 [==============================] - 4s 11ms/step - loss: 0.0013\n",
      "Epoch 22/30\n",
      "376/376 [==============================] - 4s 11ms/step - loss: 0.0013\n",
      "Epoch 23/30\n",
      "376/376 [==============================] - 4s 11ms/step - loss: 0.0013\n",
      "Epoch 24/30\n",
      "376/376 [==============================] - 4s 11ms/step - loss: 0.0013\n",
      "Epoch 25/30\n",
      "376/376 [==============================] - 4s 11ms/step - loss: 0.0013\n",
      "Epoch 26/30\n",
      "376/376 [==============================] - 4s 11ms/step - loss: 0.0013\n",
      "Epoch 27/30\n",
      "376/376 [==============================] - 4s 11ms/step - loss: 0.0013\n",
      "Epoch 28/30\n",
      "376/376 [==============================] - 4s 11ms/step - loss: 0.0013\n",
      "Epoch 29/30\n",
      "376/376 [==============================] - 4s 11ms/step - loss: 0.0013\n",
      "Epoch 30/30\n",
      "376/376 [==============================] - 4s 11ms/step - loss: 0.0013\n"
     ]
    },
    {
     "data": {
      "text/plain": [
       "<keras.callbacks.History at 0x1e3162de620>"
      ]
     },
     "execution_count": 76,
     "metadata": {},
     "output_type": "execute_result"
    }
   ],
   "source": [
    "regressor_2.fit(X_train, y_train, epochs = 30, batch_size = 32)"
   ]
  },
  {
   "cell_type": "code",
   "execution_count": 77,
   "id": "095e46c7",
   "metadata": {},
   "outputs": [
    {
     "name": "stdout",
     "output_type": "stream",
     "text": [
      "95/95 [==============================] - 1s 4ms/step\n"
     ]
    },
    {
     "data": {
      "text/plain": [
       "array([[0.5477106 ],\n",
       "       [0.5308391 ],\n",
       "       [0.5819726 ],\n",
       "       ...,\n",
       "       [0.16255438],\n",
       "       [0.14292702],\n",
       "       [0.13901877]], dtype=float32)"
      ]
     },
     "execution_count": 77,
     "metadata": {},
     "output_type": "execute_result"
    }
   ],
   "source": [
    "predict_scaled_2 = regressor_2.predict(X_test)\n",
    "predict_scaled_2"
   ]
  },
  {
   "cell_type": "code",
   "execution_count": 78,
   "id": "43df09a3",
   "metadata": {},
   "outputs": [
    {
     "data": {
      "text/plain": [
       "array([[0.5488413 ],\n",
       "       [0.532012  ],\n",
       "       [0.58301765],\n",
       "       ...,\n",
       "       [0.164648  ],\n",
       "       [0.1450697 ],\n",
       "       [0.14117123]], dtype=float32)"
      ]
     },
     "execution_count": 78,
     "metadata": {},
     "output_type": "execute_result"
    }
   ],
   "source": [
    "predict_2 = sc.inverse_transform(predict_scaled_2)\n",
    "predict_2"
   ]
  },
  {
   "cell_type": "code",
   "execution_count": 79,
   "id": "61414b4e",
   "metadata": {},
   "outputs": [
    {
     "data": {
      "text/html": [
       "<div>\n",
       "<style scoped>\n",
       "    .dataframe tbody tr th:only-of-type {\n",
       "        vertical-align: middle;\n",
       "    }\n",
       "\n",
       "    .dataframe tbody tr th {\n",
       "        vertical-align: top;\n",
       "    }\n",
       "\n",
       "    .dataframe thead th {\n",
       "        text-align: right;\n",
       "    }\n",
       "</style>\n",
       "<table border=\"1\" class=\"dataframe\">\n",
       "  <thead>\n",
       "    <tr style=\"text-align: right;\">\n",
       "      <th></th>\n",
       "      <th>cloud_cover</th>\n",
       "      <th>LSTM</th>\n",
       "      <th>LSTM_1</th>\n",
       "      <th>LSTM_2</th>\n",
       "    </tr>\n",
       "    <tr>\n",
       "      <th>DateTime</th>\n",
       "      <th></th>\n",
       "      <th></th>\n",
       "      <th></th>\n",
       "      <th></th>\n",
       "    </tr>\n",
       "  </thead>\n",
       "  <tbody>\n",
       "    <tr>\n",
       "      <th>2021-12-10 15:24:00</th>\n",
       "      <td>0.538</td>\n",
       "      <td>0.550123</td>\n",
       "      <td>0.555703</td>\n",
       "      <td>0.548841</td>\n",
       "    </tr>\n",
       "    <tr>\n",
       "      <th>2021-12-10 15:25:00</th>\n",
       "      <td>0.588</td>\n",
       "      <td>0.532806</td>\n",
       "      <td>0.537796</td>\n",
       "      <td>0.532012</td>\n",
       "    </tr>\n",
       "    <tr>\n",
       "      <th>2021-12-10 15:26:00</th>\n",
       "      <td>0.566</td>\n",
       "      <td>0.586257</td>\n",
       "      <td>0.590933</td>\n",
       "      <td>0.583018</td>\n",
       "    </tr>\n",
       "    <tr>\n",
       "      <th>2021-12-10 15:27:00</th>\n",
       "      <td>0.562</td>\n",
       "      <td>0.555921</td>\n",
       "      <td>0.563057</td>\n",
       "      <td>0.557133</td>\n",
       "    </tr>\n",
       "    <tr>\n",
       "      <th>2021-12-10 15:28:00</th>\n",
       "      <td>0.612</td>\n",
       "      <td>0.555104</td>\n",
       "      <td>0.561802</td>\n",
       "      <td>0.554586</td>\n",
       "    </tr>\n",
       "    <tr>\n",
       "      <th>...</th>\n",
       "      <td>...</td>\n",
       "      <td>...</td>\n",
       "      <td>...</td>\n",
       "      <td>...</td>\n",
       "    </tr>\n",
       "    <tr>\n",
       "      <th>2021-12-16 13:58:00</th>\n",
       "      <td>0.168</td>\n",
       "      <td>0.164177</td>\n",
       "      <td>0.167105</td>\n",
       "      <td>0.163943</td>\n",
       "    </tr>\n",
       "    <tr>\n",
       "      <th>2021-12-16 13:59:00</th>\n",
       "      <td>0.169</td>\n",
       "      <td>0.164265</td>\n",
       "      <td>0.167161</td>\n",
       "      <td>0.163772</td>\n",
       "    </tr>\n",
       "    <tr>\n",
       "      <th>2021-12-16 14:00:00</th>\n",
       "      <td>0.147</td>\n",
       "      <td>0.165237</td>\n",
       "      <td>0.168133</td>\n",
       "      <td>0.164648</td>\n",
       "    </tr>\n",
       "    <tr>\n",
       "      <th>2021-12-16 14:01:00</th>\n",
       "      <td>0.145</td>\n",
       "      <td>0.143404</td>\n",
       "      <td>0.146557</td>\n",
       "      <td>0.145070</td>\n",
       "    </tr>\n",
       "    <tr>\n",
       "      <th>2021-12-16 14:02:00</th>\n",
       "      <td>0.144</td>\n",
       "      <td>0.142340</td>\n",
       "      <td>0.144912</td>\n",
       "      <td>0.141171</td>\n",
       "    </tr>\n",
       "  </tbody>\n",
       "</table>\n",
       "<p>3013 rows × 4 columns</p>\n",
       "</div>"
      ],
      "text/plain": [
       "                     cloud_cover      LSTM    LSTM_1    LSTM_2\n",
       "DateTime                                                      \n",
       "2021-12-10 15:24:00        0.538  0.550123  0.555703  0.548841\n",
       "2021-12-10 15:25:00        0.588  0.532806  0.537796  0.532012\n",
       "2021-12-10 15:26:00        0.566  0.586257  0.590933  0.583018\n",
       "2021-12-10 15:27:00        0.562  0.555921  0.563057  0.557133\n",
       "2021-12-10 15:28:00        0.612  0.555104  0.561802  0.554586\n",
       "...                          ...       ...       ...       ...\n",
       "2021-12-16 13:58:00        0.168  0.164177  0.167105  0.163943\n",
       "2021-12-16 13:59:00        0.169  0.164265  0.167161  0.163772\n",
       "2021-12-16 14:00:00        0.147  0.165237  0.168133  0.164648\n",
       "2021-12-16 14:01:00        0.145  0.143404  0.146557  0.145070\n",
       "2021-12-16 14:02:00        0.144  0.142340  0.144912  0.141171\n",
       "\n",
       "[3013 rows x 4 columns]"
      ]
     },
     "execution_count": 79,
     "metadata": {},
     "output_type": "execute_result"
    }
   ],
   "source": [
    "test['LSTM_2'] = predict_2\n",
    "test"
   ]
  },
  {
   "cell_type": "code",
   "execution_count": 80,
   "id": "b68cd76c",
   "metadata": {},
   "outputs": [
    {
     "name": "stdout",
     "output_type": "stream",
     "text": [
      "MSE Error: 0.0020233541299274254\n",
      "RMSE Error: 0.044981708837342156\n",
      "MAE: 0.021840068656188327\n",
      "r2_score: 0.9755232238257737\n"
     ]
    }
   ],
   "source": [
    "lstm_mse_error = mean_squared_error(test['cloud_cover'], test['LSTM_2'], squared=True)\n",
    "lstm_rmse_error = mean_squared_error(test['cloud_cover'], test['LSTM_2'], squared=False)\n",
    "lstm_mae_error = mean_absolute_error(test['cloud_cover'], test['LSTM_2'])\n",
    "lstm_r2 = r2_score(test['cloud_cover'], test['LSTM_2'])\n",
    "print(f'MSE Error: {lstm_mse_error}\\nRMSE Error: {lstm_rmse_error}\\nMAE: {lstm_mae_error}\\nr2_score: {lstm_r2}' )"
   ]
  },
  {
   "cell_type": "code",
   "execution_count": 81,
   "id": "3e35e974",
   "metadata": {},
   "outputs": [
    {
     "data": {
      "image/png": "[encoded data removed]",
      "text/plain": [
       "<Figure size 640x480 with 1 Axes>"
      ]
     },
     "metadata": {},
     "output_type": "display_data"
    }
   ],
   "source": [
    "plt.plot(test['cloud_cover'], color = 'red', label = 'test')\n",
    "plt.plot(test['LSTM_2'], color = 'blue', label = 'predict')\n",
    "plt.xlabel('Time')\n",
    "plt.ylabel('cloud_cover')\n",
    "plt.legend()\n",
    "plt.show()"
   ]
  },
  {
   "attachments": {},
   "cell_type": "markdown",
   "id": "4353c4d2",
   "metadata": {},
   "source": [
    "---"
   ]
  },
  {
   "attachments": {},
   "cell_type": "markdown",
   "id": "fa6db920",
   "metadata": {},
   "source": [
    "## Add first layer: units = 100 and change epochs from 30 to 50"
   ]
  },
  {
   "cell_type": "code",
   "execution_count": null,
   "id": "c7791901",
   "metadata": {},
   "outputs": [],
   "source": [
    "regressor_3 = Sequential()\n",
    "regressor_3.add(LSTM(units = 100, return_sequences = False, input_shape = (X_train.shape[1], 1)))\n",
    "regressor_3.add(Dense(units = 1))\n",
    "regressor_3.compile(optimizer = 'adam', loss = 'mean_squared_error')"
   ]
  },
  {
   "cell_type": "code",
   "execution_count": null,
   "id": "36c3daf3",
   "metadata": {},
   "outputs": [
    {
     "name": "stdout",
     "output_type": "stream",
     "text": [
      "Epoch 1/50\n",
      "376/376 [==============================] - 8s 17ms/step - loss: 0.0123\n",
      "Epoch 2/50\n",
      "376/376 [==============================] - 6s 17ms/step - loss: 0.0020\n",
      "Epoch 3/50\n",
      "376/376 [==============================] - 6s 16ms/step - loss: 0.0017\n",
      "Epoch 4/50\n",
      "376/376 [==============================] - 6s 16ms/step - loss: 0.0015\n",
      "Epoch 5/50\n",
      "376/376 [==============================] - 6s 16ms/step - loss: 0.0013\n",
      "Epoch 6/50\n",
      "376/376 [==============================] - 6s 16ms/step - loss: 0.0012\n",
      "Epoch 7/50\n",
      "376/376 [==============================] - 6s 16ms/step - loss: 0.0011\n",
      "Epoch 8/50\n",
      "376/376 [==============================] - 6s 16ms/step - loss: 0.0011\n",
      "Epoch 9/50\n",
      "376/376 [==============================] - 6s 16ms/step - loss: 0.0011\n",
      "Epoch 10/50\n",
      "376/376 [==============================] - 6s 16ms/step - loss: 0.0010\n",
      "Epoch 11/50\n",
      "376/376 [==============================] - 6s 16ms/step - loss: 0.0010\n",
      "Epoch 12/50\n",
      "376/376 [==============================] - 7s 19ms/step - loss: 9.8988e-04\n",
      "Epoch 13/50\n",
      "376/376 [==============================] - 8s 21ms/step - loss: 0.0010\n",
      "Epoch 14/50\n",
      "376/376 [==============================] - 7s 18ms/step - loss: 9.9576e-04\n",
      "Epoch 15/50\n",
      "376/376 [==============================] - 7s 18ms/step - loss: 0.0010\n",
      "Epoch 16/50\n",
      "376/376 [==============================] - 7s 18ms/step - loss: 9.8145e-04\n",
      "Epoch 17/50\n",
      "376/376 [==============================] - 7s 18ms/step - loss: 9.8027e-04\n",
      "Epoch 18/50\n",
      "376/376 [==============================] - 7s 18ms/step - loss: 9.5822e-04\n",
      "Epoch 19/50\n",
      "376/376 [==============================] - 7s 19ms/step - loss: 9.7202e-04\n",
      "Epoch 20/50\n",
      "376/376 [==============================] - 9s 23ms/step - loss: 9.6178e-04\n",
      "Epoch 21/50\n",
      "376/376 [==============================] - 7s 18ms/step - loss: 9.6092e-04\n",
      "Epoch 22/50\n",
      "376/376 [==============================] - 7s 18ms/step - loss: 9.5740e-04\n",
      "Epoch 23/50\n",
      "376/376 [==============================] - 6s 17ms/step - loss: 9.6690e-04\n",
      "Epoch 24/50\n",
      "376/376 [==============================] - 6s 16ms/step - loss: 9.7258e-04\n",
      "Epoch 25/50\n",
      "376/376 [==============================] - 6s 16ms/step - loss: 9.5036e-04\n",
      "Epoch 26/50\n",
      "376/376 [==============================] - 6s 16ms/step - loss: 9.5630e-04\n",
      "Epoch 27/50\n",
      "376/376 [==============================] - 6s 16ms/step - loss: 9.4503e-04\n",
      "Epoch 28/50\n",
      "376/376 [==============================] - 6s 16ms/step - loss: 9.5300e-04\n",
      "Epoch 29/50\n",
      "376/376 [==============================] - 6s 16ms/step - loss: 9.4323e-04\n",
      "Epoch 30/50\n",
      "376/376 [==============================] - 6s 16ms/step - loss: 9.3908e-04\n",
      "Epoch 31/50\n",
      "376/376 [==============================] - 6s 16ms/step - loss: 9.4487e-04\n",
      "Epoch 32/50\n",
      "376/376 [==============================] - 6s 16ms/step - loss: 9.3279e-04\n",
      "Epoch 33/50\n",
      "376/376 [==============================] - 6s 16ms/step - loss: 9.5797e-04\n",
      "Epoch 34/50\n",
      "376/376 [==============================] - 6s 16ms/step - loss: 9.5496e-04\n",
      "Epoch 35/50\n",
      "376/376 [==============================] - 6s 17ms/step - loss: 9.3695e-04\n",
      "Epoch 36/50\n",
      "376/376 [==============================] - 9s 25ms/step - loss: 9.2990e-04\n",
      "Epoch 37/50\n",
      "376/376 [==============================] - 9s 23ms/step - loss: 9.4287e-04\n",
      "Epoch 38/50\n",
      "376/376 [==============================] - 8s 22ms/step - loss: 9.4063e-04\n",
      "Epoch 39/50\n",
      "376/376 [==============================] - 9s 23ms/step - loss: 9.3411e-04\n",
      "Epoch 40/50\n",
      "376/376 [==============================] - 8s 22ms/step - loss: 9.2877e-04\n",
      "Epoch 41/50\n",
      "376/376 [==============================] - 8s 22ms/step - loss: 9.4340e-04\n",
      "Epoch 42/50\n",
      "376/376 [==============================] - 8s 22ms/step - loss: 9.3437e-04\n",
      "Epoch 43/50\n",
      "376/376 [==============================] - 8s 22ms/step - loss: 9.2943e-04\n",
      "Epoch 44/50\n",
      "376/376 [==============================] - 8s 22ms/step - loss: 9.3561e-04\n",
      "Epoch 45/50\n",
      "376/376 [==============================] - 8s 22ms/step - loss: 9.3556e-04\n",
      "Epoch 46/50\n",
      "376/376 [==============================] - 8s 22ms/step - loss: 9.3695e-04\n",
      "Epoch 47/50\n",
      "376/376 [==============================] - 8s 21ms/step - loss: 9.2477e-04\n",
      "Epoch 48/50\n",
      "376/376 [==============================] - 8s 22ms/step - loss: 9.3009e-04\n",
      "Epoch 49/50\n",
      "376/376 [==============================] - 9s 24ms/step - loss: 9.3459e-04\n",
      "Epoch 50/50\n",
      "376/376 [==============================] - 7s 19ms/step - loss: 9.2694e-04\n"
     ]
    },
    {
     "data": {
      "text/plain": [
       "<keras.callbacks.History at 0x1e37caf83a0>"
      ]
     },
     "execution_count": 31,
     "metadata": {},
     "output_type": "execute_result"
    }
   ],
   "source": [
    "regressor_3.fit(X_train, y_train, epochs = 50, batch_size = 32)"
   ]
  },
  {
   "cell_type": "code",
   "execution_count": null,
   "id": "1e23acc9",
   "metadata": {},
   "outputs": [
    {
     "name": "stdout",
     "output_type": "stream",
     "text": [
      "95/95 [==============================] - 1s 6ms/step\n"
     ]
    },
    {
     "data": {
      "text/plain": [
       "array([[0.5453596 ],\n",
       "       [0.53058887],\n",
       "       [0.59414107],\n",
       "       ...,\n",
       "       [0.16902316],\n",
       "       [0.14744028],\n",
       "       [0.14547437]], dtype=float32)"
      ]
     },
     "execution_count": 32,
     "metadata": {},
     "output_type": "execute_result"
    }
   ],
   "source": [
    "predict_scaled_3 = regressor_3.predict(X_test)\n",
    "predict_scaled_3"
   ]
  },
  {
   "cell_type": "code",
   "execution_count": null,
   "id": "8f8c5a0a",
   "metadata": {},
   "outputs": [
    {
     "data": {
      "text/plain": [
       "array([[0.5464962 ],\n",
       "       [0.53176236],\n",
       "       [0.5951557 ],\n",
       "       ...,\n",
       "       [0.1711006 ],\n",
       "       [0.14957169],\n",
       "       [0.1476107 ]], dtype=float32)"
      ]
     },
     "execution_count": 33,
     "metadata": {},
     "output_type": "execute_result"
    }
   ],
   "source": [
    "predict_3 = sc.inverse_transform(predict_scaled_3)\n",
    "predict_3"
   ]
  },
  {
   "cell_type": "code",
   "execution_count": null,
   "id": "63af9e09",
   "metadata": {},
   "outputs": [
    {
     "data": {
      "text/html": [
       "<div>\n",
       "<style scoped>\n",
       "    .dataframe tbody tr th:only-of-type {\n",
       "        vertical-align: middle;\n",
       "    }\n",
       "\n",
       "    .dataframe tbody tr th {\n",
       "        vertical-align: top;\n",
       "    }\n",
       "\n",
       "    .dataframe thead th {\n",
       "        text-align: right;\n",
       "    }\n",
       "</style>\n",
       "<table border=\"1\" class=\"dataframe\">\n",
       "  <thead>\n",
       "    <tr style=\"text-align: right;\">\n",
       "      <th></th>\n",
       "      <th>cloud_cover</th>\n",
       "      <th>LSTM</th>\n",
       "      <th>LSTM_1</th>\n",
       "      <th>LSTM_2</th>\n",
       "      <th>LSTM_3</th>\n",
       "    </tr>\n",
       "    <tr>\n",
       "      <th>DateTime</th>\n",
       "      <th></th>\n",
       "      <th></th>\n",
       "      <th></th>\n",
       "      <th></th>\n",
       "      <th></th>\n",
       "    </tr>\n",
       "  </thead>\n",
       "  <tbody>\n",
       "    <tr>\n",
       "      <th>2021-12-10 15:24:00</th>\n",
       "      <td>0.538</td>\n",
       "      <td>0.550252</td>\n",
       "      <td>0.547932</td>\n",
       "      <td>0.544854</td>\n",
       "      <td>0.546496</td>\n",
       "    </tr>\n",
       "    <tr>\n",
       "      <th>2021-12-10 15:25:00</th>\n",
       "      <td>0.588</td>\n",
       "      <td>0.532445</td>\n",
       "      <td>0.529431</td>\n",
       "      <td>0.531344</td>\n",
       "      <td>0.531762</td>\n",
       "    </tr>\n",
       "    <tr>\n",
       "      <th>2021-12-10 15:26:00</th>\n",
       "      <td>0.566</td>\n",
       "      <td>0.586850</td>\n",
       "      <td>0.588783</td>\n",
       "      <td>0.585641</td>\n",
       "      <td>0.595156</td>\n",
       "    </tr>\n",
       "    <tr>\n",
       "      <th>2021-12-10 15:27:00</th>\n",
       "      <td>0.562</td>\n",
       "      <td>0.559706</td>\n",
       "      <td>0.557712</td>\n",
       "      <td>0.565116</td>\n",
       "      <td>0.566978</td>\n",
       "    </tr>\n",
       "    <tr>\n",
       "      <th>2021-12-10 15:28:00</th>\n",
       "      <td>0.612</td>\n",
       "      <td>0.558966</td>\n",
       "      <td>0.559031</td>\n",
       "      <td>0.563885</td>\n",
       "      <td>0.563719</td>\n",
       "    </tr>\n",
       "    <tr>\n",
       "      <th>...</th>\n",
       "      <td>...</td>\n",
       "      <td>...</td>\n",
       "      <td>...</td>\n",
       "      <td>...</td>\n",
       "      <td>...</td>\n",
       "    </tr>\n",
       "    <tr>\n",
       "      <th>2021-12-16 13:58:00</th>\n",
       "      <td>0.168</td>\n",
       "      <td>0.168656</td>\n",
       "      <td>0.168967</td>\n",
       "      <td>0.182248</td>\n",
       "      <td>0.170053</td>\n",
       "    </tr>\n",
       "    <tr>\n",
       "      <th>2021-12-16 13:59:00</th>\n",
       "      <td>0.169</td>\n",
       "      <td>0.168764</td>\n",
       "      <td>0.169334</td>\n",
       "      <td>0.181958</td>\n",
       "      <td>0.170130</td>\n",
       "    </tr>\n",
       "    <tr>\n",
       "      <th>2021-12-16 14:00:00</th>\n",
       "      <td>0.147</td>\n",
       "      <td>0.169780</td>\n",
       "      <td>0.170340</td>\n",
       "      <td>0.182674</td>\n",
       "      <td>0.171101</td>\n",
       "    </tr>\n",
       "    <tr>\n",
       "      <th>2021-12-16 14:01:00</th>\n",
       "      <td>0.145</td>\n",
       "      <td>0.147120</td>\n",
       "      <td>0.145830</td>\n",
       "      <td>0.166684</td>\n",
       "      <td>0.149572</td>\n",
       "    </tr>\n",
       "    <tr>\n",
       "      <th>2021-12-16 14:02:00</th>\n",
       "      <td>0.144</td>\n",
       "      <td>0.146056</td>\n",
       "      <td>0.147211</td>\n",
       "      <td>0.161027</td>\n",
       "      <td>0.147611</td>\n",
       "    </tr>\n",
       "  </tbody>\n",
       "</table>\n",
       "<p>3013 rows × 5 columns</p>\n",
       "</div>"
      ],
      "text/plain": [
       "                     cloud_cover      LSTM    LSTM_1    LSTM_2    LSTM_3\n",
       "DateTime                                                                \n",
       "2021-12-10 15:24:00        0.538  0.550252  0.547932  0.544854  0.546496\n",
       "2021-12-10 15:25:00        0.588  0.532445  0.529431  0.531344  0.531762\n",
       "2021-12-10 15:26:00        0.566  0.586850  0.588783  0.585641  0.595156\n",
       "2021-12-10 15:27:00        0.562  0.559706  0.557712  0.565116  0.566978\n",
       "2021-12-10 15:28:00        0.612  0.558966  0.559031  0.563885  0.563719\n",
       "...                          ...       ...       ...       ...       ...\n",
       "2021-12-16 13:58:00        0.168  0.168656  0.168967  0.182248  0.170053\n",
       "2021-12-16 13:59:00        0.169  0.168764  0.169334  0.181958  0.170130\n",
       "2021-12-16 14:00:00        0.147  0.169780  0.170340  0.182674  0.171101\n",
       "2021-12-16 14:01:00        0.145  0.147120  0.145830  0.166684  0.149572\n",
       "2021-12-16 14:02:00        0.144  0.146056  0.147211  0.161027  0.147611\n",
       "\n",
       "[3013 rows x 5 columns]"
      ]
     },
     "execution_count": 34,
     "metadata": {},
     "output_type": "execute_result"
    }
   ],
   "source": [
    "test['LSTM_3'] = predict_3\n",
    "test"
   ]
  },
  {
   "cell_type": "code",
   "execution_count": null,
   "id": "31bb64fc",
   "metadata": {},
   "outputs": [
    {
     "data": {
      "image/png": "[encoded data removed]",
      "text/plain": [
       "<Figure size 640x480 with 1 Axes>"
      ]
     },
     "metadata": {},
     "output_type": "display_data"
    }
   ],
   "source": [
    "plt.plot(test['cloud_cover'], color = 'red', label = 'test')\n",
    "plt.plot(test['LSTM_3'], color = 'blue', label = 'predict')\n",
    "plt.xlabel('Time')\n",
    "plt.ylabel('cloud_cover')\n",
    "plt.legend()\n",
    "plt.show()"
   ]
  },
  {
   "cell_type": "code",
   "execution_count": null,
   "id": "ea3e2b3e",
   "metadata": {},
   "outputs": [
    {
     "data": {
      "text/html": [
       "<div>\n",
       "<style scoped>\n",
       "    .dataframe tbody tr th:only-of-type {\n",
       "        vertical-align: middle;\n",
       "    }\n",
       "\n",
       "    .dataframe tbody tr th {\n",
       "        vertical-align: top;\n",
       "    }\n",
       "\n",
       "    .dataframe thead th {\n",
       "        text-align: right;\n",
       "    }\n",
       "</style>\n",
       "<table border=\"1\" class=\"dataframe\">\n",
       "  <thead>\n",
       "    <tr style=\"text-align: right;\">\n",
       "      <th></th>\n",
       "      <th>cloud_cover</th>\n",
       "      <th>LSTM</th>\n",
       "      <th>LSTM_1</th>\n",
       "      <th>LSTM_2</th>\n",
       "      <th>LSTM_3</th>\n",
       "    </tr>\n",
       "    <tr>\n",
       "      <th>DateTime</th>\n",
       "      <th></th>\n",
       "      <th></th>\n",
       "      <th></th>\n",
       "      <th></th>\n",
       "      <th></th>\n",
       "    </tr>\n",
       "  </thead>\n",
       "  <tbody>\n",
       "    <tr>\n",
       "      <th>2021-12-10 15:24:00</th>\n",
       "      <td>0.538</td>\n",
       "      <td>0.550252</td>\n",
       "      <td>0.547932</td>\n",
       "      <td>0.544854</td>\n",
       "      <td>0.546496</td>\n",
       "    </tr>\n",
       "    <tr>\n",
       "      <th>2021-12-10 15:25:00</th>\n",
       "      <td>0.588</td>\n",
       "      <td>0.532445</td>\n",
       "      <td>0.529431</td>\n",
       "      <td>0.531344</td>\n",
       "      <td>0.531762</td>\n",
       "    </tr>\n",
       "    <tr>\n",
       "      <th>2021-12-10 15:26:00</th>\n",
       "      <td>0.566</td>\n",
       "      <td>0.586850</td>\n",
       "      <td>0.588783</td>\n",
       "      <td>0.585641</td>\n",
       "      <td>0.595156</td>\n",
       "    </tr>\n",
       "    <tr>\n",
       "      <th>2021-12-10 15:27:00</th>\n",
       "      <td>0.562</td>\n",
       "      <td>0.559706</td>\n",
       "      <td>0.557712</td>\n",
       "      <td>0.565116</td>\n",
       "      <td>0.566978</td>\n",
       "    </tr>\n",
       "    <tr>\n",
       "      <th>2021-12-10 15:28:00</th>\n",
       "      <td>0.612</td>\n",
       "      <td>0.558966</td>\n",
       "      <td>0.559031</td>\n",
       "      <td>0.563885</td>\n",
       "      <td>0.563719</td>\n",
       "    </tr>\n",
       "    <tr>\n",
       "      <th>...</th>\n",
       "      <td>...</td>\n",
       "      <td>...</td>\n",
       "      <td>...</td>\n",
       "      <td>...</td>\n",
       "      <td>...</td>\n",
       "    </tr>\n",
       "    <tr>\n",
       "      <th>2021-12-16 13:58:00</th>\n",
       "      <td>0.168</td>\n",
       "      <td>0.168656</td>\n",
       "      <td>0.168967</td>\n",
       "      <td>0.182248</td>\n",
       "      <td>0.170053</td>\n",
       "    </tr>\n",
       "    <tr>\n",
       "      <th>2021-12-16 13:59:00</th>\n",
       "      <td>0.169</td>\n",
       "      <td>0.168764</td>\n",
       "      <td>0.169334</td>\n",
       "      <td>0.181958</td>\n",
       "      <td>0.170130</td>\n",
       "    </tr>\n",
       "    <tr>\n",
       "      <th>2021-12-16 14:00:00</th>\n",
       "      <td>0.147</td>\n",
       "      <td>0.169780</td>\n",
       "      <td>0.170340</td>\n",
       "      <td>0.182674</td>\n",
       "      <td>0.171101</td>\n",
       "    </tr>\n",
       "    <tr>\n",
       "      <th>2021-12-16 14:01:00</th>\n",
       "      <td>0.145</td>\n",
       "      <td>0.147120</td>\n",
       "      <td>0.145830</td>\n",
       "      <td>0.166684</td>\n",
       "      <td>0.149572</td>\n",
       "    </tr>\n",
       "    <tr>\n",
       "      <th>2021-12-16 14:02:00</th>\n",
       "      <td>0.144</td>\n",
       "      <td>0.146056</td>\n",
       "      <td>0.147211</td>\n",
       "      <td>0.161027</td>\n",
       "      <td>0.147611</td>\n",
       "    </tr>\n",
       "  </tbody>\n",
       "</table>\n",
       "<p>3013 rows × 5 columns</p>\n",
       "</div>"
      ],
      "text/plain": [
       "                     cloud_cover      LSTM    LSTM_1    LSTM_2    LSTM_3\n",
       "DateTime                                                                \n",
       "2021-12-10 15:24:00        0.538  0.550252  0.547932  0.544854  0.546496\n",
       "2021-12-10 15:25:00        0.588  0.532445  0.529431  0.531344  0.531762\n",
       "2021-12-10 15:26:00        0.566  0.586850  0.588783  0.585641  0.595156\n",
       "2021-12-10 15:27:00        0.562  0.559706  0.557712  0.565116  0.566978\n",
       "2021-12-10 15:28:00        0.612  0.558966  0.559031  0.563885  0.563719\n",
       "...                          ...       ...       ...       ...       ...\n",
       "2021-12-16 13:58:00        0.168  0.168656  0.168967  0.182248  0.170053\n",
       "2021-12-16 13:59:00        0.169  0.168764  0.169334  0.181958  0.170130\n",
       "2021-12-16 14:00:00        0.147  0.169780  0.170340  0.182674  0.171101\n",
       "2021-12-16 14:01:00        0.145  0.147120  0.145830  0.166684  0.149572\n",
       "2021-12-16 14:02:00        0.144  0.146056  0.147211  0.161027  0.147611\n",
       "\n",
       "[3013 rows x 5 columns]"
      ]
     },
     "execution_count": 36,
     "metadata": {},
     "output_type": "execute_result"
    }
   ],
   "source": [
    "test['LSTM_3'] = predict_3\n",
    "test"
   ]
  },
  {
   "cell_type": "code",
   "execution_count": null,
   "id": "c97d8bcf",
   "metadata": {},
   "outputs": [
    {
     "name": "stdout",
     "output_type": "stream",
     "text": [
      "MSE Error: 0.0020680498815092495\n",
      "RMSE Error: 0.04547581644686821\n",
      "MAE: 0.020609069233053633\n",
      "r2_score: 0.9749825335475739\n"
     ]
    }
   ],
   "source": [
    "lstm_mse_error = mean_squared_error(test['cloud_cover'], test['LSTM_3'], squared=True)\n",
    "lstm_rmse_error = mean_squared_error(test['cloud_cover'], test['LSTM_3'], squared=False)\n",
    "lstm_mae_error = mean_absolute_error(test['cloud_cover'], test['LSTM_3'])\n",
    "lstm_r2 = r2_score(test['cloud_cover'], test['LSTM_3'])\n",
    "print(f'MSE Error: {lstm_mse_error}\\nRMSE Error: {lstm_rmse_error}\\nMAE: {lstm_mae_error}\\nr2_score: {lstm_r2}' )"
   ]
  },
  {
   "attachments": {},
   "cell_type": "markdown",
   "id": "81280272",
   "metadata": {},
   "source": [
    "---"
   ]
  },
  {
   "attachments": {},
   "cell_type": "markdown",
   "id": "3ff259c5",
   "metadata": {},
   "source": [
    "## Add frist layer and second layer: units = 50"
   ]
  },
  {
   "cell_type": "code",
   "execution_count": null,
   "id": "34c5225c",
   "metadata": {},
   "outputs": [],
   "source": [
    "# regressor_4 = Sequential()\n",
    "# regressor_4.add(LSTM(units = 50, return_sequences = False, input_shape = (X_train.shape[1], 1)))\n",
    "# regressor_4.add(Dense(units = 1))\n",
    "# regressor_4.compile(optimizer = 'adam', loss = 'mean_squared_error')"
   ]
  },
  {
   "cell_type": "code",
   "execution_count": null,
   "id": "c15728aa",
   "metadata": {},
   "outputs": [
    {
     "name": "stdout",
     "output_type": "stream",
     "text": [
      "Epoch 1/30\n",
      "376/376 [==============================] - 9s 13ms/step - loss: 0.0102\n",
      "Epoch 2/30\n",
      "376/376 [==============================] - 5s 13ms/step - loss: 0.0027\n",
      "Epoch 3/30\n",
      "376/376 [==============================] - 5s 12ms/step - loss: 0.0021\n",
      "Epoch 4/30\n",
      "376/376 [==============================] - 5s 14ms/step - loss: 0.0018\n",
      "Epoch 5/30\n",
      "376/376 [==============================] - 5s 14ms/step - loss: 0.0015\n",
      "Epoch 6/30\n",
      "376/376 [==============================] - 5s 13ms/step - loss: 0.0014\n",
      "Epoch 7/30\n",
      "376/376 [==============================] - 4s 12ms/step - loss: 0.0012\n",
      "Epoch 8/30\n",
      "376/376 [==============================] - 5s 13ms/step - loss: 0.0011\n",
      "Epoch 9/30\n",
      "376/376 [==============================] - 4s 12ms/step - loss: 0.0011\n",
      "Epoch 10/30\n",
      "376/376 [==============================] - 5s 12ms/step - loss: 0.0010\n",
      "Epoch 11/30\n",
      "376/376 [==============================] - 5s 14ms/step - loss: 0.0010\n",
      "Epoch 12/30\n",
      "376/376 [==============================] - 5s 13ms/step - loss: 9.8499e-04\n",
      "Epoch 13/30\n",
      "376/376 [==============================] - 5s 14ms/step - loss: 9.7199e-04\n",
      "Epoch 14/30\n",
      "376/376 [==============================] - 5s 12ms/step - loss: 9.7098e-04\n",
      "Epoch 15/30\n",
      "376/376 [==============================] - 4s 12ms/step - loss: 9.7445e-04\n",
      "Epoch 16/30\n",
      "376/376 [==============================] - 5s 12ms/step - loss: 9.5413e-04\n",
      "Epoch 17/30\n",
      "376/376 [==============================] - 5s 12ms/step - loss: 9.5402e-04\n",
      "Epoch 18/30\n",
      "376/376 [==============================] - 5s 12ms/step - loss: 9.6613e-04\n",
      "Epoch 19/30\n",
      "376/376 [==============================] - 5s 12ms/step - loss: 9.7060e-04\n",
      "Epoch 20/30\n",
      "376/376 [==============================] - 6s 15ms/step - loss: 9.5907e-04\n",
      "Epoch 21/30\n",
      "376/376 [==============================] - 5s 15ms/step - loss: 9.5647e-04\n",
      "Epoch 22/30\n",
      "376/376 [==============================] - 5s 13ms/step - loss: 9.5730e-04\n",
      "Epoch 23/30\n",
      "376/376 [==============================] - 5s 13ms/step - loss: 9.4028e-04\n",
      "Epoch 24/30\n",
      "376/376 [==============================] - 5s 13ms/step - loss: 9.6471e-04\n",
      "Epoch 25/30\n",
      "376/376 [==============================] - 5s 14ms/step - loss: 9.5061e-04\n",
      "Epoch 26/30\n",
      "376/376 [==============================] - 7s 19ms/step - loss: 9.4968e-04\n",
      "Epoch 27/30\n",
      "376/376 [==============================] - 6s 16ms/step - loss: 9.4196e-04\n",
      "Epoch 28/30\n",
      "376/376 [==============================] - 5s 12ms/step - loss: 9.5338e-04\n",
      "Epoch 29/30\n",
      "376/376 [==============================] - 5s 12ms/step - loss: 9.5047e-04\n",
      "Epoch 30/30\n",
      "376/376 [==============================] - 5s 12ms/step - loss: 9.4164e-04\n"
     ]
    },
    {
     "data": {
      "text/plain": [
       "<keras.callbacks.History at 0x1e302381ab0>"
      ]
     },
     "execution_count": 45,
     "metadata": {},
     "output_type": "execute_result"
    }
   ],
   "source": [
    "# regressor_4.fit(X_train, y_train, epochs = 30, batch_size = 32)"
   ]
  },
  {
   "cell_type": "code",
   "execution_count": null,
   "id": "6f45ad71",
   "metadata": {},
   "outputs": [
    {
     "name": "stdout",
     "output_type": "stream",
     "text": [
      "95/95 [==============================] - 1s 4ms/step\n"
     ]
    },
    {
     "data": {
      "text/plain": [
       "array([[0.5555098 ],\n",
       "       [0.53772444],\n",
       "       [0.5890771 ],\n",
       "       ...,\n",
       "       [0.17032892],\n",
       "       [0.14933665],\n",
       "       [0.14721385]], dtype=float32)"
      ]
     },
     "execution_count": 46,
     "metadata": {},
     "output_type": "execute_result"
    }
   ],
   "source": [
    "# predict_scaled_4 = regressor_4.predict(X_test)\n",
    "# predict_scaled_4"
   ]
  },
  {
   "cell_type": "code",
   "execution_count": null,
   "id": "0103c504",
   "metadata": {},
   "outputs": [],
   "source": [
    "# predict_4 = sc.inverse_transform(predict_scaled_4)"
   ]
  },
  {
   "cell_type": "code",
   "execution_count": null,
   "id": "d3dd70dc",
   "metadata": {},
   "outputs": [
    {
     "data": {
      "text/html": [
       "<div>\n",
       "<style scoped>\n",
       "    .dataframe tbody tr th:only-of-type {\n",
       "        vertical-align: middle;\n",
       "    }\n",
       "\n",
       "    .dataframe tbody tr th {\n",
       "        vertical-align: top;\n",
       "    }\n",
       "\n",
       "    .dataframe thead th {\n",
       "        text-align: right;\n",
       "    }\n",
       "</style>\n",
       "<table border=\"1\" class=\"dataframe\">\n",
       "  <thead>\n",
       "    <tr style=\"text-align: right;\">\n",
       "      <th></th>\n",
       "      <th>cloud_cover</th>\n",
       "      <th>LSTM</th>\n",
       "      <th>LSTM_1</th>\n",
       "      <th>LSTM_2</th>\n",
       "      <th>LSTM_3</th>\n",
       "      <th>LSTM_4</th>\n",
       "    </tr>\n",
       "    <tr>\n",
       "      <th>DateTime</th>\n",
       "      <th></th>\n",
       "      <th></th>\n",
       "      <th></th>\n",
       "      <th></th>\n",
       "      <th></th>\n",
       "      <th></th>\n",
       "    </tr>\n",
       "  </thead>\n",
       "  <tbody>\n",
       "    <tr>\n",
       "      <th>2021-12-10 15:24:00</th>\n",
       "      <td>0.538</td>\n",
       "      <td>0.550252</td>\n",
       "      <td>0.547932</td>\n",
       "      <td>0.544854</td>\n",
       "      <td>0.546496</td>\n",
       "      <td>0.556621</td>\n",
       "    </tr>\n",
       "    <tr>\n",
       "      <th>2021-12-10 15:25:00</th>\n",
       "      <td>0.588</td>\n",
       "      <td>0.532445</td>\n",
       "      <td>0.529431</td>\n",
       "      <td>0.531344</td>\n",
       "      <td>0.531762</td>\n",
       "      <td>0.538880</td>\n",
       "    </tr>\n",
       "    <tr>\n",
       "      <th>2021-12-10 15:26:00</th>\n",
       "      <td>0.566</td>\n",
       "      <td>0.586850</td>\n",
       "      <td>0.588783</td>\n",
       "      <td>0.585641</td>\n",
       "      <td>0.595156</td>\n",
       "      <td>0.590104</td>\n",
       "    </tr>\n",
       "    <tr>\n",
       "      <th>2021-12-10 15:27:00</th>\n",
       "      <td>0.562</td>\n",
       "      <td>0.559706</td>\n",
       "      <td>0.557712</td>\n",
       "      <td>0.565116</td>\n",
       "      <td>0.566978</td>\n",
       "      <td>0.564197</td>\n",
       "    </tr>\n",
       "    <tr>\n",
       "      <th>2021-12-10 15:28:00</th>\n",
       "      <td>0.612</td>\n",
       "      <td>0.558966</td>\n",
       "      <td>0.559031</td>\n",
       "      <td>0.563885</td>\n",
       "      <td>0.563719</td>\n",
       "      <td>0.562387</td>\n",
       "    </tr>\n",
       "    <tr>\n",
       "      <th>...</th>\n",
       "      <td>...</td>\n",
       "      <td>...</td>\n",
       "      <td>...</td>\n",
       "      <td>...</td>\n",
       "      <td>...</td>\n",
       "      <td>...</td>\n",
       "    </tr>\n",
       "    <tr>\n",
       "      <th>2021-12-16 13:58:00</th>\n",
       "      <td>0.168</td>\n",
       "      <td>0.168656</td>\n",
       "      <td>0.168967</td>\n",
       "      <td>0.182248</td>\n",
       "      <td>0.170053</td>\n",
       "      <td>0.171468</td>\n",
       "    </tr>\n",
       "    <tr>\n",
       "      <th>2021-12-16 13:59:00</th>\n",
       "      <td>0.169</td>\n",
       "      <td>0.168764</td>\n",
       "      <td>0.169334</td>\n",
       "      <td>0.181958</td>\n",
       "      <td>0.170130</td>\n",
       "      <td>0.171479</td>\n",
       "    </tr>\n",
       "    <tr>\n",
       "      <th>2021-12-16 14:00:00</th>\n",
       "      <td>0.147</td>\n",
       "      <td>0.169780</td>\n",
       "      <td>0.170340</td>\n",
       "      <td>0.182674</td>\n",
       "      <td>0.171101</td>\n",
       "      <td>0.172403</td>\n",
       "    </tr>\n",
       "    <tr>\n",
       "      <th>2021-12-16 14:01:00</th>\n",
       "      <td>0.145</td>\n",
       "      <td>0.147120</td>\n",
       "      <td>0.145830</td>\n",
       "      <td>0.166684</td>\n",
       "      <td>0.149572</td>\n",
       "      <td>0.151463</td>\n",
       "    </tr>\n",
       "    <tr>\n",
       "      <th>2021-12-16 14:02:00</th>\n",
       "      <td>0.144</td>\n",
       "      <td>0.146056</td>\n",
       "      <td>0.147211</td>\n",
       "      <td>0.161027</td>\n",
       "      <td>0.147611</td>\n",
       "      <td>0.149346</td>\n",
       "    </tr>\n",
       "  </tbody>\n",
       "</table>\n",
       "<p>3013 rows × 6 columns</p>\n",
       "</div>"
      ],
      "text/plain": [
       "                     cloud_cover      LSTM    LSTM_1    LSTM_2    LSTM_3  \\\n",
       "DateTime                                                                   \n",
       "2021-12-10 15:24:00        0.538  0.550252  0.547932  0.544854  0.546496   \n",
       "2021-12-10 15:25:00        0.588  0.532445  0.529431  0.531344  0.531762   \n",
       "2021-12-10 15:26:00        0.566  0.586850  0.588783  0.585641  0.595156   \n",
       "2021-12-10 15:27:00        0.562  0.559706  0.557712  0.565116  0.566978   \n",
       "2021-12-10 15:28:00        0.612  0.558966  0.559031  0.563885  0.563719   \n",
       "...                          ...       ...       ...       ...       ...   \n",
       "2021-12-16 13:58:00        0.168  0.168656  0.168967  0.182248  0.170053   \n",
       "2021-12-16 13:59:00        0.169  0.168764  0.169334  0.181958  0.170130   \n",
       "2021-12-16 14:00:00        0.147  0.169780  0.170340  0.182674  0.171101   \n",
       "2021-12-16 14:01:00        0.145  0.147120  0.145830  0.166684  0.149572   \n",
       "2021-12-16 14:02:00        0.144  0.146056  0.147211  0.161027  0.147611   \n",
       "\n",
       "                       LSTM_4  \n",
       "DateTime                       \n",
       "2021-12-10 15:24:00  0.556621  \n",
       "2021-12-10 15:25:00  0.538880  \n",
       "2021-12-10 15:26:00  0.590104  \n",
       "2021-12-10 15:27:00  0.564197  \n",
       "2021-12-10 15:28:00  0.562387  \n",
       "...                       ...  \n",
       "2021-12-16 13:58:00  0.171468  \n",
       "2021-12-16 13:59:00  0.171479  \n",
       "2021-12-16 14:00:00  0.172403  \n",
       "2021-12-16 14:01:00  0.151463  \n",
       "2021-12-16 14:02:00  0.149346  \n",
       "\n",
       "[3013 rows x 6 columns]"
      ]
     },
     "execution_count": 48,
     "metadata": {},
     "output_type": "execute_result"
    }
   ],
   "source": [
    "# test['LSTM_4'] = predict_4\n",
    "# test"
   ]
  },
  {
   "cell_type": "code",
   "execution_count": null,
   "id": "366002b3",
   "metadata": {},
   "outputs": [
    {
     "data": {
      "image/png": "[encoded data removed]",
      "text/plain": [
       "<Figure size 640x480 with 1 Axes>"
      ]
     },
     "metadata": {},
     "output_type": "display_data"
    }
   ],
   "source": [
    "# plt.plot(test['cloud_cover'], color = 'red', label = 'test')\n",
    "# plt.plot(test['LSTM_4'], color = 'blue', label = 'predict')\n",
    "# plt.xlabel('Time')\n",
    "# plt.ylabel('cloud_cover')\n",
    "# plt.legend()\n",
    "# plt.show()"
   ]
  },
  {
   "cell_type": "code",
   "execution_count": null,
   "id": "20114bf9",
   "metadata": {},
   "outputs": [
    {
     "name": "stdout",
     "output_type": "stream",
     "text": [
      "MSE Error: 0.0019961814127682827\n",
      "RMSE Error: 0.04467864604896038\n",
      "MAE: 0.020685414780127892\n",
      "r2_score: 0.9758519356939102\n"
     ]
    }
   ],
   "source": [
    "# lstm_mse_error = mean_squared_error(test['cloud_cover'], test['LSTM_4'], squared=True)\n",
    "# lstm_rmse_error = mean_squared_error(test['cloud_cover'], test['LSTM_4'], squared=False)\n",
    "# lstm_mae_error = mean_absolute_error(test['cloud_cover'], test['LSTM_4'])\n",
    "# lstm_r2 = r2_score(test['cloud_cover'], test['LSTM_4'])\n",
    "# print(f'MSE Error: {lstm_mse_error}\\nRMSE Error: {lstm_rmse_error}\\nMAE: {lstm_mae_error}\\nr2_score: {lstm_r2}' )"
   ]
  },
  {
   "attachments": {},
   "cell_type": "markdown",
   "id": "85361ba0",
   "metadata": {},
   "source": [
    "---"
   ]
  },
  {
   "cell_type": "code",
   "execution_count": null,
   "id": "9113a918",
   "metadata": {},
   "outputs": [
    {
     "data": {
      "text/html": [
       "<div>\n",
       "<style scoped>\n",
       "    .dataframe tbody tr th:only-of-type {\n",
       "        vertical-align: middle;\n",
       "    }\n",
       "\n",
       "    .dataframe tbody tr th {\n",
       "        vertical-align: top;\n",
       "    }\n",
       "\n",
       "    .dataframe thead th {\n",
       "        text-align: right;\n",
       "    }\n",
       "</style>\n",
       "<table border=\"1\" class=\"dataframe\">\n",
       "  <thead>\n",
       "    <tr style=\"text-align: right;\">\n",
       "      <th></th>\n",
       "      <th>Date</th>\n",
       "      <th>cloud_cover</th>\n",
       "    </tr>\n",
       "  </thead>\n",
       "  <tbody>\n",
       "    <tr>\n",
       "      <th>0</th>\n",
       "      <td>2021-11-16</td>\n",
       "      <td>0.769193</td>\n",
       "    </tr>\n",
       "    <tr>\n",
       "      <th>1</th>\n",
       "      <td>2021-11-17</td>\n",
       "      <td>0.364608</td>\n",
       "    </tr>\n",
       "    <tr>\n",
       "      <th>2</th>\n",
       "      <td>2021-11-18</td>\n",
       "      <td>0.878172</td>\n",
       "    </tr>\n",
       "    <tr>\n",
       "      <th>3</th>\n",
       "      <td>2021-11-19</td>\n",
       "      <td>0.529353</td>\n",
       "    </tr>\n",
       "    <tr>\n",
       "      <th>4</th>\n",
       "      <td>2021-11-20</td>\n",
       "      <td>0.449684</td>\n",
       "    </tr>\n",
       "    <tr>\n",
       "      <th>5</th>\n",
       "      <td>2021-11-21</td>\n",
       "      <td>0.443777</td>\n",
       "    </tr>\n",
       "    <tr>\n",
       "      <th>6</th>\n",
       "      <td>2021-11-22</td>\n",
       "      <td>0.496665</td>\n",
       "    </tr>\n",
       "    <tr>\n",
       "      <th>7</th>\n",
       "      <td>2021-11-23</td>\n",
       "      <td>0.954683</td>\n",
       "    </tr>\n",
       "    <tr>\n",
       "      <th>8</th>\n",
       "      <td>2021-11-24</td>\n",
       "      <td>0.665824</td>\n",
       "    </tr>\n",
       "    <tr>\n",
       "      <th>9</th>\n",
       "      <td>2021-11-25</td>\n",
       "      <td>0.369516</td>\n",
       "    </tr>\n",
       "    <tr>\n",
       "      <th>10</th>\n",
       "      <td>2021-11-26</td>\n",
       "      <td>0.624922</td>\n",
       "    </tr>\n",
       "    <tr>\n",
       "      <th>11</th>\n",
       "      <td>2021-11-27</td>\n",
       "      <td>0.285787</td>\n",
       "    </tr>\n",
       "    <tr>\n",
       "      <th>12</th>\n",
       "      <td>2021-11-28</td>\n",
       "      <td>0.099198</td>\n",
       "    </tr>\n",
       "    <tr>\n",
       "      <th>13</th>\n",
       "      <td>2021-11-29</td>\n",
       "      <td>0.734920</td>\n",
       "    </tr>\n",
       "    <tr>\n",
       "      <th>14</th>\n",
       "      <td>2021-11-30</td>\n",
       "      <td>0.989415</td>\n",
       "    </tr>\n",
       "    <tr>\n",
       "      <th>15</th>\n",
       "      <td>2021-12-01</td>\n",
       "      <td>0.994706</td>\n",
       "    </tr>\n",
       "    <tr>\n",
       "      <th>16</th>\n",
       "      <td>2021-12-02</td>\n",
       "      <td>0.836681</td>\n",
       "    </tr>\n",
       "    <tr>\n",
       "      <th>17</th>\n",
       "      <td>2021-12-03</td>\n",
       "      <td>0.498022</td>\n",
       "    </tr>\n",
       "    <tr>\n",
       "      <th>18</th>\n",
       "      <td>2021-12-04</td>\n",
       "      <td>0.183476</td>\n",
       "    </tr>\n",
       "    <tr>\n",
       "      <th>19</th>\n",
       "      <td>2021-12-05</td>\n",
       "      <td>0.945286</td>\n",
       "    </tr>\n",
       "    <tr>\n",
       "      <th>20</th>\n",
       "      <td>2021-12-07</td>\n",
       "      <td>0.113274</td>\n",
       "    </tr>\n",
       "    <tr>\n",
       "      <th>21</th>\n",
       "      <td>2021-12-08</td>\n",
       "      <td>0.060397</td>\n",
       "    </tr>\n",
       "    <tr>\n",
       "      <th>22</th>\n",
       "      <td>2021-12-09</td>\n",
       "      <td>0.161857</td>\n",
       "    </tr>\n",
       "    <tr>\n",
       "      <th>23</th>\n",
       "      <td>2021-12-10</td>\n",
       "      <td>0.323322</td>\n",
       "    </tr>\n",
       "    <tr>\n",
       "      <th>24</th>\n",
       "      <td>2021-12-11</td>\n",
       "      <td>0.539296</td>\n",
       "    </tr>\n",
       "    <tr>\n",
       "      <th>25</th>\n",
       "      <td>2021-12-12</td>\n",
       "      <td>0.671356</td>\n",
       "    </tr>\n",
       "    <tr>\n",
       "      <th>26</th>\n",
       "      <td>2021-12-13</td>\n",
       "      <td>0.476423</td>\n",
       "    </tr>\n",
       "    <tr>\n",
       "      <th>27</th>\n",
       "      <td>2021-12-14</td>\n",
       "      <td>0.260594</td>\n",
       "    </tr>\n",
       "    <tr>\n",
       "      <th>28</th>\n",
       "      <td>2021-12-15</td>\n",
       "      <td>0.085025</td>\n",
       "    </tr>\n",
       "    <tr>\n",
       "      <th>29</th>\n",
       "      <td>2021-12-16</td>\n",
       "      <td>0.228007</td>\n",
       "    </tr>\n",
       "  </tbody>\n",
       "</table>\n",
       "</div>"
      ],
      "text/plain": [
       "         Date  cloud_cover\n",
       "0  2021-11-16     0.769193\n",
       "1  2021-11-17     0.364608\n",
       "2  2021-11-18     0.878172\n",
       "3  2021-11-19     0.529353\n",
       "4  2021-11-20     0.449684\n",
       "5  2021-11-21     0.443777\n",
       "6  2021-11-22     0.496665\n",
       "7  2021-11-23     0.954683\n",
       "8  2021-11-24     0.665824\n",
       "9  2021-11-25     0.369516\n",
       "10 2021-11-26     0.624922\n",
       "11 2021-11-27     0.285787\n",
       "12 2021-11-28     0.099198\n",
       "13 2021-11-29     0.734920\n",
       "14 2021-11-30     0.989415\n",
       "15 2021-12-01     0.994706\n",
       "16 2021-12-02     0.836681\n",
       "17 2021-12-03     0.498022\n",
       "18 2021-12-04     0.183476\n",
       "19 2021-12-05     0.945286\n",
       "20 2021-12-07     0.113274\n",
       "21 2021-12-08     0.060397\n",
       "22 2021-12-09     0.161857\n",
       "23 2021-12-10     0.323322\n",
       "24 2021-12-11     0.539296\n",
       "25 2021-12-12     0.671356\n",
       "26 2021-12-13     0.476423\n",
       "27 2021-12-14     0.260594\n",
       "28 2021-12-15     0.085025\n",
       "29 2021-12-16     0.228007"
      ]
     },
     "execution_count": 50,
     "metadata": {},
     "output_type": "execute_result"
    }
   ],
   "source": [
    "cloud_cover1 = pd.read_csv('../succeed-prophet/Bangkhuntean_CloudCover_2021-16Nov-16Dec.csv',skipinitialspace = True)\n",
    "cloud_cover1['Date'] = cloud_cover1[['Year', 'Month', 'Day']].apply(lambda x: \"{0}-{1}-{2}\".format(str(x[0]).zfill(2), str(x[1]).zfill(2), str(x[2]).zfill(2)), axis=1) \n",
    "cloud_cover1.drop([\"Year\", \"Month\", \"Day\", \"Hour\", \"Minute\", \"Second\"], axis=1, inplace=True)  \n",
    "cloud_cover1 = cloud_cover1.rename(columns={\"CloudCover\":\"cloud_cover\"})\n",
    "cloud_cover1 = cloud_cover1.groupby(['Date']).agg(cloud_cover=('cloud_cover','mean')).reset_index()    \n",
    "cloud_cover1['Date'] = pd.to_datetime(cloud_cover1['Date'], format=\"%Y-%m-%d\")\n",
    "cloud_cover1.dropna(inplace=True)\n",
    "cloud_cover1"
   ]
  },
  {
   "cell_type": "markdown",
   "id": "6a03cdf7",
   "metadata": {},
   "source": [
    "# Train/Test Model"
   ]
  },
  {
   "cell_type": "code",
   "execution_count": null,
   "id": "7663fdb6",
   "metadata": {},
   "outputs": [
    {
     "name": "stdout",
     "output_type": "stream",
     "text": [
      "Train Shape (24, 2)\n",
      "Test Shape (6, 2)\n"
     ]
    }
   ],
   "source": [
    "train1,test1 = train_test_split(cloud_cover1, train_size=0.8, shuffle=False)\n",
    "print('Train Shape', train1.shape)\n",
    "print('Test Shape', test1.shape)"
   ]
  },
  {
   "cell_type": "code",
   "execution_count": null,
   "id": "7ffccb88",
   "metadata": {},
   "outputs": [],
   "source": [
    "train1 = train1.set_index('Date')\n",
    "test1 = test1.set_index('Date')\n",
    "\n",
    "sc1 = MinMaxScaler(feature_range = (0, 1))\n",
    "training_set_scaled1 = sc1.fit_transform(train1)\n",
    "\n",
    "X_train1 = []\n",
    "y_train1 = []\n",
    "for i in range(5, 24):\n",
    "    X_train1.append(training_set_scaled1[i-5:i, 0])\n",
    "    y_train1.append(training_set_scaled1[i, 0])\n",
    "X_train1, y_train1 = np.array(X_train1), np.array(y_train1)\n",
    "\n",
    "X_train1 = np.reshape(X_train1, (X_train1.shape[0], X_train1.shape[1], 1))"
   ]
  },
  {
   "cell_type": "code",
   "execution_count": null,
   "id": "e2e3cdc5",
   "metadata": {},
   "outputs": [
    {
     "name": "stderr",
     "output_type": "stream",
     "text": [
      "c:\\Users\\USER\\AppData\\Local\\Programs\\Python\\Python310\\lib\\site-packages\\sklearn\\base.py:450: UserWarning: X does not have valid feature names, but MinMaxScaler was fitted with feature names\n",
      "  warnings.warn(\n"
     ]
    }
   ],
   "source": [
    "dataset_total1 = pd.concat((train1['cloud_cover'],test1['cloud_cover']), axis = 0)\n",
    "inputs1 = dataset_total1[len(dataset_total1) - len(test1) - 5:].values\n",
    "inputs1 = inputs1.reshape(-1,1)\n",
    "inputs1 = sc1.transform(inputs1)\n",
    "X_test1 = []\n",
    "for i in range(5, 11):\n",
    "    X_test1.append(inputs[i-5:i, 0])\n",
    "X_test1 = np.array(X_test1)\n",
    "X_test1 = np.reshape(X_test1, (X_test1.shape[0], X_test1.shape[1], 1))"
   ]
  },
  {
   "cell_type": "code",
   "execution_count": null,
   "id": "218ae745",
   "metadata": {},
   "outputs": [],
   "source": [
    "regressor_d = Sequential()\n",
    "regressor_d.add(LSTM(units = 50, activation='relu', input_shape = (X_train1.shape[1], 1)))\n",
    "regressor_d.add(Dense(units = 1))\n",
    "regressor_d.compile(optimizer = 'adam', loss = 'mean_squared_error')"
   ]
  },
  {
   "cell_type": "code",
   "execution_count": null,
   "id": "8bcc8fb0",
   "metadata": {},
   "outputs": [
    {
     "name": "stdout",
     "output_type": "stream",
     "text": [
      "Epoch 1/30\n",
      "1/1 [==============================] - 2s 2s/step - loss: 0.3125\n",
      "Epoch 2/30\n",
      "1/1 [==============================] - 0s 8ms/step - loss: 0.3057\n",
      "Epoch 3/30\n",
      "1/1 [==============================] - 0s 9ms/step - loss: 0.2989\n",
      "Epoch 4/30\n",
      "1/1 [==============================] - 0s 8ms/step - loss: 0.2922\n",
      "Epoch 5/30\n",
      "1/1 [==============================] - 0s 8ms/step - loss: 0.2855\n",
      "Epoch 6/30\n",
      "1/1 [==============================] - 0s 7ms/step - loss: 0.2788\n",
      "Epoch 7/30\n",
      "1/1 [==============================] - 0s 7ms/step - loss: 0.2722\n",
      "Epoch 8/30\n",
      "1/1 [==============================] - 0s 7ms/step - loss: 0.2657\n",
      "Epoch 9/30\n",
      "1/1 [==============================] - 0s 7ms/step - loss: 0.2593\n",
      "Epoch 10/30\n",
      "1/1 [==============================] - 0s 7ms/step - loss: 0.2530\n",
      "Epoch 11/30\n",
      "1/1 [==============================] - 0s 8ms/step - loss: 0.2468\n",
      "Epoch 12/30\n",
      "1/1 [==============================] - 0s 8ms/step - loss: 0.2406\n",
      "Epoch 13/30\n",
      "1/1 [==============================] - 0s 10ms/step - loss: 0.2344\n",
      "Epoch 14/30\n",
      "1/1 [==============================] - 0s 7ms/step - loss: 0.2283\n",
      "Epoch 15/30\n",
      "1/1 [==============================] - 0s 10ms/step - loss: 0.2223\n",
      "Epoch 16/30\n",
      "1/1 [==============================] - 0s 8ms/step - loss: 0.2163\n",
      "Epoch 17/30\n",
      "1/1 [==============================] - 0s 10ms/step - loss: 0.2103\n",
      "Epoch 18/30\n",
      "1/1 [==============================] - 0s 8ms/step - loss: 0.2044\n",
      "Epoch 19/30\n",
      "1/1 [==============================] - 0s 8ms/step - loss: 0.1986\n",
      "Epoch 20/30\n",
      "1/1 [==============================] - 0s 8ms/step - loss: 0.1929\n",
      "Epoch 21/30\n",
      "1/1 [==============================] - 0s 8ms/step - loss: 0.1874\n",
      "Epoch 22/30\n",
      "1/1 [==============================] - 0s 8ms/step - loss: 0.1819\n",
      "Epoch 23/30\n",
      "1/1 [==============================] - 0s 6ms/step - loss: 0.1765\n",
      "Epoch 24/30\n",
      "1/1 [==============================] - 0s 6ms/step - loss: 0.1713\n",
      "Epoch 25/30\n",
      "1/1 [==============================] - 0s 7ms/step - loss: 0.1662\n",
      "Epoch 26/30\n",
      "1/1 [==============================] - 0s 8ms/step - loss: 0.1613\n",
      "Epoch 27/30\n",
      "1/1 [==============================] - 0s 7ms/step - loss: 0.1566\n",
      "Epoch 28/30\n",
      "1/1 [==============================] - 0s 6ms/step - loss: 0.1520\n",
      "Epoch 29/30\n",
      "1/1 [==============================] - 0s 7ms/step - loss: 0.1477\n",
      "Epoch 30/30\n",
      "1/1 [==============================] - 0s 7ms/step - loss: 0.1437\n"
     ]
    },
    {
     "data": {
      "text/plain": [
       "<keras.callbacks.History at 0x1c8fc062cb0>"
      ]
     },
     "execution_count": 59,
     "metadata": {},
     "output_type": "execute_result"
    }
   ],
   "source": [
    "regressor_d.fit(X_train1, y_train1, epochs = 30, batch_size = 32)"
   ]
  },
  {
   "cell_type": "code",
   "execution_count": null,
   "id": "c48f3475",
   "metadata": {},
   "outputs": [
    {
     "name": "stdout",
     "output_type": "stream",
     "text": [
      "1/1 [==============================] - 0s 225ms/step\n"
     ]
    },
    {
     "data": {
      "text/plain": [
       "array([[0.3062846 ],\n",
       "       [0.31638327],\n",
       "       [0.32527584],\n",
       "       [0.33432806],\n",
       "       [0.34558386],\n",
       "       [0.3572604 ]], dtype=float32)"
      ]
     },
     "execution_count": 60,
     "metadata": {},
     "output_type": "execute_result"
    }
   ],
   "source": [
    "predict_scaled_d = regressor_d.predict(X_test1)\n",
    "predict_scaled_d"
   ]
  },
  {
   "cell_type": "code",
   "execution_count": null,
   "id": "92a2e715",
   "metadata": {},
   "outputs": [
    {
     "data": {
      "text/plain": [
       "array([[0.34656155],\n",
       "       [0.35599682],\n",
       "       [0.36430523],\n",
       "       [0.37276277],\n",
       "       [0.38327917],\n",
       "       [0.39418867]], dtype=float32)"
      ]
     },
     "execution_count": 61,
     "metadata": {},
     "output_type": "execute_result"
    }
   ],
   "source": [
    "predict_d = sc1.inverse_transform(predict_scaled_d)\n",
    "predict_d"
   ]
  },
  {
   "cell_type": "code",
   "execution_count": null,
   "id": "de55ee61",
   "metadata": {},
   "outputs": [
    {
     "data": {
      "text/html": [
       "<div>\n",
       "<style scoped>\n",
       "    .dataframe tbody tr th:only-of-type {\n",
       "        vertical-align: middle;\n",
       "    }\n",
       "\n",
       "    .dataframe tbody tr th {\n",
       "        vertical-align: top;\n",
       "    }\n",
       "\n",
       "    .dataframe thead th {\n",
       "        text-align: right;\n",
       "    }\n",
       "</style>\n",
       "<table border=\"1\" class=\"dataframe\">\n",
       "  <thead>\n",
       "    <tr style=\"text-align: right;\">\n",
       "      <th></th>\n",
       "      <th>cloud_cover</th>\n",
       "      <th>LSTM</th>\n",
       "    </tr>\n",
       "    <tr>\n",
       "      <th>Date</th>\n",
       "      <th></th>\n",
       "      <th></th>\n",
       "    </tr>\n",
       "  </thead>\n",
       "  <tbody>\n",
       "    <tr>\n",
       "      <th>2021-12-11</th>\n",
       "      <td>0.539296</td>\n",
       "      <td>0.346562</td>\n",
       "    </tr>\n",
       "    <tr>\n",
       "      <th>2021-12-12</th>\n",
       "      <td>0.671356</td>\n",
       "      <td>0.355997</td>\n",
       "    </tr>\n",
       "    <tr>\n",
       "      <th>2021-12-13</th>\n",
       "      <td>0.476423</td>\n",
       "      <td>0.364305</td>\n",
       "    </tr>\n",
       "    <tr>\n",
       "      <th>2021-12-14</th>\n",
       "      <td>0.260594</td>\n",
       "      <td>0.372763</td>\n",
       "    </tr>\n",
       "    <tr>\n",
       "      <th>2021-12-15</th>\n",
       "      <td>0.085025</td>\n",
       "      <td>0.383279</td>\n",
       "    </tr>\n",
       "    <tr>\n",
       "      <th>2021-12-16</th>\n",
       "      <td>0.228007</td>\n",
       "      <td>0.394189</td>\n",
       "    </tr>\n",
       "  </tbody>\n",
       "</table>\n",
       "</div>"
      ],
      "text/plain": [
       "            cloud_cover      LSTM\n",
       "Date                             \n",
       "2021-12-11     0.539296  0.346562\n",
       "2021-12-12     0.671356  0.355997\n",
       "2021-12-13     0.476423  0.364305\n",
       "2021-12-14     0.260594  0.372763\n",
       "2021-12-15     0.085025  0.383279\n",
       "2021-12-16     0.228007  0.394189"
      ]
     },
     "execution_count": 62,
     "metadata": {},
     "output_type": "execute_result"
    }
   ],
   "source": [
    "test1['LSTM'] = predict_d\n",
    "test1"
   ]
  },
  {
   "cell_type": "code",
   "execution_count": null,
   "id": "bb110b39",
   "metadata": {},
   "outputs": [
    {
     "data": {
      "image/png": "[encoded data removed]",
      "text/plain": [
       "<Figure size 640x480 with 1 Axes>"
      ]
     },
     "metadata": {},
     "output_type": "display_data"
    }
   ],
   "source": [
    "plt.plot(test1['cloud_cover'], color = 'red', label = 'test')\n",
    "plt.plot(test1['LSTM'], color = 'blue', label = 'predict')\n",
    "plt.xlabel('Time')\n",
    "plt.ylabel('cloud_cover')\n",
    "plt.show()"
   ]
  },
  {
   "cell_type": "code",
   "execution_count": null,
   "id": "ed25f392",
   "metadata": {},
   "outputs": [
    {
     "name": "stdout",
     "output_type": "stream",
     "text": [
      "\n",
      "MSE Error: 0.046387037620043765\n",
      "RMSE Error: 0.21537650201459713\n",
      "MAE: 0.1994694150568058\n",
      "r2_score: -0.1412780781639702\n"
     ]
    }
   ],
   "source": [
    "lstm_mse_error = mean_squared_error(test1['cloud_cover'], test1['LSTM'], squared=True)\n",
    "lstm_rmse_error = mean_squared_error(test1['cloud_cover'], test1['LSTM'], squared=False)\n",
    "lstm_mae_error = mean_absolute_error(test1['cloud_cover'], test1['LSTM'])\n",
    "lstm_r2 = r2_score(test1['cloud_cover'], test1['LSTM'])\n",
    "print(f'MSE Error: {lstm_mse_error}\\nRMSE Error: {lstm_rmse_error}\\nMAE: {lstm_mae_error}\\nr2_score: {lstm_r2}' )"
   ]
  }
 ],
 "metadata": {
  "kernelspec": {
   "display_name": "Python 3.10.7 64-bit",
   "language": "python",
   "name": "python3"
  },
  "language_info": {
   "codemirror_mode": {
    "name": "ipython",
    "version": 3
   },
   "file_extension": ".py",
   "mimetype": "text/x-python",
   "name": "python",
   "nbconvert_exporter": "python",
   "pygments_lexer": "ipython3",
   "version": "3.10.7 (tags/v3.10.7:6cc6b13, Sep  5 2022, 14:08:36) [MSC v.1933 64 bit (AMD64)]"
  },
  "vscode": {
   "interpreter": {
    "hash": "df95319d8ce4e1d89f5365ae10992bc1f65da593082b1d264e8f529830ec2f02"
   }
  }
 },
 "nbformat": 4,
 "nbformat_minor": 5
}
