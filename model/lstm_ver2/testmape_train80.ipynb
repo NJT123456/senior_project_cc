{
 "cells": [
  {
   "cell_type": "code",
   "execution_count": 1,
   "metadata": {},
   "outputs": [],
   "source": [
    "import pandas as pd\n",
    "import numpy as np\n",
    "import matplotlib.pyplot as plt\n",
    "import seaborn as sns\n",
    "import plotly.graph_objects as go\n",
    "from keras import models\n",
    "from sklearn.model_selection import train_test_split\n",
    "from keras.models import Sequential\n",
    "from keras.layers import Dense\n",
    "from keras.layers import LSTM\n",
    "from sklearn.preprocessing import MinMaxScaler\n",
    "from sklearn.model_selection import TimeSeriesSplit\n",
    "from keras.layers import Dropout\n",
    "from sklearn.metrics import mean_squared_error,mean_absolute_percentage_error as mape\n",
    "from keras import optimizers"
   ]
  },
  {
   "cell_type": "code",
   "execution_count": 2,
   "metadata": {},
   "outputs": [],
   "source": [
    "def preparedata(file):\n",
    "    cloud_cover = pd.read_csv(file, skipinitialspace = True)\n",
    "    cloud_cover['Date'] = cloud_cover[['Year', 'Month', 'Day']].apply(lambda x: \"{0}-{1}-{2}\".format(str(x[0]).zfill(2), str(x[1]).zfill(2), str(x[2]).zfill(2)), axis=1) \n",
    "    cloud_cover['Time'] = cloud_cover[['Hour', 'Minute']].apply(lambda x: \"{}:{}\".format(str(x[0]).zfill(2), str(x[1]).zfill(2)), axis=1)\n",
    "    cloud_cover.drop([\"Year\", \"Month\", \"Day\", \"Hour\", \"Minute\", \"Second\"], axis=1, inplace=True)  \n",
    "    cloud_cover = cloud_cover.rename(columns={\"CloudCover\":\"cloud_cover\"})\n",
    "    cloud_cover = cloud_cover.groupby(['Date', 'Time']).agg(cloud_cover=('cloud_cover','mean')).reset_index()\n",
    "    cloud_cover['DateTime'] = cloud_cover[['Date', 'Time']].apply(lambda x: \"{} {}\".format(str(x[0]).zfill(2), str(x[1]).zfill(2)), axis=1)\n",
    "    cloud_cover.drop([\"Date\", \"Time\"], axis=1, inplace=True)        \n",
    "    cloud_cover['DateTime'] = pd.to_datetime(cloud_cover['DateTime'], format=\"%Y-%m-%d %H:%M\")\n",
    "    cloud_cover.dropna(inplace=True)\n",
    "    return cloud_cover"
   ]
  },
  {
   "cell_type": "code",
   "execution_count": 3,
   "metadata": {},
   "outputs": [
    {
     "data": {
      "text/html": [
       "<div>\n",
       "<style scoped>\n",
       "    .dataframe tbody tr th:only-of-type {\n",
       "        vertical-align: middle;\n",
       "    }\n",
       "\n",
       "    .dataframe tbody tr th {\n",
       "        vertical-align: top;\n",
       "    }\n",
       "\n",
       "    .dataframe thead th {\n",
       "        text-align: right;\n",
       "    }\n",
       "</style>\n",
       "<table border=\"1\" class=\"dataframe\">\n",
       "  <thead>\n",
       "    <tr style=\"text-align: right;\">\n",
       "      <th></th>\n",
       "      <th>cloud_cover</th>\n",
       "      <th>DateTime</th>\n",
       "    </tr>\n",
       "  </thead>\n",
       "  <tbody>\n",
       "    <tr>\n",
       "      <th>0</th>\n",
       "      <td>0.990000</td>\n",
       "      <td>2021-11-16 11:15:00</td>\n",
       "    </tr>\n",
       "    <tr>\n",
       "      <th>1</th>\n",
       "      <td>0.989000</td>\n",
       "      <td>2021-11-16 11:16:00</td>\n",
       "    </tr>\n",
       "    <tr>\n",
       "      <th>2</th>\n",
       "      <td>0.987667</td>\n",
       "      <td>2021-11-16 11:17:00</td>\n",
       "    </tr>\n",
       "    <tr>\n",
       "      <th>3</th>\n",
       "      <td>0.987000</td>\n",
       "      <td>2021-11-16 11:18:00</td>\n",
       "    </tr>\n",
       "    <tr>\n",
       "      <th>4</th>\n",
       "      <td>0.987000</td>\n",
       "      <td>2021-11-16 11:19:00</td>\n",
       "    </tr>\n",
       "    <tr>\n",
       "      <th>...</th>\n",
       "      <td>...</td>\n",
       "      <td>...</td>\n",
       "    </tr>\n",
       "    <tr>\n",
       "      <th>15056</th>\n",
       "      <td>0.168000</td>\n",
       "      <td>2021-12-16 13:58:00</td>\n",
       "    </tr>\n",
       "    <tr>\n",
       "      <th>15057</th>\n",
       "      <td>0.169000</td>\n",
       "      <td>2021-12-16 13:59:00</td>\n",
       "    </tr>\n",
       "    <tr>\n",
       "      <th>15058</th>\n",
       "      <td>0.147000</td>\n",
       "      <td>2021-12-16 14:00:00</td>\n",
       "    </tr>\n",
       "    <tr>\n",
       "      <th>15059</th>\n",
       "      <td>0.145000</td>\n",
       "      <td>2021-12-16 14:01:00</td>\n",
       "    </tr>\n",
       "    <tr>\n",
       "      <th>15060</th>\n",
       "      <td>0.144000</td>\n",
       "      <td>2021-12-16 14:02:00</td>\n",
       "    </tr>\n",
       "  </tbody>\n",
       "</table>\n",
       "<p>15061 rows × 2 columns</p>\n",
       "</div>"
      ],
      "text/plain": [
       "       cloud_cover            DateTime\n",
       "0         0.990000 2021-11-16 11:15:00\n",
       "1         0.989000 2021-11-16 11:16:00\n",
       "2         0.987667 2021-11-16 11:17:00\n",
       "3         0.987000 2021-11-16 11:18:00\n",
       "4         0.987000 2021-11-16 11:19:00\n",
       "...            ...                 ...\n",
       "15056     0.168000 2021-12-16 13:58:00\n",
       "15057     0.169000 2021-12-16 13:59:00\n",
       "15058     0.147000 2021-12-16 14:00:00\n",
       "15059     0.145000 2021-12-16 14:01:00\n",
       "15060     0.144000 2021-12-16 14:02:00\n",
       "\n",
       "[15061 rows x 2 columns]"
      ]
     },
     "execution_count": 3,
     "metadata": {},
     "output_type": "execute_result"
    }
   ],
   "source": [
    "cloud_cover = preparedata('../prophet_ver2/Bangkhuntean_CloudCover_2021-16Nov-16Dec.csv')\n",
    "cloud_cover"
   ]
  },
  {
   "cell_type": "code",
   "execution_count": 4,
   "metadata": {},
   "outputs": [],
   "source": [
    "def lags_train_test(data, lags):\n",
    "\tX, y = [], []\n",
    "\tfor i in range(lags, len(data)):\n",
    "\t\tX.append(data[i-lags:i])\n",
    "\t\ty.append(data[i])\n",
    "\treturn np.array(X), np.array(y)"
   ]
  },
  {
   "cell_type": "code",
   "execution_count": 5,
   "metadata": {},
   "outputs": [],
   "source": [
    "def Xtrain_ytrain(train,test,lags):\n",
    "    #scale train\n",
    "    sc = MinMaxScaler()\n",
    "    sc.fit(train)\n",
    "    train_set_scale = sc.transform(train)\n",
    "    # train\n",
    "    X_train, y_train = lags_train_test(train_set_scale, lags)\n",
    "    X_train = np.reshape(X_train, (X_train.shape[0], X_train.shape[1], 1))\n",
    "    print(\"X_train Shape :\", X_train.shape)\n",
    "    print(\"y_train Shape :\", y_train.shape)\n",
    "\n",
    "    #scale test\n",
    "    dataset_total = pd.concat((train['cloud_cover'], test['cloud_cover']), axis=0)\n",
    "    inputs = dataset_total[len(dataset_total) - len(test) - lags:].values\n",
    "    inputs = inputs.reshape(-1,1)\n",
    "    inputs = sc.transform(inputs)\n",
    "    # test\n",
    "    X_test, y_test = lags_train_test(inputs, lags)\n",
    "    print(\"X_test Shape : \", X_test.shape)\n",
    "    print(\"y_test Shape : \", y_test.shape)\n",
    "    return X_train, y_train, X_test, y_test, sc"
   ]
  },
  {
   "cell_type": "code",
   "execution_count": 6,
   "metadata": {},
   "outputs": [
    {
     "name": "stdout",
     "output_type": "stream",
     "text": [
      "Train Shape (12048, 2)\n",
      "Test Shape (3013, 2)\n"
     ]
    }
   ],
   "source": [
    "train,test = train_test_split(cloud_cover, train_size=0.8, shuffle=False)\n",
    "print('Train Shape', train.shape)\n",
    "print('Test Shape', test.shape)"
   ]
  },
  {
   "cell_type": "code",
   "execution_count": 13,
   "metadata": {},
   "outputs": [
    {
     "data": {
      "text/html": [
       "<div>\n",
       "<style scoped>\n",
       "    .dataframe tbody tr th:only-of-type {\n",
       "        vertical-align: middle;\n",
       "    }\n",
       "\n",
       "    .dataframe tbody tr th {\n",
       "        vertical-align: top;\n",
       "    }\n",
       "\n",
       "    .dataframe thead th {\n",
       "        text-align: right;\n",
       "    }\n",
       "</style>\n",
       "<table border=\"1\" class=\"dataframe\">\n",
       "  <thead>\n",
       "    <tr style=\"text-align: right;\">\n",
       "      <th></th>\n",
       "      <th>cloud_cover</th>\n",
       "    </tr>\n",
       "    <tr>\n",
       "      <th>DateTime</th>\n",
       "      <th></th>\n",
       "    </tr>\n",
       "  </thead>\n",
       "  <tbody>\n",
       "    <tr>\n",
       "      <th>2021-12-10 15:24:00</th>\n",
       "      <td>0.538</td>\n",
       "    </tr>\n",
       "    <tr>\n",
       "      <th>2021-12-10 15:25:00</th>\n",
       "      <td>0.588</td>\n",
       "    </tr>\n",
       "    <tr>\n",
       "      <th>2021-12-10 15:26:00</th>\n",
       "      <td>0.566</td>\n",
       "    </tr>\n",
       "    <tr>\n",
       "      <th>2021-12-10 15:27:00</th>\n",
       "      <td>0.562</td>\n",
       "    </tr>\n",
       "    <tr>\n",
       "      <th>2021-12-10 15:28:00</th>\n",
       "      <td>0.612</td>\n",
       "    </tr>\n",
       "    <tr>\n",
       "      <th>...</th>\n",
       "      <td>...</td>\n",
       "    </tr>\n",
       "    <tr>\n",
       "      <th>2021-12-16 13:58:00</th>\n",
       "      <td>0.168</td>\n",
       "    </tr>\n",
       "    <tr>\n",
       "      <th>2021-12-16 13:59:00</th>\n",
       "      <td>0.169</td>\n",
       "    </tr>\n",
       "    <tr>\n",
       "      <th>2021-12-16 14:00:00</th>\n",
       "      <td>0.147</td>\n",
       "    </tr>\n",
       "    <tr>\n",
       "      <th>2021-12-16 14:01:00</th>\n",
       "      <td>0.145</td>\n",
       "    </tr>\n",
       "    <tr>\n",
       "      <th>2021-12-16 14:02:00</th>\n",
       "      <td>0.144</td>\n",
       "    </tr>\n",
       "  </tbody>\n",
       "</table>\n",
       "<p>3013 rows × 1 columns</p>\n",
       "</div>"
      ],
      "text/plain": [
       "                     cloud_cover\n",
       "DateTime                        \n",
       "2021-12-10 15:24:00        0.538\n",
       "2021-12-10 15:25:00        0.588\n",
       "2021-12-10 15:26:00        0.566\n",
       "2021-12-10 15:27:00        0.562\n",
       "2021-12-10 15:28:00        0.612\n",
       "...                          ...\n",
       "2021-12-16 13:58:00        0.168\n",
       "2021-12-16 13:59:00        0.169\n",
       "2021-12-16 14:00:00        0.147\n",
       "2021-12-16 14:01:00        0.145\n",
       "2021-12-16 14:02:00        0.144\n",
       "\n",
       "[3013 rows x 1 columns]"
      ]
     },
     "execution_count": 13,
     "metadata": {},
     "output_type": "execute_result"
    }
   ],
   "source": [
    "test"
   ]
  },
  {
   "cell_type": "code",
   "execution_count": 7,
   "metadata": {},
   "outputs": [],
   "source": [
    "train = train.set_index('DateTime')\n",
    "test = test.set_index('DateTime')"
   ]
  },
  {
   "attachments": {},
   "cell_type": "markdown",
   "metadata": {},
   "source": [
    "# lag5"
   ]
  },
  {
   "cell_type": "code",
   "execution_count": 8,
   "metadata": {},
   "outputs": [
    {
     "name": "stdout",
     "output_type": "stream",
     "text": [
      "X_train Shape : (12043, 5, 1)\n",
      "y_train Shape : (12043, 1)\n",
      "X_test Shape :  (3013, 5, 1)\n",
      "y_test Shape :  (3013, 1)\n"
     ]
    },
    {
     "name": "stderr",
     "output_type": "stream",
     "text": [
      "c:\\Users\\USER\\AppData\\Local\\Programs\\Python\\Python310\\lib\\site-packages\\sklearn\\base.py:450: UserWarning: X does not have valid feature names, but MinMaxScaler was fitted with feature names\n",
      "  warnings.warn(\n"
     ]
    }
   ],
   "source": [
    "# X_train, y_train, X_test and y_test\n",
    "X_train, y_train, X_test, y_test, sc = Xtrain_ytrain(train,test,5)"
   ]
  },
  {
   "cell_type": "code",
   "execution_count": 9,
   "metadata": {},
   "outputs": [],
   "source": [
    "test1 = test.copy()"
   ]
  },
  {
   "cell_type": "code",
   "execution_count": 10,
   "metadata": {},
   "outputs": [],
   "source": [
    "ccmin = models.load_model('../lstm_ver2/model_train_80%_lag5.h5')\n",
    "cc10min= models.load_model('../lstm_ver2/model_train_80%_lag10.h5')\n",
    "cc15min= models.load_model('../lstm_ver2/model_train_80%_lag15.h5')\n",
    "cc20min= models.load_model('../lstm_ver2/model_train_80%_lag20.h5')\n",
    "cc25min= models.load_model('../lstm_ver2/model_train_80%_lag25.h5')\n",
    "cc30min= models.load_model('../lstm_ver2/model_train_80%_lag30.h5')"
   ]
  },
  {
   "cell_type": "code",
   "execution_count": 11,
   "metadata": {},
   "outputs": [
    {
     "name": "stdout",
     "output_type": "stream",
     "text": [
      "95/95 [==============================] - 1s 3ms/step\n"
     ]
    },
    {
     "data": {
      "text/html": [
       "<div>\n",
       "<style scoped>\n",
       "    .dataframe tbody tr th:only-of-type {\n",
       "        vertical-align: middle;\n",
       "    }\n",
       "\n",
       "    .dataframe tbody tr th {\n",
       "        vertical-align: top;\n",
       "    }\n",
       "\n",
       "    .dataframe thead th {\n",
       "        text-align: right;\n",
       "    }\n",
       "</style>\n",
       "<table border=\"1\" class=\"dataframe\">\n",
       "  <thead>\n",
       "    <tr style=\"text-align: right;\">\n",
       "      <th></th>\n",
       "      <th>cloud_cover</th>\n",
       "    </tr>\n",
       "    <tr>\n",
       "      <th>DateTime</th>\n",
       "      <th></th>\n",
       "    </tr>\n",
       "  </thead>\n",
       "  <tbody>\n",
       "    <tr>\n",
       "      <th>2021-12-10 15:24:00</th>\n",
       "      <td>0.566234</td>\n",
       "    </tr>\n",
       "    <tr>\n",
       "      <th>2021-12-10 15:25:00</th>\n",
       "      <td>0.546068</td>\n",
       "    </tr>\n",
       "    <tr>\n",
       "      <th>2021-12-10 15:26:00</th>\n",
       "      <td>0.594669</td>\n",
       "    </tr>\n",
       "    <tr>\n",
       "      <th>2021-12-10 15:27:00</th>\n",
       "      <td>0.567256</td>\n",
       "    </tr>\n",
       "    <tr>\n",
       "      <th>2021-12-10 15:28:00</th>\n",
       "      <td>0.568004</td>\n",
       "    </tr>\n",
       "    <tr>\n",
       "      <th>...</th>\n",
       "      <td>...</td>\n",
       "    </tr>\n",
       "    <tr>\n",
       "      <th>2021-12-16 13:58:00</th>\n",
       "      <td>0.170576</td>\n",
       "    </tr>\n",
       "    <tr>\n",
       "      <th>2021-12-16 13:59:00</th>\n",
       "      <td>0.170497</td>\n",
       "    </tr>\n",
       "    <tr>\n",
       "      <th>2021-12-16 14:00:00</th>\n",
       "      <td>0.171472</td>\n",
       "    </tr>\n",
       "    <tr>\n",
       "      <th>2021-12-16 14:01:00</th>\n",
       "      <td>0.150619</td>\n",
       "    </tr>\n",
       "    <tr>\n",
       "      <th>2021-12-16 14:02:00</th>\n",
       "      <td>0.147663</td>\n",
       "    </tr>\n",
       "  </tbody>\n",
       "</table>\n",
       "<p>3013 rows × 1 columns</p>\n",
       "</div>"
      ],
      "text/plain": [
       "                     cloud_cover\n",
       "DateTime                        \n",
       "2021-12-10 15:24:00     0.566234\n",
       "2021-12-10 15:25:00     0.546068\n",
       "2021-12-10 15:26:00     0.594669\n",
       "2021-12-10 15:27:00     0.567256\n",
       "2021-12-10 15:28:00     0.568004\n",
       "...                          ...\n",
       "2021-12-16 13:58:00     0.170576\n",
       "2021-12-16 13:59:00     0.170497\n",
       "2021-12-16 14:00:00     0.171472\n",
       "2021-12-16 14:01:00     0.150619\n",
       "2021-12-16 14:02:00     0.147663\n",
       "\n",
       "[3013 rows x 1 columns]"
      ]
     },
     "execution_count": 11,
     "metadata": {},
     "output_type": "execute_result"
    }
   ],
   "source": [
    "predict = ccmin.predict(X_test)\n",
    "predict1 = sc.inverse_transform(predict)\n",
    "test1['cloud_cover'] = predict1\n",
    "test1"
   ]
  },
  {
   "cell_type": "code",
   "execution_count": 14,
   "metadata": {},
   "outputs": [
    {
     "name": "stdout",
     "output_type": "stream",
     "text": [
      "MAPE Error 5 : 0.0741578180197622\n"
     ]
    }
   ],
   "source": [
    "lstm_mape_error = mape(test[\"cloud_cover\"], test1[\"cloud_cover\"])\n",
    "print(f'MAPE Error 5 : {lstm_mape_error}')"
   ]
  },
  {
   "attachments": {},
   "cell_type": "markdown",
   "metadata": {},
   "source": [
    "# lag10"
   ]
  },
  {
   "cell_type": "code",
   "execution_count": 15,
   "metadata": {},
   "outputs": [
    {
     "name": "stdout",
     "output_type": "stream",
     "text": [
      "X_train Shape : (12038, 10, 1)\n",
      "y_train Shape : (12038, 1)\n",
      "X_test Shape :  (3013, 10, 1)\n",
      "y_test Shape :  (3013, 1)\n"
     ]
    },
    {
     "name": "stderr",
     "output_type": "stream",
     "text": [
      "c:\\Users\\USER\\AppData\\Local\\Programs\\Python\\Python310\\lib\\site-packages\\sklearn\\base.py:450: UserWarning: X does not have valid feature names, but MinMaxScaler was fitted with feature names\n",
      "  warnings.warn(\n"
     ]
    },
    {
     "name": "stdout",
     "output_type": "stream",
     "text": [
      "95/95 [==============================] - 1s 4ms/step\n",
      "MAPE Error 10 : 0.0758120102081082\n"
     ]
    }
   ],
   "source": [
    "# X_train, y_train, X_test and y_test\n",
    "X_train1, y_train1, X_test1, y_test1, sc1 = Xtrain_ytrain(train,test,10)\n",
    "test2 = test.copy()\n",
    "predict2 = cc10min.predict(X_test1)\n",
    "predict3 = sc1.inverse_transform(predict2)\n",
    "test2['cloud_cover'] = predict3\n",
    "lstm_mape_error1 = mape(test[\"cloud_cover\"], test2[\"cloud_cover\"])\n",
    "print(f'MAPE Error 10 : {lstm_mape_error1}')"
   ]
  },
  {
   "attachments": {},
   "cell_type": "markdown",
   "metadata": {},
   "source": [
    "# lag15"
   ]
  },
  {
   "cell_type": "code",
   "execution_count": 16,
   "metadata": {},
   "outputs": [
    {
     "name": "stdout",
     "output_type": "stream",
     "text": [
      "X_train Shape : (12033, 15, 1)\n",
      "y_train Shape : (12033, 1)\n",
      "X_test Shape :  (3013, 15, 1)\n",
      "y_test Shape :  (3013, 1)\n"
     ]
    },
    {
     "name": "stderr",
     "output_type": "stream",
     "text": [
      "c:\\Users\\USER\\AppData\\Local\\Programs\\Python\\Python310\\lib\\site-packages\\sklearn\\base.py:450: UserWarning: X does not have valid feature names, but MinMaxScaler was fitted with feature names\n",
      "  warnings.warn(\n"
     ]
    },
    {
     "name": "stdout",
     "output_type": "stream",
     "text": [
      "95/95 [==============================] - 1s 5ms/step\n",
      "MAPE Error 15 : 0.09112633675639344\n"
     ]
    }
   ],
   "source": [
    "# X_train, y_train, X_test and y_test\n",
    "X_train2, y_train2, X_test2, y_test2, sc2 = Xtrain_ytrain(train,test,15)\n",
    "test3 = test.copy()\n",
    "predict4 = cc15min.predict(X_test2)\n",
    "predict5 = sc2.inverse_transform(predict4)\n",
    "test3['cloud_cover'] = predict5\n",
    "lstm_mape_error2 = mape(test[\"cloud_cover\"], test3[\"cloud_cover\"])\n",
    "print(f'MAPE Error 15 : {lstm_mape_error2}')"
   ]
  },
  {
   "attachments": {},
   "cell_type": "markdown",
   "metadata": {},
   "source": [
    "# lag20"
   ]
  },
  {
   "cell_type": "code",
   "execution_count": 32,
   "metadata": {},
   "outputs": [
    {
     "name": "stdout",
     "output_type": "stream",
     "text": [
      "X_train Shape : (12028, 20, 1)\n",
      "y_train Shape : (12028, 1)\n",
      "X_test Shape :  (3013, 20, 1)\n",
      "y_test Shape :  (3013, 1)\n",
      " 1/95 [..............................] - ETA: 5s"
     ]
    },
    {
     "name": "stderr",
     "output_type": "stream",
     "text": [
      "c:\\Users\\USER\\AppData\\Local\\Programs\\Python\\Python310\\lib\\site-packages\\sklearn\\base.py:450: UserWarning: X does not have valid feature names, but MinMaxScaler was fitted with feature names\n",
      "  warnings.warn(\n"
     ]
    },
    {
     "name": "stdout",
     "output_type": "stream",
     "text": [
      "95/95 [==============================] - 1s 7ms/step\n",
      "MAPE Error 20 : 0.07241119428764212\n"
     ]
    }
   ],
   "source": [
    "# X_train, y_train, X_test and y_test\n",
    "X_train3, y_train3, X_test3, y_test3, sc3 = Xtrain_ytrain(train,test,20)\n",
    "test4 = test.copy()\n",
    "predict6 = cc20min.predict(X_test3)\n",
    "predict7 = sc3.inverse_transform(predict6)\n",
    "test4['cloud_cover'] = predict7\n",
    "lstm_mape_error3 = mape(test[\"cloud_cover\"], test4[\"cloud_cover\"])\n",
    "print(f'MAPE Error 20 : {lstm_mape_error3}')"
   ]
  },
  {
   "attachments": {},
   "cell_type": "markdown",
   "metadata": {},
   "source": [
    "# lag25"
   ]
  },
  {
   "cell_type": "code",
   "execution_count": 30,
   "metadata": {},
   "outputs": [
    {
     "name": "stdout",
     "output_type": "stream",
     "text": [
      "X_train Shape : (12023, 25, 1)\n",
      "y_train Shape : (12023, 1)\n",
      "X_test Shape :  (3013, 25, 1)\n",
      "y_test Shape :  (3013, 1)\n",
      "10/95 [==>...........................] - ETA: 0s"
     ]
    },
    {
     "name": "stderr",
     "output_type": "stream",
     "text": [
      "c:\\Users\\USER\\AppData\\Local\\Programs\\Python\\Python310\\lib\\site-packages\\sklearn\\base.py:450: UserWarning: X does not have valid feature names, but MinMaxScaler was fitted with feature names\n",
      "  warnings.warn(\n"
     ]
    },
    {
     "name": "stdout",
     "output_type": "stream",
     "text": [
      "95/95 [==============================] - 1s 6ms/step\n",
      "MAPE Error 25 : 0.0719229878599183\n"
     ]
    }
   ],
   "source": [
    "# X_train, y_train, X_test and y_test\n",
    "X_train4, y_train4, X_test4, y_test4, sc4 = Xtrain_ytrain(train,test,25)\n",
    "test5 = test.copy()\n",
    "predict8 = cc25min.predict(X_test4)\n",
    "predict9 = sc4.inverse_transform(predict8)\n",
    "test5['cloud_cover'] = predict9\n",
    "lstm_mape_error4 = mape(test[\"cloud_cover\"], test5[\"cloud_cover\"])\n",
    "print(f'MAPE Error 25 : {lstm_mape_error4}')"
   ]
  },
  {
   "attachments": {},
   "cell_type": "markdown",
   "metadata": {},
   "source": [
    "# lag30"
   ]
  },
  {
   "cell_type": "code",
   "execution_count": 33,
   "metadata": {},
   "outputs": [
    {
     "name": "stdout",
     "output_type": "stream",
     "text": [
      "X_train Shape : (12018, 30, 1)\n",
      "y_train Shape : (12018, 1)\n",
      "X_test Shape :  (3013, 30, 1)\n",
      "y_test Shape :  (3013, 1)\n",
      " 9/95 [=>............................] - ETA: 0s"
     ]
    },
    {
     "name": "stderr",
     "output_type": "stream",
     "text": [
      "c:\\Users\\USER\\AppData\\Local\\Programs\\Python\\Python310\\lib\\site-packages\\sklearn\\base.py:450: UserWarning: X does not have valid feature names, but MinMaxScaler was fitted with feature names\n",
      "  warnings.warn(\n"
     ]
    },
    {
     "name": "stdout",
     "output_type": "stream",
     "text": [
      "95/95 [==============================] - 1s 10ms/step\n",
      "MAPE Error 30 : 0.07501506948755776\n"
     ]
    }
   ],
   "source": [
    "# X_train, y_train, X_test and y_test\n",
    "X_train5, y_train5, X_test5, y_test5, sc5 = Xtrain_ytrain(train,test,30)\n",
    "test6 = test.copy()\n",
    "predict10 = cc30min.predict(X_test5)\n",
    "predict11 = sc5.inverse_transform(predict10)\n",
    "test6['cloud_cover'] = predict11\n",
    "lstm_mape_error5 = mape(test[\"cloud_cover\"], test6[\"cloud_cover\"])\n",
    "print(f'MAPE Error 30 : {lstm_mape_error5}')"
   ]
  },
  {
   "cell_type": "code",
   "execution_count": null,
   "metadata": {},
   "outputs": [],
   "source": []
  }
 ],
 "metadata": {
  "kernelspec": {
   "display_name": "Python 3",
   "language": "python",
   "name": "python3"
  },
  "language_info": {
   "codemirror_mode": {
    "name": "ipython",
    "version": 3
   },
   "file_extension": ".py",
   "mimetype": "text/x-python",
   "name": "python",
   "nbconvert_exporter": "python",
   "pygments_lexer": "ipython3",
   "version": "3.10.7"
  },
  "orig_nbformat": 4
 },
 "nbformat": 4,
 "nbformat_minor": 2
}
