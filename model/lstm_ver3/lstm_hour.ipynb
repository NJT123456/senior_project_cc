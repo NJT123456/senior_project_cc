{
 "cells": [
  {
   "cell_type": "code",
   "execution_count": 56,
   "id": "9d3f1a2f",
   "metadata": {},
   "outputs": [],
   "source": [
    "import pandas as pd\n",
    "import numpy as np\n",
    "import matplotlib.pyplot as plt\n",
    "import seaborn as sns\n",
    "import plotly.graph_objects as go\n",
    "from sklearn.model_selection import train_test_split\n",
    "from keras.models import Sequential\n",
    "from keras.layers import Dense\n",
    "from keras.layers import LSTM\n",
    "from sklearn.preprocessing import MinMaxScaler\n",
    "from sklearn.model_selection import TimeSeriesSplit\n",
    "from keras.layers import Dropout\n",
    "from sklearn.metrics import mean_squared_error,mean_absolute_percentage_error as mape,mean_absolute_error as mae\n",
    "from keras import optimizers"
   ]
  },
  {
   "attachments": {},
   "cell_type": "markdown",
   "id": "73f82523",
   "metadata": {},
   "source": [
    "# Prepare Data hourtime"
   ]
  },
  {
   "cell_type": "code",
   "execution_count": 57,
   "id": "fa552e57",
   "metadata": {},
   "outputs": [],
   "source": [
    "def preparedata_hourtime(file):\n",
    "    cloud_cover = pd.read_csv(file,skipinitialspace = True)\n",
    "    cloud_cover['Date'] = cloud_cover[['Year', 'Month', 'Day']].apply(lambda x: \"{0}-{1}-{2}\".format(str(x[0]).zfill(2), str(x[1]).zfill(2), str(x[2]).zfill(2)), axis=1) \n",
    "    cloud_cover['Time'] = cloud_cover[['Hour']].apply(lambda x: \"{}\".format(str(x[0]).zfill(2)), axis=1)\n",
    "    cloud_cover.drop([\"Year\", \"Month\", \"Day\", \"Hour\", \"Minute\", \"Second\"], axis=1, inplace=True)  \n",
    "    cloud_cover = cloud_cover.rename(columns={\"CloudCover\":\"cloud_cover\"})\n",
    "    cloud_cover = cloud_cover.groupby(['Date', 'Time']).agg(cloud_cover=('cloud_cover','mean')).reset_index()\n",
    "    cloud_cover['DateTime'] = cloud_cover[['Date', 'Time']].apply(lambda x: \"{} {}\".format(str(x[0]).zfill(2), str(x[1]).zfill(2)), axis=1)\n",
    "    cloud_cover.drop([\"Date\", \"Time\"], axis=1, inplace=True)        \n",
    "    cloud_cover['DateTime'] = pd.to_datetime(cloud_cover['DateTime'], format=\"%Y-%m-%d %H:%M\")\n",
    "    cloud_cover.dropna(inplace=True)\n",
    "    return cloud_cover\n"
   ]
  },
  {
   "cell_type": "code",
   "execution_count": 58,
   "id": "34eb4c86",
   "metadata": {},
   "outputs": [
    {
     "data": {
      "text/html": [
       "<div>\n",
       "<style scoped>\n",
       "    .dataframe tbody tr th:only-of-type {\n",
       "        vertical-align: middle;\n",
       "    }\n",
       "\n",
       "    .dataframe tbody tr th {\n",
       "        vertical-align: top;\n",
       "    }\n",
       "\n",
       "    .dataframe thead th {\n",
       "        text-align: right;\n",
       "    }\n",
       "</style>\n",
       "<table border=\"1\" class=\"dataframe\">\n",
       "  <thead>\n",
       "    <tr style=\"text-align: right;\">\n",
       "      <th></th>\n",
       "      <th>cloud_cover</th>\n",
       "      <th>DateTime</th>\n",
       "    </tr>\n",
       "  </thead>\n",
       "  <tbody>\n",
       "    <tr>\n",
       "      <th>0</th>\n",
       "      <td>0.990899</td>\n",
       "      <td>2021-11-16 11:00:00</td>\n",
       "    </tr>\n",
       "    <tr>\n",
       "      <th>1</th>\n",
       "      <td>0.973114</td>\n",
       "      <td>2021-11-16 12:00:00</td>\n",
       "    </tr>\n",
       "    <tr>\n",
       "      <th>2</th>\n",
       "      <td>0.960600</td>\n",
       "      <td>2021-11-16 13:00:00</td>\n",
       "    </tr>\n",
       "    <tr>\n",
       "      <th>3</th>\n",
       "      <td>0.908915</td>\n",
       "      <td>2021-11-16 14:00:00</td>\n",
       "    </tr>\n",
       "    <tr>\n",
       "      <th>4</th>\n",
       "      <td>0.631449</td>\n",
       "      <td>2021-11-16 15:00:00</td>\n",
       "    </tr>\n",
       "    <tr>\n",
       "      <th>...</th>\n",
       "      <td>...</td>\n",
       "      <td>...</td>\n",
       "    </tr>\n",
       "    <tr>\n",
       "      <th>251</th>\n",
       "      <td>0.480200</td>\n",
       "      <td>2021-12-16 10:00:00</td>\n",
       "    </tr>\n",
       "    <tr>\n",
       "      <th>252</th>\n",
       "      <td>0.155117</td>\n",
       "      <td>2021-12-16 11:00:00</td>\n",
       "    </tr>\n",
       "    <tr>\n",
       "      <th>253</th>\n",
       "      <td>0.161317</td>\n",
       "      <td>2021-12-16 12:00:00</td>\n",
       "    </tr>\n",
       "    <tr>\n",
       "      <th>254</th>\n",
       "      <td>0.174650</td>\n",
       "      <td>2021-12-16 13:00:00</td>\n",
       "    </tr>\n",
       "    <tr>\n",
       "      <th>255</th>\n",
       "      <td>0.145333</td>\n",
       "      <td>2021-12-16 14:00:00</td>\n",
       "    </tr>\n",
       "  </tbody>\n",
       "</table>\n",
       "<p>256 rows × 2 columns</p>\n",
       "</div>"
      ],
      "text/plain": [
       "     cloud_cover            DateTime\n",
       "0       0.990899 2021-11-16 11:00:00\n",
       "1       0.973114 2021-11-16 12:00:00\n",
       "2       0.960600 2021-11-16 13:00:00\n",
       "3       0.908915 2021-11-16 14:00:00\n",
       "4       0.631449 2021-11-16 15:00:00\n",
       "..           ...                 ...\n",
       "251     0.480200 2021-12-16 10:00:00\n",
       "252     0.155117 2021-12-16 11:00:00\n",
       "253     0.161317 2021-12-16 12:00:00\n",
       "254     0.174650 2021-12-16 13:00:00\n",
       "255     0.145333 2021-12-16 14:00:00\n",
       "\n",
       "[256 rows x 2 columns]"
      ]
     },
     "execution_count": 58,
     "metadata": {},
     "output_type": "execute_result"
    }
   ],
   "source": [
    "cloud_cover = preparedata_hourtime('../prophet_ver2/Bangkhuntean_CloudCover_2021-16Nov-16Dec.csv')\n",
    "cloud_cover"
   ]
  },
  {
   "cell_type": "code",
   "execution_count": 59,
   "id": "c2f2022e",
   "metadata": {},
   "outputs": [],
   "source": [
    "def lags_train_test(data, lags):\n",
    "\tX, y = [], []\n",
    "\tfor i in range(lags, len(data)):\n",
    "\t\tX.append(data[i-lags:i])\n",
    "\t\ty.append(data[i])\n",
    "\treturn np.array(X), np.array(y)"
   ]
  },
  {
   "cell_type": "code",
   "execution_count": 60,
   "id": "a1490634",
   "metadata": {},
   "outputs": [],
   "source": [
    "def Xtrain_ytrain(train,test,lags):\n",
    "    #scale train\n",
    "    sc = MinMaxScaler()\n",
    "    sc.fit(train)\n",
    "    train_set_scale = sc.transform(train)\n",
    "    # train\n",
    "    X_train, y_train = lags_train_test(train_set_scale, lags)\n",
    "    X_train = np.reshape(X_train, (X_train.shape[0], X_train.shape[1], 1))\n",
    "    print(\"X_train Shape :\", X_train.shape)\n",
    "    print(\"y_train Shape :\", y_train.shape)\n",
    "\n",
    "    #scale test\n",
    "    dataset_total = pd.concat((train['cloud_cover'], test['cloud_cover']), axis=0)\n",
    "    inputs = dataset_total[len(dataset_total) - len(test) - lags:].values\n",
    "    inputs = inputs.reshape(-1,1)\n",
    "    inputs = sc.transform(inputs)\n",
    "    # test\n",
    "    X_test, y_test = lags_train_test(inputs, lags)\n",
    "    print(\"X_test Shape : \", X_test.shape)\n",
    "    print(\"y_test Shape : \", y_test.shape)\n",
    "    return X_train, y_train, X_test, y_test, sc"
   ]
  },
  {
   "cell_type": "code",
   "execution_count": 61,
   "id": "ec9e3db0",
   "metadata": {},
   "outputs": [],
   "source": [
    "def plot_curve(history):\n",
    "    # loss curves\n",
    "    fig1 = plt.figure(figsize=[8,6])\n",
    "    loss = history.history['loss']\n",
    "    val_loss = history.history['val_loss']\n",
    "\n",
    "    epochs = range(1, len(loss) + 1)\n",
    "\n",
    "    plt.plot(epochs, loss, 'orange', label='Training loss')\n",
    "    plt.plot(epochs, val_loss, 'b', label='Validation loss')\n",
    "    plt.title('Training and validation loss')\n",
    "    plt.xlabel('Epochs')\n",
    "    plt.ylabel('Loss')\n",
    "    plt.legend()"
   ]
  },
  {
   "cell_type": "code",
   "execution_count": 62,
   "id": "05663cf6",
   "metadata": {},
   "outputs": [],
   "source": [
    "def plot_curve(history):\n",
    "    # loss curves\n",
    "    fig1 = plt.figure(figsize=[8,6])\n",
    "    loss = history.history['loss']\n",
    "    val_loss = history.history['val_loss']\n",
    "\n",
    "    epochs = range(1, len(loss) + 1)\n",
    "\n",
    "    plt.plot(epochs, loss, 'orange', label='Training loss')\n",
    "    plt.plot(epochs, val_loss, 'b', label='Validation loss')\n",
    "    plt.title('Training and validation loss')\n",
    "    plt.xlabel('Epochs')\n",
    "    plt.ylabel('Loss')\n",
    "    plt.legend()"
   ]
  },
  {
   "cell_type": "code",
   "execution_count": 63,
   "id": "53730624",
   "metadata": {},
   "outputs": [],
   "source": [
    "def plot_test(train,pred):\n",
    "    fig2 = go.Figure()\n",
    "    fig2.add_trace(go.Scatter(mode = 'lines', x = train['DateTime'], y = train['cloud_cover'], name = 'Train'))\n",
    "    fig2.add_trace(go.Scatter(mode = 'lines', x = pred['DateTime'], y = pred['cloud_cover'], name = 'Actual'))\n",
    "    fig2.add_trace(go.Scatter(mode = 'lines', x = pred['DateTime'], y = pred['LSTM'], name = 'Predict'))\n",
    "    fig2.update_layout(\n",
    "    autosize=True,\n",
    "    height=600,\n",
    "    title=\"LSTM Model\",\n",
    "    xaxis_title=\"Date\",\n",
    "    yaxis_title=\"Cloud cover\",\n",
    "    )\n",
    "\n",
    "\n",
    "    fig2.update_layout(\n",
    "        xaxis=dict(\n",
    "            rangeselector=dict(\n",
    "                buttons=list([\n",
    "                    dict(count=1,\n",
    "                        label=\"1.zoom\",\n",
    "                        step=\"hour\",\n",
    "                        stepmode=\"backward\"),\n",
    "                    dict(count=2,\n",
    "                        label=\"2.zoom\",\n",
    "                        step=\"hour\",\n",
    "                        stepmode=\"backward\"),\n",
    "                    dict(count=3,\n",
    "                        label=\"3.zoom\",\n",
    "                        step=\"day\",\n",
    "                        stepmode=\"backward\"),              \n",
    "\n",
    "                    dict(step=\"all\")\n",
    "                ])\n",
    "            ),\n",
    "            rangeslider=dict(\n",
    "                visible=True\n",
    "            ),\n",
    "            type=\"date\"\n",
    "        )\n",
    "    )\n",
    "\n",
    "    fig2.show()"
   ]
  },
  {
   "attachments": {},
   "cell_type": "markdown",
   "id": "ab1e8998",
   "metadata": {},
   "source": [
    "## Train/Test Model"
   ]
  },
  {
   "cell_type": "code",
   "execution_count": 64,
   "id": "7663fdb6",
   "metadata": {},
   "outputs": [
    {
     "name": "stdout",
     "output_type": "stream",
     "text": [
      "Train Shape (204, 2)\n",
      "Test Shape (52, 2)\n"
     ]
    }
   ],
   "source": [
    "train,test = train_test_split(cloud_cover, train_size=0.8, shuffle=False)\n",
    "print('Train Shape', train.shape)\n",
    "print('Test Shape', test.shape)"
   ]
  },
  {
   "cell_type": "code",
   "execution_count": 65,
   "id": "a128b4d7",
   "metadata": {},
   "outputs": [
    {
     "data": {
      "text/html": [
       "<div>\n",
       "<style scoped>\n",
       "    .dataframe tbody tr th:only-of-type {\n",
       "        vertical-align: middle;\n",
       "    }\n",
       "\n",
       "    .dataframe tbody tr th {\n",
       "        vertical-align: top;\n",
       "    }\n",
       "\n",
       "    .dataframe thead th {\n",
       "        text-align: right;\n",
       "    }\n",
       "</style>\n",
       "<table border=\"1\" class=\"dataframe\">\n",
       "  <thead>\n",
       "    <tr style=\"text-align: right;\">\n",
       "      <th></th>\n",
       "      <th>cloud_cover</th>\n",
       "      <th>DateTime</th>\n",
       "    </tr>\n",
       "  </thead>\n",
       "  <tbody>\n",
       "    <tr>\n",
       "      <th>0</th>\n",
       "      <td>0.990899</td>\n",
       "      <td>2021-11-16 11:00:00</td>\n",
       "    </tr>\n",
       "    <tr>\n",
       "      <th>1</th>\n",
       "      <td>0.973114</td>\n",
       "      <td>2021-11-16 12:00:00</td>\n",
       "    </tr>\n",
       "    <tr>\n",
       "      <th>2</th>\n",
       "      <td>0.960600</td>\n",
       "      <td>2021-11-16 13:00:00</td>\n",
       "    </tr>\n",
       "    <tr>\n",
       "      <th>3</th>\n",
       "      <td>0.908915</td>\n",
       "      <td>2021-11-16 14:00:00</td>\n",
       "    </tr>\n",
       "    <tr>\n",
       "      <th>4</th>\n",
       "      <td>0.631449</td>\n",
       "      <td>2021-11-16 15:00:00</td>\n",
       "    </tr>\n",
       "    <tr>\n",
       "      <th>...</th>\n",
       "      <td>...</td>\n",
       "      <td>...</td>\n",
       "    </tr>\n",
       "    <tr>\n",
       "      <th>199</th>\n",
       "      <td>0.132593</td>\n",
       "      <td>2021-12-10 11:00:00</td>\n",
       "    </tr>\n",
       "    <tr>\n",
       "      <th>200</th>\n",
       "      <td>0.638319</td>\n",
       "      <td>2021-12-10 12:00:00</td>\n",
       "    </tr>\n",
       "    <tr>\n",
       "      <th>201</th>\n",
       "      <td>0.712340</td>\n",
       "      <td>2021-12-10 13:00:00</td>\n",
       "    </tr>\n",
       "    <tr>\n",
       "      <th>202</th>\n",
       "      <td>0.515441</td>\n",
       "      <td>2021-12-10 14:00:00</td>\n",
       "    </tr>\n",
       "    <tr>\n",
       "      <th>203</th>\n",
       "      <td>0.588741</td>\n",
       "      <td>2021-12-10 15:00:00</td>\n",
       "    </tr>\n",
       "  </tbody>\n",
       "</table>\n",
       "<p>204 rows × 2 columns</p>\n",
       "</div>"
      ],
      "text/plain": [
       "     cloud_cover            DateTime\n",
       "0       0.990899 2021-11-16 11:00:00\n",
       "1       0.973114 2021-11-16 12:00:00\n",
       "2       0.960600 2021-11-16 13:00:00\n",
       "3       0.908915 2021-11-16 14:00:00\n",
       "4       0.631449 2021-11-16 15:00:00\n",
       "..           ...                 ...\n",
       "199     0.132593 2021-12-10 11:00:00\n",
       "200     0.638319 2021-12-10 12:00:00\n",
       "201     0.712340 2021-12-10 13:00:00\n",
       "202     0.515441 2021-12-10 14:00:00\n",
       "203     0.588741 2021-12-10 15:00:00\n",
       "\n",
       "[204 rows x 2 columns]"
      ]
     },
     "execution_count": 65,
     "metadata": {},
     "output_type": "execute_result"
    }
   ],
   "source": [
    "train"
   ]
  },
  {
   "cell_type": "code",
   "execution_count": 66,
   "id": "3868cc88",
   "metadata": {},
   "outputs": [
    {
     "data": {
      "text/html": [
       "<div>\n",
       "<style scoped>\n",
       "    .dataframe tbody tr th:only-of-type {\n",
       "        vertical-align: middle;\n",
       "    }\n",
       "\n",
       "    .dataframe tbody tr th {\n",
       "        vertical-align: top;\n",
       "    }\n",
       "\n",
       "    .dataframe thead th {\n",
       "        text-align: right;\n",
       "    }\n",
       "</style>\n",
       "<table border=\"1\" class=\"dataframe\">\n",
       "  <thead>\n",
       "    <tr style=\"text-align: right;\">\n",
       "      <th></th>\n",
       "      <th>cloud_cover</th>\n",
       "      <th>DateTime</th>\n",
       "    </tr>\n",
       "  </thead>\n",
       "  <tbody>\n",
       "    <tr>\n",
       "      <th>204</th>\n",
       "      <td>0.294850</td>\n",
       "      <td>2021-12-10 16:00:00</td>\n",
       "    </tr>\n",
       "    <tr>\n",
       "      <th>205</th>\n",
       "      <td>0.863067</td>\n",
       "      <td>2021-12-11 08:00:00</td>\n",
       "    </tr>\n",
       "    <tr>\n",
       "      <th>206</th>\n",
       "      <td>0.670333</td>\n",
       "      <td>2021-12-11 09:00:00</td>\n",
       "    </tr>\n",
       "    <tr>\n",
       "      <th>207</th>\n",
       "      <td>0.886633</td>\n",
       "      <td>2021-12-11 10:00:00</td>\n",
       "    </tr>\n",
       "    <tr>\n",
       "      <th>208</th>\n",
       "      <td>0.505052</td>\n",
       "      <td>2021-12-11 11:00:00</td>\n",
       "    </tr>\n",
       "    <tr>\n",
       "      <th>209</th>\n",
       "      <td>0.467982</td>\n",
       "      <td>2021-12-11 12:00:00</td>\n",
       "    </tr>\n",
       "    <tr>\n",
       "      <th>210</th>\n",
       "      <td>0.407017</td>\n",
       "      <td>2021-12-11 13:00:00</td>\n",
       "    </tr>\n",
       "    <tr>\n",
       "      <th>211</th>\n",
       "      <td>0.247034</td>\n",
       "      <td>2021-12-11 14:00:00</td>\n",
       "    </tr>\n",
       "    <tr>\n",
       "      <th>212</th>\n",
       "      <td>0.224317</td>\n",
       "      <td>2021-12-11 15:00:00</td>\n",
       "    </tr>\n",
       "    <tr>\n",
       "      <th>213</th>\n",
       "      <td>0.564383</td>\n",
       "      <td>2021-12-11 16:00:00</td>\n",
       "    </tr>\n",
       "    <tr>\n",
       "      <th>214</th>\n",
       "      <td>0.847550</td>\n",
       "      <td>2021-12-12 08:00:00</td>\n",
       "    </tr>\n",
       "    <tr>\n",
       "      <th>215</th>\n",
       "      <td>0.659350</td>\n",
       "      <td>2021-12-12 09:00:00</td>\n",
       "    </tr>\n",
       "    <tr>\n",
       "      <th>216</th>\n",
       "      <td>0.861983</td>\n",
       "      <td>2021-12-12 10:00:00</td>\n",
       "    </tr>\n",
       "    <tr>\n",
       "      <th>217</th>\n",
       "      <td>0.652345</td>\n",
       "      <td>2021-12-12 11:00:00</td>\n",
       "    </tr>\n",
       "    <tr>\n",
       "      <th>218</th>\n",
       "      <td>0.614914</td>\n",
       "      <td>2021-12-12 12:00:00</td>\n",
       "    </tr>\n",
       "    <tr>\n",
       "      <th>219</th>\n",
       "      <td>0.550517</td>\n",
       "      <td>2021-12-12 13:00:00</td>\n",
       "    </tr>\n",
       "    <tr>\n",
       "      <th>220</th>\n",
       "      <td>0.532450</td>\n",
       "      <td>2021-12-12 14:00:00</td>\n",
       "    </tr>\n",
       "    <tr>\n",
       "      <th>221</th>\n",
       "      <td>0.573567</td>\n",
       "      <td>2021-12-12 15:00:00</td>\n",
       "    </tr>\n",
       "    <tr>\n",
       "      <th>222</th>\n",
       "      <td>0.742983</td>\n",
       "      <td>2021-12-12 16:00:00</td>\n",
       "    </tr>\n",
       "    <tr>\n",
       "      <th>223</th>\n",
       "      <td>0.960833</td>\n",
       "      <td>2021-12-13 08:00:00</td>\n",
       "    </tr>\n",
       "    <tr>\n",
       "      <th>224</th>\n",
       "      <td>0.916400</td>\n",
       "      <td>2021-12-13 09:00:00</td>\n",
       "    </tr>\n",
       "    <tr>\n",
       "      <th>225</th>\n",
       "      <td>0.785346</td>\n",
       "      <td>2021-12-13 10:00:00</td>\n",
       "    </tr>\n",
       "    <tr>\n",
       "      <th>226</th>\n",
       "      <td>0.455864</td>\n",
       "      <td>2021-12-13 11:00:00</td>\n",
       "    </tr>\n",
       "    <tr>\n",
       "      <th>227</th>\n",
       "      <td>0.420911</td>\n",
       "      <td>2021-12-13 12:00:00</td>\n",
       "    </tr>\n",
       "    <tr>\n",
       "      <th>228</th>\n",
       "      <td>0.365193</td>\n",
       "      <td>2021-12-13 13:00:00</td>\n",
       "    </tr>\n",
       "    <tr>\n",
       "      <th>229</th>\n",
       "      <td>0.203810</td>\n",
       "      <td>2021-12-13 14:00:00</td>\n",
       "    </tr>\n",
       "    <tr>\n",
       "      <th>230</th>\n",
       "      <td>0.121254</td>\n",
       "      <td>2021-12-13 15:00:00</td>\n",
       "    </tr>\n",
       "    <tr>\n",
       "      <th>231</th>\n",
       "      <td>0.123217</td>\n",
       "      <td>2021-12-13 16:00:00</td>\n",
       "    </tr>\n",
       "    <tr>\n",
       "      <th>232</th>\n",
       "      <td>0.142067</td>\n",
       "      <td>2021-12-14 08:00:00</td>\n",
       "    </tr>\n",
       "    <tr>\n",
       "      <th>233</th>\n",
       "      <td>0.061617</td>\n",
       "      <td>2021-12-14 09:00:00</td>\n",
       "    </tr>\n",
       "    <tr>\n",
       "      <th>234</th>\n",
       "      <td>0.093304</td>\n",
       "      <td>2021-12-14 10:00:00</td>\n",
       "    </tr>\n",
       "    <tr>\n",
       "      <th>235</th>\n",
       "      <td>0.059817</td>\n",
       "      <td>2021-12-14 11:00:00</td>\n",
       "    </tr>\n",
       "    <tr>\n",
       "      <th>236</th>\n",
       "      <td>0.077733</td>\n",
       "      <td>2021-12-14 12:00:00</td>\n",
       "    </tr>\n",
       "    <tr>\n",
       "      <th>237</th>\n",
       "      <td>0.534280</td>\n",
       "      <td>2021-12-14 13:00:00</td>\n",
       "    </tr>\n",
       "    <tr>\n",
       "      <th>238</th>\n",
       "      <td>0.494309</td>\n",
       "      <td>2021-12-14 14:00:00</td>\n",
       "    </tr>\n",
       "    <tr>\n",
       "      <th>239</th>\n",
       "      <td>0.569839</td>\n",
       "      <td>2021-12-14 15:00:00</td>\n",
       "    </tr>\n",
       "    <tr>\n",
       "      <th>240</th>\n",
       "      <td>0.386933</td>\n",
       "      <td>2021-12-14 16:00:00</td>\n",
       "    </tr>\n",
       "    <tr>\n",
       "      <th>241</th>\n",
       "      <td>0.087450</td>\n",
       "      <td>2021-12-15 08:00:00</td>\n",
       "    </tr>\n",
       "    <tr>\n",
       "      <th>242</th>\n",
       "      <td>0.031667</td>\n",
       "      <td>2021-12-15 09:00:00</td>\n",
       "    </tr>\n",
       "    <tr>\n",
       "      <th>243</th>\n",
       "      <td>0.054714</td>\n",
       "      <td>2021-12-15 10:00:00</td>\n",
       "    </tr>\n",
       "    <tr>\n",
       "      <th>244</th>\n",
       "      <td>0.064250</td>\n",
       "      <td>2021-12-15 11:00:00</td>\n",
       "    </tr>\n",
       "    <tr>\n",
       "      <th>245</th>\n",
       "      <td>0.073203</td>\n",
       "      <td>2021-12-15 12:00:00</td>\n",
       "    </tr>\n",
       "    <tr>\n",
       "      <th>246</th>\n",
       "      <td>0.056172</td>\n",
       "      <td>2021-12-15 13:00:00</td>\n",
       "    </tr>\n",
       "    <tr>\n",
       "      <th>247</th>\n",
       "      <td>0.087286</td>\n",
       "      <td>2021-12-15 14:00:00</td>\n",
       "    </tr>\n",
       "    <tr>\n",
       "      <th>248</th>\n",
       "      <td>0.070797</td>\n",
       "      <td>2021-12-15 15:00:00</td>\n",
       "    </tr>\n",
       "    <tr>\n",
       "      <th>249</th>\n",
       "      <td>0.238983</td>\n",
       "      <td>2021-12-15 16:00:00</td>\n",
       "    </tr>\n",
       "    <tr>\n",
       "      <th>250</th>\n",
       "      <td>0.161860</td>\n",
       "      <td>2021-12-16 09:00:00</td>\n",
       "    </tr>\n",
       "    <tr>\n",
       "      <th>251</th>\n",
       "      <td>0.480200</td>\n",
       "      <td>2021-12-16 10:00:00</td>\n",
       "    </tr>\n",
       "    <tr>\n",
       "      <th>252</th>\n",
       "      <td>0.155117</td>\n",
       "      <td>2021-12-16 11:00:00</td>\n",
       "    </tr>\n",
       "    <tr>\n",
       "      <th>253</th>\n",
       "      <td>0.161317</td>\n",
       "      <td>2021-12-16 12:00:00</td>\n",
       "    </tr>\n",
       "    <tr>\n",
       "      <th>254</th>\n",
       "      <td>0.174650</td>\n",
       "      <td>2021-12-16 13:00:00</td>\n",
       "    </tr>\n",
       "    <tr>\n",
       "      <th>255</th>\n",
       "      <td>0.145333</td>\n",
       "      <td>2021-12-16 14:00:00</td>\n",
       "    </tr>\n",
       "  </tbody>\n",
       "</table>\n",
       "</div>"
      ],
      "text/plain": [
       "     cloud_cover            DateTime\n",
       "204     0.294850 2021-12-10 16:00:00\n",
       "205     0.863067 2021-12-11 08:00:00\n",
       "206     0.670333 2021-12-11 09:00:00\n",
       "207     0.886633 2021-12-11 10:00:00\n",
       "208     0.505052 2021-12-11 11:00:00\n",
       "209     0.467982 2021-12-11 12:00:00\n",
       "210     0.407017 2021-12-11 13:00:00\n",
       "211     0.247034 2021-12-11 14:00:00\n",
       "212     0.224317 2021-12-11 15:00:00\n",
       "213     0.564383 2021-12-11 16:00:00\n",
       "214     0.847550 2021-12-12 08:00:00\n",
       "215     0.659350 2021-12-12 09:00:00\n",
       "216     0.861983 2021-12-12 10:00:00\n",
       "217     0.652345 2021-12-12 11:00:00\n",
       "218     0.614914 2021-12-12 12:00:00\n",
       "219     0.550517 2021-12-12 13:00:00\n",
       "220     0.532450 2021-12-12 14:00:00\n",
       "221     0.573567 2021-12-12 15:00:00\n",
       "222     0.742983 2021-12-12 16:00:00\n",
       "223     0.960833 2021-12-13 08:00:00\n",
       "224     0.916400 2021-12-13 09:00:00\n",
       "225     0.785346 2021-12-13 10:00:00\n",
       "226     0.455864 2021-12-13 11:00:00\n",
       "227     0.420911 2021-12-13 12:00:00\n",
       "228     0.365193 2021-12-13 13:00:00\n",
       "229     0.203810 2021-12-13 14:00:00\n",
       "230     0.121254 2021-12-13 15:00:00\n",
       "231     0.123217 2021-12-13 16:00:00\n",
       "232     0.142067 2021-12-14 08:00:00\n",
       "233     0.061617 2021-12-14 09:00:00\n",
       "234     0.093304 2021-12-14 10:00:00\n",
       "235     0.059817 2021-12-14 11:00:00\n",
       "236     0.077733 2021-12-14 12:00:00\n",
       "237     0.534280 2021-12-14 13:00:00\n",
       "238     0.494309 2021-12-14 14:00:00\n",
       "239     0.569839 2021-12-14 15:00:00\n",
       "240     0.386933 2021-12-14 16:00:00\n",
       "241     0.087450 2021-12-15 08:00:00\n",
       "242     0.031667 2021-12-15 09:00:00\n",
       "243     0.054714 2021-12-15 10:00:00\n",
       "244     0.064250 2021-12-15 11:00:00\n",
       "245     0.073203 2021-12-15 12:00:00\n",
       "246     0.056172 2021-12-15 13:00:00\n",
       "247     0.087286 2021-12-15 14:00:00\n",
       "248     0.070797 2021-12-15 15:00:00\n",
       "249     0.238983 2021-12-15 16:00:00\n",
       "250     0.161860 2021-12-16 09:00:00\n",
       "251     0.480200 2021-12-16 10:00:00\n",
       "252     0.155117 2021-12-16 11:00:00\n",
       "253     0.161317 2021-12-16 12:00:00\n",
       "254     0.174650 2021-12-16 13:00:00\n",
       "255     0.145333 2021-12-16 14:00:00"
      ]
     },
     "execution_count": 66,
     "metadata": {},
     "output_type": "execute_result"
    }
   ],
   "source": [
    "test"
   ]
  },
  {
   "cell_type": "code",
   "execution_count": 67,
   "id": "c3e5cf67",
   "metadata": {},
   "outputs": [],
   "source": [
    "train = train.set_index('DateTime')\n",
    "test = test.set_index('DateTime')"
   ]
  },
  {
   "cell_type": "code",
   "execution_count": 68,
   "id": "0bcc39d7",
   "metadata": {},
   "outputs": [
    {
     "name": "stdout",
     "output_type": "stream",
     "text": [
      "X_train Shape : (199, 5, 1)\n",
      "y_train Shape : (199, 1)\n",
      "X_test Shape :  (52, 5, 1)\n",
      "y_test Shape :  (52, 1)\n"
     ]
    },
    {
     "name": "stderr",
     "output_type": "stream",
     "text": [
      "c:\\Users\\USER\\AppData\\Local\\Programs\\Python\\Python310\\lib\\site-packages\\sklearn\\base.py:450: UserWarning:\n",
      "\n",
      "X does not have valid feature names, but MinMaxScaler was fitted with feature names\n",
      "\n"
     ]
    }
   ],
   "source": [
    "# X_train, y_train, X_test and y_test\n",
    "X_train, y_train, X_test, y_test, sc = Xtrain_ytrain(train,test,5)"
   ]
  },
  {
   "attachments": {},
   "cell_type": "markdown",
   "id": "5276b74c",
   "metadata": {},
   "source": [
    "### Add frist layer units = 100 batch size 32  epochs 20"
   ]
  },
  {
   "cell_type": "code",
   "execution_count": 69,
   "id": "62e78feb",
   "metadata": {},
   "outputs": [
    {
     "name": "stdout",
     "output_type": "stream",
     "text": [
      "Epoch 1/20\n",
      "7/7 [==============================] - 4s 162ms/step - loss: 0.3057 - val_loss: 0.1038\n",
      "Epoch 2/20\n",
      "7/7 [==============================] - 0s 13ms/step - loss: 0.1220 - val_loss: 0.0614\n",
      "Epoch 3/20\n",
      "7/7 [==============================] - 0s 12ms/step - loss: 0.0772 - val_loss: 0.0871\n",
      "Epoch 4/20\n",
      "7/7 [==============================] - 0s 12ms/step - loss: 0.0861 - val_loss: 0.0680\n",
      "Epoch 5/20\n",
      "7/7 [==============================] - 0s 13ms/step - loss: 0.0719 - val_loss: 0.0581\n",
      "Epoch 6/20\n",
      "7/7 [==============================] - 0s 18ms/step - loss: 0.0731 - val_loss: 0.0567\n",
      "Epoch 7/20\n",
      "7/7 [==============================] - 0s 14ms/step - loss: 0.0738 - val_loss: 0.0565\n",
      "Epoch 8/20\n",
      "7/7 [==============================] - 0s 13ms/step - loss: 0.0704 - val_loss: 0.0614\n",
      "Epoch 9/20\n",
      "7/7 [==============================] - 0s 15ms/step - loss: 0.0696 - val_loss: 0.0598\n",
      "Epoch 10/20\n",
      "7/7 [==============================] - 0s 15ms/step - loss: 0.0683 - val_loss: 0.0578\n",
      "Epoch 11/20\n",
      "7/7 [==============================] - 0s 14ms/step - loss: 0.0675 - val_loss: 0.0556\n",
      "Epoch 12/20\n",
      "7/7 [==============================] - 0s 15ms/step - loss: 0.0669 - val_loss: 0.0544\n",
      "Epoch 13/20\n",
      "7/7 [==============================] - 0s 13ms/step - loss: 0.0667 - val_loss: 0.0547\n",
      "Epoch 14/20\n",
      "7/7 [==============================] - 0s 16ms/step - loss: 0.0658 - val_loss: 0.0529\n",
      "Epoch 15/20\n",
      "7/7 [==============================] - 0s 14ms/step - loss: 0.0650 - val_loss: 0.0530\n",
      "Epoch 16/20\n",
      "7/7 [==============================] - 0s 14ms/step - loss: 0.0635 - val_loss: 0.0551\n",
      "Epoch 17/20\n",
      "7/7 [==============================] - 0s 12ms/step - loss: 0.0632 - val_loss: 0.0551\n",
      "Epoch 18/20\n",
      "7/7 [==============================] - 0s 12ms/step - loss: 0.0629 - val_loss: 0.0539\n",
      "Epoch 19/20\n",
      "7/7 [==============================] - 0s 11ms/step - loss: 0.0615 - val_loss: 0.0506\n",
      "Epoch 20/20\n",
      "7/7 [==============================] - 0s 11ms/step - loss: 0.0607 - val_loss: 0.0502\n"
     ]
    }
   ],
   "source": [
    "model = Sequential()\n",
    "model.add(LSTM(units = 100, return_sequences = False, input_shape = (X_train.shape[1], 1)))\n",
    "model.add(Dense(units = 1))\n",
    "model.compile(optimizer = 'adam', loss = 'mean_squared_error')\n",
    "hist = model.fit(X_train, y_train, validation_data=(X_test, y_test), epochs = 20, batch_size = 32)"
   ]
  },
  {
   "cell_type": "code",
   "execution_count": 70,
   "id": "ce6d040b",
   "metadata": {},
   "outputs": [
    {
     "data": {
      "image/png": "[encoded data removed]",
      "text/plain": [
       "<Figure size 800x600 with 1 Axes>"
      ]
     },
     "metadata": {},
     "output_type": "display_data"
    }
   ],
   "source": [
    "plot_curve(hist)"
   ]
  },
  {
   "cell_type": "code",
   "execution_count": 71,
   "id": "ea70e284",
   "metadata": {},
   "outputs": [
    {
     "name": "stdout",
     "output_type": "stream",
     "text": [
      "WARNING:tensorflow:5 out of the last 6 calls to <function Model.make_predict_function.<locals>.predict_function at 0x000001EE864EDB40> triggered tf.function retracing. Tracing is expensive and the excessive number of tracings could be due to (1) creating @tf.function repeatedly in a loop, (2) passing tensors with different shapes, (3) passing Python objects instead of tensors. For (1), please define your @tf.function outside of the loop. For (2), @tf.function has reduce_retracing=True option that can avoid unnecessary retracing. For (3), please refer to https://www.tensorflow.org/guide/function#controlling_retracing and https://www.tensorflow.org/api_docs/python/tf/function for  more details.\n",
      "2/2 [==============================] - 1s 6ms/step\n"
     ]
    }
   ],
   "source": [
    "predict_scaled = model.predict(X_test)\n",
    "predict = sc.inverse_transform(predict_scaled)"
   ]
  },
  {
   "cell_type": "code",
   "execution_count": 72,
   "id": "5a4defb1",
   "metadata": {},
   "outputs": [],
   "source": [
    "train1 = train.copy()\n",
    "test1 = test.copy()"
   ]
  },
  {
   "cell_type": "code",
   "execution_count": 73,
   "id": "ee06b380",
   "metadata": {},
   "outputs": [],
   "source": [
    "train1.reset_index(inplace=True)\n",
    "test1.reset_index(inplace=True)"
   ]
  },
  {
   "cell_type": "code",
   "execution_count": 74,
   "id": "4f66732f",
   "metadata": {},
   "outputs": [
    {
     "data": {
      "text/html": [
       "<div>\n",
       "<style scoped>\n",
       "    .dataframe tbody tr th:only-of-type {\n",
       "        vertical-align: middle;\n",
       "    }\n",
       "\n",
       "    .dataframe tbody tr th {\n",
       "        vertical-align: top;\n",
       "    }\n",
       "\n",
       "    .dataframe thead th {\n",
       "        text-align: right;\n",
       "    }\n",
       "</style>\n",
       "<table border=\"1\" class=\"dataframe\">\n",
       "  <thead>\n",
       "    <tr style=\"text-align: right;\">\n",
       "      <th></th>\n",
       "      <th>DateTime</th>\n",
       "      <th>cloud_cover</th>\n",
       "      <th>LSTM</th>\n",
       "    </tr>\n",
       "  </thead>\n",
       "  <tbody>\n",
       "    <tr>\n",
       "      <th>0</th>\n",
       "      <td>2021-12-10 16:00:00</td>\n",
       "      <td>0.294850</td>\n",
       "      <td>0.526679</td>\n",
       "    </tr>\n",
       "    <tr>\n",
       "      <th>1</th>\n",
       "      <td>2021-12-11 08:00:00</td>\n",
       "      <td>0.863067</td>\n",
       "      <td>0.502342</td>\n",
       "    </tr>\n",
       "    <tr>\n",
       "      <th>2</th>\n",
       "      <td>2021-12-11 09:00:00</td>\n",
       "      <td>0.670333</td>\n",
       "      <td>0.548654</td>\n",
       "    </tr>\n",
       "    <tr>\n",
       "      <th>3</th>\n",
       "      <td>2021-12-11 10:00:00</td>\n",
       "      <td>0.886633</td>\n",
       "      <td>0.565157</td>\n",
       "    </tr>\n",
       "    <tr>\n",
       "      <th>4</th>\n",
       "      <td>2021-12-11 11:00:00</td>\n",
       "      <td>0.505052</td>\n",
       "      <td>0.631541</td>\n",
       "    </tr>\n",
       "    <tr>\n",
       "      <th>5</th>\n",
       "      <td>2021-12-11 12:00:00</td>\n",
       "      <td>0.467982</td>\n",
       "      <td>0.611942</td>\n",
       "    </tr>\n",
       "    <tr>\n",
       "      <th>6</th>\n",
       "      <td>2021-12-11 13:00:00</td>\n",
       "      <td>0.407017</td>\n",
       "      <td>0.589292</td>\n",
       "    </tr>\n",
       "    <tr>\n",
       "      <th>7</th>\n",
       "      <td>2021-12-11 14:00:00</td>\n",
       "      <td>0.247034</td>\n",
       "      <td>0.521883</td>\n",
       "    </tr>\n",
       "    <tr>\n",
       "      <th>8</th>\n",
       "      <td>2021-12-11 15:00:00</td>\n",
       "      <td>0.224317</td>\n",
       "      <td>0.448947</td>\n",
       "    </tr>\n",
       "    <tr>\n",
       "      <th>9</th>\n",
       "      <td>2021-12-11 16:00:00</td>\n",
       "      <td>0.564383</td>\n",
       "      <td>0.375185</td>\n",
       "    </tr>\n",
       "    <tr>\n",
       "      <th>10</th>\n",
       "      <td>2021-12-12 08:00:00</td>\n",
       "      <td>0.847550</td>\n",
       "      <td>0.397552</td>\n",
       "    </tr>\n",
       "    <tr>\n",
       "      <th>11</th>\n",
       "      <td>2021-12-12 09:00:00</td>\n",
       "      <td>0.659350</td>\n",
       "      <td>0.483444</td>\n",
       "    </tr>\n",
       "    <tr>\n",
       "      <th>12</th>\n",
       "      <td>2021-12-12 10:00:00</td>\n",
       "      <td>0.861983</td>\n",
       "      <td>0.538972</td>\n",
       "    </tr>\n",
       "    <tr>\n",
       "      <th>13</th>\n",
       "      <td>2021-12-12 11:00:00</td>\n",
       "      <td>0.652345</td>\n",
       "      <td>0.625299</td>\n",
       "    </tr>\n",
       "    <tr>\n",
       "      <th>14</th>\n",
       "      <td>2021-12-12 12:00:00</td>\n",
       "      <td>0.614914</td>\n",
       "      <td>0.653701</td>\n",
       "    </tr>\n",
       "    <tr>\n",
       "      <th>15</th>\n",
       "      <td>2021-12-12 13:00:00</td>\n",
       "      <td>0.550517</td>\n",
       "      <td>0.639029</td>\n",
       "    </tr>\n",
       "    <tr>\n",
       "      <th>16</th>\n",
       "      <td>2021-12-12 14:00:00</td>\n",
       "      <td>0.532450</td>\n",
       "      <td>0.595490</td>\n",
       "    </tr>\n",
       "    <tr>\n",
       "      <th>17</th>\n",
       "      <td>2021-12-12 15:00:00</td>\n",
       "      <td>0.573567</td>\n",
       "      <td>0.565568</td>\n",
       "    </tr>\n",
       "    <tr>\n",
       "      <th>18</th>\n",
       "      <td>2021-12-12 16:00:00</td>\n",
       "      <td>0.742983</td>\n",
       "      <td>0.539441</td>\n",
       "    </tr>\n",
       "    <tr>\n",
       "      <th>19</th>\n",
       "      <td>2021-12-13 08:00:00</td>\n",
       "      <td>0.960833</td>\n",
       "      <td>0.565766</td>\n",
       "    </tr>\n",
       "    <tr>\n",
       "      <th>20</th>\n",
       "      <td>2021-12-13 09:00:00</td>\n",
       "      <td>0.916400</td>\n",
       "      <td>0.638727</td>\n",
       "    </tr>\n",
       "    <tr>\n",
       "      <th>21</th>\n",
       "      <td>2021-12-13 10:00:00</td>\n",
       "      <td>0.785346</td>\n",
       "      <td>0.702763</td>\n",
       "    </tr>\n",
       "    <tr>\n",
       "      <th>22</th>\n",
       "      <td>2021-12-13 11:00:00</td>\n",
       "      <td>0.455864</td>\n",
       "      <td>0.727185</td>\n",
       "    </tr>\n",
       "    <tr>\n",
       "      <th>23</th>\n",
       "      <td>2021-12-13 12:00:00</td>\n",
       "      <td>0.420911</td>\n",
       "      <td>0.668705</td>\n",
       "    </tr>\n",
       "    <tr>\n",
       "      <th>24</th>\n",
       "      <td>2021-12-13 13:00:00</td>\n",
       "      <td>0.365193</td>\n",
       "      <td>0.591308</td>\n",
       "    </tr>\n",
       "    <tr>\n",
       "      <th>25</th>\n",
       "      <td>2021-12-13 14:00:00</td>\n",
       "      <td>0.203810</td>\n",
       "      <td>0.505135</td>\n",
       "    </tr>\n",
       "    <tr>\n",
       "      <th>26</th>\n",
       "      <td>2021-12-13 15:00:00</td>\n",
       "      <td>0.121254</td>\n",
       "      <td>0.413698</td>\n",
       "    </tr>\n",
       "    <tr>\n",
       "      <th>27</th>\n",
       "      <td>2021-12-13 16:00:00</td>\n",
       "      <td>0.123217</td>\n",
       "      <td>0.334919</td>\n",
       "    </tr>\n",
       "    <tr>\n",
       "      <th>28</th>\n",
       "      <td>2021-12-14 08:00:00</td>\n",
       "      <td>0.142067</td>\n",
       "      <td>0.289219</td>\n",
       "    </tr>\n",
       "    <tr>\n",
       "      <th>29</th>\n",
       "      <td>2021-12-14 09:00:00</td>\n",
       "      <td>0.061617</td>\n",
       "      <td>0.259550</td>\n",
       "    </tr>\n",
       "    <tr>\n",
       "      <th>30</th>\n",
       "      <td>2021-12-14 10:00:00</td>\n",
       "      <td>0.093304</td>\n",
       "      <td>0.229546</td>\n",
       "    </tr>\n",
       "    <tr>\n",
       "      <th>31</th>\n",
       "      <td>2021-12-14 11:00:00</td>\n",
       "      <td>0.059817</td>\n",
       "      <td>0.218362</td>\n",
       "    </tr>\n",
       "    <tr>\n",
       "      <th>32</th>\n",
       "      <td>2021-12-14 12:00:00</td>\n",
       "      <td>0.077733</td>\n",
       "      <td>0.209003</td>\n",
       "    </tr>\n",
       "    <tr>\n",
       "      <th>33</th>\n",
       "      <td>2021-12-14 13:00:00</td>\n",
       "      <td>0.534280</td>\n",
       "      <td>0.203686</td>\n",
       "    </tr>\n",
       "    <tr>\n",
       "      <th>34</th>\n",
       "      <td>2021-12-14 14:00:00</td>\n",
       "      <td>0.494309</td>\n",
       "      <td>0.273993</td>\n",
       "    </tr>\n",
       "    <tr>\n",
       "      <th>35</th>\n",
       "      <td>2021-12-14 15:00:00</td>\n",
       "      <td>0.569839</td>\n",
       "      <td>0.347711</td>\n",
       "    </tr>\n",
       "    <tr>\n",
       "      <th>36</th>\n",
       "      <td>2021-12-14 16:00:00</td>\n",
       "      <td>0.386933</td>\n",
       "      <td>0.422144</td>\n",
       "    </tr>\n",
       "    <tr>\n",
       "      <th>37</th>\n",
       "      <td>2021-12-15 08:00:00</td>\n",
       "      <td>0.087450</td>\n",
       "      <td>0.449915</td>\n",
       "    </tr>\n",
       "    <tr>\n",
       "      <th>38</th>\n",
       "      <td>2021-12-15 09:00:00</td>\n",
       "      <td>0.031667</td>\n",
       "      <td>0.404670</td>\n",
       "    </tr>\n",
       "    <tr>\n",
       "      <th>39</th>\n",
       "      <td>2021-12-15 10:00:00</td>\n",
       "      <td>0.054714</td>\n",
       "      <td>0.321672</td>\n",
       "    </tr>\n",
       "    <tr>\n",
       "      <th>40</th>\n",
       "      <td>2021-12-15 11:00:00</td>\n",
       "      <td>0.064250</td>\n",
       "      <td>0.259030</td>\n",
       "    </tr>\n",
       "    <tr>\n",
       "      <th>41</th>\n",
       "      <td>2021-12-15 12:00:00</td>\n",
       "      <td>0.073203</td>\n",
       "      <td>0.211965</td>\n",
       "    </tr>\n",
       "    <tr>\n",
       "      <th>42</th>\n",
       "      <td>2021-12-15 13:00:00</td>\n",
       "      <td>0.056172</td>\n",
       "      <td>0.191306</td>\n",
       "    </tr>\n",
       "    <tr>\n",
       "      <th>43</th>\n",
       "      <td>2021-12-15 14:00:00</td>\n",
       "      <td>0.087286</td>\n",
       "      <td>0.189899</td>\n",
       "    </tr>\n",
       "    <tr>\n",
       "      <th>44</th>\n",
       "      <td>2021-12-15 15:00:00</td>\n",
       "      <td>0.070797</td>\n",
       "      <td>0.195922</td>\n",
       "    </tr>\n",
       "    <tr>\n",
       "      <th>45</th>\n",
       "      <td>2021-12-15 16:00:00</td>\n",
       "      <td>0.238983</td>\n",
       "      <td>0.197628</td>\n",
       "    </tr>\n",
       "    <tr>\n",
       "      <th>46</th>\n",
       "      <td>2021-12-16 09:00:00</td>\n",
       "      <td>0.161860</td>\n",
       "      <td>0.225160</td>\n",
       "    </tr>\n",
       "    <tr>\n",
       "      <th>47</th>\n",
       "      <td>2021-12-16 10:00:00</td>\n",
       "      <td>0.480200</td>\n",
       "      <td>0.240484</td>\n",
       "    </tr>\n",
       "    <tr>\n",
       "      <th>48</th>\n",
       "      <td>2021-12-16 11:00:00</td>\n",
       "      <td>0.155117</td>\n",
       "      <td>0.305085</td>\n",
       "    </tr>\n",
       "    <tr>\n",
       "      <th>49</th>\n",
       "      <td>2021-12-16 12:00:00</td>\n",
       "      <td>0.161317</td>\n",
       "      <td>0.310753</td>\n",
       "    </tr>\n",
       "    <tr>\n",
       "      <th>50</th>\n",
       "      <td>2021-12-16 13:00:00</td>\n",
       "      <td>0.174650</td>\n",
       "      <td>0.306245</td>\n",
       "    </tr>\n",
       "    <tr>\n",
       "      <th>51</th>\n",
       "      <td>2021-12-16 14:00:00</td>\n",
       "      <td>0.145333</td>\n",
       "      <td>0.291301</td>\n",
       "    </tr>\n",
       "  </tbody>\n",
       "</table>\n",
       "</div>"
      ],
      "text/plain": [
       "              DateTime  cloud_cover      LSTM\n",
       "0  2021-12-10 16:00:00     0.294850  0.526679\n",
       "1  2021-12-11 08:00:00     0.863067  0.502342\n",
       "2  2021-12-11 09:00:00     0.670333  0.548654\n",
       "3  2021-12-11 10:00:00     0.886633  0.565157\n",
       "4  2021-12-11 11:00:00     0.505052  0.631541\n",
       "5  2021-12-11 12:00:00     0.467982  0.611942\n",
       "6  2021-12-11 13:00:00     0.407017  0.589292\n",
       "7  2021-12-11 14:00:00     0.247034  0.521883\n",
       "8  2021-12-11 15:00:00     0.224317  0.448947\n",
       "9  2021-12-11 16:00:00     0.564383  0.375185\n",
       "10 2021-12-12 08:00:00     0.847550  0.397552\n",
       "11 2021-12-12 09:00:00     0.659350  0.483444\n",
       "12 2021-12-12 10:00:00     0.861983  0.538972\n",
       "13 2021-12-12 11:00:00     0.652345  0.625299\n",
       "14 2021-12-12 12:00:00     0.614914  0.653701\n",
       "15 2021-12-12 13:00:00     0.550517  0.639029\n",
       "16 2021-12-12 14:00:00     0.532450  0.595490\n",
       "17 2021-12-12 15:00:00     0.573567  0.565568\n",
       "18 2021-12-12 16:00:00     0.742983  0.539441\n",
       "19 2021-12-13 08:00:00     0.960833  0.565766\n",
       "20 2021-12-13 09:00:00     0.916400  0.638727\n",
       "21 2021-12-13 10:00:00     0.785346  0.702763\n",
       "22 2021-12-13 11:00:00     0.455864  0.727185\n",
       "23 2021-12-13 12:00:00     0.420911  0.668705\n",
       "24 2021-12-13 13:00:00     0.365193  0.591308\n",
       "25 2021-12-13 14:00:00     0.203810  0.505135\n",
       "26 2021-12-13 15:00:00     0.121254  0.413698\n",
       "27 2021-12-13 16:00:00     0.123217  0.334919\n",
       "28 2021-12-14 08:00:00     0.142067  0.289219\n",
       "29 2021-12-14 09:00:00     0.061617  0.259550\n",
       "30 2021-12-14 10:00:00     0.093304  0.229546\n",
       "31 2021-12-14 11:00:00     0.059817  0.218362\n",
       "32 2021-12-14 12:00:00     0.077733  0.209003\n",
       "33 2021-12-14 13:00:00     0.534280  0.203686\n",
       "34 2021-12-14 14:00:00     0.494309  0.273993\n",
       "35 2021-12-14 15:00:00     0.569839  0.347711\n",
       "36 2021-12-14 16:00:00     0.386933  0.422144\n",
       "37 2021-12-15 08:00:00     0.087450  0.449915\n",
       "38 2021-12-15 09:00:00     0.031667  0.404670\n",
       "39 2021-12-15 10:00:00     0.054714  0.321672\n",
       "40 2021-12-15 11:00:00     0.064250  0.259030\n",
       "41 2021-12-15 12:00:00     0.073203  0.211965\n",
       "42 2021-12-15 13:00:00     0.056172  0.191306\n",
       "43 2021-12-15 14:00:00     0.087286  0.189899\n",
       "44 2021-12-15 15:00:00     0.070797  0.195922\n",
       "45 2021-12-15 16:00:00     0.238983  0.197628\n",
       "46 2021-12-16 09:00:00     0.161860  0.225160\n",
       "47 2021-12-16 10:00:00     0.480200  0.240484\n",
       "48 2021-12-16 11:00:00     0.155117  0.305085\n",
       "49 2021-12-16 12:00:00     0.161317  0.310753\n",
       "50 2021-12-16 13:00:00     0.174650  0.306245\n",
       "51 2021-12-16 14:00:00     0.145333  0.291301"
      ]
     },
     "execution_count": 74,
     "metadata": {},
     "output_type": "execute_result"
    }
   ],
   "source": [
    "test1['LSTM'] = predict\n",
    "test1"
   ]
  },
  {
   "cell_type": "code",
   "execution_count": 104,
   "id": "bdf883ee",
   "metadata": {},
   "outputs": [
    {
     "data": {
      "application/vnd.plotly.v1+json": {
       "config": {
        "plotlyServerURL": "https://plot.ly"
       },
       "data": [
        {
         "mode": "lines",
         "name": "Train",
         "type": "scatter",
         "x": [
          "2021-11-16T11:00:00",
          "2021-11-16T12:00:00",
          "2021-11-16T13:00:00",
          "2021-11-16T14:00:00",
          "2021-11-16T15:00:00",
          "2021-11-16T16:00:00",
          "2021-11-17T08:00:00",
          "2021-11-17T09:00:00",
          "2021-11-17T10:00:00",
          "2021-11-17T11:00:00",
          "2021-11-17T12:00:00",
          "2021-11-17T13:00:00",
          "2021-11-17T14:00:00",
          "2021-11-17T15:00:00",
          "2021-11-17T16:00:00",
          "2021-11-18T08:00:00",
          "2021-11-18T09:00:00",
          "2021-11-18T10:00:00",
          "2021-11-18T11:00:00",
          "2021-11-18T12:00:00",
          "2021-11-18T13:00:00",
          "2021-11-18T14:00:00",
          "2021-11-18T15:00:00",
          "2021-11-18T16:00:00",
          "2021-11-19T08:00:00",
          "2021-11-19T09:00:00",
          "2021-11-19T10:00:00",
          "2021-11-19T11:00:00",
          "2021-11-19T12:00:00",
          "2021-11-19T13:00:00",
          "2021-11-19T14:00:00",
          "2021-11-19T15:00:00",
          "2021-11-19T16:00:00",
          "2021-11-20T08:00:00",
          "2021-11-20T09:00:00",
          "2021-11-20T10:00:00",
          "2021-11-20T11:00:00",
          "2021-11-20T12:00:00",
          "2021-11-20T13:00:00",
          "2021-11-20T14:00:00",
          "2021-11-20T15:00:00",
          "2021-11-20T16:00:00",
          "2021-11-21T08:00:00",
          "2021-11-21T09:00:00",
          "2021-11-21T10:00:00",
          "2021-11-21T11:00:00",
          "2021-11-21T12:00:00",
          "2021-11-21T13:00:00",
          "2021-11-21T14:00:00",
          "2021-11-21T15:00:00",
          "2021-11-21T16:00:00",
          "2021-11-22T08:00:00",
          "2021-11-22T09:00:00",
          "2021-11-22T10:00:00",
          "2021-11-22T11:00:00",
          "2021-11-22T12:00:00",
          "2021-11-22T13:00:00",
          "2021-11-22T14:00:00",
          "2021-11-22T15:00:00",
          "2021-11-22T16:00:00",
          "2021-11-23T08:00:00",
          "2021-11-23T09:00:00",
          "2021-11-23T10:00:00",
          "2021-11-23T11:00:00",
          "2021-11-23T12:00:00",
          "2021-11-23T13:00:00",
          "2021-11-23T14:00:00",
          "2021-11-23T15:00:00",
          "2021-11-23T16:00:00",
          "2021-11-24T08:00:00",
          "2021-11-24T09:00:00",
          "2021-11-24T10:00:00",
          "2021-11-24T11:00:00",
          "2021-11-24T12:00:00",
          "2021-11-24T13:00:00",
          "2021-11-24T14:00:00",
          "2021-11-24T15:00:00",
          "2021-11-24T16:00:00",
          "2021-11-25T08:00:00",
          "2021-11-25T09:00:00",
          "2021-11-25T10:00:00",
          "2021-11-25T11:00:00",
          "2021-11-25T12:00:00",
          "2021-11-25T13:00:00",
          "2021-11-25T14:00:00",
          "2021-11-25T15:00:00",
          "2021-11-25T16:00:00",
          "2021-11-26T08:00:00",
          "2021-11-26T09:00:00",
          "2021-11-26T10:00:00",
          "2021-11-26T11:00:00",
          "2021-11-26T12:00:00",
          "2021-11-26T13:00:00",
          "2021-11-26T14:00:00",
          "2021-11-26T15:00:00",
          "2021-11-26T16:00:00",
          "2021-11-27T08:00:00",
          "2021-11-27T09:00:00",
          "2021-11-27T10:00:00",
          "2021-11-27T11:00:00",
          "2021-11-27T12:00:00",
          "2021-11-27T13:00:00",
          "2021-11-27T14:00:00",
          "2021-11-27T15:00:00",
          "2021-11-27T16:00:00",
          "2021-11-28T08:00:00",
          "2021-11-28T09:00:00",
          "2021-11-28T10:00:00",
          "2021-11-28T11:00:00",
          "2021-11-28T12:00:00",
          "2021-11-28T13:00:00",
          "2021-11-28T14:00:00",
          "2021-11-28T15:00:00",
          "2021-11-28T16:00:00",
          "2021-11-29T08:00:00",
          "2021-11-29T09:00:00",
          "2021-11-29T10:00:00",
          "2021-11-29T11:00:00",
          "2021-11-29T12:00:00",
          "2021-11-29T13:00:00",
          "2021-11-29T14:00:00",
          "2021-11-29T15:00:00",
          "2021-11-29T16:00:00",
          "2021-11-30T08:00:00",
          "2021-11-30T09:00:00",
          "2021-11-30T10:00:00",
          "2021-11-30T11:00:00",
          "2021-11-30T12:00:00",
          "2021-11-30T13:00:00",
          "2021-11-30T14:00:00",
          "2021-11-30T15:00:00",
          "2021-11-30T16:00:00",
          "2021-12-01T08:00:00",
          "2021-12-01T09:00:00",
          "2021-12-01T10:00:00",
          "2021-12-01T11:00:00",
          "2021-12-01T12:00:00",
          "2021-12-01T13:00:00",
          "2021-12-01T14:00:00",
          "2021-12-01T15:00:00",
          "2021-12-01T16:00:00",
          "2021-12-02T08:00:00",
          "2021-12-02T09:00:00",
          "2021-12-02T10:00:00",
          "2021-12-02T11:00:00",
          "2021-12-02T12:00:00",
          "2021-12-02T13:00:00",
          "2021-12-02T14:00:00",
          "2021-12-02T15:00:00",
          "2021-12-02T16:00:00",
          "2021-12-03T08:00:00",
          "2021-12-03T09:00:00",
          "2021-12-03T10:00:00",
          "2021-12-03T11:00:00",
          "2021-12-03T12:00:00",
          "2021-12-03T13:00:00",
          "2021-12-03T14:00:00",
          "2021-12-03T15:00:00",
          "2021-12-03T16:00:00",
          "2021-12-04T08:00:00",
          "2021-12-04T09:00:00",
          "2021-12-04T10:00:00",
          "2021-12-04T11:00:00",
          "2021-12-04T12:00:00",
          "2021-12-04T13:00:00",
          "2021-12-04T14:00:00",
          "2021-12-04T15:00:00",
          "2021-12-04T16:00:00",
          "2021-12-05T08:00:00",
          "2021-12-07T08:00:00",
          "2021-12-07T09:00:00",
          "2021-12-07T10:00:00",
          "2021-12-07T11:00:00",
          "2021-12-07T12:00:00",
          "2021-12-07T13:00:00",
          "2021-12-07T14:00:00",
          "2021-12-07T15:00:00",
          "2021-12-07T16:00:00",
          "2021-12-08T08:00:00",
          "2021-12-08T09:00:00",
          "2021-12-08T10:00:00",
          "2021-12-08T11:00:00",
          "2021-12-08T12:00:00",
          "2021-12-08T13:00:00",
          "2021-12-08T14:00:00",
          "2021-12-08T15:00:00",
          "2021-12-08T16:00:00",
          "2021-12-09T08:00:00",
          "2021-12-09T09:00:00",
          "2021-12-09T10:00:00",
          "2021-12-09T11:00:00",
          "2021-12-09T12:00:00",
          "2021-12-09T13:00:00",
          "2021-12-09T14:00:00",
          "2021-12-09T15:00:00",
          "2021-12-09T16:00:00",
          "2021-12-10T08:00:00",
          "2021-12-10T09:00:00",
          "2021-12-10T10:00:00",
          "2021-12-10T11:00:00",
          "2021-12-10T12:00:00",
          "2021-12-10T13:00:00",
          "2021-12-10T14:00:00",
          "2021-12-10T15:00:00"
         ],
         "y": [
          0.9908992248062015,
          0.9731136363636363,
          0.9605999999999999,
          0.9089147727272727,
          0.6314488636363637,
          0.20728,
          0.16393181818181818,
          0.13533714285714285,
          0.38871022727272725,
          0.6169090909090909,
          0.5679886363636364,
          0.5929828571428571,
          0.4322670454545454,
          0.2467142857142857,
          0.13596022727272727,
          0.9481534090909091,
          0.9199829545454545,
          0.8641420454545454,
          0.8304147727272727,
          0.9279772727272728,
          0.9486477272727272,
          0.8538693181818182,
          0.6602727272727272,
          0.9500909090909091,
          0.8466363636363637,
          0.53748,
          0.4539261363636364,
          0.6947045454545454,
          0.7598920454545456,
          0.6917386363636363,
          0.4712840909090909,
          0.2534715909090909,
          0.05237714285714286,
          0.04893678160919541,
          0.21704022988505747,
          0.49314367816091953,
          0.7337657142857142,
          0.7527126436781609,
          0.7591781609195403,
          0.4624022988505747,
          0.38832,
          0.1903735632183908,
          0.7298218390804598,
          0.585816091954023,
          0.34955172413793106,
          0.3712742857142857,
          0.5046379310344827,
          0.5739137931034483,
          0.34727586206896555,
          0.317367816091954,
          0.21605714285714286,
          0.19583815028901735,
          0.26859770114942527,
          0.6721206896551724,
          0.746942196531792,
          0.3828965517241379,
          0.4521724137931034,
          0.486051724137931,
          0.5009657142857142,
          0.7640862068965517,
          0.9472,
          0.9600500000000001,
          0.9799666666666667,
          0.9931333333333333,
          0.92565,
          0.9374666666666667,
          0.94955,
          0.9504,
          0.9487333333333333,
          0.9418000000000001,
          0.94985,
          0.9742833333333334,
          0.9709166666666668,
          0.9749,
          0.6436666666666666,
          0.25615,
          0.15241666666666667,
          0.12843333333333334,
          0.07486666666666666,
          0.19184745762711863,
          0.7532666666666666,
          0.8273499999999999,
          0.4058333333333334,
          0.3674166666666666,
          0.2576,
          0.21686666666666668,
          0.22763333333333333,
          0.13528333333333334,
          0.21175,
          0.7229166666666667,
          0.8764666666666667,
          0.9397166666666668,
          0.94575,
          0.9410666666666666,
          0.6153333333333334,
          0.23601666666666665,
          0.11098333333333334,
          0.10684999999999999,
          0.30343333333333333,
          0.2874333333333333,
          0.33311666666666667,
          0.3749166666666667,
          0.4373666666666667,
          0.37185,
          0.26595833333333335,
          0.042666666666666665,
          0.035449999999999995,
          0.11133333333333333,
          0.18378333333333333,
          0.17228333333333332,
          0.18498333333333333,
          0.09586666666666667,
          0.040383333333333334,
          0.026033333333333335,
          0.9060833333333334,
          0.9830666666666666,
          0.6410166666666667,
          0.48506666666666665,
          0.6312333333333334,
          0.6594166666666667,
          0.5564333333333333,
          0.8034166666666667,
          0.9485499999999999,
          0.99355,
          0.9946333333333333,
          0.9990333333333333,
          0.999,
          0.9973500000000001,
          0.9990833333333333,
          0.98025,
          0.9855333333333333,
          0.9563,
          0.9852166666666666,
          0.9929333333333333,
          0.9991,
          0.999,
          0.9987499999999999,
          0.9995833333333334,
          0.9974833333333333,
          0.9949166666666667,
          0.9853666666666666,
          0.9872333333333334,
          0.9787333333333332,
          0.9992666666666667,
          0.9995166666666666,
          0.9222166666666667,
          0.8251333333333334,
          0.5322,
          0.4251166666666667,
          0.8607166666666667,
          0.6441333333333333,
          0.5900833333333334,
          0.45185000000000003,
          0.5875166666666666,
          0.5952833333333333,
          0.48873333333333335,
          0.3575666666666667,
          0.39863333333333334,
          0.3684,
          0.06963333333333334,
          0.08138333333333334,
          0.19938333333333336,
          0.24226666666666666,
          0.2716833333333334,
          0.28545,
          0.2378333333333333,
          0.17361666666666667,
          0.09003333333333334,
          0.9452857142857143,
          0.0240625,
          0.021866666666666666,
          0.05681666666666666,
          0.11603333333333334,
          0.1546,
          0.2095,
          0.18238333333333331,
          0.1259,
          0.06288333333333333,
          0.06888333333333334,
          0.03491666666666667,
          0.0325,
          0.03195,
          0.06448979591836734,
          0.07746428571428572,
          0.07891379310344827,
          0.07731666666666667,
          0.07871666666666667,
          0.19379787234042553,
          0.08281666666666668,
          0.10477966101694916,
          0.09426923076923077,
          0.11337931034482758,
          0.14872881355932205,
          0.15493220338983052,
          0.17536666666666667,
          0.35863333333333336,
          0.0774,
          0.032683333333333335,
          0.04003333333333334,
          0.13259322033898305,
          0.6383191489361703,
          0.7123396226415094,
          0.5154406779661017,
          0.5887413793103448
         ]
        },
        {
         "mode": "lines",
         "name": "Actual",
         "type": "scatter",
         "x": [
          "2021-12-10T16:00:00",
          "2021-12-11T08:00:00",
          "2021-12-11T09:00:00",
          "2021-12-11T10:00:00",
          "2021-12-11T11:00:00",
          "2021-12-11T12:00:00",
          "2021-12-11T13:00:00",
          "2021-12-11T14:00:00",
          "2021-12-11T15:00:00",
          "2021-12-11T16:00:00",
          "2021-12-12T08:00:00",
          "2021-12-12T09:00:00",
          "2021-12-12T10:00:00",
          "2021-12-12T11:00:00",
          "2021-12-12T12:00:00",
          "2021-12-12T13:00:00",
          "2021-12-12T14:00:00",
          "2021-12-12T15:00:00",
          "2021-12-12T16:00:00",
          "2021-12-13T08:00:00",
          "2021-12-13T09:00:00",
          "2021-12-13T10:00:00",
          "2021-12-13T11:00:00",
          "2021-12-13T12:00:00",
          "2021-12-13T13:00:00",
          "2021-12-13T14:00:00",
          "2021-12-13T15:00:00",
          "2021-12-13T16:00:00",
          "2021-12-14T08:00:00",
          "2021-12-14T09:00:00",
          "2021-12-14T10:00:00",
          "2021-12-14T11:00:00",
          "2021-12-14T12:00:00",
          "2021-12-14T13:00:00",
          "2021-12-14T14:00:00",
          "2021-12-14T15:00:00",
          "2021-12-14T16:00:00",
          "2021-12-15T08:00:00",
          "2021-12-15T09:00:00",
          "2021-12-15T10:00:00",
          "2021-12-15T11:00:00",
          "2021-12-15T12:00:00",
          "2021-12-15T13:00:00",
          "2021-12-15T14:00:00",
          "2021-12-15T15:00:00",
          "2021-12-15T16:00:00",
          "2021-12-16T09:00:00",
          "2021-12-16T10:00:00",
          "2021-12-16T11:00:00",
          "2021-12-16T12:00:00",
          "2021-12-16T13:00:00",
          "2021-12-16T14:00:00"
         ],
         "y": [
          0.29485,
          0.8630666666666666,
          0.6703333333333333,
          0.8866333333333334,
          0.505051724137931,
          0.46798214285714285,
          0.4070169491525424,
          0.24703448275862067,
          0.22431666666666666,
          0.5643833333333333,
          0.84755,
          0.65935,
          0.8619833333333333,
          0.6523448275862068,
          0.6149137931034483,
          0.5505172413793104,
          0.53245,
          0.5735666666666667,
          0.7429833333333333,
          0.9608333333333333,
          0.9164,
          0.7853461538461539,
          0.45586440677966106,
          0.4209107142857143,
          0.36519298245614035,
          0.2038103448275862,
          0.12125423728813559,
          0.12321666666666667,
          0.14206666666666665,
          0.06161666666666667,
          0.09330357142857142,
          0.059816666666666664,
          0.07773333333333333,
          0.53428,
          0.4943090909090909,
          0.5698392857142858,
          0.38693333333333335,
          0.08745,
          0.03166666666666666,
          0.054714285714285715,
          0.06425,
          0.07320338983050848,
          0.05617241379310345,
          0.08728571428571429,
          0.07079661016949151,
          0.23898305084745763,
          0.16186,
          0.4802,
          0.15511666666666668,
          0.16131666666666666,
          0.17465,
          0.14533333333333331
         ]
        },
        {
         "mode": "lines",
         "name": "Predict",
         "type": "scatter",
         "x": [
          "2021-12-10T16:00:00",
          "2021-12-11T08:00:00",
          "2021-12-11T09:00:00",
          "2021-12-11T10:00:00",
          "2021-12-11T11:00:00",
          "2021-12-11T12:00:00",
          "2021-12-11T13:00:00",
          "2021-12-11T14:00:00",
          "2021-12-11T15:00:00",
          "2021-12-11T16:00:00",
          "2021-12-12T08:00:00",
          "2021-12-12T09:00:00",
          "2021-12-12T10:00:00",
          "2021-12-12T11:00:00",
          "2021-12-12T12:00:00",
          "2021-12-12T13:00:00",
          "2021-12-12T14:00:00",
          "2021-12-12T15:00:00",
          "2021-12-12T16:00:00",
          "2021-12-13T08:00:00",
          "2021-12-13T09:00:00",
          "2021-12-13T10:00:00",
          "2021-12-13T11:00:00",
          "2021-12-13T12:00:00",
          "2021-12-13T13:00:00",
          "2021-12-13T14:00:00",
          "2021-12-13T15:00:00",
          "2021-12-13T16:00:00",
          "2021-12-14T08:00:00",
          "2021-12-14T09:00:00",
          "2021-12-14T10:00:00",
          "2021-12-14T11:00:00",
          "2021-12-14T12:00:00",
          "2021-12-14T13:00:00",
          "2021-12-14T14:00:00",
          "2021-12-14T15:00:00",
          "2021-12-14T16:00:00",
          "2021-12-15T08:00:00",
          "2021-12-15T09:00:00",
          "2021-12-15T10:00:00",
          "2021-12-15T11:00:00",
          "2021-12-15T12:00:00",
          "2021-12-15T13:00:00",
          "2021-12-15T14:00:00",
          "2021-12-15T15:00:00",
          "2021-12-15T16:00:00",
          "2021-12-16T09:00:00",
          "2021-12-16T10:00:00",
          "2021-12-16T11:00:00",
          "2021-12-16T12:00:00",
          "2021-12-16T13:00:00",
          "2021-12-16T14:00:00"
         ],
         "y": [
          0.526678740978241,
          0.5023418664932251,
          0.5486544370651245,
          0.5651572942733765,
          0.6315413117408752,
          0.6119416952133179,
          0.5892915725708008,
          0.5218831300735474,
          0.44894707202911377,
          0.3751853406429291,
          0.3975522816181183,
          0.4834437072277069,
          0.5389719009399414,
          0.625299334526062,
          0.6537010073661804,
          0.6390290260314941,
          0.5954902172088623,
          0.5655675530433655,
          0.5394414067268372,
          0.5657662749290466,
          0.638726532459259,
          0.7027628421783447,
          0.7271854281425476,
          0.6687047481536865,
          0.5913076996803284,
          0.505134642124176,
          0.4136984050273895,
          0.33491939306259155,
          0.289218932390213,
          0.2595498561859131,
          0.22954615950584412,
          0.21836189925670624,
          0.20900271832942963,
          0.20368555188179016,
          0.27399253845214844,
          0.34771132469177246,
          0.42214420437812805,
          0.44991549849510193,
          0.40467026829719543,
          0.321672260761261,
          0.2590295970439911,
          0.21196532249450684,
          0.1913059651851654,
          0.18989890813827515,
          0.1959218680858612,
          0.19762825965881348,
          0.22516044974327087,
          0.24048404395580292,
          0.30508509278297424,
          0.3107532858848572,
          0.30624520778656006,
          0.29130125045776367
         ]
        }
       ],
       "layout": {
        "autosize": true,
        "height": 600,
        "template": {
         "data": {
          "bar": [
           {
            "error_x": {
             "color": "#2a3f5f"
            },
            "error_y": {
             "color": "#2a3f5f"
            },
            "marker": {
             "line": {
              "color": "#E5ECF6",
              "width": 0.5
             },
             "pattern": {
              "fillmode": "overlay",
              "size": 10,
              "solidity": 0.2
             }
            },
            "type": "bar"
           }
          ],
          "barpolar": [
           {
            "marker": {
             "line": {
              "color": "#E5ECF6",
              "width": 0.5
             },
             "pattern": {
              "fillmode": "overlay",
              "size": 10,
              "solidity": 0.2
             }
            },
            "type": "barpolar"
           }
          ],
          "carpet": [
           {
            "aaxis": {
             "endlinecolor": "#2a3f5f",
             "gridcolor": "white",
             "linecolor": "white",
             "minorgridcolor": "white",
             "startlinecolor": "#2a3f5f"
            },
            "baxis": {
             "endlinecolor": "#2a3f5f",
             "gridcolor": "white",
             "linecolor": "white",
             "minorgridcolor": "white",
             "startlinecolor": "#2a3f5f"
            },
            "type": "carpet"
           }
          ],
          "choropleth": [
           {
            "colorbar": {
             "outlinewidth": 0,
             "ticks": ""
            },
            "type": "choropleth"
           }
          ],
          "contour": [
           {
            "colorbar": {
             "outlinewidth": 0,
             "ticks": ""
            },
            "colorscale": [
             [
              0,
              "#0d0887"
             ],
             [
              0.1111111111111111,
              "#46039f"
             ],
             [
              0.2222222222222222,
              "#7201a8"
             ],
             [
              0.3333333333333333,
              "#9c179e"
             ],
             [
              0.4444444444444444,
              "#bd3786"
             ],
             [
              0.5555555555555556,
              "#d8576b"
             ],
             [
              0.6666666666666666,
              "#ed7953"
             ],
             [
              0.7777777777777778,
              "#fb9f3a"
             ],
             [
              0.8888888888888888,
              "#fdca26"
             ],
             [
              1,
              "#f0f921"
             ]
            ],
            "type": "contour"
           }
          ],
          "contourcarpet": [
           {
            "colorbar": {
             "outlinewidth": 0,
             "ticks": ""
            },
            "type": "contourcarpet"
           }
          ],
          "heatmap": [
           {
            "colorbar": {
             "outlinewidth": 0,
             "ticks": ""
            },
            "colorscale": [
             [
              0,
              "#0d0887"
             ],
             [
              0.1111111111111111,
              "#46039f"
             ],
             [
              0.2222222222222222,
              "#7201a8"
             ],
             [
              0.3333333333333333,
              "#9c179e"
             ],
             [
              0.4444444444444444,
              "#bd3786"
             ],
             [
              0.5555555555555556,
              "#d8576b"
             ],
             [
              0.6666666666666666,
              "#ed7953"
             ],
             [
              0.7777777777777778,
              "#fb9f3a"
             ],
             [
              0.8888888888888888,
              "#fdca26"
             ],
             [
              1,
              "#f0f921"
             ]
            ],
            "type": "heatmap"
           }
          ],
          "heatmapgl": [
           {
            "colorbar": {
             "outlinewidth": 0,
             "ticks": ""
            },
            "colorscale": [
             [
              0,
              "#0d0887"
             ],
             [
              0.1111111111111111,
              "#46039f"
             ],
             [
              0.2222222222222222,
              "#7201a8"
             ],
             [
              0.3333333333333333,
              "#9c179e"
             ],
             [
              0.4444444444444444,
              "#bd3786"
             ],
             [
              0.5555555555555556,
              "#d8576b"
             ],
             [
              0.6666666666666666,
              "#ed7953"
             ],
             [
              0.7777777777777778,
              "#fb9f3a"
             ],
             [
              0.8888888888888888,
              "#fdca26"
             ],
             [
              1,
              "#f0f921"
             ]
            ],
            "type": "heatmapgl"
           }
          ],
          "histogram": [
           {
            "marker": {
             "pattern": {
              "fillmode": "overlay",
              "size": 10,
              "solidity": 0.2
             }
            },
            "type": "histogram"
           }
          ],
          "histogram2d": [
           {
            "colorbar": {
             "outlinewidth": 0,
             "ticks": ""
            },
            "colorscale": [
             [
              0,
              "#0d0887"
             ],
             [
              0.1111111111111111,
              "#46039f"
             ],
             [
              0.2222222222222222,
              "#7201a8"
             ],
             [
              0.3333333333333333,
              "#9c179e"
             ],
             [
              0.4444444444444444,
              "#bd3786"
             ],
             [
              0.5555555555555556,
              "#d8576b"
             ],
             [
              0.6666666666666666,
              "#ed7953"
             ],
             [
              0.7777777777777778,
              "#fb9f3a"
             ],
             [
              0.8888888888888888,
              "#fdca26"
             ],
             [
              1,
              "#f0f921"
             ]
            ],
            "type": "histogram2d"
           }
          ],
          "histogram2dcontour": [
           {
            "colorbar": {
             "outlinewidth": 0,
             "ticks": ""
            },
            "colorscale": [
             [
              0,
              "#0d0887"
             ],
             [
              0.1111111111111111,
              "#46039f"
             ],
             [
              0.2222222222222222,
              "#7201a8"
             ],
             [
              0.3333333333333333,
              "#9c179e"
             ],
             [
              0.4444444444444444,
              "#bd3786"
             ],
             [
              0.5555555555555556,
              "#d8576b"
             ],
             [
              0.6666666666666666,
              "#ed7953"
             ],
             [
              0.7777777777777778,
              "#fb9f3a"
             ],
             [
              0.8888888888888888,
              "#fdca26"
             ],
             [
              1,
              "#f0f921"
             ]
            ],
            "type": "histogram2dcontour"
           }
          ],
          "mesh3d": [
           {
            "colorbar": {
             "outlinewidth": 0,
             "ticks": ""
            },
            "type": "mesh3d"
           }
          ],
          "parcoords": [
           {
            "line": {
             "colorbar": {
              "outlinewidth": 0,
              "ticks": ""
             }
            },
            "type": "parcoords"
           }
          ],
          "pie": [
           {
            "automargin": true,
            "type": "pie"
           }
          ],
          "scatter": [
           {
            "fillpattern": {
             "fillmode": "overlay",
             "size": 10,
             "solidity": 0.2
            },
            "type": "scatter"
           }
          ],
          "scatter3d": [
           {
            "line": {
             "colorbar": {
              "outlinewidth": 0,
              "ticks": ""
             }
            },
            "marker": {
             "colorbar": {
              "outlinewidth": 0,
              "ticks": ""
             }
            },
            "type": "scatter3d"
           }
          ],
          "scattercarpet": [
           {
            "marker": {
             "colorbar": {
              "outlinewidth": 0,
              "ticks": ""
             }
            },
            "type": "scattercarpet"
           }
          ],
          "scattergeo": [
           {
            "marker": {
             "colorbar": {
              "outlinewidth": 0,
              "ticks": ""
             }
            },
            "type": "scattergeo"
           }
          ],
          "scattergl": [
           {
            "marker": {
             "colorbar": {
              "outlinewidth": 0,
              "ticks": ""
             }
            },
            "type": "scattergl"
           }
          ],
          "scattermapbox": [
           {
            "marker": {
             "colorbar": {
              "outlinewidth": 0,
              "ticks": ""
             }
            },
            "type": "scattermapbox"
           }
          ],
          "scatterpolar": [
           {
            "marker": {
             "colorbar": {
              "outlinewidth": 0,
              "ticks": ""
             }
            },
            "type": "scatterpolar"
           }
          ],
          "scatterpolargl": [
           {
            "marker": {
             "colorbar": {
              "outlinewidth": 0,
              "ticks": ""
             }
            },
            "type": "scatterpolargl"
           }
          ],
          "scatterternary": [
           {
            "marker": {
             "colorbar": {
              "outlinewidth": 0,
              "ticks": ""
             }
            },
            "type": "scatterternary"
           }
          ],
          "surface": [
           {
            "colorbar": {
             "outlinewidth": 0,
             "ticks": ""
            },
            "colorscale": [
             [
              0,
              "#0d0887"
             ],
             [
              0.1111111111111111,
              "#46039f"
             ],
             [
              0.2222222222222222,
              "#7201a8"
             ],
             [
              0.3333333333333333,
              "#9c179e"
             ],
             [
              0.4444444444444444,
              "#bd3786"
             ],
             [
              0.5555555555555556,
              "#d8576b"
             ],
             [
              0.6666666666666666,
              "#ed7953"
             ],
             [
              0.7777777777777778,
              "#fb9f3a"
             ],
             [
              0.8888888888888888,
              "#fdca26"
             ],
             [
              1,
              "#f0f921"
             ]
            ],
            "type": "surface"
           }
          ],
          "table": [
           {
            "cells": {
             "fill": {
              "color": "#EBF0F8"
             },
             "line": {
              "color": "white"
             }
            },
            "header": {
             "fill": {
              "color": "#C8D4E3"
             },
             "line": {
              "color": "white"
             }
            },
            "type": "table"
           }
          ]
         },
         "layout": {
          "annotationdefaults": {
           "arrowcolor": "#2a3f5f",
           "arrowhead": 0,
           "arrowwidth": 1
          },
          "autotypenumbers": "strict",
          "coloraxis": {
           "colorbar": {
            "outlinewidth": 0,
            "ticks": ""
           }
          },
          "colorscale": {
           "diverging": [
            [
             0,
             "#8e0152"
            ],
            [
             0.1,
             "#c51b7d"
            ],
            [
             0.2,
             "#de77ae"
            ],
            [
             0.3,
             "#f1b6da"
            ],
            [
             0.4,
             "#fde0ef"
            ],
            [
             0.5,
             "#f7f7f7"
            ],
            [
             0.6,
             "#e6f5d0"
            ],
            [
             0.7,
             "#b8e186"
            ],
            [
             0.8,
             "#7fbc41"
            ],
            [
             0.9,
             "#4d9221"
            ],
            [
             1,
             "#276419"
            ]
           ],
           "sequential": [
            [
             0,
             "#0d0887"
            ],
            [
             0.1111111111111111,
             "#46039f"
            ],
            [
             0.2222222222222222,
             "#7201a8"
            ],
            [
             0.3333333333333333,
             "#9c179e"
            ],
            [
             0.4444444444444444,
             "#bd3786"
            ],
            [
             0.5555555555555556,
             "#d8576b"
            ],
            [
             0.6666666666666666,
             "#ed7953"
            ],
            [
             0.7777777777777778,
             "#fb9f3a"
            ],
            [
             0.8888888888888888,
             "#fdca26"
            ],
            [
             1,
             "#f0f921"
            ]
           ],
           "sequentialminus": [
            [
             0,
             "#0d0887"
            ],
            [
             0.1111111111111111,
             "#46039f"
            ],
            [
             0.2222222222222222,
             "#7201a8"
            ],
            [
             0.3333333333333333,
             "#9c179e"
            ],
            [
             0.4444444444444444,
             "#bd3786"
            ],
            [
             0.5555555555555556,
             "#d8576b"
            ],
            [
             0.6666666666666666,
             "#ed7953"
            ],
            [
             0.7777777777777778,
             "#fb9f3a"
            ],
            [
             0.8888888888888888,
             "#fdca26"
            ],
            [
             1,
             "#f0f921"
            ]
           ]
          },
          "colorway": [
           "#636efa",
           "#EF553B",
           "#00cc96",
           "#ab63fa",
           "#FFA15A",
           "#19d3f3",
           "#FF6692",
           "#B6E880",
           "#FF97FF",
           "#FECB52"
          ],
          "font": {
           "color": "#2a3f5f"
          },
          "geo": {
           "bgcolor": "white",
           "lakecolor": "white",
           "landcolor": "#E5ECF6",
           "showlakes": true,
           "showland": true,
           "subunitcolor": "white"
          },
          "hoverlabel": {
           "align": "left"
          },
          "hovermode": "closest",
          "mapbox": {
           "style": "light"
          },
          "paper_bgcolor": "white",
          "plot_bgcolor": "#E5ECF6",
          "polar": {
           "angularaxis": {
            "gridcolor": "white",
            "linecolor": "white",
            "ticks": ""
           },
           "bgcolor": "#E5ECF6",
           "radialaxis": {
            "gridcolor": "white",
            "linecolor": "white",
            "ticks": ""
           }
          },
          "scene": {
           "xaxis": {
            "backgroundcolor": "#E5ECF6",
            "gridcolor": "white",
            "gridwidth": 2,
            "linecolor": "white",
            "showbackground": true,
            "ticks": "",
            "zerolinecolor": "white"
           },
           "yaxis": {
            "backgroundcolor": "#E5ECF6",
            "gridcolor": "white",
            "gridwidth": 2,
            "linecolor": "white",
            "showbackground": true,
            "ticks": "",
            "zerolinecolor": "white"
           },
           "zaxis": {
            "backgroundcolor": "#E5ECF6",
            "gridcolor": "white",
            "gridwidth": 2,
            "linecolor": "white",
            "showbackground": true,
            "ticks": "",
            "zerolinecolor": "white"
           }
          },
          "shapedefaults": {
           "line": {
            "color": "#2a3f5f"
           }
          },
          "ternary": {
           "aaxis": {
            "gridcolor": "white",
            "linecolor": "white",
            "ticks": ""
           },
           "baxis": {
            "gridcolor": "white",
            "linecolor": "white",
            "ticks": ""
           },
           "bgcolor": "#E5ECF6",
           "caxis": {
            "gridcolor": "white",
            "linecolor": "white",
            "ticks": ""
           }
          },
          "title": {
           "x": 0.05
          },
          "xaxis": {
           "automargin": true,
           "gridcolor": "white",
           "linecolor": "white",
           "ticks": "",
           "title": {
            "standoff": 15
           },
           "zerolinecolor": "white",
           "zerolinewidth": 2
          },
          "yaxis": {
           "automargin": true,
           "gridcolor": "white",
           "linecolor": "white",
           "ticks": "",
           "title": {
            "standoff": 15
           },
           "zerolinecolor": "white",
           "zerolinewidth": 2
          }
         }
        },
        "title": {
         "text": "LSTM Model"
        },
        "xaxis": {
         "rangeselector": {
          "buttons": [
           {
            "count": 1,
            "label": "1.zoom",
            "step": "hour",
            "stepmode": "backward"
           },
           {
            "count": 2,
            "label": "2.zoom",
            "step": "hour",
            "stepmode": "backward"
           },
           {
            "count": 3,
            "label": "3.zoom",
            "step": "day",
            "stepmode": "backward"
           },
           {
            "step": "all"
           }
          ]
         },
         "rangeslider": {
          "visible": true
         },
         "title": {
          "text": "Date"
         },
         "type": "date"
        },
        "yaxis": {
         "title": {
          "text": "Cloud cover"
         }
        }
       }
      }
     },
     "metadata": {},
     "output_type": "display_data"
    }
   ],
   "source": [
    "plot_test(train1,test1)"
   ]
  },
  {
   "cell_type": "code",
   "execution_count": 76,
   "id": "6ae1ddb8",
   "metadata": {},
   "outputs": [
    {
     "name": "stdout",
     "output_type": "stream",
     "text": [
      "MAE Error :  0.19347\n",
      "MAPE Error :  1.20508\n",
      "MSE Error : 0.04797\n",
      "RMSE Error :  0.21903\n"
     ]
    }
   ],
   "source": [
    "lstm_mae_error = mae(test1[\"cloud_cover\"], test1[\"LSTM\"])\n",
    "lstm_mape_error = mape(test1[\"cloud_cover\"], test1[\"LSTM\"])\n",
    "lstm_mse_error = mean_squared_error(test1['cloud_cover'], test1['LSTM'], squared=True)\n",
    "lstm_rmse_error = mean_squared_error(test1[\"cloud_cover\"], test1[\"LSTM\"], squared=False)\n",
    "print('MAE Error :  %.5f'%lstm_mae_error)\n",
    "print('MAPE Error :  %.5f'%lstm_mape_error)\n",
    "print('MSE Error : %.5f'%lstm_mse_error)\n",
    "print('RMSE Error :  %.5f'%lstm_rmse_error)"
   ]
  },
  {
   "cell_type": "markdown",
   "id": "2db5a714",
   "metadata": {},
   "source": [
    "---"
   ]
  },
  {
   "attachments": {},
   "cell_type": "markdown",
   "id": "b79a1acf",
   "metadata": {},
   "source": [
    "## Train/Test Model data use last day"
   ]
  },
  {
   "cell_type": "code",
   "execution_count": 77,
   "id": "d180b9b2",
   "metadata": {},
   "outputs": [
    {
     "name": "stdout",
     "output_type": "stream",
     "text": [
      "train Shape (250, 2)\n",
      "test Shape (6, 2)\n"
     ]
    }
   ],
   "source": [
    "train4 = cloud_cover[cloud_cover['DateTime'] < '2021-12-16 00:00:00']\n",
    "test4 = cloud_cover[cloud_cover['DateTime'] >= '2021-12-16 00:00:00']\n",
    "\n",
    "print('train Shape', train4.shape)\n",
    "print('test Shape', test4.shape)"
   ]
  },
  {
   "cell_type": "code",
   "execution_count": 78,
   "id": "e3549ffd",
   "metadata": {},
   "outputs": [
    {
     "data": {
      "text/html": [
       "<div>\n",
       "<style scoped>\n",
       "    .dataframe tbody tr th:only-of-type {\n",
       "        vertical-align: middle;\n",
       "    }\n",
       "\n",
       "    .dataframe tbody tr th {\n",
       "        vertical-align: top;\n",
       "    }\n",
       "\n",
       "    .dataframe thead th {\n",
       "        text-align: right;\n",
       "    }\n",
       "</style>\n",
       "<table border=\"1\" class=\"dataframe\">\n",
       "  <thead>\n",
       "    <tr style=\"text-align: right;\">\n",
       "      <th></th>\n",
       "      <th>cloud_cover</th>\n",
       "      <th>DateTime</th>\n",
       "    </tr>\n",
       "  </thead>\n",
       "  <tbody>\n",
       "    <tr>\n",
       "      <th>0</th>\n",
       "      <td>0.990899</td>\n",
       "      <td>2021-11-16 11:00:00</td>\n",
       "    </tr>\n",
       "    <tr>\n",
       "      <th>1</th>\n",
       "      <td>0.973114</td>\n",
       "      <td>2021-11-16 12:00:00</td>\n",
       "    </tr>\n",
       "    <tr>\n",
       "      <th>2</th>\n",
       "      <td>0.960600</td>\n",
       "      <td>2021-11-16 13:00:00</td>\n",
       "    </tr>\n",
       "    <tr>\n",
       "      <th>3</th>\n",
       "      <td>0.908915</td>\n",
       "      <td>2021-11-16 14:00:00</td>\n",
       "    </tr>\n",
       "    <tr>\n",
       "      <th>4</th>\n",
       "      <td>0.631449</td>\n",
       "      <td>2021-11-16 15:00:00</td>\n",
       "    </tr>\n",
       "    <tr>\n",
       "      <th>...</th>\n",
       "      <td>...</td>\n",
       "      <td>...</td>\n",
       "    </tr>\n",
       "    <tr>\n",
       "      <th>245</th>\n",
       "      <td>0.073203</td>\n",
       "      <td>2021-12-15 12:00:00</td>\n",
       "    </tr>\n",
       "    <tr>\n",
       "      <th>246</th>\n",
       "      <td>0.056172</td>\n",
       "      <td>2021-12-15 13:00:00</td>\n",
       "    </tr>\n",
       "    <tr>\n",
       "      <th>247</th>\n",
       "      <td>0.087286</td>\n",
       "      <td>2021-12-15 14:00:00</td>\n",
       "    </tr>\n",
       "    <tr>\n",
       "      <th>248</th>\n",
       "      <td>0.070797</td>\n",
       "      <td>2021-12-15 15:00:00</td>\n",
       "    </tr>\n",
       "    <tr>\n",
       "      <th>249</th>\n",
       "      <td>0.238983</td>\n",
       "      <td>2021-12-15 16:00:00</td>\n",
       "    </tr>\n",
       "  </tbody>\n",
       "</table>\n",
       "<p>250 rows × 2 columns</p>\n",
       "</div>"
      ],
      "text/plain": [
       "     cloud_cover            DateTime\n",
       "0       0.990899 2021-11-16 11:00:00\n",
       "1       0.973114 2021-11-16 12:00:00\n",
       "2       0.960600 2021-11-16 13:00:00\n",
       "3       0.908915 2021-11-16 14:00:00\n",
       "4       0.631449 2021-11-16 15:00:00\n",
       "..           ...                 ...\n",
       "245     0.073203 2021-12-15 12:00:00\n",
       "246     0.056172 2021-12-15 13:00:00\n",
       "247     0.087286 2021-12-15 14:00:00\n",
       "248     0.070797 2021-12-15 15:00:00\n",
       "249     0.238983 2021-12-15 16:00:00\n",
       "\n",
       "[250 rows x 2 columns]"
      ]
     },
     "execution_count": 78,
     "metadata": {},
     "output_type": "execute_result"
    }
   ],
   "source": [
    "train4"
   ]
  },
  {
   "cell_type": "code",
   "execution_count": 79,
   "id": "4bb3a878",
   "metadata": {},
   "outputs": [
    {
     "data": {
      "text/html": [
       "<div>\n",
       "<style scoped>\n",
       "    .dataframe tbody tr th:only-of-type {\n",
       "        vertical-align: middle;\n",
       "    }\n",
       "\n",
       "    .dataframe tbody tr th {\n",
       "        vertical-align: top;\n",
       "    }\n",
       "\n",
       "    .dataframe thead th {\n",
       "        text-align: right;\n",
       "    }\n",
       "</style>\n",
       "<table border=\"1\" class=\"dataframe\">\n",
       "  <thead>\n",
       "    <tr style=\"text-align: right;\">\n",
       "      <th></th>\n",
       "      <th>cloud_cover</th>\n",
       "      <th>DateTime</th>\n",
       "    </tr>\n",
       "  </thead>\n",
       "  <tbody>\n",
       "    <tr>\n",
       "      <th>250</th>\n",
       "      <td>0.161860</td>\n",
       "      <td>2021-12-16 09:00:00</td>\n",
       "    </tr>\n",
       "    <tr>\n",
       "      <th>251</th>\n",
       "      <td>0.480200</td>\n",
       "      <td>2021-12-16 10:00:00</td>\n",
       "    </tr>\n",
       "    <tr>\n",
       "      <th>252</th>\n",
       "      <td>0.155117</td>\n",
       "      <td>2021-12-16 11:00:00</td>\n",
       "    </tr>\n",
       "    <tr>\n",
       "      <th>253</th>\n",
       "      <td>0.161317</td>\n",
       "      <td>2021-12-16 12:00:00</td>\n",
       "    </tr>\n",
       "    <tr>\n",
       "      <th>254</th>\n",
       "      <td>0.174650</td>\n",
       "      <td>2021-12-16 13:00:00</td>\n",
       "    </tr>\n",
       "    <tr>\n",
       "      <th>255</th>\n",
       "      <td>0.145333</td>\n",
       "      <td>2021-12-16 14:00:00</td>\n",
       "    </tr>\n",
       "  </tbody>\n",
       "</table>\n",
       "</div>"
      ],
      "text/plain": [
       "     cloud_cover            DateTime\n",
       "250     0.161860 2021-12-16 09:00:00\n",
       "251     0.480200 2021-12-16 10:00:00\n",
       "252     0.155117 2021-12-16 11:00:00\n",
       "253     0.161317 2021-12-16 12:00:00\n",
       "254     0.174650 2021-12-16 13:00:00\n",
       "255     0.145333 2021-12-16 14:00:00"
      ]
     },
     "execution_count": 79,
     "metadata": {},
     "output_type": "execute_result"
    }
   ],
   "source": [
    "test4"
   ]
  },
  {
   "cell_type": "code",
   "execution_count": 80,
   "id": "02ffb0fc",
   "metadata": {},
   "outputs": [],
   "source": [
    "train4 = train4.set_index('DateTime')\n",
    "test4 = test4.set_index('DateTime')"
   ]
  },
  {
   "cell_type": "code",
   "execution_count": 81,
   "id": "15e385a1",
   "metadata": {},
   "outputs": [
    {
     "name": "stdout",
     "output_type": "stream",
     "text": [
      "X_train Shape : (245, 5, 1)\n",
      "y_train Shape : (245, 1)\n",
      "X_test Shape :  (6, 5, 1)\n",
      "y_test Shape :  (6, 1)\n"
     ]
    },
    {
     "name": "stderr",
     "output_type": "stream",
     "text": [
      "c:\\Users\\USER\\AppData\\Local\\Programs\\Python\\Python310\\lib\\site-packages\\sklearn\\base.py:450: UserWarning:\n",
      "\n",
      "X does not have valid feature names, but MinMaxScaler was fitted with feature names\n",
      "\n"
     ]
    }
   ],
   "source": [
    "# X_train, y_train, X_test and y_test\n",
    "X_train3, y_train3, X_test3, y_test3, sc3 = Xtrain_ytrain(train4,test4,5)"
   ]
  },
  {
   "attachments": {},
   "cell_type": "markdown",
   "id": "4694fc4d",
   "metadata": {},
   "source": [
    "### Add frist layer units = 50 batch size 32  epochs 10 lr 0.005"
   ]
  },
  {
   "cell_type": "code",
   "execution_count": 82,
   "id": "4f58f312",
   "metadata": {},
   "outputs": [
    {
     "name": "stdout",
     "output_type": "stream",
     "text": [
      "Epoch 1/10\n",
      "8/8 [==============================] - 3s 85ms/step - loss: 0.1904 - val_loss: 0.0684\n",
      "Epoch 2/10\n",
      "8/8 [==============================] - 0s 8ms/step - loss: 0.0864 - val_loss: 0.0232\n",
      "Epoch 3/10\n",
      "8/8 [==============================] - 0s 8ms/step - loss: 0.0707 - val_loss: 0.0259\n",
      "Epoch 4/10\n",
      "8/8 [==============================] - 0s 8ms/step - loss: 0.0628 - val_loss: 0.0320\n",
      "Epoch 5/10\n",
      "8/8 [==============================] - 0s 8ms/step - loss: 0.0616 - val_loss: 0.0242\n",
      "Epoch 6/10\n",
      "8/8 [==============================] - 0s 9ms/step - loss: 0.0583 - val_loss: 0.0241\n",
      "Epoch 7/10\n",
      "8/8 [==============================] - 0s 8ms/step - loss: 0.0566 - val_loss: 0.0256\n",
      "Epoch 8/10\n",
      "8/8 [==============================] - 0s 8ms/step - loss: 0.0543 - val_loss: 0.0229\n",
      "Epoch 9/10\n",
      "8/8 [==============================] - 0s 8ms/step - loss: 0.0526 - val_loss: 0.0237\n",
      "Epoch 10/10\n",
      "8/8 [==============================] - 0s 10ms/step - loss: 0.0505 - val_loss: 0.0245\n"
     ]
    }
   ],
   "source": [
    "model3 = Sequential()\n",
    "model3.add(LSTM(units = 50, return_sequences = False, input_shape = (X_train3.shape[1], 1)))\n",
    "model3.add(Dense(units = 1))\n",
    "opt = optimizers.Adam(learning_rate=0.005)\n",
    "model3.compile(optimizer = opt, loss = 'mean_squared_error')\n",
    "hist3 = model3.fit(X_train3, y_train3, validation_data=(X_test3, y_test3),  epochs = 10, batch_size = 32)"
   ]
  },
  {
   "cell_type": "code",
   "execution_count": 83,
   "id": "cf9089cd",
   "metadata": {},
   "outputs": [
    {
     "data": {
      "image/png": "[encoded data removed]",
      "text/plain": [
       "<Figure size 800x600 with 1 Axes>"
      ]
     },
     "metadata": {},
     "output_type": "display_data"
    }
   ],
   "source": [
    "plot_curve(hist3)"
   ]
  },
  {
   "cell_type": "code",
   "execution_count": 84,
   "id": "b845d9d1",
   "metadata": {},
   "outputs": [
    {
     "name": "stdout",
     "output_type": "stream",
     "text": [
      "WARNING:tensorflow:6 out of the last 8 calls to <function Model.make_predict_function.<locals>.predict_function at 0x000001EE99542EF0> triggered tf.function retracing. Tracing is expensive and the excessive number of tracings could be due to (1) creating @tf.function repeatedly in a loop, (2) passing tensors with different shapes, (3) passing Python objects instead of tensors. For (1), please define your @tf.function outside of the loop. For (2), @tf.function has reduce_retracing=True option that can avoid unnecessary retracing. For (3), please refer to https://www.tensorflow.org/guide/function#controlling_retracing and https://www.tensorflow.org/api_docs/python/tf/function for  more details.\n",
      "1/1 [==============================] - 1s 614ms/step\n"
     ]
    }
   ],
   "source": [
    "predict_scaled3 = model3.predict(X_test3)\n",
    "predict3 = sc3.inverse_transform(predict_scaled3)"
   ]
  },
  {
   "cell_type": "code",
   "execution_count": 85,
   "id": "ca899f28",
   "metadata": {},
   "outputs": [],
   "source": [
    "train5 = train4.copy()\n",
    "test5 = test4.copy()"
   ]
  },
  {
   "cell_type": "code",
   "execution_count": 86,
   "id": "e6495a46",
   "metadata": {},
   "outputs": [],
   "source": [
    "train5.reset_index(inplace=True)\n",
    "test5.reset_index(inplace=True)"
   ]
  },
  {
   "cell_type": "code",
   "execution_count": 87,
   "id": "88bf6691",
   "metadata": {},
   "outputs": [
    {
     "data": {
      "text/html": [
       "<div>\n",
       "<style scoped>\n",
       "    .dataframe tbody tr th:only-of-type {\n",
       "        vertical-align: middle;\n",
       "    }\n",
       "\n",
       "    .dataframe tbody tr th {\n",
       "        vertical-align: top;\n",
       "    }\n",
       "\n",
       "    .dataframe thead th {\n",
       "        text-align: right;\n",
       "    }\n",
       "</style>\n",
       "<table border=\"1\" class=\"dataframe\">\n",
       "  <thead>\n",
       "    <tr style=\"text-align: right;\">\n",
       "      <th></th>\n",
       "      <th>DateTime</th>\n",
       "      <th>cloud_cover</th>\n",
       "      <th>LSTM</th>\n",
       "    </tr>\n",
       "  </thead>\n",
       "  <tbody>\n",
       "    <tr>\n",
       "      <th>0</th>\n",
       "      <td>2021-12-16 09:00:00</td>\n",
       "      <td>0.161860</td>\n",
       "      <td>0.225112</td>\n",
       "    </tr>\n",
       "    <tr>\n",
       "      <th>1</th>\n",
       "      <td>2021-12-16 10:00:00</td>\n",
       "      <td>0.480200</td>\n",
       "      <td>0.237880</td>\n",
       "    </tr>\n",
       "    <tr>\n",
       "      <th>2</th>\n",
       "      <td>2021-12-16 11:00:00</td>\n",
       "      <td>0.155117</td>\n",
       "      <td>0.334650</td>\n",
       "    </tr>\n",
       "    <tr>\n",
       "      <th>3</th>\n",
       "      <td>2021-12-16 12:00:00</td>\n",
       "      <td>0.161317</td>\n",
       "      <td>0.307527</td>\n",
       "    </tr>\n",
       "    <tr>\n",
       "      <th>4</th>\n",
       "      <td>2021-12-16 13:00:00</td>\n",
       "      <td>0.174650</td>\n",
       "      <td>0.279538</td>\n",
       "    </tr>\n",
       "    <tr>\n",
       "      <th>5</th>\n",
       "      <td>2021-12-16 14:00:00</td>\n",
       "      <td>0.145333</td>\n",
       "      <td>0.261050</td>\n",
       "    </tr>\n",
       "  </tbody>\n",
       "</table>\n",
       "</div>"
      ],
      "text/plain": [
       "             DateTime  cloud_cover      LSTM\n",
       "0 2021-12-16 09:00:00     0.161860  0.225112\n",
       "1 2021-12-16 10:00:00     0.480200  0.237880\n",
       "2 2021-12-16 11:00:00     0.155117  0.334650\n",
       "3 2021-12-16 12:00:00     0.161317  0.307527\n",
       "4 2021-12-16 13:00:00     0.174650  0.279538\n",
       "5 2021-12-16 14:00:00     0.145333  0.261050"
      ]
     },
     "execution_count": 87,
     "metadata": {},
     "output_type": "execute_result"
    }
   ],
   "source": [
    "test5['LSTM'] = predict3\n",
    "test5"
   ]
  },
  {
   "cell_type": "code",
   "execution_count": 88,
   "id": "0873c31e",
   "metadata": {},
   "outputs": [
    {
     "data": {
      "application/vnd.plotly.v1+json": {
       "config": {
        "plotlyServerURL": "https://plot.ly"
       },
       "data": [
        {
         "mode": "lines",
         "name": "Train",
         "type": "scatter",
         "x": [
          "2021-11-16T11:00:00",
          "2021-11-16T12:00:00",
          "2021-11-16T13:00:00",
          "2021-11-16T14:00:00",
          "2021-11-16T15:00:00",
          "2021-11-16T16:00:00",
          "2021-11-17T08:00:00",
          "2021-11-17T09:00:00",
          "2021-11-17T10:00:00",
          "2021-11-17T11:00:00",
          "2021-11-17T12:00:00",
          "2021-11-17T13:00:00",
          "2021-11-17T14:00:00",
          "2021-11-17T15:00:00",
          "2021-11-17T16:00:00",
          "2021-11-18T08:00:00",
          "2021-11-18T09:00:00",
          "2021-11-18T10:00:00",
          "2021-11-18T11:00:00",
          "2021-11-18T12:00:00",
          "2021-11-18T13:00:00",
          "2021-11-18T14:00:00",
          "2021-11-18T15:00:00",
          "2021-11-18T16:00:00",
          "2021-11-19T08:00:00",
          "2021-11-19T09:00:00",
          "2021-11-19T10:00:00",
          "2021-11-19T11:00:00",
          "2021-11-19T12:00:00",
          "2021-11-19T13:00:00",
          "2021-11-19T14:00:00",
          "2021-11-19T15:00:00",
          "2021-11-19T16:00:00",
          "2021-11-20T08:00:00",
          "2021-11-20T09:00:00",
          "2021-11-20T10:00:00",
          "2021-11-20T11:00:00",
          "2021-11-20T12:00:00",
          "2021-11-20T13:00:00",
          "2021-11-20T14:00:00",
          "2021-11-20T15:00:00",
          "2021-11-20T16:00:00",
          "2021-11-21T08:00:00",
          "2021-11-21T09:00:00",
          "2021-11-21T10:00:00",
          "2021-11-21T11:00:00",
          "2021-11-21T12:00:00",
          "2021-11-21T13:00:00",
          "2021-11-21T14:00:00",
          "2021-11-21T15:00:00",
          "2021-11-21T16:00:00",
          "2021-11-22T08:00:00",
          "2021-11-22T09:00:00",
          "2021-11-22T10:00:00",
          "2021-11-22T11:00:00",
          "2021-11-22T12:00:00",
          "2021-11-22T13:00:00",
          "2021-11-22T14:00:00",
          "2021-11-22T15:00:00",
          "2021-11-22T16:00:00",
          "2021-11-23T08:00:00",
          "2021-11-23T09:00:00",
          "2021-11-23T10:00:00",
          "2021-11-23T11:00:00",
          "2021-11-23T12:00:00",
          "2021-11-23T13:00:00",
          "2021-11-23T14:00:00",
          "2021-11-23T15:00:00",
          "2021-11-23T16:00:00",
          "2021-11-24T08:00:00",
          "2021-11-24T09:00:00",
          "2021-11-24T10:00:00",
          "2021-11-24T11:00:00",
          "2021-11-24T12:00:00",
          "2021-11-24T13:00:00",
          "2021-11-24T14:00:00",
          "2021-11-24T15:00:00",
          "2021-11-24T16:00:00",
          "2021-11-25T08:00:00",
          "2021-11-25T09:00:00",
          "2021-11-25T10:00:00",
          "2021-11-25T11:00:00",
          "2021-11-25T12:00:00",
          "2021-11-25T13:00:00",
          "2021-11-25T14:00:00",
          "2021-11-25T15:00:00",
          "2021-11-25T16:00:00",
          "2021-11-26T08:00:00",
          "2021-11-26T09:00:00",
          "2021-11-26T10:00:00",
          "2021-11-26T11:00:00",
          "2021-11-26T12:00:00",
          "2021-11-26T13:00:00",
          "2021-11-26T14:00:00",
          "2021-11-26T15:00:00",
          "2021-11-26T16:00:00",
          "2021-11-27T08:00:00",
          "2021-11-27T09:00:00",
          "2021-11-27T10:00:00",
          "2021-11-27T11:00:00",
          "2021-11-27T12:00:00",
          "2021-11-27T13:00:00",
          "2021-11-27T14:00:00",
          "2021-11-27T15:00:00",
          "2021-11-27T16:00:00",
          "2021-11-28T08:00:00",
          "2021-11-28T09:00:00",
          "2021-11-28T10:00:00",
          "2021-11-28T11:00:00",
          "2021-11-28T12:00:00",
          "2021-11-28T13:00:00",
          "2021-11-28T14:00:00",
          "2021-11-28T15:00:00",
          "2021-11-28T16:00:00",
          "2021-11-29T08:00:00",
          "2021-11-29T09:00:00",
          "2021-11-29T10:00:00",
          "2021-11-29T11:00:00",
          "2021-11-29T12:00:00",
          "2021-11-29T13:00:00",
          "2021-11-29T14:00:00",
          "2021-11-29T15:00:00",
          "2021-11-29T16:00:00",
          "2021-11-30T08:00:00",
          "2021-11-30T09:00:00",
          "2021-11-30T10:00:00",
          "2021-11-30T11:00:00",
          "2021-11-30T12:00:00",
          "2021-11-30T13:00:00",
          "2021-11-30T14:00:00",
          "2021-11-30T15:00:00",
          "2021-11-30T16:00:00",
          "2021-12-01T08:00:00",
          "2021-12-01T09:00:00",
          "2021-12-01T10:00:00",
          "2021-12-01T11:00:00",
          "2021-12-01T12:00:00",
          "2021-12-01T13:00:00",
          "2021-12-01T14:00:00",
          "2021-12-01T15:00:00",
          "2021-12-01T16:00:00",
          "2021-12-02T08:00:00",
          "2021-12-02T09:00:00",
          "2021-12-02T10:00:00",
          "2021-12-02T11:00:00",
          "2021-12-02T12:00:00",
          "2021-12-02T13:00:00",
          "2021-12-02T14:00:00",
          "2021-12-02T15:00:00",
          "2021-12-02T16:00:00",
          "2021-12-03T08:00:00",
          "2021-12-03T09:00:00",
          "2021-12-03T10:00:00",
          "2021-12-03T11:00:00",
          "2021-12-03T12:00:00",
          "2021-12-03T13:00:00",
          "2021-12-03T14:00:00",
          "2021-12-03T15:00:00",
          "2021-12-03T16:00:00",
          "2021-12-04T08:00:00",
          "2021-12-04T09:00:00",
          "2021-12-04T10:00:00",
          "2021-12-04T11:00:00",
          "2021-12-04T12:00:00",
          "2021-12-04T13:00:00",
          "2021-12-04T14:00:00",
          "2021-12-04T15:00:00",
          "2021-12-04T16:00:00",
          "2021-12-05T08:00:00",
          "2021-12-07T08:00:00",
          "2021-12-07T09:00:00",
          "2021-12-07T10:00:00",
          "2021-12-07T11:00:00",
          "2021-12-07T12:00:00",
          "2021-12-07T13:00:00",
          "2021-12-07T14:00:00",
          "2021-12-07T15:00:00",
          "2021-12-07T16:00:00",
          "2021-12-08T08:00:00",
          "2021-12-08T09:00:00",
          "2021-12-08T10:00:00",
          "2021-12-08T11:00:00",
          "2021-12-08T12:00:00",
          "2021-12-08T13:00:00",
          "2021-12-08T14:00:00",
          "2021-12-08T15:00:00",
          "2021-12-08T16:00:00",
          "2021-12-09T08:00:00",
          "2021-12-09T09:00:00",
          "2021-12-09T10:00:00",
          "2021-12-09T11:00:00",
          "2021-12-09T12:00:00",
          "2021-12-09T13:00:00",
          "2021-12-09T14:00:00",
          "2021-12-09T15:00:00",
          "2021-12-09T16:00:00",
          "2021-12-10T08:00:00",
          "2021-12-10T09:00:00",
          "2021-12-10T10:00:00",
          "2021-12-10T11:00:00",
          "2021-12-10T12:00:00",
          "2021-12-10T13:00:00",
          "2021-12-10T14:00:00",
          "2021-12-10T15:00:00",
          "2021-12-10T16:00:00",
          "2021-12-11T08:00:00",
          "2021-12-11T09:00:00",
          "2021-12-11T10:00:00",
          "2021-12-11T11:00:00",
          "2021-12-11T12:00:00",
          "2021-12-11T13:00:00",
          "2021-12-11T14:00:00",
          "2021-12-11T15:00:00",
          "2021-12-11T16:00:00",
          "2021-12-12T08:00:00",
          "2021-12-12T09:00:00",
          "2021-12-12T10:00:00",
          "2021-12-12T11:00:00",
          "2021-12-12T12:00:00",
          "2021-12-12T13:00:00",
          "2021-12-12T14:00:00",
          "2021-12-12T15:00:00",
          "2021-12-12T16:00:00",
          "2021-12-13T08:00:00",
          "2021-12-13T09:00:00",
          "2021-12-13T10:00:00",
          "2021-12-13T11:00:00",
          "2021-12-13T12:00:00",
          "2021-12-13T13:00:00",
          "2021-12-13T14:00:00",
          "2021-12-13T15:00:00",
          "2021-12-13T16:00:00",
          "2021-12-14T08:00:00",
          "2021-12-14T09:00:00",
          "2021-12-14T10:00:00",
          "2021-12-14T11:00:00",
          "2021-12-14T12:00:00",
          "2021-12-14T13:00:00",
          "2021-12-14T14:00:00",
          "2021-12-14T15:00:00",
          "2021-12-14T16:00:00",
          "2021-12-15T08:00:00",
          "2021-12-15T09:00:00",
          "2021-12-15T10:00:00",
          "2021-12-15T11:00:00",
          "2021-12-15T12:00:00",
          "2021-12-15T13:00:00",
          "2021-12-15T14:00:00",
          "2021-12-15T15:00:00",
          "2021-12-15T16:00:00"
         ],
         "y": [
          0.9908992248062015,
          0.9731136363636363,
          0.9605999999999999,
          0.9089147727272727,
          0.6314488636363637,
          0.20728,
          0.16393181818181818,
          0.13533714285714285,
          0.38871022727272725,
          0.6169090909090909,
          0.5679886363636364,
          0.5929828571428571,
          0.4322670454545454,
          0.2467142857142857,
          0.13596022727272727,
          0.9481534090909091,
          0.9199829545454545,
          0.8641420454545454,
          0.8304147727272727,
          0.9279772727272728,
          0.9486477272727272,
          0.8538693181818182,
          0.6602727272727272,
          0.9500909090909091,
          0.8466363636363637,
          0.53748,
          0.4539261363636364,
          0.6947045454545454,
          0.7598920454545456,
          0.6917386363636363,
          0.4712840909090909,
          0.2534715909090909,
          0.05237714285714286,
          0.04893678160919541,
          0.21704022988505747,
          0.49314367816091953,
          0.7337657142857142,
          0.7527126436781609,
          0.7591781609195403,
          0.4624022988505747,
          0.38832,
          0.1903735632183908,
          0.7298218390804598,
          0.585816091954023,
          0.34955172413793106,
          0.3712742857142857,
          0.5046379310344827,
          0.5739137931034483,
          0.34727586206896555,
          0.317367816091954,
          0.21605714285714286,
          0.19583815028901735,
          0.26859770114942527,
          0.6721206896551724,
          0.746942196531792,
          0.3828965517241379,
          0.4521724137931034,
          0.486051724137931,
          0.5009657142857142,
          0.7640862068965517,
          0.9472,
          0.9600500000000001,
          0.9799666666666667,
          0.9931333333333333,
          0.92565,
          0.9374666666666667,
          0.94955,
          0.9504,
          0.9487333333333333,
          0.9418000000000001,
          0.94985,
          0.9742833333333334,
          0.9709166666666668,
          0.9749,
          0.6436666666666666,
          0.25615,
          0.15241666666666667,
          0.12843333333333334,
          0.07486666666666666,
          0.19184745762711863,
          0.7532666666666666,
          0.8273499999999999,
          0.4058333333333334,
          0.3674166666666666,
          0.2576,
          0.21686666666666668,
          0.22763333333333333,
          0.13528333333333334,
          0.21175,
          0.7229166666666667,
          0.8764666666666667,
          0.9397166666666668,
          0.94575,
          0.9410666666666666,
          0.6153333333333334,
          0.23601666666666665,
          0.11098333333333334,
          0.10684999999999999,
          0.30343333333333333,
          0.2874333333333333,
          0.33311666666666667,
          0.3749166666666667,
          0.4373666666666667,
          0.37185,
          0.26595833333333335,
          0.042666666666666665,
          0.035449999999999995,
          0.11133333333333333,
          0.18378333333333333,
          0.17228333333333332,
          0.18498333333333333,
          0.09586666666666667,
          0.040383333333333334,
          0.026033333333333335,
          0.9060833333333334,
          0.9830666666666666,
          0.6410166666666667,
          0.48506666666666665,
          0.6312333333333334,
          0.6594166666666667,
          0.5564333333333333,
          0.8034166666666667,
          0.9485499999999999,
          0.99355,
          0.9946333333333333,
          0.9990333333333333,
          0.999,
          0.9973500000000001,
          0.9990833333333333,
          0.98025,
          0.9855333333333333,
          0.9563,
          0.9852166666666666,
          0.9929333333333333,
          0.9991,
          0.999,
          0.9987499999999999,
          0.9995833333333334,
          0.9974833333333333,
          0.9949166666666667,
          0.9853666666666666,
          0.9872333333333334,
          0.9787333333333332,
          0.9992666666666667,
          0.9995166666666666,
          0.9222166666666667,
          0.8251333333333334,
          0.5322,
          0.4251166666666667,
          0.8607166666666667,
          0.6441333333333333,
          0.5900833333333334,
          0.45185000000000003,
          0.5875166666666666,
          0.5952833333333333,
          0.48873333333333335,
          0.3575666666666667,
          0.39863333333333334,
          0.3684,
          0.06963333333333334,
          0.08138333333333334,
          0.19938333333333336,
          0.24226666666666666,
          0.2716833333333334,
          0.28545,
          0.2378333333333333,
          0.17361666666666667,
          0.09003333333333334,
          0.9452857142857143,
          0.0240625,
          0.021866666666666666,
          0.05681666666666666,
          0.11603333333333334,
          0.1546,
          0.2095,
          0.18238333333333331,
          0.1259,
          0.06288333333333333,
          0.06888333333333334,
          0.03491666666666667,
          0.0325,
          0.03195,
          0.06448979591836734,
          0.07746428571428572,
          0.07891379310344827,
          0.07731666666666667,
          0.07871666666666667,
          0.19379787234042553,
          0.08281666666666668,
          0.10477966101694916,
          0.09426923076923077,
          0.11337931034482758,
          0.14872881355932205,
          0.15493220338983052,
          0.17536666666666667,
          0.35863333333333336,
          0.0774,
          0.032683333333333335,
          0.04003333333333334,
          0.13259322033898305,
          0.6383191489361703,
          0.7123396226415094,
          0.5154406779661017,
          0.5887413793103448,
          0.29485,
          0.8630666666666666,
          0.6703333333333333,
          0.8866333333333334,
          0.505051724137931,
          0.46798214285714285,
          0.4070169491525424,
          0.24703448275862067,
          0.22431666666666666,
          0.5643833333333333,
          0.84755,
          0.65935,
          0.8619833333333333,
          0.6523448275862068,
          0.6149137931034483,
          0.5505172413793104,
          0.53245,
          0.5735666666666667,
          0.7429833333333333,
          0.9608333333333333,
          0.9164,
          0.7853461538461539,
          0.45586440677966106,
          0.4209107142857143,
          0.36519298245614035,
          0.2038103448275862,
          0.12125423728813559,
          0.12321666666666667,
          0.14206666666666665,
          0.06161666666666667,
          0.09330357142857142,
          0.059816666666666664,
          0.07773333333333333,
          0.53428,
          0.4943090909090909,
          0.5698392857142858,
          0.38693333333333335,
          0.08745,
          0.03166666666666666,
          0.054714285714285715,
          0.06425,
          0.07320338983050848,
          0.05617241379310345,
          0.08728571428571429,
          0.07079661016949151,
          0.23898305084745763
         ]
        },
        {
         "mode": "lines",
         "name": "Actual",
         "type": "scatter",
         "x": [
          "2021-12-16T09:00:00",
          "2021-12-16T10:00:00",
          "2021-12-16T11:00:00",
          "2021-12-16T12:00:00",
          "2021-12-16T13:00:00",
          "2021-12-16T14:00:00"
         ],
         "y": [
          0.16186,
          0.4802,
          0.15511666666666668,
          0.16131666666666666,
          0.17465,
          0.14533333333333331
         ]
        },
        {
         "mode": "lines",
         "name": "Predict",
         "type": "scatter",
         "x": [
          "2021-12-16T09:00:00",
          "2021-12-16T10:00:00",
          "2021-12-16T11:00:00",
          "2021-12-16T12:00:00",
          "2021-12-16T13:00:00",
          "2021-12-16T14:00:00"
         ],
         "y": [
          0.2251124531030655,
          0.237880140542984,
          0.33464953303337097,
          0.3075273633003235,
          0.27953773736953735,
          0.26104968786239624
         ]
        }
       ],
       "layout": {
        "autosize": true,
        "height": 600,
        "template": {
         "data": {
          "bar": [
           {
            "error_x": {
             "color": "#2a3f5f"
            },
            "error_y": {
             "color": "#2a3f5f"
            },
            "marker": {
             "line": {
              "color": "#E5ECF6",
              "width": 0.5
             },
             "pattern": {
              "fillmode": "overlay",
              "size": 10,
              "solidity": 0.2
             }
            },
            "type": "bar"
           }
          ],
          "barpolar": [
           {
            "marker": {
             "line": {
              "color": "#E5ECF6",
              "width": 0.5
             },
             "pattern": {
              "fillmode": "overlay",
              "size": 10,
              "solidity": 0.2
             }
            },
            "type": "barpolar"
           }
          ],
          "carpet": [
           {
            "aaxis": {
             "endlinecolor": "#2a3f5f",
             "gridcolor": "white",
             "linecolor": "white",
             "minorgridcolor": "white",
             "startlinecolor": "#2a3f5f"
            },
            "baxis": {
             "endlinecolor": "#2a3f5f",
             "gridcolor": "white",
             "linecolor": "white",
             "minorgridcolor": "white",
             "startlinecolor": "#2a3f5f"
            },
            "type": "carpet"
           }
          ],
          "choropleth": [
           {
            "colorbar": {
             "outlinewidth": 0,
             "ticks": ""
            },
            "type": "choropleth"
           }
          ],
          "contour": [
           {
            "colorbar": {
             "outlinewidth": 0,
             "ticks": ""
            },
            "colorscale": [
             [
              0,
              "#0d0887"
             ],
             [
              0.1111111111111111,
              "#46039f"
             ],
             [
              0.2222222222222222,
              "#7201a8"
             ],
             [
              0.3333333333333333,
              "#9c179e"
             ],
             [
              0.4444444444444444,
              "#bd3786"
             ],
             [
              0.5555555555555556,
              "#d8576b"
             ],
             [
              0.6666666666666666,
              "#ed7953"
             ],
             [
              0.7777777777777778,
              "#fb9f3a"
             ],
             [
              0.8888888888888888,
              "#fdca26"
             ],
             [
              1,
              "#f0f921"
             ]
            ],
            "type": "contour"
           }
          ],
          "contourcarpet": [
           {
            "colorbar": {
             "outlinewidth": 0,
             "ticks": ""
            },
            "type": "contourcarpet"
           }
          ],
          "heatmap": [
           {
            "colorbar": {
             "outlinewidth": 0,
             "ticks": ""
            },
            "colorscale": [
             [
              0,
              "#0d0887"
             ],
             [
              0.1111111111111111,
              "#46039f"
             ],
             [
              0.2222222222222222,
              "#7201a8"
             ],
             [
              0.3333333333333333,
              "#9c179e"
             ],
             [
              0.4444444444444444,
              "#bd3786"
             ],
             [
              0.5555555555555556,
              "#d8576b"
             ],
             [
              0.6666666666666666,
              "#ed7953"
             ],
             [
              0.7777777777777778,
              "#fb9f3a"
             ],
             [
              0.8888888888888888,
              "#fdca26"
             ],
             [
              1,
              "#f0f921"
             ]
            ],
            "type": "heatmap"
           }
          ],
          "heatmapgl": [
           {
            "colorbar": {
             "outlinewidth": 0,
             "ticks": ""
            },
            "colorscale": [
             [
              0,
              "#0d0887"
             ],
             [
              0.1111111111111111,
              "#46039f"
             ],
             [
              0.2222222222222222,
              "#7201a8"
             ],
             [
              0.3333333333333333,
              "#9c179e"
             ],
             [
              0.4444444444444444,
              "#bd3786"
             ],
             [
              0.5555555555555556,
              "#d8576b"
             ],
             [
              0.6666666666666666,
              "#ed7953"
             ],
             [
              0.7777777777777778,
              "#fb9f3a"
             ],
             [
              0.8888888888888888,
              "#fdca26"
             ],
             [
              1,
              "#f0f921"
             ]
            ],
            "type": "heatmapgl"
           }
          ],
          "histogram": [
           {
            "marker": {
             "pattern": {
              "fillmode": "overlay",
              "size": 10,
              "solidity": 0.2
             }
            },
            "type": "histogram"
           }
          ],
          "histogram2d": [
           {
            "colorbar": {
             "outlinewidth": 0,
             "ticks": ""
            },
            "colorscale": [
             [
              0,
              "#0d0887"
             ],
             [
              0.1111111111111111,
              "#46039f"
             ],
             [
              0.2222222222222222,
              "#7201a8"
             ],
             [
              0.3333333333333333,
              "#9c179e"
             ],
             [
              0.4444444444444444,
              "#bd3786"
             ],
             [
              0.5555555555555556,
              "#d8576b"
             ],
             [
              0.6666666666666666,
              "#ed7953"
             ],
             [
              0.7777777777777778,
              "#fb9f3a"
             ],
             [
              0.8888888888888888,
              "#fdca26"
             ],
             [
              1,
              "#f0f921"
             ]
            ],
            "type": "histogram2d"
           }
          ],
          "histogram2dcontour": [
           {
            "colorbar": {
             "outlinewidth": 0,
             "ticks": ""
            },
            "colorscale": [
             [
              0,
              "#0d0887"
             ],
             [
              0.1111111111111111,
              "#46039f"
             ],
             [
              0.2222222222222222,
              "#7201a8"
             ],
             [
              0.3333333333333333,
              "#9c179e"
             ],
             [
              0.4444444444444444,
              "#bd3786"
             ],
             [
              0.5555555555555556,
              "#d8576b"
             ],
             [
              0.6666666666666666,
              "#ed7953"
             ],
             [
              0.7777777777777778,
              "#fb9f3a"
             ],
             [
              0.8888888888888888,
              "#fdca26"
             ],
             [
              1,
              "#f0f921"
             ]
            ],
            "type": "histogram2dcontour"
           }
          ],
          "mesh3d": [
           {
            "colorbar": {
             "outlinewidth": 0,
             "ticks": ""
            },
            "type": "mesh3d"
           }
          ],
          "parcoords": [
           {
            "line": {
             "colorbar": {
              "outlinewidth": 0,
              "ticks": ""
             }
            },
            "type": "parcoords"
           }
          ],
          "pie": [
           {
            "automargin": true,
            "type": "pie"
           }
          ],
          "scatter": [
           {
            "fillpattern": {
             "fillmode": "overlay",
             "size": 10,
             "solidity": 0.2
            },
            "type": "scatter"
           }
          ],
          "scatter3d": [
           {
            "line": {
             "colorbar": {
              "outlinewidth": 0,
              "ticks": ""
             }
            },
            "marker": {
             "colorbar": {
              "outlinewidth": 0,
              "ticks": ""
             }
            },
            "type": "scatter3d"
           }
          ],
          "scattercarpet": [
           {
            "marker": {
             "colorbar": {
              "outlinewidth": 0,
              "ticks": ""
             }
            },
            "type": "scattercarpet"
           }
          ],
          "scattergeo": [
           {
            "marker": {
             "colorbar": {
              "outlinewidth": 0,
              "ticks": ""
             }
            },
            "type": "scattergeo"
           }
          ],
          "scattergl": [
           {
            "marker": {
             "colorbar": {
              "outlinewidth": 0,
              "ticks": ""
             }
            },
            "type": "scattergl"
           }
          ],
          "scattermapbox": [
           {
            "marker": {
             "colorbar": {
              "outlinewidth": 0,
              "ticks": ""
             }
            },
            "type": "scattermapbox"
           }
          ],
          "scatterpolar": [
           {
            "marker": {
             "colorbar": {
              "outlinewidth": 0,
              "ticks": ""
             }
            },
            "type": "scatterpolar"
           }
          ],
          "scatterpolargl": [
           {
            "marker": {
             "colorbar": {
              "outlinewidth": 0,
              "ticks": ""
             }
            },
            "type": "scatterpolargl"
           }
          ],
          "scatterternary": [
           {
            "marker": {
             "colorbar": {
              "outlinewidth": 0,
              "ticks": ""
             }
            },
            "type": "scatterternary"
           }
          ],
          "surface": [
           {
            "colorbar": {
             "outlinewidth": 0,
             "ticks": ""
            },
            "colorscale": [
             [
              0,
              "#0d0887"
             ],
             [
              0.1111111111111111,
              "#46039f"
             ],
             [
              0.2222222222222222,
              "#7201a8"
             ],
             [
              0.3333333333333333,
              "#9c179e"
             ],
             [
              0.4444444444444444,
              "#bd3786"
             ],
             [
              0.5555555555555556,
              "#d8576b"
             ],
             [
              0.6666666666666666,
              "#ed7953"
             ],
             [
              0.7777777777777778,
              "#fb9f3a"
             ],
             [
              0.8888888888888888,
              "#fdca26"
             ],
             [
              1,
              "#f0f921"
             ]
            ],
            "type": "surface"
           }
          ],
          "table": [
           {
            "cells": {
             "fill": {
              "color": "#EBF0F8"
             },
             "line": {
              "color": "white"
             }
            },
            "header": {
             "fill": {
              "color": "#C8D4E3"
             },
             "line": {
              "color": "white"
             }
            },
            "type": "table"
           }
          ]
         },
         "layout": {
          "annotationdefaults": {
           "arrowcolor": "#2a3f5f",
           "arrowhead": 0,
           "arrowwidth": 1
          },
          "autotypenumbers": "strict",
          "coloraxis": {
           "colorbar": {
            "outlinewidth": 0,
            "ticks": ""
           }
          },
          "colorscale": {
           "diverging": [
            [
             0,
             "#8e0152"
            ],
            [
             0.1,
             "#c51b7d"
            ],
            [
             0.2,
             "#de77ae"
            ],
            [
             0.3,
             "#f1b6da"
            ],
            [
             0.4,
             "#fde0ef"
            ],
            [
             0.5,
             "#f7f7f7"
            ],
            [
             0.6,
             "#e6f5d0"
            ],
            [
             0.7,
             "#b8e186"
            ],
            [
             0.8,
             "#7fbc41"
            ],
            [
             0.9,
             "#4d9221"
            ],
            [
             1,
             "#276419"
            ]
           ],
           "sequential": [
            [
             0,
             "#0d0887"
            ],
            [
             0.1111111111111111,
             "#46039f"
            ],
            [
             0.2222222222222222,
             "#7201a8"
            ],
            [
             0.3333333333333333,
             "#9c179e"
            ],
            [
             0.4444444444444444,
             "#bd3786"
            ],
            [
             0.5555555555555556,
             "#d8576b"
            ],
            [
             0.6666666666666666,
             "#ed7953"
            ],
            [
             0.7777777777777778,
             "#fb9f3a"
            ],
            [
             0.8888888888888888,
             "#fdca26"
            ],
            [
             1,
             "#f0f921"
            ]
           ],
           "sequentialminus": [
            [
             0,
             "#0d0887"
            ],
            [
             0.1111111111111111,
             "#46039f"
            ],
            [
             0.2222222222222222,
             "#7201a8"
            ],
            [
             0.3333333333333333,
             "#9c179e"
            ],
            [
             0.4444444444444444,
             "#bd3786"
            ],
            [
             0.5555555555555556,
             "#d8576b"
            ],
            [
             0.6666666666666666,
             "#ed7953"
            ],
            [
             0.7777777777777778,
             "#fb9f3a"
            ],
            [
             0.8888888888888888,
             "#fdca26"
            ],
            [
             1,
             "#f0f921"
            ]
           ]
          },
          "colorway": [
           "#636efa",
           "#EF553B",
           "#00cc96",
           "#ab63fa",
           "#FFA15A",
           "#19d3f3",
           "#FF6692",
           "#B6E880",
           "#FF97FF",
           "#FECB52"
          ],
          "font": {
           "color": "#2a3f5f"
          },
          "geo": {
           "bgcolor": "white",
           "lakecolor": "white",
           "landcolor": "#E5ECF6",
           "showlakes": true,
           "showland": true,
           "subunitcolor": "white"
          },
          "hoverlabel": {
           "align": "left"
          },
          "hovermode": "closest",
          "mapbox": {
           "style": "light"
          },
          "paper_bgcolor": "white",
          "plot_bgcolor": "#E5ECF6",
          "polar": {
           "angularaxis": {
            "gridcolor": "white",
            "linecolor": "white",
            "ticks": ""
           },
           "bgcolor": "#E5ECF6",
           "radialaxis": {
            "gridcolor": "white",
            "linecolor": "white",
            "ticks": ""
           }
          },
          "scene": {
           "xaxis": {
            "backgroundcolor": "#E5ECF6",
            "gridcolor": "white",
            "gridwidth": 2,
            "linecolor": "white",
            "showbackground": true,
            "ticks": "",
            "zerolinecolor": "white"
           },
           "yaxis": {
            "backgroundcolor": "#E5ECF6",
            "gridcolor": "white",
            "gridwidth": 2,
            "linecolor": "white",
            "showbackground": true,
            "ticks": "",
            "zerolinecolor": "white"
           },
           "zaxis": {
            "backgroundcolor": "#E5ECF6",
            "gridcolor": "white",
            "gridwidth": 2,
            "linecolor": "white",
            "showbackground": true,
            "ticks": "",
            "zerolinecolor": "white"
           }
          },
          "shapedefaults": {
           "line": {
            "color": "#2a3f5f"
           }
          },
          "ternary": {
           "aaxis": {
            "gridcolor": "white",
            "linecolor": "white",
            "ticks": ""
           },
           "baxis": {
            "gridcolor": "white",
            "linecolor": "white",
            "ticks": ""
           },
           "bgcolor": "#E5ECF6",
           "caxis": {
            "gridcolor": "white",
            "linecolor": "white",
            "ticks": ""
           }
          },
          "title": {
           "x": 0.05
          },
          "xaxis": {
           "automargin": true,
           "gridcolor": "white",
           "linecolor": "white",
           "ticks": "",
           "title": {
            "standoff": 15
           },
           "zerolinecolor": "white",
           "zerolinewidth": 2
          },
          "yaxis": {
           "automargin": true,
           "gridcolor": "white",
           "linecolor": "white",
           "ticks": "",
           "title": {
            "standoff": 15
           },
           "zerolinecolor": "white",
           "zerolinewidth": 2
          }
         }
        },
        "title": {
         "text": "LSTM Model"
        },
        "xaxis": {
         "rangeselector": {
          "buttons": [
           {
            "count": 1,
            "label": "1.zoom",
            "step": "hour",
            "stepmode": "backward"
           },
           {
            "count": 2,
            "label": "2.zoom",
            "step": "hour",
            "stepmode": "backward"
           },
           {
            "count": 3,
            "label": "3.zoom",
            "step": "day",
            "stepmode": "backward"
           },
           {
            "step": "all"
           }
          ]
         },
         "rangeslider": {
          "visible": true
         },
         "title": {
          "text": "Date"
         },
         "type": "date"
        },
        "yaxis": {
         "title": {
          "text": "Cloud cover"
         }
        }
       }
      }
     },
     "metadata": {},
     "output_type": "display_data"
    }
   ],
   "source": [
    "plot_test(train5,test5)"
   ]
  },
  {
   "cell_type": "code",
   "execution_count": 89,
   "id": "f1e9e83f",
   "metadata": {},
   "outputs": [
    {
     "name": "stdout",
     "output_type": "stream",
     "text": [
      "MAE Error :  0.14199\n",
      "MAPE Error :  0.72599\n",
      "MSE Error : 0.02345\n",
      "RMSE Error :  0.15315\n"
     ]
    }
   ],
   "source": [
    "lstm_mae_error2 = mae(test5[\"cloud_cover\"], test5[\"LSTM\"])\n",
    "lstm_mape_error2 = mape(test5[\"cloud_cover\"], test5[\"LSTM\"])\n",
    "lstm_mse_error2 = mean_squared_error(test5['cloud_cover'], test5['LSTM'], squared=True)\n",
    "lstm_rmse_error2 = mean_squared_error(test5[\"cloud_cover\"], test5[\"LSTM\"], squared=False)\n",
    "print('MAE Error :  %.5f'%lstm_mae_error2)\n",
    "print('MAPE Error :  %.5f'%lstm_mape_error2)\n",
    "print('MSE Error : %.5f'%lstm_mse_error2)\n",
    "print('RMSE Error :  %.5f'%lstm_rmse_error2)"
   ]
  },
  {
   "cell_type": "markdown",
   "id": "3e580267",
   "metadata": {},
   "source": [
    "---"
   ]
  },
  {
   "attachments": {},
   "cell_type": "markdown",
   "id": "531884b0",
   "metadata": {},
   "source": [
    "# Prepare Data to DateTime"
   ]
  },
  {
   "cell_type": "code",
   "execution_count": 90,
   "id": "9113a918",
   "metadata": {},
   "outputs": [],
   "source": [
    "def preparedata_datetime(file):\n",
    "    cloud_cover = pd.read_csv(file,skipinitialspace = True)\n",
    "    cloud_cover['DateTime'] = cloud_cover[['Year', 'Month', 'Day']].apply(lambda x: \"{0}-{1}-{2}\".format(str(x[0]).zfill(2), str(x[1]).zfill(2), str(x[2]).zfill(2)), axis=1) \n",
    "    cloud_cover.drop([\"Year\", \"Month\", \"Day\", \"Hour\", \"Minute\", \"Second\"], axis=1, inplace=True)  \n",
    "    cloud_cover = cloud_cover.rename(columns={\"CloudCover\":\"cloud_cover\"})\n",
    "    cloud_cover = cloud_cover.groupby(['DateTime']).agg(cloud_cover=('cloud_cover','mean')).reset_index()    \n",
    "    cloud_cover['DateTime'] = pd.to_datetime(cloud_cover['DateTime'], format=\"%Y-%m-%d\")\n",
    "    cloud_cover.dropna(inplace=True)\n",
    "    return cloud_cover"
   ]
  },
  {
   "cell_type": "code",
   "execution_count": 91,
   "id": "bb3a7c5b",
   "metadata": {},
   "outputs": [
    {
     "data": {
      "text/html": [
       "<div>\n",
       "<style scoped>\n",
       "    .dataframe tbody tr th:only-of-type {\n",
       "        vertical-align: middle;\n",
       "    }\n",
       "\n",
       "    .dataframe tbody tr th {\n",
       "        vertical-align: top;\n",
       "    }\n",
       "\n",
       "    .dataframe thead th {\n",
       "        text-align: right;\n",
       "    }\n",
       "</style>\n",
       "<table border=\"1\" class=\"dataframe\">\n",
       "  <thead>\n",
       "    <tr style=\"text-align: right;\">\n",
       "      <th></th>\n",
       "      <th>DateTime</th>\n",
       "      <th>cloud_cover</th>\n",
       "    </tr>\n",
       "  </thead>\n",
       "  <tbody>\n",
       "    <tr>\n",
       "      <th>0</th>\n",
       "      <td>2021-11-16</td>\n",
       "      <td>0.769193</td>\n",
       "    </tr>\n",
       "    <tr>\n",
       "      <th>1</th>\n",
       "      <td>2021-11-17</td>\n",
       "      <td>0.364608</td>\n",
       "    </tr>\n",
       "    <tr>\n",
       "      <th>2</th>\n",
       "      <td>2021-11-18</td>\n",
       "      <td>0.878172</td>\n",
       "    </tr>\n",
       "    <tr>\n",
       "      <th>3</th>\n",
       "      <td>2021-11-19</td>\n",
       "      <td>0.529353</td>\n",
       "    </tr>\n",
       "    <tr>\n",
       "      <th>4</th>\n",
       "      <td>2021-11-20</td>\n",
       "      <td>0.449684</td>\n",
       "    </tr>\n",
       "    <tr>\n",
       "      <th>5</th>\n",
       "      <td>2021-11-21</td>\n",
       "      <td>0.443777</td>\n",
       "    </tr>\n",
       "    <tr>\n",
       "      <th>6</th>\n",
       "      <td>2021-11-22</td>\n",
       "      <td>0.496665</td>\n",
       "    </tr>\n",
       "    <tr>\n",
       "      <th>7</th>\n",
       "      <td>2021-11-23</td>\n",
       "      <td>0.954683</td>\n",
       "    </tr>\n",
       "    <tr>\n",
       "      <th>8</th>\n",
       "      <td>2021-11-24</td>\n",
       "      <td>0.665824</td>\n",
       "    </tr>\n",
       "    <tr>\n",
       "      <th>9</th>\n",
       "      <td>2021-11-25</td>\n",
       "      <td>0.369516</td>\n",
       "    </tr>\n",
       "    <tr>\n",
       "      <th>10</th>\n",
       "      <td>2021-11-26</td>\n",
       "      <td>0.624922</td>\n",
       "    </tr>\n",
       "    <tr>\n",
       "      <th>11</th>\n",
       "      <td>2021-11-27</td>\n",
       "      <td>0.285787</td>\n",
       "    </tr>\n",
       "    <tr>\n",
       "      <th>12</th>\n",
       "      <td>2021-11-28</td>\n",
       "      <td>0.099198</td>\n",
       "    </tr>\n",
       "    <tr>\n",
       "      <th>13</th>\n",
       "      <td>2021-11-29</td>\n",
       "      <td>0.734920</td>\n",
       "    </tr>\n",
       "    <tr>\n",
       "      <th>14</th>\n",
       "      <td>2021-11-30</td>\n",
       "      <td>0.989415</td>\n",
       "    </tr>\n",
       "    <tr>\n",
       "      <th>15</th>\n",
       "      <td>2021-12-01</td>\n",
       "      <td>0.994706</td>\n",
       "    </tr>\n",
       "    <tr>\n",
       "      <th>16</th>\n",
       "      <td>2021-12-02</td>\n",
       "      <td>0.836681</td>\n",
       "    </tr>\n",
       "    <tr>\n",
       "      <th>17</th>\n",
       "      <td>2021-12-03</td>\n",
       "      <td>0.498022</td>\n",
       "    </tr>\n",
       "    <tr>\n",
       "      <th>18</th>\n",
       "      <td>2021-12-04</td>\n",
       "      <td>0.183476</td>\n",
       "    </tr>\n",
       "    <tr>\n",
       "      <th>19</th>\n",
       "      <td>2021-12-05</td>\n",
       "      <td>0.945286</td>\n",
       "    </tr>\n",
       "    <tr>\n",
       "      <th>20</th>\n",
       "      <td>2021-12-07</td>\n",
       "      <td>0.113274</td>\n",
       "    </tr>\n",
       "    <tr>\n",
       "      <th>21</th>\n",
       "      <td>2021-12-08</td>\n",
       "      <td>0.060397</td>\n",
       "    </tr>\n",
       "    <tr>\n",
       "      <th>22</th>\n",
       "      <td>2021-12-09</td>\n",
       "      <td>0.161857</td>\n",
       "    </tr>\n",
       "    <tr>\n",
       "      <th>23</th>\n",
       "      <td>2021-12-10</td>\n",
       "      <td>0.323322</td>\n",
       "    </tr>\n",
       "    <tr>\n",
       "      <th>24</th>\n",
       "      <td>2021-12-11</td>\n",
       "      <td>0.539296</td>\n",
       "    </tr>\n",
       "    <tr>\n",
       "      <th>25</th>\n",
       "      <td>2021-12-12</td>\n",
       "      <td>0.671356</td>\n",
       "    </tr>\n",
       "    <tr>\n",
       "      <th>26</th>\n",
       "      <td>2021-12-13</td>\n",
       "      <td>0.476423</td>\n",
       "    </tr>\n",
       "    <tr>\n",
       "      <th>27</th>\n",
       "      <td>2021-12-14</td>\n",
       "      <td>0.260594</td>\n",
       "    </tr>\n",
       "    <tr>\n",
       "      <th>28</th>\n",
       "      <td>2021-12-15</td>\n",
       "      <td>0.085025</td>\n",
       "    </tr>\n",
       "    <tr>\n",
       "      <th>29</th>\n",
       "      <td>2021-12-16</td>\n",
       "      <td>0.228007</td>\n",
       "    </tr>\n",
       "  </tbody>\n",
       "</table>\n",
       "</div>"
      ],
      "text/plain": [
       "     DateTime  cloud_cover\n",
       "0  2021-11-16     0.769193\n",
       "1  2021-11-17     0.364608\n",
       "2  2021-11-18     0.878172\n",
       "3  2021-11-19     0.529353\n",
       "4  2021-11-20     0.449684\n",
       "5  2021-11-21     0.443777\n",
       "6  2021-11-22     0.496665\n",
       "7  2021-11-23     0.954683\n",
       "8  2021-11-24     0.665824\n",
       "9  2021-11-25     0.369516\n",
       "10 2021-11-26     0.624922\n",
       "11 2021-11-27     0.285787\n",
       "12 2021-11-28     0.099198\n",
       "13 2021-11-29     0.734920\n",
       "14 2021-11-30     0.989415\n",
       "15 2021-12-01     0.994706\n",
       "16 2021-12-02     0.836681\n",
       "17 2021-12-03     0.498022\n",
       "18 2021-12-04     0.183476\n",
       "19 2021-12-05     0.945286\n",
       "20 2021-12-07     0.113274\n",
       "21 2021-12-08     0.060397\n",
       "22 2021-12-09     0.161857\n",
       "23 2021-12-10     0.323322\n",
       "24 2021-12-11     0.539296\n",
       "25 2021-12-12     0.671356\n",
       "26 2021-12-13     0.476423\n",
       "27 2021-12-14     0.260594\n",
       "28 2021-12-15     0.085025\n",
       "29 2021-12-16     0.228007"
      ]
     },
     "execution_count": 91,
     "metadata": {},
     "output_type": "execute_result"
    }
   ],
   "source": [
    "cloud_cover2 = preparedata_datetime('../prophet_ver2/Bangkhuntean_CloudCover_2021-16Nov-16Dec.csv')\n",
    "cloud_cover2"
   ]
  },
  {
   "attachments": {},
   "cell_type": "markdown",
   "id": "6a03cdf7",
   "metadata": {},
   "source": [
    "## Train/Test Model"
   ]
  },
  {
   "cell_type": "code",
   "execution_count": 92,
   "id": "7663fdb6",
   "metadata": {},
   "outputs": [
    {
     "name": "stdout",
     "output_type": "stream",
     "text": [
      "Train Shape (24, 2)\n",
      "Test Shape (6, 2)\n"
     ]
    }
   ],
   "source": [
    "train2,test2 = train_test_split(cloud_cover2, train_size=0.8, shuffle=False)\n",
    "print('Train Shape', train2.shape)\n",
    "print('Test Shape', test2.shape)"
   ]
  },
  {
   "cell_type": "code",
   "execution_count": 93,
   "id": "e9e51d6d",
   "metadata": {},
   "outputs": [
    {
     "data": {
      "text/html": [
       "<div>\n",
       "<style scoped>\n",
       "    .dataframe tbody tr th:only-of-type {\n",
       "        vertical-align: middle;\n",
       "    }\n",
       "\n",
       "    .dataframe tbody tr th {\n",
       "        vertical-align: top;\n",
       "    }\n",
       "\n",
       "    .dataframe thead th {\n",
       "        text-align: right;\n",
       "    }\n",
       "</style>\n",
       "<table border=\"1\" class=\"dataframe\">\n",
       "  <thead>\n",
       "    <tr style=\"text-align: right;\">\n",
       "      <th></th>\n",
       "      <th>DateTime</th>\n",
       "      <th>cloud_cover</th>\n",
       "    </tr>\n",
       "  </thead>\n",
       "  <tbody>\n",
       "    <tr>\n",
       "      <th>0</th>\n",
       "      <td>2021-11-16</td>\n",
       "      <td>0.769193</td>\n",
       "    </tr>\n",
       "    <tr>\n",
       "      <th>1</th>\n",
       "      <td>2021-11-17</td>\n",
       "      <td>0.364608</td>\n",
       "    </tr>\n",
       "    <tr>\n",
       "      <th>2</th>\n",
       "      <td>2021-11-18</td>\n",
       "      <td>0.878172</td>\n",
       "    </tr>\n",
       "    <tr>\n",
       "      <th>3</th>\n",
       "      <td>2021-11-19</td>\n",
       "      <td>0.529353</td>\n",
       "    </tr>\n",
       "    <tr>\n",
       "      <th>4</th>\n",
       "      <td>2021-11-20</td>\n",
       "      <td>0.449684</td>\n",
       "    </tr>\n",
       "    <tr>\n",
       "      <th>5</th>\n",
       "      <td>2021-11-21</td>\n",
       "      <td>0.443777</td>\n",
       "    </tr>\n",
       "    <tr>\n",
       "      <th>6</th>\n",
       "      <td>2021-11-22</td>\n",
       "      <td>0.496665</td>\n",
       "    </tr>\n",
       "    <tr>\n",
       "      <th>7</th>\n",
       "      <td>2021-11-23</td>\n",
       "      <td>0.954683</td>\n",
       "    </tr>\n",
       "    <tr>\n",
       "      <th>8</th>\n",
       "      <td>2021-11-24</td>\n",
       "      <td>0.665824</td>\n",
       "    </tr>\n",
       "    <tr>\n",
       "      <th>9</th>\n",
       "      <td>2021-11-25</td>\n",
       "      <td>0.369516</td>\n",
       "    </tr>\n",
       "    <tr>\n",
       "      <th>10</th>\n",
       "      <td>2021-11-26</td>\n",
       "      <td>0.624922</td>\n",
       "    </tr>\n",
       "    <tr>\n",
       "      <th>11</th>\n",
       "      <td>2021-11-27</td>\n",
       "      <td>0.285787</td>\n",
       "    </tr>\n",
       "    <tr>\n",
       "      <th>12</th>\n",
       "      <td>2021-11-28</td>\n",
       "      <td>0.099198</td>\n",
       "    </tr>\n",
       "    <tr>\n",
       "      <th>13</th>\n",
       "      <td>2021-11-29</td>\n",
       "      <td>0.734920</td>\n",
       "    </tr>\n",
       "    <tr>\n",
       "      <th>14</th>\n",
       "      <td>2021-11-30</td>\n",
       "      <td>0.989415</td>\n",
       "    </tr>\n",
       "    <tr>\n",
       "      <th>15</th>\n",
       "      <td>2021-12-01</td>\n",
       "      <td>0.994706</td>\n",
       "    </tr>\n",
       "    <tr>\n",
       "      <th>16</th>\n",
       "      <td>2021-12-02</td>\n",
       "      <td>0.836681</td>\n",
       "    </tr>\n",
       "    <tr>\n",
       "      <th>17</th>\n",
       "      <td>2021-12-03</td>\n",
       "      <td>0.498022</td>\n",
       "    </tr>\n",
       "    <tr>\n",
       "      <th>18</th>\n",
       "      <td>2021-12-04</td>\n",
       "      <td>0.183476</td>\n",
       "    </tr>\n",
       "    <tr>\n",
       "      <th>19</th>\n",
       "      <td>2021-12-05</td>\n",
       "      <td>0.945286</td>\n",
       "    </tr>\n",
       "    <tr>\n",
       "      <th>20</th>\n",
       "      <td>2021-12-07</td>\n",
       "      <td>0.113274</td>\n",
       "    </tr>\n",
       "    <tr>\n",
       "      <th>21</th>\n",
       "      <td>2021-12-08</td>\n",
       "      <td>0.060397</td>\n",
       "    </tr>\n",
       "    <tr>\n",
       "      <th>22</th>\n",
       "      <td>2021-12-09</td>\n",
       "      <td>0.161857</td>\n",
       "    </tr>\n",
       "    <tr>\n",
       "      <th>23</th>\n",
       "      <td>2021-12-10</td>\n",
       "      <td>0.323322</td>\n",
       "    </tr>\n",
       "  </tbody>\n",
       "</table>\n",
       "</div>"
      ],
      "text/plain": [
       "     DateTime  cloud_cover\n",
       "0  2021-11-16     0.769193\n",
       "1  2021-11-17     0.364608\n",
       "2  2021-11-18     0.878172\n",
       "3  2021-11-19     0.529353\n",
       "4  2021-11-20     0.449684\n",
       "5  2021-11-21     0.443777\n",
       "6  2021-11-22     0.496665\n",
       "7  2021-11-23     0.954683\n",
       "8  2021-11-24     0.665824\n",
       "9  2021-11-25     0.369516\n",
       "10 2021-11-26     0.624922\n",
       "11 2021-11-27     0.285787\n",
       "12 2021-11-28     0.099198\n",
       "13 2021-11-29     0.734920\n",
       "14 2021-11-30     0.989415\n",
       "15 2021-12-01     0.994706\n",
       "16 2021-12-02     0.836681\n",
       "17 2021-12-03     0.498022\n",
       "18 2021-12-04     0.183476\n",
       "19 2021-12-05     0.945286\n",
       "20 2021-12-07     0.113274\n",
       "21 2021-12-08     0.060397\n",
       "22 2021-12-09     0.161857\n",
       "23 2021-12-10     0.323322"
      ]
     },
     "execution_count": 93,
     "metadata": {},
     "output_type": "execute_result"
    }
   ],
   "source": [
    "train2"
   ]
  },
  {
   "cell_type": "code",
   "execution_count": 94,
   "id": "7e551278",
   "metadata": {},
   "outputs": [
    {
     "data": {
      "text/html": [
       "<div>\n",
       "<style scoped>\n",
       "    .dataframe tbody tr th:only-of-type {\n",
       "        vertical-align: middle;\n",
       "    }\n",
       "\n",
       "    .dataframe tbody tr th {\n",
       "        vertical-align: top;\n",
       "    }\n",
       "\n",
       "    .dataframe thead th {\n",
       "        text-align: right;\n",
       "    }\n",
       "</style>\n",
       "<table border=\"1\" class=\"dataframe\">\n",
       "  <thead>\n",
       "    <tr style=\"text-align: right;\">\n",
       "      <th></th>\n",
       "      <th>DateTime</th>\n",
       "      <th>cloud_cover</th>\n",
       "    </tr>\n",
       "  </thead>\n",
       "  <tbody>\n",
       "    <tr>\n",
       "      <th>24</th>\n",
       "      <td>2021-12-11</td>\n",
       "      <td>0.539296</td>\n",
       "    </tr>\n",
       "    <tr>\n",
       "      <th>25</th>\n",
       "      <td>2021-12-12</td>\n",
       "      <td>0.671356</td>\n",
       "    </tr>\n",
       "    <tr>\n",
       "      <th>26</th>\n",
       "      <td>2021-12-13</td>\n",
       "      <td>0.476423</td>\n",
       "    </tr>\n",
       "    <tr>\n",
       "      <th>27</th>\n",
       "      <td>2021-12-14</td>\n",
       "      <td>0.260594</td>\n",
       "    </tr>\n",
       "    <tr>\n",
       "      <th>28</th>\n",
       "      <td>2021-12-15</td>\n",
       "      <td>0.085025</td>\n",
       "    </tr>\n",
       "    <tr>\n",
       "      <th>29</th>\n",
       "      <td>2021-12-16</td>\n",
       "      <td>0.228007</td>\n",
       "    </tr>\n",
       "  </tbody>\n",
       "</table>\n",
       "</div>"
      ],
      "text/plain": [
       "     DateTime  cloud_cover\n",
       "24 2021-12-11     0.539296\n",
       "25 2021-12-12     0.671356\n",
       "26 2021-12-13     0.476423\n",
       "27 2021-12-14     0.260594\n",
       "28 2021-12-15     0.085025\n",
       "29 2021-12-16     0.228007"
      ]
     },
     "execution_count": 94,
     "metadata": {},
     "output_type": "execute_result"
    }
   ],
   "source": [
    "test2"
   ]
  },
  {
   "cell_type": "code",
   "execution_count": 95,
   "id": "7ffccb88",
   "metadata": {},
   "outputs": [],
   "source": [
    "train2 = train2.set_index('DateTime')\n",
    "test2 = test2.set_index('DateTime')"
   ]
  },
  {
   "cell_type": "code",
   "execution_count": 96,
   "id": "e2e3cdc5",
   "metadata": {},
   "outputs": [
    {
     "name": "stdout",
     "output_type": "stream",
     "text": [
      "X_train Shape : (19, 5, 1)\n",
      "y_train Shape : (19, 1)\n",
      "X_test Shape :  (6, 5, 1)\n",
      "y_test Shape :  (6, 1)\n"
     ]
    },
    {
     "name": "stderr",
     "output_type": "stream",
     "text": [
      "c:\\Users\\USER\\AppData\\Local\\Programs\\Python\\Python310\\lib\\site-packages\\sklearn\\base.py:450: UserWarning:\n",
      "\n",
      "X does not have valid feature names, but MinMaxScaler was fitted with feature names\n",
      "\n"
     ]
    }
   ],
   "source": [
    "# X_train, y_train, X_test and y_test\n",
    "X_train1, y_train1, X_test1, y_test1, sc1 = Xtrain_ytrain(train2,test2,5)"
   ]
  },
  {
   "cell_type": "code",
   "execution_count": 97,
   "id": "218ae745",
   "metadata": {},
   "outputs": [
    {
     "name": "stdout",
     "output_type": "stream",
     "text": [
      "Epoch 1/20\n",
      "1/1 [==============================] - 3s 3s/step - loss: 0.3717 - val_loss: 0.1537\n",
      "Epoch 2/20\n",
      "1/1 [==============================] - 0s 48ms/step - loss: 0.3388 - val_loss: 0.1403\n",
      "Epoch 3/20\n",
      "1/1 [==============================] - 0s 38ms/step - loss: 0.3084 - val_loss: 0.1282\n",
      "Epoch 4/20\n",
      "1/1 [==============================] - 0s 40ms/step - loss: 0.2803 - val_loss: 0.1172\n",
      "Epoch 5/20\n",
      "1/1 [==============================] - 0s 50ms/step - loss: 0.2545 - val_loss: 0.1073\n",
      "Epoch 6/20\n",
      "1/1 [==============================] - 0s 40ms/step - loss: 0.2310 - val_loss: 0.0987\n",
      "Epoch 7/20\n",
      "1/1 [==============================] - 0s 38ms/step - loss: 0.2097 - val_loss: 0.0912\n",
      "Epoch 8/20\n",
      "1/1 [==============================] - 0s 48ms/step - loss: 0.1908 - val_loss: 0.0849\n",
      "Epoch 9/20\n",
      "1/1 [==============================] - 0s 49ms/step - loss: 0.1742 - val_loss: 0.0800\n",
      "Epoch 10/20\n",
      "1/1 [==============================] - 0s 49ms/step - loss: 0.1601 - val_loss: 0.0765\n",
      "Epoch 11/20\n",
      "1/1 [==============================] - 0s 106ms/step - loss: 0.1488 - val_loss: 0.0744\n",
      "Epoch 12/20\n",
      "1/1 [==============================] - 0s 46ms/step - loss: 0.1402 - val_loss: 0.0738\n",
      "Epoch 13/20\n",
      "1/1 [==============================] - 0s 45ms/step - loss: 0.1347 - val_loss: 0.0747\n",
      "Epoch 14/20\n",
      "1/1 [==============================] - 0s 48ms/step - loss: 0.1322 - val_loss: 0.0769\n",
      "Epoch 15/20\n",
      "1/1 [==============================] - 0s 42ms/step - loss: 0.1325 - val_loss: 0.0799\n",
      "Epoch 16/20\n",
      "1/1 [==============================] - 0s 46ms/step - loss: 0.1349 - val_loss: 0.0833\n",
      "Epoch 17/20\n",
      "1/1 [==============================] - 0s 47ms/step - loss: 0.1385 - val_loss: 0.0862\n",
      "Epoch 18/20\n",
      "1/1 [==============================] - 0s 47ms/step - loss: 0.1419 - val_loss: 0.0881\n",
      "Epoch 19/20\n",
      "1/1 [==============================] - 0s 42ms/step - loss: 0.1441 - val_loss: 0.0888\n",
      "Epoch 20/20\n",
      "1/1 [==============================] - 0s 46ms/step - loss: 0.1449 - val_loss: 0.0883\n"
     ]
    }
   ],
   "source": [
    "model1 = Sequential()\n",
    "model1.add(LSTM(units = 100, return_sequences = False, input_shape = (X_train1.shape[1], 1)))\n",
    "model1.add(Dense(units = 1))\n",
    "model1.compile(optimizer = 'adam', loss = 'mean_squared_error')\n",
    "hist1 = model1.fit(X_train1, y_train1, validation_data=(X_test1, y_test1), epochs = 20, batch_size = 32)"
   ]
  },
  {
   "cell_type": "code",
   "execution_count": 98,
   "id": "c48f3475",
   "metadata": {},
   "outputs": [
    {
     "data": {
      "image/png": "[encoded data removed]",
      "text/plain": [
       "<Figure size 800x600 with 1 Axes>"
      ]
     },
     "metadata": {},
     "output_type": "display_data"
    }
   ],
   "source": [
    "plot_curve(hist1)"
   ]
  },
  {
   "cell_type": "code",
   "execution_count": 99,
   "id": "92a2e715",
   "metadata": {},
   "outputs": [
    {
     "name": "stdout",
     "output_type": "stream",
     "text": [
      "1/1 [==============================] - 1s 519ms/step\n"
     ]
    },
    {
     "data": {
      "text/plain": [
       "array([[0.42933336],\n",
       "       [0.33280334],\n",
       "       [0.40244386],\n",
       "       [0.48386368],\n",
       "       [0.5287566 ],\n",
       "       [0.5170717 ]], dtype=float32)"
      ]
     },
     "execution_count": 99,
     "metadata": {},
     "output_type": "execute_result"
    }
   ],
   "source": [
    "predict_scaled1 = model1.predict(X_test1)\n",
    "predict1 = sc1.inverse_transform(predict_scaled1)\n",
    "predict1"
   ]
  },
  {
   "cell_type": "code",
   "execution_count": 100,
   "id": "de55ee61",
   "metadata": {},
   "outputs": [],
   "source": [
    "train3 = train2.copy()\n",
    "test3 = test2.copy()\n",
    "train3.reset_index(inplace=True)\n",
    "test3.reset_index(inplace=True)"
   ]
  },
  {
   "cell_type": "code",
   "execution_count": 101,
   "id": "bb110b39",
   "metadata": {},
   "outputs": [
    {
     "data": {
      "text/html": [
       "<div>\n",
       "<style scoped>\n",
       "    .dataframe tbody tr th:only-of-type {\n",
       "        vertical-align: middle;\n",
       "    }\n",
       "\n",
       "    .dataframe tbody tr th {\n",
       "        vertical-align: top;\n",
       "    }\n",
       "\n",
       "    .dataframe thead th {\n",
       "        text-align: right;\n",
       "    }\n",
       "</style>\n",
       "<table border=\"1\" class=\"dataframe\">\n",
       "  <thead>\n",
       "    <tr style=\"text-align: right;\">\n",
       "      <th></th>\n",
       "      <th>DateTime</th>\n",
       "      <th>cloud_cover</th>\n",
       "      <th>LSTM</th>\n",
       "    </tr>\n",
       "  </thead>\n",
       "  <tbody>\n",
       "    <tr>\n",
       "      <th>0</th>\n",
       "      <td>2021-12-11</td>\n",
       "      <td>0.539296</td>\n",
       "      <td>0.429333</td>\n",
       "    </tr>\n",
       "    <tr>\n",
       "      <th>1</th>\n",
       "      <td>2021-12-12</td>\n",
       "      <td>0.671356</td>\n",
       "      <td>0.332803</td>\n",
       "    </tr>\n",
       "    <tr>\n",
       "      <th>2</th>\n",
       "      <td>2021-12-13</td>\n",
       "      <td>0.476423</td>\n",
       "      <td>0.402444</td>\n",
       "    </tr>\n",
       "    <tr>\n",
       "      <th>3</th>\n",
       "      <td>2021-12-14</td>\n",
       "      <td>0.260594</td>\n",
       "      <td>0.483864</td>\n",
       "    </tr>\n",
       "    <tr>\n",
       "      <th>4</th>\n",
       "      <td>2021-12-15</td>\n",
       "      <td>0.085025</td>\n",
       "      <td>0.528757</td>\n",
       "    </tr>\n",
       "    <tr>\n",
       "      <th>5</th>\n",
       "      <td>2021-12-16</td>\n",
       "      <td>0.228007</td>\n",
       "      <td>0.517072</td>\n",
       "    </tr>\n",
       "  </tbody>\n",
       "</table>\n",
       "</div>"
      ],
      "text/plain": [
       "    DateTime  cloud_cover      LSTM\n",
       "0 2021-12-11     0.539296  0.429333\n",
       "1 2021-12-12     0.671356  0.332803\n",
       "2 2021-12-13     0.476423  0.402444\n",
       "3 2021-12-14     0.260594  0.483864\n",
       "4 2021-12-15     0.085025  0.528757\n",
       "5 2021-12-16     0.228007  0.517072"
      ]
     },
     "execution_count": 101,
     "metadata": {},
     "output_type": "execute_result"
    }
   ],
   "source": [
    "test3['LSTM'] = predict1\n",
    "test3"
   ]
  },
  {
   "cell_type": "code",
   "execution_count": 102,
   "id": "ed25f392",
   "metadata": {},
   "outputs": [
    {
     "data": {
      "application/vnd.plotly.v1+json": {
       "config": {
        "plotlyServerURL": "https://plot.ly"
       },
       "data": [
        {
         "mode": "lines",
         "name": "Train",
         "type": "scatter",
         "x": [
          "2021-11-16T00:00:00",
          "2021-11-17T00:00:00",
          "2021-11-18T00:00:00",
          "2021-11-19T00:00:00",
          "2021-11-20T00:00:00",
          "2021-11-21T00:00:00",
          "2021-11-22T00:00:00",
          "2021-11-23T00:00:00",
          "2021-11-24T00:00:00",
          "2021-11-25T00:00:00",
          "2021-11-26T00:00:00",
          "2021-11-27T00:00:00",
          "2021-11-28T00:00:00",
          "2021-11-29T00:00:00",
          "2021-11-30T00:00:00",
          "2021-12-01T00:00:00",
          "2021-12-02T00:00:00",
          "2021-12-03T00:00:00",
          "2021-12-04T00:00:00",
          "2021-12-05T00:00:00",
          "2021-12-07T00:00:00",
          "2021-12-08T00:00:00",
          "2021-12-09T00:00:00",
          "2021-12-10T00:00:00"
         ],
         "y": [
          0.7691926514399205,
          0.3646084756483239,
          0.8781723484848486,
          0.5293527180783818,
          0.44968367346938776,
          0.4437767857142857,
          0.4966651757188498,
          0.9546833333333333,
          0.6658240740740741,
          0.3695157699443414,
          0.6249222222222223,
          0.2857866666666667,
          0.09919814814814815,
          0.7349203703703703,
          0.9894148148148147,
          0.9947055555555555,
          0.8366814814814815,
          0.49802222222222226,
          0.18347592592592593,
          0.9452857142857143,
          0.1132741935483871,
          0.06039731285988483,
          0.16185739750445635,
          0.3233217054263566
         ]
        },
        {
         "mode": "lines",
         "name": "Actual",
         "type": "scatter",
         "x": [
          "2021-12-11T00:00:00",
          "2021-12-12T00:00:00",
          "2021-12-13T00:00:00",
          "2021-12-14T00:00:00",
          "2021-12-15T00:00:00",
          "2021-12-16T00:00:00"
         ],
         "y": [
          0.5392956685499058,
          0.6713558052434457,
          0.4764233009708738,
          0.2605938104448743,
          0.08502466793168881,
          0.22800682593856655
         ]
        },
        {
         "mode": "lines",
         "name": "Predict",
         "type": "scatter",
         "x": [
          "2021-12-11T00:00:00",
          "2021-12-12T00:00:00",
          "2021-12-13T00:00:00",
          "2021-12-14T00:00:00",
          "2021-12-15T00:00:00",
          "2021-12-16T00:00:00"
         ],
         "y": [
          0.429333359003067,
          0.332803338766098,
          0.40244385600090027,
          0.4838636815547943,
          0.5287566184997559,
          0.5170717239379883
         ]
        }
       ],
       "layout": {
        "autosize": true,
        "height": 600,
        "template": {
         "data": {
          "bar": [
           {
            "error_x": {
             "color": "#2a3f5f"
            },
            "error_y": {
             "color": "#2a3f5f"
            },
            "marker": {
             "line": {
              "color": "#E5ECF6",
              "width": 0.5
             },
             "pattern": {
              "fillmode": "overlay",
              "size": 10,
              "solidity": 0.2
             }
            },
            "type": "bar"
           }
          ],
          "barpolar": [
           {
            "marker": {
             "line": {
              "color": "#E5ECF6",
              "width": 0.5
             },
             "pattern": {
              "fillmode": "overlay",
              "size": 10,
              "solidity": 0.2
             }
            },
            "type": "barpolar"
           }
          ],
          "carpet": [
           {
            "aaxis": {
             "endlinecolor": "#2a3f5f",
             "gridcolor": "white",
             "linecolor": "white",
             "minorgridcolor": "white",
             "startlinecolor": "#2a3f5f"
            },
            "baxis": {
             "endlinecolor": "#2a3f5f",
             "gridcolor": "white",
             "linecolor": "white",
             "minorgridcolor": "white",
             "startlinecolor": "#2a3f5f"
            },
            "type": "carpet"
           }
          ],
          "choropleth": [
           {
            "colorbar": {
             "outlinewidth": 0,
             "ticks": ""
            },
            "type": "choropleth"
           }
          ],
          "contour": [
           {
            "colorbar": {
             "outlinewidth": 0,
             "ticks": ""
            },
            "colorscale": [
             [
              0,
              "#0d0887"
             ],
             [
              0.1111111111111111,
              "#46039f"
             ],
             [
              0.2222222222222222,
              "#7201a8"
             ],
             [
              0.3333333333333333,
              "#9c179e"
             ],
             [
              0.4444444444444444,
              "#bd3786"
             ],
             [
              0.5555555555555556,
              "#d8576b"
             ],
             [
              0.6666666666666666,
              "#ed7953"
             ],
             [
              0.7777777777777778,
              "#fb9f3a"
             ],
             [
              0.8888888888888888,
              "#fdca26"
             ],
             [
              1,
              "#f0f921"
             ]
            ],
            "type": "contour"
           }
          ],
          "contourcarpet": [
           {
            "colorbar": {
             "outlinewidth": 0,
             "ticks": ""
            },
            "type": "contourcarpet"
           }
          ],
          "heatmap": [
           {
            "colorbar": {
             "outlinewidth": 0,
             "ticks": ""
            },
            "colorscale": [
             [
              0,
              "#0d0887"
             ],
             [
              0.1111111111111111,
              "#46039f"
             ],
             [
              0.2222222222222222,
              "#7201a8"
             ],
             [
              0.3333333333333333,
              "#9c179e"
             ],
             [
              0.4444444444444444,
              "#bd3786"
             ],
             [
              0.5555555555555556,
              "#d8576b"
             ],
             [
              0.6666666666666666,
              "#ed7953"
             ],
             [
              0.7777777777777778,
              "#fb9f3a"
             ],
             [
              0.8888888888888888,
              "#fdca26"
             ],
             [
              1,
              "#f0f921"
             ]
            ],
            "type": "heatmap"
           }
          ],
          "heatmapgl": [
           {
            "colorbar": {
             "outlinewidth": 0,
             "ticks": ""
            },
            "colorscale": [
             [
              0,
              "#0d0887"
             ],
             [
              0.1111111111111111,
              "#46039f"
             ],
             [
              0.2222222222222222,
              "#7201a8"
             ],
             [
              0.3333333333333333,
              "#9c179e"
             ],
             [
              0.4444444444444444,
              "#bd3786"
             ],
             [
              0.5555555555555556,
              "#d8576b"
             ],
             [
              0.6666666666666666,
              "#ed7953"
             ],
             [
              0.7777777777777778,
              "#fb9f3a"
             ],
             [
              0.8888888888888888,
              "#fdca26"
             ],
             [
              1,
              "#f0f921"
             ]
            ],
            "type": "heatmapgl"
           }
          ],
          "histogram": [
           {
            "marker": {
             "pattern": {
              "fillmode": "overlay",
              "size": 10,
              "solidity": 0.2
             }
            },
            "type": "histogram"
           }
          ],
          "histogram2d": [
           {
            "colorbar": {
             "outlinewidth": 0,
             "ticks": ""
            },
            "colorscale": [
             [
              0,
              "#0d0887"
             ],
             [
              0.1111111111111111,
              "#46039f"
             ],
             [
              0.2222222222222222,
              "#7201a8"
             ],
             [
              0.3333333333333333,
              "#9c179e"
             ],
             [
              0.4444444444444444,
              "#bd3786"
             ],
             [
              0.5555555555555556,
              "#d8576b"
             ],
             [
              0.6666666666666666,
              "#ed7953"
             ],
             [
              0.7777777777777778,
              "#fb9f3a"
             ],
             [
              0.8888888888888888,
              "#fdca26"
             ],
             [
              1,
              "#f0f921"
             ]
            ],
            "type": "histogram2d"
           }
          ],
          "histogram2dcontour": [
           {
            "colorbar": {
             "outlinewidth": 0,
             "ticks": ""
            },
            "colorscale": [
             [
              0,
              "#0d0887"
             ],
             [
              0.1111111111111111,
              "#46039f"
             ],
             [
              0.2222222222222222,
              "#7201a8"
             ],
             [
              0.3333333333333333,
              "#9c179e"
             ],
             [
              0.4444444444444444,
              "#bd3786"
             ],
             [
              0.5555555555555556,
              "#d8576b"
             ],
             [
              0.6666666666666666,
              "#ed7953"
             ],
             [
              0.7777777777777778,
              "#fb9f3a"
             ],
             [
              0.8888888888888888,
              "#fdca26"
             ],
             [
              1,
              "#f0f921"
             ]
            ],
            "type": "histogram2dcontour"
           }
          ],
          "mesh3d": [
           {
            "colorbar": {
             "outlinewidth": 0,
             "ticks": ""
            },
            "type": "mesh3d"
           }
          ],
          "parcoords": [
           {
            "line": {
             "colorbar": {
              "outlinewidth": 0,
              "ticks": ""
             }
            },
            "type": "parcoords"
           }
          ],
          "pie": [
           {
            "automargin": true,
            "type": "pie"
           }
          ],
          "scatter": [
           {
            "fillpattern": {
             "fillmode": "overlay",
             "size": 10,
             "solidity": 0.2
            },
            "type": "scatter"
           }
          ],
          "scatter3d": [
           {
            "line": {
             "colorbar": {
              "outlinewidth": 0,
              "ticks": ""
             }
            },
            "marker": {
             "colorbar": {
              "outlinewidth": 0,
              "ticks": ""
             }
            },
            "type": "scatter3d"
           }
          ],
          "scattercarpet": [
           {
            "marker": {
             "colorbar": {
              "outlinewidth": 0,
              "ticks": ""
             }
            },
            "type": "scattercarpet"
           }
          ],
          "scattergeo": [
           {
            "marker": {
             "colorbar": {
              "outlinewidth": 0,
              "ticks": ""
             }
            },
            "type": "scattergeo"
           }
          ],
          "scattergl": [
           {
            "marker": {
             "colorbar": {
              "outlinewidth": 0,
              "ticks": ""
             }
            },
            "type": "scattergl"
           }
          ],
          "scattermapbox": [
           {
            "marker": {
             "colorbar": {
              "outlinewidth": 0,
              "ticks": ""
             }
            },
            "type": "scattermapbox"
           }
          ],
          "scatterpolar": [
           {
            "marker": {
             "colorbar": {
              "outlinewidth": 0,
              "ticks": ""
             }
            },
            "type": "scatterpolar"
           }
          ],
          "scatterpolargl": [
           {
            "marker": {
             "colorbar": {
              "outlinewidth": 0,
              "ticks": ""
             }
            },
            "type": "scatterpolargl"
           }
          ],
          "scatterternary": [
           {
            "marker": {
             "colorbar": {
              "outlinewidth": 0,
              "ticks": ""
             }
            },
            "type": "scatterternary"
           }
          ],
          "surface": [
           {
            "colorbar": {
             "outlinewidth": 0,
             "ticks": ""
            },
            "colorscale": [
             [
              0,
              "#0d0887"
             ],
             [
              0.1111111111111111,
              "#46039f"
             ],
             [
              0.2222222222222222,
              "#7201a8"
             ],
             [
              0.3333333333333333,
              "#9c179e"
             ],
             [
              0.4444444444444444,
              "#bd3786"
             ],
             [
              0.5555555555555556,
              "#d8576b"
             ],
             [
              0.6666666666666666,
              "#ed7953"
             ],
             [
              0.7777777777777778,
              "#fb9f3a"
             ],
             [
              0.8888888888888888,
              "#fdca26"
             ],
             [
              1,
              "#f0f921"
             ]
            ],
            "type": "surface"
           }
          ],
          "table": [
           {
            "cells": {
             "fill": {
              "color": "#EBF0F8"
             },
             "line": {
              "color": "white"
             }
            },
            "header": {
             "fill": {
              "color": "#C8D4E3"
             },
             "line": {
              "color": "white"
             }
            },
            "type": "table"
           }
          ]
         },
         "layout": {
          "annotationdefaults": {
           "arrowcolor": "#2a3f5f",
           "arrowhead": 0,
           "arrowwidth": 1
          },
          "autotypenumbers": "strict",
          "coloraxis": {
           "colorbar": {
            "outlinewidth": 0,
            "ticks": ""
           }
          },
          "colorscale": {
           "diverging": [
            [
             0,
             "#8e0152"
            ],
            [
             0.1,
             "#c51b7d"
            ],
            [
             0.2,
             "#de77ae"
            ],
            [
             0.3,
             "#f1b6da"
            ],
            [
             0.4,
             "#fde0ef"
            ],
            [
             0.5,
             "#f7f7f7"
            ],
            [
             0.6,
             "#e6f5d0"
            ],
            [
             0.7,
             "#b8e186"
            ],
            [
             0.8,
             "#7fbc41"
            ],
            [
             0.9,
             "#4d9221"
            ],
            [
             1,
             "#276419"
            ]
           ],
           "sequential": [
            [
             0,
             "#0d0887"
            ],
            [
             0.1111111111111111,
             "#46039f"
            ],
            [
             0.2222222222222222,
             "#7201a8"
            ],
            [
             0.3333333333333333,
             "#9c179e"
            ],
            [
             0.4444444444444444,
             "#bd3786"
            ],
            [
             0.5555555555555556,
             "#d8576b"
            ],
            [
             0.6666666666666666,
             "#ed7953"
            ],
            [
             0.7777777777777778,
             "#fb9f3a"
            ],
            [
             0.8888888888888888,
             "#fdca26"
            ],
            [
             1,
             "#f0f921"
            ]
           ],
           "sequentialminus": [
            [
             0,
             "#0d0887"
            ],
            [
             0.1111111111111111,
             "#46039f"
            ],
            [
             0.2222222222222222,
             "#7201a8"
            ],
            [
             0.3333333333333333,
             "#9c179e"
            ],
            [
             0.4444444444444444,
             "#bd3786"
            ],
            [
             0.5555555555555556,
             "#d8576b"
            ],
            [
             0.6666666666666666,
             "#ed7953"
            ],
            [
             0.7777777777777778,
             "#fb9f3a"
            ],
            [
             0.8888888888888888,
             "#fdca26"
            ],
            [
             1,
             "#f0f921"
            ]
           ]
          },
          "colorway": [
           "#636efa",
           "#EF553B",
           "#00cc96",
           "#ab63fa",
           "#FFA15A",
           "#19d3f3",
           "#FF6692",
           "#B6E880",
           "#FF97FF",
           "#FECB52"
          ],
          "font": {
           "color": "#2a3f5f"
          },
          "geo": {
           "bgcolor": "white",
           "lakecolor": "white",
           "landcolor": "#E5ECF6",
           "showlakes": true,
           "showland": true,
           "subunitcolor": "white"
          },
          "hoverlabel": {
           "align": "left"
          },
          "hovermode": "closest",
          "mapbox": {
           "style": "light"
          },
          "paper_bgcolor": "white",
          "plot_bgcolor": "#E5ECF6",
          "polar": {
           "angularaxis": {
            "gridcolor": "white",
            "linecolor": "white",
            "ticks": ""
           },
           "bgcolor": "#E5ECF6",
           "radialaxis": {
            "gridcolor": "white",
            "linecolor": "white",
            "ticks": ""
           }
          },
          "scene": {
           "xaxis": {
            "backgroundcolor": "#E5ECF6",
            "gridcolor": "white",
            "gridwidth": 2,
            "linecolor": "white",
            "showbackground": true,
            "ticks": "",
            "zerolinecolor": "white"
           },
           "yaxis": {
            "backgroundcolor": "#E5ECF6",
            "gridcolor": "white",
            "gridwidth": 2,
            "linecolor": "white",
            "showbackground": true,
            "ticks": "",
            "zerolinecolor": "white"
           },
           "zaxis": {
            "backgroundcolor": "#E5ECF6",
            "gridcolor": "white",
            "gridwidth": 2,
            "linecolor": "white",
            "showbackground": true,
            "ticks": "",
            "zerolinecolor": "white"
           }
          },
          "shapedefaults": {
           "line": {
            "color": "#2a3f5f"
           }
          },
          "ternary": {
           "aaxis": {
            "gridcolor": "white",
            "linecolor": "white",
            "ticks": ""
           },
           "baxis": {
            "gridcolor": "white",
            "linecolor": "white",
            "ticks": ""
           },
           "bgcolor": "#E5ECF6",
           "caxis": {
            "gridcolor": "white",
            "linecolor": "white",
            "ticks": ""
           }
          },
          "title": {
           "x": 0.05
          },
          "xaxis": {
           "automargin": true,
           "gridcolor": "white",
           "linecolor": "white",
           "ticks": "",
           "title": {
            "standoff": 15
           },
           "zerolinecolor": "white",
           "zerolinewidth": 2
          },
          "yaxis": {
           "automargin": true,
           "gridcolor": "white",
           "linecolor": "white",
           "ticks": "",
           "title": {
            "standoff": 15
           },
           "zerolinecolor": "white",
           "zerolinewidth": 2
          }
         }
        },
        "title": {
         "text": "LSTM Model"
        },
        "xaxis": {
         "rangeselector": {
          "buttons": [
           {
            "count": 1,
            "label": "1.zoom",
            "step": "hour",
            "stepmode": "backward"
           },
           {
            "count": 2,
            "label": "2.zoom",
            "step": "hour",
            "stepmode": "backward"
           },
           {
            "count": 3,
            "label": "3.zoom",
            "step": "day",
            "stepmode": "backward"
           },
           {
            "step": "all"
           }
          ]
         },
         "rangeslider": {
          "visible": true
         },
         "title": {
          "text": "Date"
         },
         "type": "date"
        },
        "yaxis": {
         "title": {
          "text": "Cloud cover"
         }
        }
       }
      }
     },
     "metadata": {},
     "output_type": "display_data"
    }
   ],
   "source": [
    "plot_test(train3,test3)"
   ]
  },
  {
   "cell_type": "code",
   "execution_count": 103,
   "id": "37cee854",
   "metadata": {},
   "outputs": [
    {
     "name": "stdout",
     "output_type": "stream",
     "text": [
      "MAE Error :  0.24643\n",
      "MAPE Error :  1.36781\n",
      "MSE Error : 0.07708\n",
      "RMSE Error :  0.27764\n"
     ]
    }
   ],
   "source": [
    "lstm_mae_error1 = mae(test3[\"cloud_cover\"], test3[\"LSTM\"])\n",
    "lstm_mape_error1 = mape(test3[\"cloud_cover\"], test3[\"LSTM\"])\n",
    "lstm_mse_error1 = mean_squared_error(test3['cloud_cover'], test3['LSTM'], squared=True)\n",
    "lstm_rmse_error1 = mean_squared_error(test3[\"cloud_cover\"], test3[\"LSTM\"], squared=False)\n",
    "print('MAE Error :  %.5f'%lstm_mae_error1)\n",
    "print('MAPE Error :  %.5f'%lstm_mape_error1)\n",
    "print('MSE Error : %.5f'%lstm_mse_error1)\n",
    "print('RMSE Error :  %.5f'%lstm_rmse_error1)"
   ]
  },
  {
   "attachments": {},
   "cell_type": "markdown",
   "id": "ed17af17",
   "metadata": {},
   "source": [
    "----"
   ]
  },
  {
   "cell_type": "code",
   "execution_count": null,
   "id": "282850a2",
   "metadata": {},
   "outputs": [],
   "source": []
  }
 ],
 "metadata": {
  "kernelspec": {
   "display_name": "Python 3.10.7 64-bit",
   "language": "python",
   "name": "python3"
  },
  "language_info": {
   "codemirror_mode": {
    "name": "ipython",
    "version": 3
   },
   "file_extension": ".py",
   "mimetype": "text/x-python",
   "name": "python",
   "nbconvert_exporter": "python",
   "pygments_lexer": "ipython3",
   "version": "3.10.10"
  },
  "vscode": {
   "interpreter": {
    "hash": "df95319d8ce4e1d89f5365ae10992bc1f65da593082b1d264e8f529830ec2f02"
   }
  }
 },
 "nbformat": 4,
 "nbformat_minor": 5
}
